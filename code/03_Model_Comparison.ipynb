{
 "cells": [
  {
   "cell_type": "markdown",
   "id": "e18d74cb-e05f-4f77-97a7-a1aef1b1baeb",
   "metadata": {
    "tags": []
   },
   "source": [
    "# Part 3. Model Comparison"
   ]
  },
  {
   "cell_type": "markdown",
   "id": "a5721470-97f8-4687-8b32-c43f6a8bc90b",
   "metadata": {},
   "source": [
    "We will explore 6 models and optimize each model to select the most appropriate model for production. The models that we'll try are: <br>"
   ]
  },
  {
   "cell_type": "markdown",
   "id": "3cb05ebc-cd7b-497e-bd49-5c2f0286511d",
   "metadata": {},
   "source": [
    "### Table of Content\n",
    "- [Logistic Regression](#Logistic-Regression)\n",
    "- [k-Nearest Neighbors Classifier](#k-Nearest-Neighbour-Classification)\n",
    "- [Decision Tree Classifier](#Decision-Tree-Classifier)\n",
    "- [Bagged Decision Tree Classifier](#Bagged-Decision-Tree-Classifier)\n",
    "- [Random Forest Classifier](#Random-Forest-Classifier)\n",
    "- [Ada Boosting Classifier](#Ada-Boosting-Classifier)\n",
    "- [Multinomial Naive Bayes Classifier](#Multinomial-Naive-Bayes-Classifier)\n",
    "- [Bernoulli Naive Bayes Classifier](#Bernoulli-Naive-Bayes-Classifier)\n",
    "- [Gaussian Naive Bayes Classifier](#Gaussian-Naive-Bayes-Classifier)\n",
    "- [Summary](#Summary)"
   ]
  },
  {
   "cell_type": "markdown",
   "id": "62345b28-8a2c-483c-a2e7-d57102a62a12",
   "metadata": {
    "tags": []
   },
   "source": [
    "## Importing Libraries"
   ]
  },
  {
   "cell_type": "code",
   "execution_count": 148,
   "id": "ea75bca2-9206-4366-8727-f7bd4db31c51",
   "metadata": {},
   "outputs": [],
   "source": [
    "# Importing the usual\n",
    "import pandas as pd\n",
    "import numpy as np\n",
    "import seaborn as sns\n",
    "import matplotlib.pyplot as plt\n",
    "\n",
    "# Save model\n",
    "import joblib\n",
    "\n",
    "# Import NLP library\n",
    "from nltk.corpus import stopwords\n",
    "from sklearn.feature_extraction.text import CountVectorizer, TfidfVectorizer\n",
    "\n",
    "# Import scalers\n",
    "from sklearn.preprocessing import StandardScaler\n",
    "\n",
    "# Importing classification model\n",
    "from sklearn.linear_model import LogisticRegression\n",
    "from sklearn.neighbors import KNeighborsClassifier\n",
    "from sklearn.tree import DecisionTreeClassifier\n",
    "from sklearn.ensemble import RandomForestClassifier,\\\n",
    "AdaBoostClassifier, BaggingClassifier\n",
    "from sklearn.naive_bayes import MultinomialNB, GaussianNB, BernoulliNB\n",
    "\n",
    "# Importing Optimzation Tools\n",
    "from sklearn.model_selection import RandomizedSearchCV, GridSearchCV,\\\n",
    "train_test_split\n",
    "from sklearn.pipeline import Pipeline, make_pipeline\n",
    "\n",
    "# Import metrics\n",
    "from sklearn import metrics\n",
    "from sklearn.metrics import confusion_matrix, classification_report,\\\n",
    "ConfusionMatrixDisplay"
   ]
  },
  {
   "cell_type": "markdown",
   "id": "76a81a55-c268-45d3-9305-0019ea9d8aad",
   "metadata": {},
   "source": [
    "## Set table style"
   ]
  },
  {
   "cell_type": "code",
   "execution_count": 3,
   "id": "db00c51c-2d53-4a83-8a7b-345bd21861d5",
   "metadata": {},
   "outputs": [
    {
     "data": {
      "text/html": [
       "<style>\n",
       "  table {margin-left: 0 !important;}\n",
       "</style>\n"
      ],
      "text/plain": [
       "<IPython.core.display.HTML object>"
      ]
     },
     "metadata": {},
     "output_type": "display_data"
    }
   ],
   "source": [
    "%%html\n",
    "<style>\n",
    "  table {margin-left: 0 !important;}\n",
    "</style>"
   ]
  },
  {
   "cell_type": "markdown",
   "id": "557d1593-fc5d-4b53-9bdd-037d86032f28",
   "metadata": {
    "tags": []
   },
   "source": [
    "## Read datasets"
   ]
  },
  {
   "cell_type": "code",
   "execution_count": 4,
   "id": "3b76b102-0f8f-4cae-afd4-eb10c795d004",
   "metadata": {},
   "outputs": [],
   "source": [
    "# Read csv\n",
    "post_df = pd.read_csv('../datasets/coursera_edx_posts_cleaned.csv',index_col=[0])\n",
    "cmt_df = pd.read_csv('../datasets/coursera_edx_comments_cleaned.csv',index_col=[0])"
   ]
  },
  {
   "cell_type": "markdown",
   "id": "9809c847-ec51-4626-bb5b-54a5aaaf8113",
   "metadata": {},
   "source": [
    "---"
   ]
  },
  {
   "cell_type": "markdown",
   "id": "f310bc1f-e622-458f-af50-cc25a66de938",
   "metadata": {},
   "source": [
    "## Stopwords"
   ]
  },
  {
   "cell_type": "code",
   "execution_count": 5,
   "id": "9688f38b-06e0-47c0-ae8b-f6c2b15a0fab",
   "metadata": {},
   "outputs": [],
   "source": [
    "# Manually adding stopwords\n",
    "manual_stopwords = stopwords.words('english')\n",
    "\n",
    "# List of keywords to add\n",
    "edx_list = ['edx','http','www','org'] \n",
    "coursera_list = ['coursera']\n",
    "\n",
    "# Add to stopwords\n",
    "manual_stopwords.extend(edx_list)\n",
    "manual_stopwords.extend(coursera_list)"
   ]
  },
  {
   "cell_type": "markdown",
   "id": "45830332-1c0c-4fc0-916d-fb709b3df595",
   "metadata": {},
   "source": [
    "## Modeling with Title"
   ]
  },
  {
   "cell_type": "code",
   "execution_count": 239,
   "id": "c0675b3e-6cca-427b-ab53-bc688137f07f",
   "metadata": {},
   "outputs": [],
   "source": [
    "# Select X and y\n",
    "X = post_df['title_lemma'].values.astype('U')\n",
    "y = post_df['subreddit']"
   ]
  },
  {
   "cell_type": "code",
   "execution_count": 240,
   "id": "10cb4e52-8055-4555-bd78-d63fb75944ca",
   "metadata": {},
   "outputs": [],
   "source": [
    "# Split the data\n",
    "X_train,X_test,y_train,y_test = train_test_split(X,y,stratify=y,random_state=42)"
   ]
  },
  {
   "cell_type": "code",
   "execution_count": 8,
   "id": "2d5b5e45-1935-4210-a610-a0a00b52938a",
   "metadata": {},
   "outputs": [
    {
     "data": {
      "text/plain": [
       "((1495,), (499,), (1495,), (499,))"
      ]
     },
     "execution_count": 8,
     "metadata": {},
     "output_type": "execute_result"
    }
   ],
   "source": [
    "# Check shape\n",
    "X_train.shape, X_test.shape, y_train.shape, y_test.shape"
   ]
  },
  {
   "cell_type": "code",
   "execution_count": 9,
   "id": "e56abe14-874b-4308-867d-da77adbc185e",
   "metadata": {},
   "outputs": [
    {
     "data": {
      "text/plain": [
       "coursera    0.501\n",
       "edx         0.499\n",
       "Name: subreddit, dtype: float64"
      ]
     },
     "execution_count": 9,
     "metadata": {},
     "output_type": "execute_result"
    }
   ],
   "source": [
    "# Check balance y_train\n",
    "y_train.value_counts(normalize=True).round(4)"
   ]
  },
  {
   "cell_type": "code",
   "execution_count": 10,
   "id": "857d0b76-a4c2-441c-82b5-d697189c6740",
   "metadata": {},
   "outputs": [
    {
     "data": {
      "text/plain": [
       "coursera    0.501\n",
       "edx         0.499\n",
       "Name: subreddit, dtype: float64"
      ]
     },
     "execution_count": 10,
     "metadata": {},
     "output_type": "execute_result"
    }
   ],
   "source": [
    "# Check balance y_test\n",
    "y_test.value_counts(normalize=True).round(4)"
   ]
  },
  {
   "cell_type": "markdown",
   "id": "ed4e453e-93ea-4404-950f-30378e072202",
   "metadata": {},
   "source": [
    "**The baseline for all our models is 50%, which is the majority class**"
   ]
  },
  {
   "cell_type": "markdown",
   "id": "51bb863c-9a91-4b2a-849a-8b8bc49162ba",
   "metadata": {},
   "source": [
    "---"
   ]
  },
  {
   "cell_type": "markdown",
   "id": "be679274-b6d9-4643-8011-095f99a43f6a",
   "metadata": {},
   "source": [
    "## Functions to help with modeling"
   ]
  },
  {
   "cell_type": "code",
   "execution_count": 11,
   "id": "41d9762e-6d2c-4c8e-8e5d-f5c47dc7a9ed",
   "metadata": {},
   "outputs": [],
   "source": [
    "def fit_pipe(pipe,X_train,X_test,y_train,y_test):\n",
    "    # Fit model\n",
    "    pipe.fit(X_train,y_train)\n",
    "\n",
    "    # Predict model\n",
    "    y_pred = pipe.predict(X_test)\n",
    "    \n",
    "    # Show score\n",
    "    print(f\"Train Score: {pipe.score(X_train,y_train).round(4)}\")\n",
    "    print(f\"Test Score: {pipe.score(X_test,y_test).round(4)}\")\n",
    "    \n",
    "    # Print report\n",
    "    print(\"Classification Report:\")\n",
    "    print(classification_report(y_test, y_pred))"
   ]
  },
  {
   "cell_type": "code",
   "execution_count": 12,
   "id": "bf332e64-3d7d-4730-8241-716ed4d260e5",
   "metadata": {},
   "outputs": [],
   "source": [
    "def show_cm(pipe,X_train,X_test,y_train,y_test):\n",
    "    # Fit model\n",
    "    pipe.fit(X_train,y_train)\n",
    "\n",
    "    # Predict model\n",
    "    y_pred = pipe.predict(X_test)\n",
    "    \n",
    "    # Generate confusion matrix\n",
    "    cm = confusion_matrix(y_test,y_pred)\n",
    "    \n",
    "    print(\"Confusion Matrix:\")\n",
    "    ConfusionMatrixDisplay(cm,display_labels=['Cousera','EdX']).plot()\n",
    "    plt.show();"
   ]
  },
  {
   "cell_type": "code",
   "execution_count": 13,
   "id": "7903efed-37ba-491b-a9bd-e373286b5175",
   "metadata": {},
   "outputs": [],
   "source": [
    "def print_grid_results(model):\n",
    "    # Printing grid search results\n",
    "    \n",
    "    print(f\"Best Parameters:\")\n",
    "    print(model.best_params_)\n",
    "    print(f\"Best Scores:\")\n",
    "    print(round(model.best_score_,4))"
   ]
  },
  {
   "cell_type": "markdown",
   "id": "200ddfb1-5454-4b9f-b138-400787b51628",
   "metadata": {},
   "source": [
    "---"
   ]
  },
  {
   "cell_type": "markdown",
   "id": "8a8c4cbd-0c5f-4597-bfcd-92129a0e3d34",
   "metadata": {},
   "source": [
    "## Model Comparsion"
   ]
  },
  {
   "cell_type": "markdown",
   "id": "932aac4d-81b7-4614-866e-e5abcca8db76",
   "metadata": {},
   "source": [
    "**Note:** In all modeling comparison different vectorization techniques were used and compared, however only the better performing vectorizer will be shown."
   ]
  },
  {
   "cell_type": "markdown",
   "id": "77abf770-d004-4800-8933-37fca9adbf3a",
   "metadata": {
    "tags": []
   },
   "source": [
    "### Logistic Regression\n",
    "[Back to Table of Content](#Table-of-Content)"
   ]
  },
  {
   "cell_type": "markdown",
   "id": "fd4c9f5f-37da-4694-910a-3b532e3c213e",
   "metadata": {},
   "source": [
    "__*Baseline of Logistic Regression*__"
   ]
  },
  {
   "cell_type": "code",
   "execution_count": 29,
   "id": "f60cd1b7-d4c4-4804-8cdf-f4f80a3eb8ca",
   "metadata": {},
   "outputs": [],
   "source": [
    "# Tf-Idf Vectorizer and Logistic Regression\n",
    "# In this case Tf-Idf vectorizer works better than CountVectorizer\n",
    "\n",
    "# Create Pipeline\n",
    "lr_pipe = Pipeline([\n",
    "    ('tf', TfidfVectorizer(stop_words=manual_stopwords)),\n",
    "    ('lr', LogisticRegression(random_state=42))\n",
    "])"
   ]
  },
  {
   "cell_type": "code",
   "execution_count": 30,
   "id": "d4dd3f47-f220-49a6-9377-1c226076843a",
   "metadata": {},
   "outputs": [
    {
     "name": "stdout",
     "output_type": "stream",
     "text": [
      "Train Score: 0.9064\n",
      "Test Score: 0.7395\n",
      "Classification Report:\n",
      "              precision    recall  f1-score   support\n",
      "\n",
      "    coursera       0.75      0.72      0.74       250\n",
      "         edx       0.73      0.76      0.74       249\n",
      "\n",
      "    accuracy                           0.74       499\n",
      "   macro avg       0.74      0.74      0.74       499\n",
      "weighted avg       0.74      0.74      0.74       499\n",
      "\n"
     ]
    }
   ],
   "source": [
    "fit_pipe(lr_pipe,X_train,X_test,y_train,y_test)"
   ]
  },
  {
   "cell_type": "markdown",
   "id": "ddd21c01-02df-4268-8416-b39d394e5520",
   "metadata": {},
   "source": [
    "__*Optimization of Logistic Regression*__"
   ]
  },
  {
   "cell_type": "markdown",
   "id": "d11fe026-5a53-4bb7-b538-a6770e53f785",
   "metadata": {},
   "source": [
    "RandomizedSearchCV to find the starting point"
   ]
  },
  {
   "cell_type": "code",
   "execution_count": 31,
   "id": "06111349-65ed-4a48-a00d-94d1534be747",
   "metadata": {},
   "outputs": [],
   "source": [
    "lr_params = {\n",
    "    'tf__max_df':[0.25,0.5,0.75,1.0],\n",
    "    'tf__max_features':[200,400,600,800,1000],\n",
    "    'tf__ngram_range':[(1,1),(1,2),(2,2),(3,3)],\n",
    "    'lr__C':[1,0.5,0.25],\n",
    "    'lr__n_jobs':[-1]\n",
    "}"
   ]
  },
  {
   "cell_type": "code",
   "execution_count": 34,
   "id": "d8ebb21d-af27-4250-87c6-1332a55e430b",
   "metadata": {},
   "outputs": [
    {
     "data": {
      "text/html": [
       "<style>#sk-container-id-4 {color: black;background-color: white;}#sk-container-id-4 pre{padding: 0;}#sk-container-id-4 div.sk-toggleable {background-color: white;}#sk-container-id-4 label.sk-toggleable__label {cursor: pointer;display: block;width: 100%;margin-bottom: 0;padding: 0.3em;box-sizing: border-box;text-align: center;}#sk-container-id-4 label.sk-toggleable__label-arrow:before {content: \"▸\";float: left;margin-right: 0.25em;color: #696969;}#sk-container-id-4 label.sk-toggleable__label-arrow:hover:before {color: black;}#sk-container-id-4 div.sk-estimator:hover label.sk-toggleable__label-arrow:before {color: black;}#sk-container-id-4 div.sk-toggleable__content {max-height: 0;max-width: 0;overflow: hidden;text-align: left;background-color: #f0f8ff;}#sk-container-id-4 div.sk-toggleable__content pre {margin: 0.2em;color: black;border-radius: 0.25em;background-color: #f0f8ff;}#sk-container-id-4 input.sk-toggleable__control:checked~div.sk-toggleable__content {max-height: 200px;max-width: 100%;overflow: auto;}#sk-container-id-4 input.sk-toggleable__control:checked~label.sk-toggleable__label-arrow:before {content: \"▾\";}#sk-container-id-4 div.sk-estimator input.sk-toggleable__control:checked~label.sk-toggleable__label {background-color: #d4ebff;}#sk-container-id-4 div.sk-label input.sk-toggleable__control:checked~label.sk-toggleable__label {background-color: #d4ebff;}#sk-container-id-4 input.sk-hidden--visually {border: 0;clip: rect(1px 1px 1px 1px);clip: rect(1px, 1px, 1px, 1px);height: 1px;margin: -1px;overflow: hidden;padding: 0;position: absolute;width: 1px;}#sk-container-id-4 div.sk-estimator {font-family: monospace;background-color: #f0f8ff;border: 1px dotted black;border-radius: 0.25em;box-sizing: border-box;margin-bottom: 0.5em;}#sk-container-id-4 div.sk-estimator:hover {background-color: #d4ebff;}#sk-container-id-4 div.sk-parallel-item::after {content: \"\";width: 100%;border-bottom: 1px solid gray;flex-grow: 1;}#sk-container-id-4 div.sk-label:hover label.sk-toggleable__label {background-color: #d4ebff;}#sk-container-id-4 div.sk-serial::before {content: \"\";position: absolute;border-left: 1px solid gray;box-sizing: border-box;top: 0;bottom: 0;left: 50%;z-index: 0;}#sk-container-id-4 div.sk-serial {display: flex;flex-direction: column;align-items: center;background-color: white;padding-right: 0.2em;padding-left: 0.2em;position: relative;}#sk-container-id-4 div.sk-item {position: relative;z-index: 1;}#sk-container-id-4 div.sk-parallel {display: flex;align-items: stretch;justify-content: center;background-color: white;position: relative;}#sk-container-id-4 div.sk-item::before, #sk-container-id-4 div.sk-parallel-item::before {content: \"\";position: absolute;border-left: 1px solid gray;box-sizing: border-box;top: 0;bottom: 0;left: 50%;z-index: -1;}#sk-container-id-4 div.sk-parallel-item {display: flex;flex-direction: column;z-index: 1;position: relative;background-color: white;}#sk-container-id-4 div.sk-parallel-item:first-child::after {align-self: flex-end;width: 50%;}#sk-container-id-4 div.sk-parallel-item:last-child::after {align-self: flex-start;width: 50%;}#sk-container-id-4 div.sk-parallel-item:only-child::after {width: 0;}#sk-container-id-4 div.sk-dashed-wrapped {border: 1px dashed gray;margin: 0 0.4em 0.5em 0.4em;box-sizing: border-box;padding-bottom: 0.4em;background-color: white;}#sk-container-id-4 div.sk-label label {font-family: monospace;font-weight: bold;display: inline-block;line-height: 1.2em;}#sk-container-id-4 div.sk-label-container {text-align: center;}#sk-container-id-4 div.sk-container {/* jupyter's `normalize.less` sets `[hidden] { display: none; }` but bootstrap.min.css set `[hidden] { display: none !important; }` so we also need the `!important` here to be able to override the default hidden behavior on the sphinx rendered scikit-learn.org. See: https://github.com/scikit-learn/scikit-learn/issues/21755 */display: inline-block !important;position: relative;}#sk-container-id-4 div.sk-text-repr-fallback {display: none;}</style><div id=\"sk-container-id-4\" class=\"sk-top-container\"><div class=\"sk-text-repr-fallback\"><pre>RandomizedSearchCV(cv=5,\n",
       "                   estimator=Pipeline(steps=[(&#x27;tf&#x27;,\n",
       "                                              TfidfVectorizer(stop_words=[&#x27;i&#x27;,\n",
       "                                                                          &#x27;me&#x27;,\n",
       "                                                                          &#x27;my&#x27;,\n",
       "                                                                          &#x27;myself&#x27;,\n",
       "                                                                          &#x27;we&#x27;,\n",
       "                                                                          &#x27;our&#x27;,\n",
       "                                                                          &#x27;ours&#x27;,\n",
       "                                                                          &#x27;ourselves&#x27;,\n",
       "                                                                          &#x27;you&#x27;,\n",
       "                                                                          &quot;you&#x27;re&quot;,\n",
       "                                                                          &quot;you&#x27;ve&quot;,\n",
       "                                                                          &quot;you&#x27;ll&quot;,\n",
       "                                                                          &quot;you&#x27;d&quot;,\n",
       "                                                                          &#x27;your&#x27;,\n",
       "                                                                          &#x27;yours&#x27;,\n",
       "                                                                          &#x27;yourself&#x27;,\n",
       "                                                                          &#x27;yourselves&#x27;,\n",
       "                                                                          &#x27;he&#x27;,\n",
       "                                                                          &#x27;him&#x27;,\n",
       "                                                                          &#x27;his&#x27;,\n",
       "                                                                          &#x27;himself&#x27;,\n",
       "                                                                          &#x27;she&#x27;,\n",
       "                                                                          &quot;she&#x27;s&quot;,\n",
       "                                                                          &#x27;her&#x27;,\n",
       "                                                                          &#x27;hers&#x27;,\n",
       "                                                                          &#x27;herself&#x27;,\n",
       "                                                                          &#x27;it&#x27;,\n",
       "                                                                          &quot;it&#x27;s&quot;,\n",
       "                                                                          &#x27;its&#x27;,\n",
       "                                                                          &#x27;itself&#x27;, ...])),\n",
       "                                             (&#x27;lr&#x27;,\n",
       "                                              LogisticRegression(random_state=42))]),\n",
       "                   n_iter=4,\n",
       "                   param_distributions={&#x27;lr__C&#x27;: [1, 0.5, 0.25],\n",
       "                                        &#x27;lr__n_jobs&#x27;: [-1],\n",
       "                                        &#x27;tf__max_df&#x27;: [0.25, 0.5, 0.75, 1.0],\n",
       "                                        &#x27;tf__max_features&#x27;: [200, 400, 600, 800,\n",
       "                                                             1000],\n",
       "                                        &#x27;tf__ngram_range&#x27;: [(1, 1), (1, 2),\n",
       "                                                            (2, 2), (3, 3)]},\n",
       "                   random_state=42)</pre><b>In a Jupyter environment, please rerun this cell to show the HTML representation or trust the notebook. <br />On GitHub, the HTML representation is unable to render, please try loading this page with nbviewer.org.</b></div><div class=\"sk-container\" hidden><div class=\"sk-item sk-dashed-wrapped\"><div class=\"sk-label-container\"><div class=\"sk-label sk-toggleable\"><input class=\"sk-toggleable__control sk-hidden--visually\" id=\"sk-estimator-id-13\" type=\"checkbox\" ><label for=\"sk-estimator-id-13\" class=\"sk-toggleable__label sk-toggleable__label-arrow\">RandomizedSearchCV</label><div class=\"sk-toggleable__content\"><pre>RandomizedSearchCV(cv=5,\n",
       "                   estimator=Pipeline(steps=[(&#x27;tf&#x27;,\n",
       "                                              TfidfVectorizer(stop_words=[&#x27;i&#x27;,\n",
       "                                                                          &#x27;me&#x27;,\n",
       "                                                                          &#x27;my&#x27;,\n",
       "                                                                          &#x27;myself&#x27;,\n",
       "                                                                          &#x27;we&#x27;,\n",
       "                                                                          &#x27;our&#x27;,\n",
       "                                                                          &#x27;ours&#x27;,\n",
       "                                                                          &#x27;ourselves&#x27;,\n",
       "                                                                          &#x27;you&#x27;,\n",
       "                                                                          &quot;you&#x27;re&quot;,\n",
       "                                                                          &quot;you&#x27;ve&quot;,\n",
       "                                                                          &quot;you&#x27;ll&quot;,\n",
       "                                                                          &quot;you&#x27;d&quot;,\n",
       "                                                                          &#x27;your&#x27;,\n",
       "                                                                          &#x27;yours&#x27;,\n",
       "                                                                          &#x27;yourself&#x27;,\n",
       "                                                                          &#x27;yourselves&#x27;,\n",
       "                                                                          &#x27;he&#x27;,\n",
       "                                                                          &#x27;him&#x27;,\n",
       "                                                                          &#x27;his&#x27;,\n",
       "                                                                          &#x27;himself&#x27;,\n",
       "                                                                          &#x27;she&#x27;,\n",
       "                                                                          &quot;she&#x27;s&quot;,\n",
       "                                                                          &#x27;her&#x27;,\n",
       "                                                                          &#x27;hers&#x27;,\n",
       "                                                                          &#x27;herself&#x27;,\n",
       "                                                                          &#x27;it&#x27;,\n",
       "                                                                          &quot;it&#x27;s&quot;,\n",
       "                                                                          &#x27;its&#x27;,\n",
       "                                                                          &#x27;itself&#x27;, ...])),\n",
       "                                             (&#x27;lr&#x27;,\n",
       "                                              LogisticRegression(random_state=42))]),\n",
       "                   n_iter=4,\n",
       "                   param_distributions={&#x27;lr__C&#x27;: [1, 0.5, 0.25],\n",
       "                                        &#x27;lr__n_jobs&#x27;: [-1],\n",
       "                                        &#x27;tf__max_df&#x27;: [0.25, 0.5, 0.75, 1.0],\n",
       "                                        &#x27;tf__max_features&#x27;: [200, 400, 600, 800,\n",
       "                                                             1000],\n",
       "                                        &#x27;tf__ngram_range&#x27;: [(1, 1), (1, 2),\n",
       "                                                            (2, 2), (3, 3)]},\n",
       "                   random_state=42)</pre></div></div></div><div class=\"sk-parallel\"><div class=\"sk-parallel-item\"><div class=\"sk-item\"><div class=\"sk-label-container\"><div class=\"sk-label sk-toggleable\"><input class=\"sk-toggleable__control sk-hidden--visually\" id=\"sk-estimator-id-14\" type=\"checkbox\" ><label for=\"sk-estimator-id-14\" class=\"sk-toggleable__label sk-toggleable__label-arrow\">estimator: Pipeline</label><div class=\"sk-toggleable__content\"><pre>Pipeline(steps=[(&#x27;tf&#x27;,\n",
       "                 TfidfVectorizer(stop_words=[&#x27;i&#x27;, &#x27;me&#x27;, &#x27;my&#x27;, &#x27;myself&#x27;, &#x27;we&#x27;,\n",
       "                                             &#x27;our&#x27;, &#x27;ours&#x27;, &#x27;ourselves&#x27;, &#x27;you&#x27;,\n",
       "                                             &quot;you&#x27;re&quot;, &quot;you&#x27;ve&quot;, &quot;you&#x27;ll&quot;,\n",
       "                                             &quot;you&#x27;d&quot;, &#x27;your&#x27;, &#x27;yours&#x27;,\n",
       "                                             &#x27;yourself&#x27;, &#x27;yourselves&#x27;, &#x27;he&#x27;,\n",
       "                                             &#x27;him&#x27;, &#x27;his&#x27;, &#x27;himself&#x27;, &#x27;she&#x27;,\n",
       "                                             &quot;she&#x27;s&quot;, &#x27;her&#x27;, &#x27;hers&#x27;, &#x27;herself&#x27;,\n",
       "                                             &#x27;it&#x27;, &quot;it&#x27;s&quot;, &#x27;its&#x27;, &#x27;itself&#x27;, ...])),\n",
       "                (&#x27;lr&#x27;, LogisticRegression(random_state=42))])</pre></div></div></div><div class=\"sk-serial\"><div class=\"sk-item\"><div class=\"sk-serial\"><div class=\"sk-item\"><div class=\"sk-estimator sk-toggleable\"><input class=\"sk-toggleable__control sk-hidden--visually\" id=\"sk-estimator-id-15\" type=\"checkbox\" ><label for=\"sk-estimator-id-15\" class=\"sk-toggleable__label sk-toggleable__label-arrow\">TfidfVectorizer</label><div class=\"sk-toggleable__content\"><pre>TfidfVectorizer(stop_words=[&#x27;i&#x27;, &#x27;me&#x27;, &#x27;my&#x27;, &#x27;myself&#x27;, &#x27;we&#x27;, &#x27;our&#x27;, &#x27;ours&#x27;,\n",
       "                            &#x27;ourselves&#x27;, &#x27;you&#x27;, &quot;you&#x27;re&quot;, &quot;you&#x27;ve&quot;, &quot;you&#x27;ll&quot;,\n",
       "                            &quot;you&#x27;d&quot;, &#x27;your&#x27;, &#x27;yours&#x27;, &#x27;yourself&#x27;, &#x27;yourselves&#x27;,\n",
       "                            &#x27;he&#x27;, &#x27;him&#x27;, &#x27;his&#x27;, &#x27;himself&#x27;, &#x27;she&#x27;, &quot;she&#x27;s&quot;,\n",
       "                            &#x27;her&#x27;, &#x27;hers&#x27;, &#x27;herself&#x27;, &#x27;it&#x27;, &quot;it&#x27;s&quot;, &#x27;its&#x27;,\n",
       "                            &#x27;itself&#x27;, ...])</pre></div></div></div><div class=\"sk-item\"><div class=\"sk-estimator sk-toggleable\"><input class=\"sk-toggleable__control sk-hidden--visually\" id=\"sk-estimator-id-16\" type=\"checkbox\" ><label for=\"sk-estimator-id-16\" class=\"sk-toggleable__label sk-toggleable__label-arrow\">LogisticRegression</label><div class=\"sk-toggleable__content\"><pre>LogisticRegression(random_state=42)</pre></div></div></div></div></div></div></div></div></div></div></div></div>"
      ],
      "text/plain": [
       "RandomizedSearchCV(cv=5,\n",
       "                   estimator=Pipeline(steps=[('tf',\n",
       "                                              TfidfVectorizer(stop_words=['i',\n",
       "                                                                          'me',\n",
       "                                                                          'my',\n",
       "                                                                          'myself',\n",
       "                                                                          'we',\n",
       "                                                                          'our',\n",
       "                                                                          'ours',\n",
       "                                                                          'ourselves',\n",
       "                                                                          'you',\n",
       "                                                                          \"you're\",\n",
       "                                                                          \"you've\",\n",
       "                                                                          \"you'll\",\n",
       "                                                                          \"you'd\",\n",
       "                                                                          'your',\n",
       "                                                                          'yours',\n",
       "                                                                          'yourself',\n",
       "                                                                          'yourselves',\n",
       "                                                                          'he',\n",
       "                                                                          'him',\n",
       "                                                                          'his',\n",
       "                                                                          'himself',\n",
       "                                                                          'she',\n",
       "                                                                          \"she's\",\n",
       "                                                                          'her',\n",
       "                                                                          'hers',\n",
       "                                                                          'herself',\n",
       "                                                                          'it',\n",
       "                                                                          \"it's\",\n",
       "                                                                          'its',\n",
       "                                                                          'itself', ...])),\n",
       "                                             ('lr',\n",
       "                                              LogisticRegression(random_state=42))]),\n",
       "                   n_iter=4,\n",
       "                   param_distributions={'lr__C': [1, 0.5, 0.25],\n",
       "                                        'lr__n_jobs': [-1],\n",
       "                                        'tf__max_df': [0.25, 0.5, 0.75, 1.0],\n",
       "                                        'tf__max_features': [200, 400, 600, 800,\n",
       "                                                             1000],\n",
       "                                        'tf__ngram_range': [(1, 1), (1, 2),\n",
       "                                                            (2, 2), (3, 3)]},\n",
       "                   random_state=42)"
      ]
     },
     "execution_count": 34,
     "metadata": {},
     "output_type": "execute_result"
    }
   ],
   "source": [
    "gr = RandomizedSearchCV(lr_pipe,\n",
    "                        param_distributions=lr_params,\n",
    "                        cv=5,\n",
    "                        n_iter=4,\n",
    "                        random_state=42)\n",
    "\n",
    "gr.fit(X_train,y_train)"
   ]
  },
  {
   "cell_type": "code",
   "execution_count": 35,
   "id": "5083771b-64ed-4019-89db-05600ba73438",
   "metadata": {},
   "outputs": [
    {
     "name": "stdout",
     "output_type": "stream",
     "text": [
      "Best Parameters:\n",
      "{'tf__ngram_range': (1, 2), 'tf__max_features': 600, 'tf__max_df': 0.5, 'lr__n_jobs': -1, 'lr__C': 0.5}\n",
      "Best Scores:\n",
      "0.691\n"
     ]
    }
   ],
   "source": [
    "print_grid_results(gr)"
   ]
  },
  {
   "cell_type": "markdown",
   "id": "08545021-64e0-42ea-85bd-58e8d877f1ed",
   "metadata": {},
   "source": [
    "GridSearchCV to find the optimum hyperparameters"
   ]
  },
  {
   "cell_type": "code",
   "execution_count": 249,
   "id": "0abc9308-b5ae-4801-a5cd-47e3763c31aa",
   "metadata": {},
   "outputs": [],
   "source": [
    "lr_params = {\n",
    "    'tf__max_df':[0.4,0.5],\n",
    "    'tf__max_features':[600,800,1000],\n",
    "    'tf__ngram_range':[(1,1),(1,2)],\n",
    "    'lr__C':[0.4,0.5,0.6],\n",
    "    'lr__n_jobs':[-1]\n",
    "}"
   ]
  },
  {
   "cell_type": "code",
   "execution_count": 250,
   "id": "83d034d3-9a21-4666-bf0c-3a0a29c13eff",
   "metadata": {},
   "outputs": [
    {
     "data": {
      "text/html": [
       "<style>#sk-container-id-32 {color: black;background-color: white;}#sk-container-id-32 pre{padding: 0;}#sk-container-id-32 div.sk-toggleable {background-color: white;}#sk-container-id-32 label.sk-toggleable__label {cursor: pointer;display: block;width: 100%;margin-bottom: 0;padding: 0.3em;box-sizing: border-box;text-align: center;}#sk-container-id-32 label.sk-toggleable__label-arrow:before {content: \"▸\";float: left;margin-right: 0.25em;color: #696969;}#sk-container-id-32 label.sk-toggleable__label-arrow:hover:before {color: black;}#sk-container-id-32 div.sk-estimator:hover label.sk-toggleable__label-arrow:before {color: black;}#sk-container-id-32 div.sk-toggleable__content {max-height: 0;max-width: 0;overflow: hidden;text-align: left;background-color: #f0f8ff;}#sk-container-id-32 div.sk-toggleable__content pre {margin: 0.2em;color: black;border-radius: 0.25em;background-color: #f0f8ff;}#sk-container-id-32 input.sk-toggleable__control:checked~div.sk-toggleable__content {max-height: 200px;max-width: 100%;overflow: auto;}#sk-container-id-32 input.sk-toggleable__control:checked~label.sk-toggleable__label-arrow:before {content: \"▾\";}#sk-container-id-32 div.sk-estimator input.sk-toggleable__control:checked~label.sk-toggleable__label {background-color: #d4ebff;}#sk-container-id-32 div.sk-label input.sk-toggleable__control:checked~label.sk-toggleable__label {background-color: #d4ebff;}#sk-container-id-32 input.sk-hidden--visually {border: 0;clip: rect(1px 1px 1px 1px);clip: rect(1px, 1px, 1px, 1px);height: 1px;margin: -1px;overflow: hidden;padding: 0;position: absolute;width: 1px;}#sk-container-id-32 div.sk-estimator {font-family: monospace;background-color: #f0f8ff;border: 1px dotted black;border-radius: 0.25em;box-sizing: border-box;margin-bottom: 0.5em;}#sk-container-id-32 div.sk-estimator:hover {background-color: #d4ebff;}#sk-container-id-32 div.sk-parallel-item::after {content: \"\";width: 100%;border-bottom: 1px solid gray;flex-grow: 1;}#sk-container-id-32 div.sk-label:hover label.sk-toggleable__label {background-color: #d4ebff;}#sk-container-id-32 div.sk-serial::before {content: \"\";position: absolute;border-left: 1px solid gray;box-sizing: border-box;top: 0;bottom: 0;left: 50%;z-index: 0;}#sk-container-id-32 div.sk-serial {display: flex;flex-direction: column;align-items: center;background-color: white;padding-right: 0.2em;padding-left: 0.2em;position: relative;}#sk-container-id-32 div.sk-item {position: relative;z-index: 1;}#sk-container-id-32 div.sk-parallel {display: flex;align-items: stretch;justify-content: center;background-color: white;position: relative;}#sk-container-id-32 div.sk-item::before, #sk-container-id-32 div.sk-parallel-item::before {content: \"\";position: absolute;border-left: 1px solid gray;box-sizing: border-box;top: 0;bottom: 0;left: 50%;z-index: -1;}#sk-container-id-32 div.sk-parallel-item {display: flex;flex-direction: column;z-index: 1;position: relative;background-color: white;}#sk-container-id-32 div.sk-parallel-item:first-child::after {align-self: flex-end;width: 50%;}#sk-container-id-32 div.sk-parallel-item:last-child::after {align-self: flex-start;width: 50%;}#sk-container-id-32 div.sk-parallel-item:only-child::after {width: 0;}#sk-container-id-32 div.sk-dashed-wrapped {border: 1px dashed gray;margin: 0 0.4em 0.5em 0.4em;box-sizing: border-box;padding-bottom: 0.4em;background-color: white;}#sk-container-id-32 div.sk-label label {font-family: monospace;font-weight: bold;display: inline-block;line-height: 1.2em;}#sk-container-id-32 div.sk-label-container {text-align: center;}#sk-container-id-32 div.sk-container {/* jupyter's `normalize.less` sets `[hidden] { display: none; }` but bootstrap.min.css set `[hidden] { display: none !important; }` so we also need the `!important` here to be able to override the default hidden behavior on the sphinx rendered scikit-learn.org. See: https://github.com/scikit-learn/scikit-learn/issues/21755 */display: inline-block !important;position: relative;}#sk-container-id-32 div.sk-text-repr-fallback {display: none;}</style><div id=\"sk-container-id-32\" class=\"sk-top-container\"><div class=\"sk-text-repr-fallback\"><pre>GridSearchCV(cv=5,\n",
       "             estimator=Pipeline(steps=[(&#x27;tf&#x27;,\n",
       "                                        TfidfVectorizer(stop_words=[&#x27;i&#x27;, &#x27;me&#x27;,\n",
       "                                                                    &#x27;my&#x27;,\n",
       "                                                                    &#x27;myself&#x27;,\n",
       "                                                                    &#x27;we&#x27;, &#x27;our&#x27;,\n",
       "                                                                    &#x27;ours&#x27;,\n",
       "                                                                    &#x27;ourselves&#x27;,\n",
       "                                                                    &#x27;you&#x27;,\n",
       "                                                                    &quot;you&#x27;re&quot;,\n",
       "                                                                    &quot;you&#x27;ve&quot;,\n",
       "                                                                    &quot;you&#x27;ll&quot;,\n",
       "                                                                    &quot;you&#x27;d&quot;,\n",
       "                                                                    &#x27;your&#x27;,\n",
       "                                                                    &#x27;yours&#x27;,\n",
       "                                                                    &#x27;yourself&#x27;,\n",
       "                                                                    &#x27;yourselves&#x27;,\n",
       "                                                                    &#x27;he&#x27;, &#x27;him&#x27;,\n",
       "                                                                    &#x27;his&#x27;,\n",
       "                                                                    &#x27;himself&#x27;,\n",
       "                                                                    &#x27;she&#x27;,\n",
       "                                                                    &quot;she&#x27;s&quot;,\n",
       "                                                                    &#x27;her&#x27;,\n",
       "                                                                    &#x27;hers&#x27;,\n",
       "                                                                    &#x27;herself&#x27;,\n",
       "                                                                    &#x27;it&#x27;,\n",
       "                                                                    &quot;it&#x27;s&quot;,\n",
       "                                                                    &#x27;its&#x27;,\n",
       "                                                                    &#x27;itself&#x27;, ...])),\n",
       "                                       (&#x27;lr&#x27;,\n",
       "                                        LogisticRegression(random_state=42))]),\n",
       "             param_grid={&#x27;lr__C&#x27;: [0.4, 0.5, 0.6], &#x27;lr__n_jobs&#x27;: [-1],\n",
       "                         &#x27;tf__max_df&#x27;: [0.4, 0.5],\n",
       "                         &#x27;tf__max_features&#x27;: [600, 800, 1000],\n",
       "                         &#x27;tf__ngram_range&#x27;: [(1, 1), (1, 2)]})</pre><b>In a Jupyter environment, please rerun this cell to show the HTML representation or trust the notebook. <br />On GitHub, the HTML representation is unable to render, please try loading this page with nbviewer.org.</b></div><div class=\"sk-container\" hidden><div class=\"sk-item sk-dashed-wrapped\"><div class=\"sk-label-container\"><div class=\"sk-label sk-toggleable\"><input class=\"sk-toggleable__control sk-hidden--visually\" id=\"sk-estimator-id-119\" type=\"checkbox\" ><label for=\"sk-estimator-id-119\" class=\"sk-toggleable__label sk-toggleable__label-arrow\">GridSearchCV</label><div class=\"sk-toggleable__content\"><pre>GridSearchCV(cv=5,\n",
       "             estimator=Pipeline(steps=[(&#x27;tf&#x27;,\n",
       "                                        TfidfVectorizer(stop_words=[&#x27;i&#x27;, &#x27;me&#x27;,\n",
       "                                                                    &#x27;my&#x27;,\n",
       "                                                                    &#x27;myself&#x27;,\n",
       "                                                                    &#x27;we&#x27;, &#x27;our&#x27;,\n",
       "                                                                    &#x27;ours&#x27;,\n",
       "                                                                    &#x27;ourselves&#x27;,\n",
       "                                                                    &#x27;you&#x27;,\n",
       "                                                                    &quot;you&#x27;re&quot;,\n",
       "                                                                    &quot;you&#x27;ve&quot;,\n",
       "                                                                    &quot;you&#x27;ll&quot;,\n",
       "                                                                    &quot;you&#x27;d&quot;,\n",
       "                                                                    &#x27;your&#x27;,\n",
       "                                                                    &#x27;yours&#x27;,\n",
       "                                                                    &#x27;yourself&#x27;,\n",
       "                                                                    &#x27;yourselves&#x27;,\n",
       "                                                                    &#x27;he&#x27;, &#x27;him&#x27;,\n",
       "                                                                    &#x27;his&#x27;,\n",
       "                                                                    &#x27;himself&#x27;,\n",
       "                                                                    &#x27;she&#x27;,\n",
       "                                                                    &quot;she&#x27;s&quot;,\n",
       "                                                                    &#x27;her&#x27;,\n",
       "                                                                    &#x27;hers&#x27;,\n",
       "                                                                    &#x27;herself&#x27;,\n",
       "                                                                    &#x27;it&#x27;,\n",
       "                                                                    &quot;it&#x27;s&quot;,\n",
       "                                                                    &#x27;its&#x27;,\n",
       "                                                                    &#x27;itself&#x27;, ...])),\n",
       "                                       (&#x27;lr&#x27;,\n",
       "                                        LogisticRegression(random_state=42))]),\n",
       "             param_grid={&#x27;lr__C&#x27;: [0.4, 0.5, 0.6], &#x27;lr__n_jobs&#x27;: [-1],\n",
       "                         &#x27;tf__max_df&#x27;: [0.4, 0.5],\n",
       "                         &#x27;tf__max_features&#x27;: [600, 800, 1000],\n",
       "                         &#x27;tf__ngram_range&#x27;: [(1, 1), (1, 2)]})</pre></div></div></div><div class=\"sk-parallel\"><div class=\"sk-parallel-item\"><div class=\"sk-item\"><div class=\"sk-label-container\"><div class=\"sk-label sk-toggleable\"><input class=\"sk-toggleable__control sk-hidden--visually\" id=\"sk-estimator-id-120\" type=\"checkbox\" ><label for=\"sk-estimator-id-120\" class=\"sk-toggleable__label sk-toggleable__label-arrow\">estimator: Pipeline</label><div class=\"sk-toggleable__content\"><pre>Pipeline(steps=[(&#x27;tf&#x27;,\n",
       "                 TfidfVectorizer(stop_words=[&#x27;i&#x27;, &#x27;me&#x27;, &#x27;my&#x27;, &#x27;myself&#x27;, &#x27;we&#x27;,\n",
       "                                             &#x27;our&#x27;, &#x27;ours&#x27;, &#x27;ourselves&#x27;, &#x27;you&#x27;,\n",
       "                                             &quot;you&#x27;re&quot;, &quot;you&#x27;ve&quot;, &quot;you&#x27;ll&quot;,\n",
       "                                             &quot;you&#x27;d&quot;, &#x27;your&#x27;, &#x27;yours&#x27;,\n",
       "                                             &#x27;yourself&#x27;, &#x27;yourselves&#x27;, &#x27;he&#x27;,\n",
       "                                             &#x27;him&#x27;, &#x27;his&#x27;, &#x27;himself&#x27;, &#x27;she&#x27;,\n",
       "                                             &quot;she&#x27;s&quot;, &#x27;her&#x27;, &#x27;hers&#x27;, &#x27;herself&#x27;,\n",
       "                                             &#x27;it&#x27;, &quot;it&#x27;s&quot;, &#x27;its&#x27;, &#x27;itself&#x27;, ...])),\n",
       "                (&#x27;lr&#x27;, LogisticRegression(random_state=42))])</pre></div></div></div><div class=\"sk-serial\"><div class=\"sk-item\"><div class=\"sk-serial\"><div class=\"sk-item\"><div class=\"sk-estimator sk-toggleable\"><input class=\"sk-toggleable__control sk-hidden--visually\" id=\"sk-estimator-id-121\" type=\"checkbox\" ><label for=\"sk-estimator-id-121\" class=\"sk-toggleable__label sk-toggleable__label-arrow\">TfidfVectorizer</label><div class=\"sk-toggleable__content\"><pre>TfidfVectorizer(stop_words=[&#x27;i&#x27;, &#x27;me&#x27;, &#x27;my&#x27;, &#x27;myself&#x27;, &#x27;we&#x27;, &#x27;our&#x27;, &#x27;ours&#x27;,\n",
       "                            &#x27;ourselves&#x27;, &#x27;you&#x27;, &quot;you&#x27;re&quot;, &quot;you&#x27;ve&quot;, &quot;you&#x27;ll&quot;,\n",
       "                            &quot;you&#x27;d&quot;, &#x27;your&#x27;, &#x27;yours&#x27;, &#x27;yourself&#x27;, &#x27;yourselves&#x27;,\n",
       "                            &#x27;he&#x27;, &#x27;him&#x27;, &#x27;his&#x27;, &#x27;himself&#x27;, &#x27;she&#x27;, &quot;she&#x27;s&quot;,\n",
       "                            &#x27;her&#x27;, &#x27;hers&#x27;, &#x27;herself&#x27;, &#x27;it&#x27;, &quot;it&#x27;s&quot;, &#x27;its&#x27;,\n",
       "                            &#x27;itself&#x27;, ...])</pre></div></div></div><div class=\"sk-item\"><div class=\"sk-estimator sk-toggleable\"><input class=\"sk-toggleable__control sk-hidden--visually\" id=\"sk-estimator-id-122\" type=\"checkbox\" ><label for=\"sk-estimator-id-122\" class=\"sk-toggleable__label sk-toggleable__label-arrow\">LogisticRegression</label><div class=\"sk-toggleable__content\"><pre>LogisticRegression(random_state=42)</pre></div></div></div></div></div></div></div></div></div></div></div></div>"
      ],
      "text/plain": [
       "GridSearchCV(cv=5,\n",
       "             estimator=Pipeline(steps=[('tf',\n",
       "                                        TfidfVectorizer(stop_words=['i', 'me',\n",
       "                                                                    'my',\n",
       "                                                                    'myself',\n",
       "                                                                    'we', 'our',\n",
       "                                                                    'ours',\n",
       "                                                                    'ourselves',\n",
       "                                                                    'you',\n",
       "                                                                    \"you're\",\n",
       "                                                                    \"you've\",\n",
       "                                                                    \"you'll\",\n",
       "                                                                    \"you'd\",\n",
       "                                                                    'your',\n",
       "                                                                    'yours',\n",
       "                                                                    'yourself',\n",
       "                                                                    'yourselves',\n",
       "                                                                    'he', 'him',\n",
       "                                                                    'his',\n",
       "                                                                    'himself',\n",
       "                                                                    'she',\n",
       "                                                                    \"she's\",\n",
       "                                                                    'her',\n",
       "                                                                    'hers',\n",
       "                                                                    'herself',\n",
       "                                                                    'it',\n",
       "                                                                    \"it's\",\n",
       "                                                                    'its',\n",
       "                                                                    'itself', ...])),\n",
       "                                       ('lr',\n",
       "                                        LogisticRegression(random_state=42))]),\n",
       "             param_grid={'lr__C': [0.4, 0.5, 0.6], 'lr__n_jobs': [-1],\n",
       "                         'tf__max_df': [0.4, 0.5],\n",
       "                         'tf__max_features': [600, 800, 1000],\n",
       "                         'tf__ngram_range': [(1, 1), (1, 2)]})"
      ]
     },
     "execution_count": 250,
     "metadata": {},
     "output_type": "execute_result"
    }
   ],
   "source": [
    "lr_gs = GridSearchCV(lr_pipe,\n",
    "                  param_grid=lr_params,\n",
    "                  cv=5)\n",
    "\n",
    "lr_gs.fit(X_train,y_train)"
   ]
  },
  {
   "cell_type": "code",
   "execution_count": 251,
   "id": "0715c0db-b81e-453e-9d41-8e61556df951",
   "metadata": {},
   "outputs": [
    {
     "data": {
      "text/plain": [
       "{'lr__C': 0.5,\n",
       " 'lr__n_jobs': -1,\n",
       " 'tf__max_df': 0.4,\n",
       " 'tf__max_features': 800,\n",
       " 'tf__ngram_range': (1, 2)}"
      ]
     },
     "execution_count": 251,
     "metadata": {},
     "output_type": "execute_result"
    }
   ],
   "source": [
    "lr_gs.best_params_"
   ]
  },
  {
   "cell_type": "code",
   "execution_count": 252,
   "id": "6f908d3a-edc1-4d9d-b37c-84805f239851",
   "metadata": {},
   "outputs": [],
   "source": [
    "# Create Pipeline\n",
    "lr_pipe_best = Pipeline([\n",
    "    \n",
    "    ('tf', TfidfVectorizer(max_df=lr_gs.best_params_['tf__max_df'],\n",
    "                           max_features=lr_gs.best_params_['tf__max_features'],\n",
    "                           ngram_range=lr_gs.best_params_['tf__ngram_range'],\n",
    "                           stop_words=manual_stopwords)),\n",
    "    \n",
    "    ('lr', LogisticRegression(C=lr_gs.best_params_['lr__C'],\n",
    "                              n_jobs=lr_gs.best_params_['lr__n_jobs'],\n",
    "                              random_state=42))\n",
    "])"
   ]
  },
  {
   "cell_type": "markdown",
   "id": "9ac2f1ac-a27f-4416-a3f8-0bac0dbf6edf",
   "metadata": {},
   "source": [
    "Fit the model on GridSearchCV best parameter"
   ]
  },
  {
   "cell_type": "code",
   "execution_count": 253,
   "id": "dbc6f5e7-0c88-49b0-8e68-b55f07a33d33",
   "metadata": {},
   "outputs": [
    {
     "name": "stdout",
     "output_type": "stream",
     "text": [
      "Train Score: 0.8308\n",
      "Test Score: 0.7074\n",
      "Classification Report:\n",
      "              precision    recall  f1-score   support\n",
      "\n",
      "    coursera       0.72      0.68      0.70       250\n",
      "         edx       0.69      0.74      0.72       249\n",
      "\n",
      "    accuracy                           0.71       499\n",
      "   macro avg       0.71      0.71      0.71       499\n",
      "weighted avg       0.71      0.71      0.71       499\n",
      "\n"
     ]
    }
   ],
   "source": [
    "fit_pipe(lr_pipe_best,X_train,X_test,y_train,y_test)"
   ]
  },
  {
   "cell_type": "code",
   "execution_count": 254,
   "id": "52e47c38-fb1c-48bd-b58e-a2660104b908",
   "metadata": {},
   "outputs": [
    {
     "name": "stdout",
     "output_type": "stream",
     "text": [
      "Confusion Matrix:\n"
     ]
    },
    {
     "data": {
      "image/png": "[encoded data removed]",
      "text/plain": [
       "<Figure size 432x288 with 2 Axes>"
      ]
     },
     "metadata": {
      "needs_background": "light"
     },
     "output_type": "display_data"
    }
   ],
   "source": [
    "show_cm(lr_pipe_best,X_train,X_test,y_train,y_test)"
   ]
  },
  {
   "cell_type": "code",
   "execution_count": 255,
   "id": "3ebb76ee-8ba6-4dcb-be3b-704ffb629d9d",
   "metadata": {},
   "outputs": [
    {
     "data": {
      "text/plain": [
       "['../model/lr_model.pkl']"
      ]
     },
     "execution_count": 255,
     "metadata": {},
     "output_type": "execute_result"
    }
   ],
   "source": [
    "# Save the model\n",
    "joblib.dump(lr_gs, '../model/lr_model.pkl')"
   ]
  },
  {
   "cell_type": "markdown",
   "id": "aa3bd9ba-0ca9-41fe-bee7-883b1e46484e",
   "metadata": {},
   "source": [
    "__Key Takeaway:__ <br>\n",
    "- Default hyperparameters of Logistic Regression gives us an accuracy of 0.7395 (however this is an overfitting when we compare it to the results of training data of 0.9064)\n",
    "- Optimized hyperparameters gives us an accuracy of 0.7074 (less overfit compared to training score of 0.8304)\n",
    "- The **GridSearchCV optimized model** should be **more sustainable** in the long run while maintaining an acceptable **accuracy of 71%**"
   ]
  },
  {
   "cell_type": "markdown",
   "id": "45a88a22-571c-4a70-9d80-40259f5edb54",
   "metadata": {},
   "source": [
    "---"
   ]
  },
  {
   "cell_type": "markdown",
   "id": "f791cab9-5d86-4271-aeab-1c3084407b3c",
   "metadata": {
    "tags": []
   },
   "source": [
    "### k-Nearest Neighbour Classification\n",
    "[Back to Table of Content](#Table-of-Content)"
   ]
  },
  {
   "cell_type": "markdown",
   "id": "2b504c17-18fb-46b2-b584-d506fad2984d",
   "metadata": {},
   "source": [
    "__*Baseline of kNN*__"
   ]
  },
  {
   "cell_type": "code",
   "execution_count": 42,
   "id": "ecd48270-ee59-4289-9097-d5f58d2975ff",
   "metadata": {},
   "outputs": [],
   "source": [
    "# CountVectorizer and k-Neareset Neighbour Classification\n",
    "# In this case CountVectorizer works better than Tf-IdfVectorizer\n",
    "\n",
    "# Create Pipeline\n",
    "kn_pipe = Pipeline([\n",
    "    ('cv', CountVectorizer(stop_words=manual_stopwords)),\n",
    "    ('kn', KNeighborsClassifier())\n",
    "])"
   ]
  },
  {
   "cell_type": "code",
   "execution_count": 43,
   "id": "cd6c201f-707f-48a8-9920-e618ebf74f80",
   "metadata": {},
   "outputs": [
    {
     "name": "stdout",
     "output_type": "stream",
     "text": [
      "Train Score: 0.7706\n",
      "Test Score: 0.6293\n",
      "Classification Report:\n",
      "              precision    recall  f1-score   support\n",
      "\n",
      "    coursera       0.66      0.54      0.60       250\n",
      "         edx       0.61      0.71      0.66       249\n",
      "\n",
      "    accuracy                           0.63       499\n",
      "   macro avg       0.63      0.63      0.63       499\n",
      "weighted avg       0.63      0.63      0.63       499\n",
      "\n"
     ]
    }
   ],
   "source": [
    "fit_pipe(kn_pipe,X_train,X_test,y_train,y_test)"
   ]
  },
  {
   "cell_type": "markdown",
   "id": "81d2b761-fa53-4d38-bf41-044a3f9cab63",
   "metadata": {},
   "source": [
    "__*Optimization of k-Nearest Neighbour Classification*__"
   ]
  },
  {
   "cell_type": "markdown",
   "id": "a9bd5faf-3ac0-4c08-a879-7bdc91774418",
   "metadata": {},
   "source": [
    "RandomizedSearchCV to find the starting point"
   ]
  },
  {
   "cell_type": "code",
   "execution_count": 44,
   "id": "1a54c0fe-1950-46cb-bbaa-d13b67617a4b",
   "metadata": {},
   "outputs": [],
   "source": [
    "kn_params = {\n",
    "    'cv__max_df':[0.25,0.5,0.75,1.0],\n",
    "    'cv__max_features':[200,400,600,800,1000],\n",
    "    'cv__ngram_range':[(1,1),(1,2),(2,2),(3,3)],\n",
    "    'kn__n_neighbors':[5,10,15,20],\n",
    "    'kn__n_jobs':[-1]\n",
    "}"
   ]
  },
  {
   "cell_type": "code",
   "execution_count": 45,
   "id": "ed6ecbee-06e3-4567-9272-34129ccffe79",
   "metadata": {},
   "outputs": [
    {
     "data": {
      "text/html": [
       "<style>#sk-container-id-6 {color: black;background-color: white;}#sk-container-id-6 pre{padding: 0;}#sk-container-id-6 div.sk-toggleable {background-color: white;}#sk-container-id-6 label.sk-toggleable__label {cursor: pointer;display: block;width: 100%;margin-bottom: 0;padding: 0.3em;box-sizing: border-box;text-align: center;}#sk-container-id-6 label.sk-toggleable__label-arrow:before {content: \"▸\";float: left;margin-right: 0.25em;color: #696969;}#sk-container-id-6 label.sk-toggleable__label-arrow:hover:before {color: black;}#sk-container-id-6 div.sk-estimator:hover label.sk-toggleable__label-arrow:before {color: black;}#sk-container-id-6 div.sk-toggleable__content {max-height: 0;max-width: 0;overflow: hidden;text-align: left;background-color: #f0f8ff;}#sk-container-id-6 div.sk-toggleable__content pre {margin: 0.2em;color: black;border-radius: 0.25em;background-color: #f0f8ff;}#sk-container-id-6 input.sk-toggleable__control:checked~div.sk-toggleable__content {max-height: 200px;max-width: 100%;overflow: auto;}#sk-container-id-6 input.sk-toggleable__control:checked~label.sk-toggleable__label-arrow:before {content: \"▾\";}#sk-container-id-6 div.sk-estimator input.sk-toggleable__control:checked~label.sk-toggleable__label {background-color: #d4ebff;}#sk-container-id-6 div.sk-label input.sk-toggleable__control:checked~label.sk-toggleable__label {background-color: #d4ebff;}#sk-container-id-6 input.sk-hidden--visually {border: 0;clip: rect(1px 1px 1px 1px);clip: rect(1px, 1px, 1px, 1px);height: 1px;margin: -1px;overflow: hidden;padding: 0;position: absolute;width: 1px;}#sk-container-id-6 div.sk-estimator {font-family: monospace;background-color: #f0f8ff;border: 1px dotted black;border-radius: 0.25em;box-sizing: border-box;margin-bottom: 0.5em;}#sk-container-id-6 div.sk-estimator:hover {background-color: #d4ebff;}#sk-container-id-6 div.sk-parallel-item::after {content: \"\";width: 100%;border-bottom: 1px solid gray;flex-grow: 1;}#sk-container-id-6 div.sk-label:hover label.sk-toggleable__label {background-color: #d4ebff;}#sk-container-id-6 div.sk-serial::before {content: \"\";position: absolute;border-left: 1px solid gray;box-sizing: border-box;top: 0;bottom: 0;left: 50%;z-index: 0;}#sk-container-id-6 div.sk-serial {display: flex;flex-direction: column;align-items: center;background-color: white;padding-right: 0.2em;padding-left: 0.2em;position: relative;}#sk-container-id-6 div.sk-item {position: relative;z-index: 1;}#sk-container-id-6 div.sk-parallel {display: flex;align-items: stretch;justify-content: center;background-color: white;position: relative;}#sk-container-id-6 div.sk-item::before, #sk-container-id-6 div.sk-parallel-item::before {content: \"\";position: absolute;border-left: 1px solid gray;box-sizing: border-box;top: 0;bottom: 0;left: 50%;z-index: -1;}#sk-container-id-6 div.sk-parallel-item {display: flex;flex-direction: column;z-index: 1;position: relative;background-color: white;}#sk-container-id-6 div.sk-parallel-item:first-child::after {align-self: flex-end;width: 50%;}#sk-container-id-6 div.sk-parallel-item:last-child::after {align-self: flex-start;width: 50%;}#sk-container-id-6 div.sk-parallel-item:only-child::after {width: 0;}#sk-container-id-6 div.sk-dashed-wrapped {border: 1px dashed gray;margin: 0 0.4em 0.5em 0.4em;box-sizing: border-box;padding-bottom: 0.4em;background-color: white;}#sk-container-id-6 div.sk-label label {font-family: monospace;font-weight: bold;display: inline-block;line-height: 1.2em;}#sk-container-id-6 div.sk-label-container {text-align: center;}#sk-container-id-6 div.sk-container {/* jupyter's `normalize.less` sets `[hidden] { display: none; }` but bootstrap.min.css set `[hidden] { display: none !important; }` so we also need the `!important` here to be able to override the default hidden behavior on the sphinx rendered scikit-learn.org. See: https://github.com/scikit-learn/scikit-learn/issues/21755 */display: inline-block !important;position: relative;}#sk-container-id-6 div.sk-text-repr-fallback {display: none;}</style><div id=\"sk-container-id-6\" class=\"sk-top-container\"><div class=\"sk-text-repr-fallback\"><pre>RandomizedSearchCV(cv=5,\n",
       "                   estimator=Pipeline(steps=[(&#x27;cv&#x27;,\n",
       "                                              CountVectorizer(stop_words=[&#x27;i&#x27;,\n",
       "                                                                          &#x27;me&#x27;,\n",
       "                                                                          &#x27;my&#x27;,\n",
       "                                                                          &#x27;myself&#x27;,\n",
       "                                                                          &#x27;we&#x27;,\n",
       "                                                                          &#x27;our&#x27;,\n",
       "                                                                          &#x27;ours&#x27;,\n",
       "                                                                          &#x27;ourselves&#x27;,\n",
       "                                                                          &#x27;you&#x27;,\n",
       "                                                                          &quot;you&#x27;re&quot;,\n",
       "                                                                          &quot;you&#x27;ve&quot;,\n",
       "                                                                          &quot;you&#x27;ll&quot;,\n",
       "                                                                          &quot;you&#x27;d&quot;,\n",
       "                                                                          &#x27;your&#x27;,\n",
       "                                                                          &#x27;yours&#x27;,\n",
       "                                                                          &#x27;yourself&#x27;,\n",
       "                                                                          &#x27;yourselves&#x27;,\n",
       "                                                                          &#x27;he&#x27;,\n",
       "                                                                          &#x27;him&#x27;,\n",
       "                                                                          &#x27;his&#x27;,\n",
       "                                                                          &#x27;himself&#x27;,\n",
       "                                                                          &#x27;she&#x27;,\n",
       "                                                                          &quot;she&#x27;s&quot;,\n",
       "                                                                          &#x27;her&#x27;,\n",
       "                                                                          &#x27;hers&#x27;,\n",
       "                                                                          &#x27;herself&#x27;,\n",
       "                                                                          &#x27;it&#x27;,\n",
       "                                                                          &quot;it&#x27;s&quot;,\n",
       "                                                                          &#x27;its&#x27;,\n",
       "                                                                          &#x27;itself&#x27;, ...])),\n",
       "                                             (&#x27;kn&#x27;, KNeighborsClassifier())]),\n",
       "                   param_distributions={&#x27;cv__max_df&#x27;: [0.25, 0.5, 0.75, 1.0],\n",
       "                                        &#x27;cv__max_features&#x27;: [200, 400, 600, 800,\n",
       "                                                             1000],\n",
       "                                        &#x27;cv__ngram_range&#x27;: [(1, 1), (1, 2),\n",
       "                                                            (2, 2), (3, 3)],\n",
       "                                        &#x27;kn__n_jobs&#x27;: [-1],\n",
       "                                        &#x27;kn__n_neighbors&#x27;: [5, 10, 15, 20]},\n",
       "                   random_state=42)</pre><b>In a Jupyter environment, please rerun this cell to show the HTML representation or trust the notebook. <br />On GitHub, the HTML representation is unable to render, please try loading this page with nbviewer.org.</b></div><div class=\"sk-container\" hidden><div class=\"sk-item sk-dashed-wrapped\"><div class=\"sk-label-container\"><div class=\"sk-label sk-toggleable\"><input class=\"sk-toggleable__control sk-hidden--visually\" id=\"sk-estimator-id-21\" type=\"checkbox\" ><label for=\"sk-estimator-id-21\" class=\"sk-toggleable__label sk-toggleable__label-arrow\">RandomizedSearchCV</label><div class=\"sk-toggleable__content\"><pre>RandomizedSearchCV(cv=5,\n",
       "                   estimator=Pipeline(steps=[(&#x27;cv&#x27;,\n",
       "                                              CountVectorizer(stop_words=[&#x27;i&#x27;,\n",
       "                                                                          &#x27;me&#x27;,\n",
       "                                                                          &#x27;my&#x27;,\n",
       "                                                                          &#x27;myself&#x27;,\n",
       "                                                                          &#x27;we&#x27;,\n",
       "                                                                          &#x27;our&#x27;,\n",
       "                                                                          &#x27;ours&#x27;,\n",
       "                                                                          &#x27;ourselves&#x27;,\n",
       "                                                                          &#x27;you&#x27;,\n",
       "                                                                          &quot;you&#x27;re&quot;,\n",
       "                                                                          &quot;you&#x27;ve&quot;,\n",
       "                                                                          &quot;you&#x27;ll&quot;,\n",
       "                                                                          &quot;you&#x27;d&quot;,\n",
       "                                                                          &#x27;your&#x27;,\n",
       "                                                                          &#x27;yours&#x27;,\n",
       "                                                                          &#x27;yourself&#x27;,\n",
       "                                                                          &#x27;yourselves&#x27;,\n",
       "                                                                          &#x27;he&#x27;,\n",
       "                                                                          &#x27;him&#x27;,\n",
       "                                                                          &#x27;his&#x27;,\n",
       "                                                                          &#x27;himself&#x27;,\n",
       "                                                                          &#x27;she&#x27;,\n",
       "                                                                          &quot;she&#x27;s&quot;,\n",
       "                                                                          &#x27;her&#x27;,\n",
       "                                                                          &#x27;hers&#x27;,\n",
       "                                                                          &#x27;herself&#x27;,\n",
       "                                                                          &#x27;it&#x27;,\n",
       "                                                                          &quot;it&#x27;s&quot;,\n",
       "                                                                          &#x27;its&#x27;,\n",
       "                                                                          &#x27;itself&#x27;, ...])),\n",
       "                                             (&#x27;kn&#x27;, KNeighborsClassifier())]),\n",
       "                   param_distributions={&#x27;cv__max_df&#x27;: [0.25, 0.5, 0.75, 1.0],\n",
       "                                        &#x27;cv__max_features&#x27;: [200, 400, 600, 800,\n",
       "                                                             1000],\n",
       "                                        &#x27;cv__ngram_range&#x27;: [(1, 1), (1, 2),\n",
       "                                                            (2, 2), (3, 3)],\n",
       "                                        &#x27;kn__n_jobs&#x27;: [-1],\n",
       "                                        &#x27;kn__n_neighbors&#x27;: [5, 10, 15, 20]},\n",
       "                   random_state=42)</pre></div></div></div><div class=\"sk-parallel\"><div class=\"sk-parallel-item\"><div class=\"sk-item\"><div class=\"sk-label-container\"><div class=\"sk-label sk-toggleable\"><input class=\"sk-toggleable__control sk-hidden--visually\" id=\"sk-estimator-id-22\" type=\"checkbox\" ><label for=\"sk-estimator-id-22\" class=\"sk-toggleable__label sk-toggleable__label-arrow\">estimator: Pipeline</label><div class=\"sk-toggleable__content\"><pre>Pipeline(steps=[(&#x27;cv&#x27;,\n",
       "                 CountVectorizer(stop_words=[&#x27;i&#x27;, &#x27;me&#x27;, &#x27;my&#x27;, &#x27;myself&#x27;, &#x27;we&#x27;,\n",
       "                                             &#x27;our&#x27;, &#x27;ours&#x27;, &#x27;ourselves&#x27;, &#x27;you&#x27;,\n",
       "                                             &quot;you&#x27;re&quot;, &quot;you&#x27;ve&quot;, &quot;you&#x27;ll&quot;,\n",
       "                                             &quot;you&#x27;d&quot;, &#x27;your&#x27;, &#x27;yours&#x27;,\n",
       "                                             &#x27;yourself&#x27;, &#x27;yourselves&#x27;, &#x27;he&#x27;,\n",
       "                                             &#x27;him&#x27;, &#x27;his&#x27;, &#x27;himself&#x27;, &#x27;she&#x27;,\n",
       "                                             &quot;she&#x27;s&quot;, &#x27;her&#x27;, &#x27;hers&#x27;, &#x27;herself&#x27;,\n",
       "                                             &#x27;it&#x27;, &quot;it&#x27;s&quot;, &#x27;its&#x27;, &#x27;itself&#x27;, ...])),\n",
       "                (&#x27;kn&#x27;, KNeighborsClassifier())])</pre></div></div></div><div class=\"sk-serial\"><div class=\"sk-item\"><div class=\"sk-serial\"><div class=\"sk-item\"><div class=\"sk-estimator sk-toggleable\"><input class=\"sk-toggleable__control sk-hidden--visually\" id=\"sk-estimator-id-23\" type=\"checkbox\" ><label for=\"sk-estimator-id-23\" class=\"sk-toggleable__label sk-toggleable__label-arrow\">CountVectorizer</label><div class=\"sk-toggleable__content\"><pre>CountVectorizer(stop_words=[&#x27;i&#x27;, &#x27;me&#x27;, &#x27;my&#x27;, &#x27;myself&#x27;, &#x27;we&#x27;, &#x27;our&#x27;, &#x27;ours&#x27;,\n",
       "                            &#x27;ourselves&#x27;, &#x27;you&#x27;, &quot;you&#x27;re&quot;, &quot;you&#x27;ve&quot;, &quot;you&#x27;ll&quot;,\n",
       "                            &quot;you&#x27;d&quot;, &#x27;your&#x27;, &#x27;yours&#x27;, &#x27;yourself&#x27;, &#x27;yourselves&#x27;,\n",
       "                            &#x27;he&#x27;, &#x27;him&#x27;, &#x27;his&#x27;, &#x27;himself&#x27;, &#x27;she&#x27;, &quot;she&#x27;s&quot;,\n",
       "                            &#x27;her&#x27;, &#x27;hers&#x27;, &#x27;herself&#x27;, &#x27;it&#x27;, &quot;it&#x27;s&quot;, &#x27;its&#x27;,\n",
       "                            &#x27;itself&#x27;, ...])</pre></div></div></div><div class=\"sk-item\"><div class=\"sk-estimator sk-toggleable\"><input class=\"sk-toggleable__control sk-hidden--visually\" id=\"sk-estimator-id-24\" type=\"checkbox\" ><label for=\"sk-estimator-id-24\" class=\"sk-toggleable__label sk-toggleable__label-arrow\">KNeighborsClassifier</label><div class=\"sk-toggleable__content\"><pre>KNeighborsClassifier()</pre></div></div></div></div></div></div></div></div></div></div></div></div>"
      ],
      "text/plain": [
       "RandomizedSearchCV(cv=5,\n",
       "                   estimator=Pipeline(steps=[('cv',\n",
       "                                              CountVectorizer(stop_words=['i',\n",
       "                                                                          'me',\n",
       "                                                                          'my',\n",
       "                                                                          'myself',\n",
       "                                                                          'we',\n",
       "                                                                          'our',\n",
       "                                                                          'ours',\n",
       "                                                                          'ourselves',\n",
       "                                                                          'you',\n",
       "                                                                          \"you're\",\n",
       "                                                                          \"you've\",\n",
       "                                                                          \"you'll\",\n",
       "                                                                          \"you'd\",\n",
       "                                                                          'your',\n",
       "                                                                          'yours',\n",
       "                                                                          'yourself',\n",
       "                                                                          'yourselves',\n",
       "                                                                          'he',\n",
       "                                                                          'him',\n",
       "                                                                          'his',\n",
       "                                                                          'himself',\n",
       "                                                                          'she',\n",
       "                                                                          \"she's\",\n",
       "                                                                          'her',\n",
       "                                                                          'hers',\n",
       "                                                                          'herself',\n",
       "                                                                          'it',\n",
       "                                                                          \"it's\",\n",
       "                                                                          'its',\n",
       "                                                                          'itself', ...])),\n",
       "                                             ('kn', KNeighborsClassifier())]),\n",
       "                   param_distributions={'cv__max_df': [0.25, 0.5, 0.75, 1.0],\n",
       "                                        'cv__max_features': [200, 400, 600, 800,\n",
       "                                                             1000],\n",
       "                                        'cv__ngram_range': [(1, 1), (1, 2),\n",
       "                                                            (2, 2), (3, 3)],\n",
       "                                        'kn__n_jobs': [-1],\n",
       "                                        'kn__n_neighbors': [5, 10, 15, 20]},\n",
       "                   random_state=42)"
      ]
     },
     "execution_count": 45,
     "metadata": {},
     "output_type": "execute_result"
    }
   ],
   "source": [
    "gr = RandomizedSearchCV(kn_pipe,\n",
    "                        param_distributions=kn_params,\n",
    "                        cv=5,\n",
    "                        random_state=42)\n",
    "\n",
    "gr.fit(X_train,y_train)"
   ]
  },
  {
   "cell_type": "code",
   "execution_count": 46,
   "id": "c7c72ccb-5ff8-49d5-84a1-934bfb33154c",
   "metadata": {},
   "outputs": [
    {
     "name": "stdout",
     "output_type": "stream",
     "text": [
      "Best Parameters:\n",
      "{'kn__n_neighbors': 20, 'kn__n_jobs': -1, 'cv__ngram_range': (1, 2), 'cv__max_features': 200, 'cv__max_df': 0.75}\n",
      "Best Scores:\n",
      "0.6147\n"
     ]
    }
   ],
   "source": [
    "print_grid_results(gr)"
   ]
  },
  {
   "cell_type": "markdown",
   "id": "dd531d5a-22ce-4cb7-aa80-4b0cf34d7a9a",
   "metadata": {},
   "source": [
    "GridSearchCV to find the optimum hyperparameters"
   ]
  },
  {
   "cell_type": "code",
   "execution_count": 47,
   "id": "06b870af-b7d2-4d50-8c73-943a7ad3f88a",
   "metadata": {},
   "outputs": [],
   "source": [
    "kn_params = {\n",
    "    'cv__max_df':[0.5,1.0],\n",
    "    'cv__max_features':[100,200],\n",
    "    'cv__ngram_range':[(1,1),(1,2)],\n",
    "    'kn__n_neighbors':[5,10],\n",
    "    'kn__n_jobs':[-1]\n",
    "}"
   ]
  },
  {
   "cell_type": "code",
   "execution_count": 48,
   "id": "426f809a-b75c-4e97-917d-b5c9249987c1",
   "metadata": {},
   "outputs": [
    {
     "data": {
      "text/html": [
       "<style>#sk-container-id-7 {color: black;background-color: white;}#sk-container-id-7 pre{padding: 0;}#sk-container-id-7 div.sk-toggleable {background-color: white;}#sk-container-id-7 label.sk-toggleable__label {cursor: pointer;display: block;width: 100%;margin-bottom: 0;padding: 0.3em;box-sizing: border-box;text-align: center;}#sk-container-id-7 label.sk-toggleable__label-arrow:before {content: \"▸\";float: left;margin-right: 0.25em;color: #696969;}#sk-container-id-7 label.sk-toggleable__label-arrow:hover:before {color: black;}#sk-container-id-7 div.sk-estimator:hover label.sk-toggleable__label-arrow:before {color: black;}#sk-container-id-7 div.sk-toggleable__content {max-height: 0;max-width: 0;overflow: hidden;text-align: left;background-color: #f0f8ff;}#sk-container-id-7 div.sk-toggleable__content pre {margin: 0.2em;color: black;border-radius: 0.25em;background-color: #f0f8ff;}#sk-container-id-7 input.sk-toggleable__control:checked~div.sk-toggleable__content {max-height: 200px;max-width: 100%;overflow: auto;}#sk-container-id-7 input.sk-toggleable__control:checked~label.sk-toggleable__label-arrow:before {content: \"▾\";}#sk-container-id-7 div.sk-estimator input.sk-toggleable__control:checked~label.sk-toggleable__label {background-color: #d4ebff;}#sk-container-id-7 div.sk-label input.sk-toggleable__control:checked~label.sk-toggleable__label {background-color: #d4ebff;}#sk-container-id-7 input.sk-hidden--visually {border: 0;clip: rect(1px 1px 1px 1px);clip: rect(1px, 1px, 1px, 1px);height: 1px;margin: -1px;overflow: hidden;padding: 0;position: absolute;width: 1px;}#sk-container-id-7 div.sk-estimator {font-family: monospace;background-color: #f0f8ff;border: 1px dotted black;border-radius: 0.25em;box-sizing: border-box;margin-bottom: 0.5em;}#sk-container-id-7 div.sk-estimator:hover {background-color: #d4ebff;}#sk-container-id-7 div.sk-parallel-item::after {content: \"\";width: 100%;border-bottom: 1px solid gray;flex-grow: 1;}#sk-container-id-7 div.sk-label:hover label.sk-toggleable__label {background-color: #d4ebff;}#sk-container-id-7 div.sk-serial::before {content: \"\";position: absolute;border-left: 1px solid gray;box-sizing: border-box;top: 0;bottom: 0;left: 50%;z-index: 0;}#sk-container-id-7 div.sk-serial {display: flex;flex-direction: column;align-items: center;background-color: white;padding-right: 0.2em;padding-left: 0.2em;position: relative;}#sk-container-id-7 div.sk-item {position: relative;z-index: 1;}#sk-container-id-7 div.sk-parallel {display: flex;align-items: stretch;justify-content: center;background-color: white;position: relative;}#sk-container-id-7 div.sk-item::before, #sk-container-id-7 div.sk-parallel-item::before {content: \"\";position: absolute;border-left: 1px solid gray;box-sizing: border-box;top: 0;bottom: 0;left: 50%;z-index: -1;}#sk-container-id-7 div.sk-parallel-item {display: flex;flex-direction: column;z-index: 1;position: relative;background-color: white;}#sk-container-id-7 div.sk-parallel-item:first-child::after {align-self: flex-end;width: 50%;}#sk-container-id-7 div.sk-parallel-item:last-child::after {align-self: flex-start;width: 50%;}#sk-container-id-7 div.sk-parallel-item:only-child::after {width: 0;}#sk-container-id-7 div.sk-dashed-wrapped {border: 1px dashed gray;margin: 0 0.4em 0.5em 0.4em;box-sizing: border-box;padding-bottom: 0.4em;background-color: white;}#sk-container-id-7 div.sk-label label {font-family: monospace;font-weight: bold;display: inline-block;line-height: 1.2em;}#sk-container-id-7 div.sk-label-container {text-align: center;}#sk-container-id-7 div.sk-container {/* jupyter's `normalize.less` sets `[hidden] { display: none; }` but bootstrap.min.css set `[hidden] { display: none !important; }` so we also need the `!important` here to be able to override the default hidden behavior on the sphinx rendered scikit-learn.org. See: https://github.com/scikit-learn/scikit-learn/issues/21755 */display: inline-block !important;position: relative;}#sk-container-id-7 div.sk-text-repr-fallback {display: none;}</style><div id=\"sk-container-id-7\" class=\"sk-top-container\"><div class=\"sk-text-repr-fallback\"><pre>GridSearchCV(cv=5,\n",
       "             estimator=Pipeline(steps=[(&#x27;cv&#x27;,\n",
       "                                        CountVectorizer(stop_words=[&#x27;i&#x27;, &#x27;me&#x27;,\n",
       "                                                                    &#x27;my&#x27;,\n",
       "                                                                    &#x27;myself&#x27;,\n",
       "                                                                    &#x27;we&#x27;, &#x27;our&#x27;,\n",
       "                                                                    &#x27;ours&#x27;,\n",
       "                                                                    &#x27;ourselves&#x27;,\n",
       "                                                                    &#x27;you&#x27;,\n",
       "                                                                    &quot;you&#x27;re&quot;,\n",
       "                                                                    &quot;you&#x27;ve&quot;,\n",
       "                                                                    &quot;you&#x27;ll&quot;,\n",
       "                                                                    &quot;you&#x27;d&quot;,\n",
       "                                                                    &#x27;your&#x27;,\n",
       "                                                                    &#x27;yours&#x27;,\n",
       "                                                                    &#x27;yourself&#x27;,\n",
       "                                                                    &#x27;yourselves&#x27;,\n",
       "                                                                    &#x27;he&#x27;, &#x27;him&#x27;,\n",
       "                                                                    &#x27;his&#x27;,\n",
       "                                                                    &#x27;himself&#x27;,\n",
       "                                                                    &#x27;she&#x27;,\n",
       "                                                                    &quot;she&#x27;s&quot;,\n",
       "                                                                    &#x27;her&#x27;,\n",
       "                                                                    &#x27;hers&#x27;,\n",
       "                                                                    &#x27;herself&#x27;,\n",
       "                                                                    &#x27;it&#x27;,\n",
       "                                                                    &quot;it&#x27;s&quot;,\n",
       "                                                                    &#x27;its&#x27;,\n",
       "                                                                    &#x27;itself&#x27;, ...])),\n",
       "                                       (&#x27;kn&#x27;, KNeighborsClassifier())]),\n",
       "             param_grid={&#x27;cv__max_df&#x27;: [0.5, 1.0],\n",
       "                         &#x27;cv__max_features&#x27;: [100, 200],\n",
       "                         &#x27;cv__ngram_range&#x27;: [(1, 1), (1, 2)],\n",
       "                         &#x27;kn__n_jobs&#x27;: [-1], &#x27;kn__n_neighbors&#x27;: [5, 10]})</pre><b>In a Jupyter environment, please rerun this cell to show the HTML representation or trust the notebook. <br />On GitHub, the HTML representation is unable to render, please try loading this page with nbviewer.org.</b></div><div class=\"sk-container\" hidden><div class=\"sk-item sk-dashed-wrapped\"><div class=\"sk-label-container\"><div class=\"sk-label sk-toggleable\"><input class=\"sk-toggleable__control sk-hidden--visually\" id=\"sk-estimator-id-25\" type=\"checkbox\" ><label for=\"sk-estimator-id-25\" class=\"sk-toggleable__label sk-toggleable__label-arrow\">GridSearchCV</label><div class=\"sk-toggleable__content\"><pre>GridSearchCV(cv=5,\n",
       "             estimator=Pipeline(steps=[(&#x27;cv&#x27;,\n",
       "                                        CountVectorizer(stop_words=[&#x27;i&#x27;, &#x27;me&#x27;,\n",
       "                                                                    &#x27;my&#x27;,\n",
       "                                                                    &#x27;myself&#x27;,\n",
       "                                                                    &#x27;we&#x27;, &#x27;our&#x27;,\n",
       "                                                                    &#x27;ours&#x27;,\n",
       "                                                                    &#x27;ourselves&#x27;,\n",
       "                                                                    &#x27;you&#x27;,\n",
       "                                                                    &quot;you&#x27;re&quot;,\n",
       "                                                                    &quot;you&#x27;ve&quot;,\n",
       "                                                                    &quot;you&#x27;ll&quot;,\n",
       "                                                                    &quot;you&#x27;d&quot;,\n",
       "                                                                    &#x27;your&#x27;,\n",
       "                                                                    &#x27;yours&#x27;,\n",
       "                                                                    &#x27;yourself&#x27;,\n",
       "                                                                    &#x27;yourselves&#x27;,\n",
       "                                                                    &#x27;he&#x27;, &#x27;him&#x27;,\n",
       "                                                                    &#x27;his&#x27;,\n",
       "                                                                    &#x27;himself&#x27;,\n",
       "                                                                    &#x27;she&#x27;,\n",
       "                                                                    &quot;she&#x27;s&quot;,\n",
       "                                                                    &#x27;her&#x27;,\n",
       "                                                                    &#x27;hers&#x27;,\n",
       "                                                                    &#x27;herself&#x27;,\n",
       "                                                                    &#x27;it&#x27;,\n",
       "                                                                    &quot;it&#x27;s&quot;,\n",
       "                                                                    &#x27;its&#x27;,\n",
       "                                                                    &#x27;itself&#x27;, ...])),\n",
       "                                       (&#x27;kn&#x27;, KNeighborsClassifier())]),\n",
       "             param_grid={&#x27;cv__max_df&#x27;: [0.5, 1.0],\n",
       "                         &#x27;cv__max_features&#x27;: [100, 200],\n",
       "                         &#x27;cv__ngram_range&#x27;: [(1, 1), (1, 2)],\n",
       "                         &#x27;kn__n_jobs&#x27;: [-1], &#x27;kn__n_neighbors&#x27;: [5, 10]})</pre></div></div></div><div class=\"sk-parallel\"><div class=\"sk-parallel-item\"><div class=\"sk-item\"><div class=\"sk-label-container\"><div class=\"sk-label sk-toggleable\"><input class=\"sk-toggleable__control sk-hidden--visually\" id=\"sk-estimator-id-26\" type=\"checkbox\" ><label for=\"sk-estimator-id-26\" class=\"sk-toggleable__label sk-toggleable__label-arrow\">estimator: Pipeline</label><div class=\"sk-toggleable__content\"><pre>Pipeline(steps=[(&#x27;cv&#x27;,\n",
       "                 CountVectorizer(stop_words=[&#x27;i&#x27;, &#x27;me&#x27;, &#x27;my&#x27;, &#x27;myself&#x27;, &#x27;we&#x27;,\n",
       "                                             &#x27;our&#x27;, &#x27;ours&#x27;, &#x27;ourselves&#x27;, &#x27;you&#x27;,\n",
       "                                             &quot;you&#x27;re&quot;, &quot;you&#x27;ve&quot;, &quot;you&#x27;ll&quot;,\n",
       "                                             &quot;you&#x27;d&quot;, &#x27;your&#x27;, &#x27;yours&#x27;,\n",
       "                                             &#x27;yourself&#x27;, &#x27;yourselves&#x27;, &#x27;he&#x27;,\n",
       "                                             &#x27;him&#x27;, &#x27;his&#x27;, &#x27;himself&#x27;, &#x27;she&#x27;,\n",
       "                                             &quot;she&#x27;s&quot;, &#x27;her&#x27;, &#x27;hers&#x27;, &#x27;herself&#x27;,\n",
       "                                             &#x27;it&#x27;, &quot;it&#x27;s&quot;, &#x27;its&#x27;, &#x27;itself&#x27;, ...])),\n",
       "                (&#x27;kn&#x27;, KNeighborsClassifier())])</pre></div></div></div><div class=\"sk-serial\"><div class=\"sk-item\"><div class=\"sk-serial\"><div class=\"sk-item\"><div class=\"sk-estimator sk-toggleable\"><input class=\"sk-toggleable__control sk-hidden--visually\" id=\"sk-estimator-id-27\" type=\"checkbox\" ><label for=\"sk-estimator-id-27\" class=\"sk-toggleable__label sk-toggleable__label-arrow\">CountVectorizer</label><div class=\"sk-toggleable__content\"><pre>CountVectorizer(stop_words=[&#x27;i&#x27;, &#x27;me&#x27;, &#x27;my&#x27;, &#x27;myself&#x27;, &#x27;we&#x27;, &#x27;our&#x27;, &#x27;ours&#x27;,\n",
       "                            &#x27;ourselves&#x27;, &#x27;you&#x27;, &quot;you&#x27;re&quot;, &quot;you&#x27;ve&quot;, &quot;you&#x27;ll&quot;,\n",
       "                            &quot;you&#x27;d&quot;, &#x27;your&#x27;, &#x27;yours&#x27;, &#x27;yourself&#x27;, &#x27;yourselves&#x27;,\n",
       "                            &#x27;he&#x27;, &#x27;him&#x27;, &#x27;his&#x27;, &#x27;himself&#x27;, &#x27;she&#x27;, &quot;she&#x27;s&quot;,\n",
       "                            &#x27;her&#x27;, &#x27;hers&#x27;, &#x27;herself&#x27;, &#x27;it&#x27;, &quot;it&#x27;s&quot;, &#x27;its&#x27;,\n",
       "                            &#x27;itself&#x27;, ...])</pre></div></div></div><div class=\"sk-item\"><div class=\"sk-estimator sk-toggleable\"><input class=\"sk-toggleable__control sk-hidden--visually\" id=\"sk-estimator-id-28\" type=\"checkbox\" ><label for=\"sk-estimator-id-28\" class=\"sk-toggleable__label sk-toggleable__label-arrow\">KNeighborsClassifier</label><div class=\"sk-toggleable__content\"><pre>KNeighborsClassifier()</pre></div></div></div></div></div></div></div></div></div></div></div></div>"
      ],
      "text/plain": [
       "GridSearchCV(cv=5,\n",
       "             estimator=Pipeline(steps=[('cv',\n",
       "                                        CountVectorizer(stop_words=['i', 'me',\n",
       "                                                                    'my',\n",
       "                                                                    'myself',\n",
       "                                                                    'we', 'our',\n",
       "                                                                    'ours',\n",
       "                                                                    'ourselves',\n",
       "                                                                    'you',\n",
       "                                                                    \"you're\",\n",
       "                                                                    \"you've\",\n",
       "                                                                    \"you'll\",\n",
       "                                                                    \"you'd\",\n",
       "                                                                    'your',\n",
       "                                                                    'yours',\n",
       "                                                                    'yourself',\n",
       "                                                                    'yourselves',\n",
       "                                                                    'he', 'him',\n",
       "                                                                    'his',\n",
       "                                                                    'himself',\n",
       "                                                                    'she',\n",
       "                                                                    \"she's\",\n",
       "                                                                    'her',\n",
       "                                                                    'hers',\n",
       "                                                                    'herself',\n",
       "                                                                    'it',\n",
       "                                                                    \"it's\",\n",
       "                                                                    'its',\n",
       "                                                                    'itself', ...])),\n",
       "                                       ('kn', KNeighborsClassifier())]),\n",
       "             param_grid={'cv__max_df': [0.5, 1.0],\n",
       "                         'cv__max_features': [100, 200],\n",
       "                         'cv__ngram_range': [(1, 1), (1, 2)],\n",
       "                         'kn__n_jobs': [-1], 'kn__n_neighbors': [5, 10]})"
      ]
     },
     "execution_count": 48,
     "metadata": {},
     "output_type": "execute_result"
    }
   ],
   "source": [
    "kn_gs = GridSearchCV(kn_pipe,\n",
    "                  param_grid=kn_params,\n",
    "                  cv=5)\n",
    "\n",
    "kn_gs.fit(X_train,y_train)"
   ]
  },
  {
   "cell_type": "code",
   "execution_count": 49,
   "id": "2d877ea9-f845-4e19-a19e-b7791d22223b",
   "metadata": {},
   "outputs": [],
   "source": [
    "# Create Pipeline\n",
    "kn_pipe_best = Pipeline([\n",
    "    ('cv', CountVectorizer(max_df=kn_gs.best_params_['cv__max_df'],\n",
    "                           max_features=kn_gs.best_params_['cv__max_features'],\n",
    "                           ngram_range=kn_gs.best_params_['cv__ngram_range'],\n",
    "                           stop_words=manual_stopwords)),\n",
    "    ('kn', KNeighborsClassifier(n_jobs=kn_gs.best_params_['kn__n_jobs'],\n",
    "                                n_neighbors=kn_gs.best_params_['kn__n_neighbors']))\n",
    "])"
   ]
  },
  {
   "cell_type": "markdown",
   "id": "9335b204-8209-4403-9998-c2e29966bbfc",
   "metadata": {},
   "source": [
    "Fit the model on GridSearchCV best parameter"
   ]
  },
  {
   "cell_type": "code",
   "execution_count": 50,
   "id": "c6520faa-8315-4758-932f-7ab04f5f30f9",
   "metadata": {},
   "outputs": [
    {
     "name": "stdout",
     "output_type": "stream",
     "text": [
      "Train Score: 0.6696\n",
      "Test Score: 0.6172\n",
      "Classification Report:\n",
      "              precision    recall  f1-score   support\n",
      "\n",
      "    coursera       0.58      0.82      0.68       250\n",
      "         edx       0.69      0.42      0.52       249\n",
      "\n",
      "    accuracy                           0.62       499\n",
      "   macro avg       0.64      0.62      0.60       499\n",
      "weighted avg       0.64      0.62      0.60       499\n",
      "\n"
     ]
    }
   ],
   "source": [
    "fit_pipe(kn_pipe_best,X_train,X_test,y_train,y_test)"
   ]
  },
  {
   "cell_type": "code",
   "execution_count": 33,
   "id": "4dd0434a-b6a1-44e3-8c16-497ca8f67c94",
   "metadata": {},
   "outputs": [
    {
     "name": "stdout",
     "output_type": "stream",
     "text": [
      "Confusion Matrix:\n"
     ]
    },
    {
     "data": {
      "image/png": "[encoded data removed]",
      "text/plain": [
       "<Figure size 432x288 with 2 Axes>"
      ]
     },
     "metadata": {
      "needs_background": "light"
     },
     "output_type": "display_data"
    }
   ],
   "source": [
    "show_cm(kn_pipe_best,X_train,X_test,y_train,y_test)"
   ]
  },
  {
   "cell_type": "markdown",
   "id": "ba2133ea-c0aa-4d45-86cf-ffce0553e605",
   "metadata": {},
   "source": [
    "__Key Takeaway:__ <br>\n",
    "- kNN is not the best model to tackle this task, we will use other models"
   ]
  },
  {
   "cell_type": "markdown",
   "id": "ea150792-64f3-41ab-9ae5-89138b91ca59",
   "metadata": {},
   "source": [
    "----"
   ]
  },
  {
   "cell_type": "markdown",
   "id": "3ad1e99a-9538-44f1-9b6f-1183e75e6c5b",
   "metadata": {
    "tags": []
   },
   "source": [
    "### Decision Tree Classifier\n",
    "[Back to Table of Content](#Table-of-Content)"
   ]
  },
  {
   "cell_type": "code",
   "execution_count": 51,
   "id": "135bf890-686d-4ba7-b755-c9ca1370c2c1",
   "metadata": {},
   "outputs": [],
   "source": [
    "# CountVectorizer and k-Neareset Neighbour Classification\n",
    "# CountVectorizer works better in this case\n",
    "\n",
    "# Create Pipeline\n",
    "dt_pipe = Pipeline([\n",
    "    ('cv', CountVectorizer(stop_words=manual_stopwords)),\n",
    "    ('dt', DecisionTreeClassifier())\n",
    "])"
   ]
  },
  {
   "cell_type": "code",
   "execution_count": 52,
   "id": "a7c36dcc-1138-42c6-a34d-b5efc66c8e8d",
   "metadata": {},
   "outputs": [
    {
     "name": "stdout",
     "output_type": "stream",
     "text": [
      "Train Score: 0.9839\n",
      "Test Score: 0.6733\n",
      "Classification Report:\n",
      "              precision    recall  f1-score   support\n",
      "\n",
      "    coursera       0.68      0.65      0.67       250\n",
      "         edx       0.67      0.69      0.68       249\n",
      "\n",
      "    accuracy                           0.67       499\n",
      "   macro avg       0.67      0.67      0.67       499\n",
      "weighted avg       0.67      0.67      0.67       499\n",
      "\n"
     ]
    }
   ],
   "source": [
    "fit_pipe(dt_pipe,X_train,X_test,y_train,y_test)"
   ]
  },
  {
   "cell_type": "markdown",
   "id": "acd06ca2-995f-42d7-9c3e-9608350257ee",
   "metadata": {},
   "source": [
    "__*Optimization of Decision Tree Classification*__"
   ]
  },
  {
   "cell_type": "markdown",
   "id": "734b934d-6a68-414f-943d-27f294873a7a",
   "metadata": {},
   "source": [
    "RandomizedSearchCV to find the starting point"
   ]
  },
  {
   "cell_type": "code",
   "execution_count": 53,
   "id": "2b542d1a-7792-40da-b682-d06a703cd15b",
   "metadata": {},
   "outputs": [],
   "source": [
    "dt_params = {\n",
    "    'cv__max_df':[0.25,0.5,0.75,1.0],\n",
    "    'cv__max_features':[200,400,600,800,1000],\n",
    "    'cv__ngram_range':[(1,1),(1,2),(2,2),(3,3)],\n",
    "    'dt__max_depth':[5,10,15,20],\n",
    "    'dt__min_samples_split':[2,6,8,10],\n",
    "    'dt__min_samples_leaf':[2,6,8,10],\n",
    "    'dt__max_features':[5,10,15,20]\n",
    "}"
   ]
  },
  {
   "cell_type": "code",
   "execution_count": 54,
   "id": "8a264eb1-5db0-409e-a712-151df525b2ab",
   "metadata": {},
   "outputs": [
    {
     "data": {
      "text/html": [
       "<style>#sk-container-id-8 {color: black;background-color: white;}#sk-container-id-8 pre{padding: 0;}#sk-container-id-8 div.sk-toggleable {background-color: white;}#sk-container-id-8 label.sk-toggleable__label {cursor: pointer;display: block;width: 100%;margin-bottom: 0;padding: 0.3em;box-sizing: border-box;text-align: center;}#sk-container-id-8 label.sk-toggleable__label-arrow:before {content: \"▸\";float: left;margin-right: 0.25em;color: #696969;}#sk-container-id-8 label.sk-toggleable__label-arrow:hover:before {color: black;}#sk-container-id-8 div.sk-estimator:hover label.sk-toggleable__label-arrow:before {color: black;}#sk-container-id-8 div.sk-toggleable__content {max-height: 0;max-width: 0;overflow: hidden;text-align: left;background-color: #f0f8ff;}#sk-container-id-8 div.sk-toggleable__content pre {margin: 0.2em;color: black;border-radius: 0.25em;background-color: #f0f8ff;}#sk-container-id-8 input.sk-toggleable__control:checked~div.sk-toggleable__content {max-height: 200px;max-width: 100%;overflow: auto;}#sk-container-id-8 input.sk-toggleable__control:checked~label.sk-toggleable__label-arrow:before {content: \"▾\";}#sk-container-id-8 div.sk-estimator input.sk-toggleable__control:checked~label.sk-toggleable__label {background-color: #d4ebff;}#sk-container-id-8 div.sk-label input.sk-toggleable__control:checked~label.sk-toggleable__label {background-color: #d4ebff;}#sk-container-id-8 input.sk-hidden--visually {border: 0;clip: rect(1px 1px 1px 1px);clip: rect(1px, 1px, 1px, 1px);height: 1px;margin: -1px;overflow: hidden;padding: 0;position: absolute;width: 1px;}#sk-container-id-8 div.sk-estimator {font-family: monospace;background-color: #f0f8ff;border: 1px dotted black;border-radius: 0.25em;box-sizing: border-box;margin-bottom: 0.5em;}#sk-container-id-8 div.sk-estimator:hover {background-color: #d4ebff;}#sk-container-id-8 div.sk-parallel-item::after {content: \"\";width: 100%;border-bottom: 1px solid gray;flex-grow: 1;}#sk-container-id-8 div.sk-label:hover label.sk-toggleable__label {background-color: #d4ebff;}#sk-container-id-8 div.sk-serial::before {content: \"\";position: absolute;border-left: 1px solid gray;box-sizing: border-box;top: 0;bottom: 0;left: 50%;z-index: 0;}#sk-container-id-8 div.sk-serial {display: flex;flex-direction: column;align-items: center;background-color: white;padding-right: 0.2em;padding-left: 0.2em;position: relative;}#sk-container-id-8 div.sk-item {position: relative;z-index: 1;}#sk-container-id-8 div.sk-parallel {display: flex;align-items: stretch;justify-content: center;background-color: white;position: relative;}#sk-container-id-8 div.sk-item::before, #sk-container-id-8 div.sk-parallel-item::before {content: \"\";position: absolute;border-left: 1px solid gray;box-sizing: border-box;top: 0;bottom: 0;left: 50%;z-index: -1;}#sk-container-id-8 div.sk-parallel-item {display: flex;flex-direction: column;z-index: 1;position: relative;background-color: white;}#sk-container-id-8 div.sk-parallel-item:first-child::after {align-self: flex-end;width: 50%;}#sk-container-id-8 div.sk-parallel-item:last-child::after {align-self: flex-start;width: 50%;}#sk-container-id-8 div.sk-parallel-item:only-child::after {width: 0;}#sk-container-id-8 div.sk-dashed-wrapped {border: 1px dashed gray;margin: 0 0.4em 0.5em 0.4em;box-sizing: border-box;padding-bottom: 0.4em;background-color: white;}#sk-container-id-8 div.sk-label label {font-family: monospace;font-weight: bold;display: inline-block;line-height: 1.2em;}#sk-container-id-8 div.sk-label-container {text-align: center;}#sk-container-id-8 div.sk-container {/* jupyter's `normalize.less` sets `[hidden] { display: none; }` but bootstrap.min.css set `[hidden] { display: none !important; }` so we also need the `!important` here to be able to override the default hidden behavior on the sphinx rendered scikit-learn.org. See: https://github.com/scikit-learn/scikit-learn/issues/21755 */display: inline-block !important;position: relative;}#sk-container-id-8 div.sk-text-repr-fallback {display: none;}</style><div id=\"sk-container-id-8\" class=\"sk-top-container\"><div class=\"sk-text-repr-fallback\"><pre>RandomizedSearchCV(cv=5,\n",
       "                   estimator=Pipeline(steps=[(&#x27;cv&#x27;,\n",
       "                                              CountVectorizer(stop_words=[&#x27;i&#x27;,\n",
       "                                                                          &#x27;me&#x27;,\n",
       "                                                                          &#x27;my&#x27;,\n",
       "                                                                          &#x27;myself&#x27;,\n",
       "                                                                          &#x27;we&#x27;,\n",
       "                                                                          &#x27;our&#x27;,\n",
       "                                                                          &#x27;ours&#x27;,\n",
       "                                                                          &#x27;ourselves&#x27;,\n",
       "                                                                          &#x27;you&#x27;,\n",
       "                                                                          &quot;you&#x27;re&quot;,\n",
       "                                                                          &quot;you&#x27;ve&quot;,\n",
       "                                                                          &quot;you&#x27;ll&quot;,\n",
       "                                                                          &quot;you&#x27;d&quot;,\n",
       "                                                                          &#x27;your&#x27;,\n",
       "                                                                          &#x27;yours&#x27;,\n",
       "                                                                          &#x27;yourself&#x27;,\n",
       "                                                                          &#x27;yourselves&#x27;,\n",
       "                                                                          &#x27;he&#x27;,\n",
       "                                                                          &#x27;him&#x27;,\n",
       "                                                                          &#x27;his&#x27;,\n",
       "                                                                          &#x27;himself&#x27;,\n",
       "                                                                          &#x27;she&#x27;,\n",
       "                                                                          &quot;she&#x27;s&quot;,\n",
       "                                                                          &#x27;her&#x27;,\n",
       "                                                                          &#x27;hers&#x27;,\n",
       "                                                                          &#x27;herself&#x27;,\n",
       "                                                                          &#x27;it&#x27;,\n",
       "                                                                          &quot;it&#x27;s&quot;,\n",
       "                                                                          &#x27;its&#x27;,\n",
       "                                                                          &#x27;itself&#x27;, ...])),\n",
       "                                             (&#x27;dt&#x27;, DecisionTreeClassifier())]),\n",
       "                   param_distributions={&#x27;cv__max_df&#x27;: [0.25, 0.5, 0.75, 1.0],\n",
       "                                        &#x27;cv__max_features&#x27;: [200, 400, 600, 800,\n",
       "                                                             1000],\n",
       "                                        &#x27;cv__ngram_range&#x27;: [(1, 1), (1, 2),\n",
       "                                                            (2, 2), (3, 3)],\n",
       "                                        &#x27;dt__max_depth&#x27;: [5, 10, 15, 20],\n",
       "                                        &#x27;dt__max_features&#x27;: [5, 10, 15, 20],\n",
       "                                        &#x27;dt__min_samples_leaf&#x27;: [2, 6, 8, 10],\n",
       "                                        &#x27;dt__min_samples_split&#x27;: [2, 6, 8, 10]},\n",
       "                   random_state=42)</pre><b>In a Jupyter environment, please rerun this cell to show the HTML representation or trust the notebook. <br />On GitHub, the HTML representation is unable to render, please try loading this page with nbviewer.org.</b></div><div class=\"sk-container\" hidden><div class=\"sk-item sk-dashed-wrapped\"><div class=\"sk-label-container\"><div class=\"sk-label sk-toggleable\"><input class=\"sk-toggleable__control sk-hidden--visually\" id=\"sk-estimator-id-29\" type=\"checkbox\" ><label for=\"sk-estimator-id-29\" class=\"sk-toggleable__label sk-toggleable__label-arrow\">RandomizedSearchCV</label><div class=\"sk-toggleable__content\"><pre>RandomizedSearchCV(cv=5,\n",
       "                   estimator=Pipeline(steps=[(&#x27;cv&#x27;,\n",
       "                                              CountVectorizer(stop_words=[&#x27;i&#x27;,\n",
       "                                                                          &#x27;me&#x27;,\n",
       "                                                                          &#x27;my&#x27;,\n",
       "                                                                          &#x27;myself&#x27;,\n",
       "                                                                          &#x27;we&#x27;,\n",
       "                                                                          &#x27;our&#x27;,\n",
       "                                                                          &#x27;ours&#x27;,\n",
       "                                                                          &#x27;ourselves&#x27;,\n",
       "                                                                          &#x27;you&#x27;,\n",
       "                                                                          &quot;you&#x27;re&quot;,\n",
       "                                                                          &quot;you&#x27;ve&quot;,\n",
       "                                                                          &quot;you&#x27;ll&quot;,\n",
       "                                                                          &quot;you&#x27;d&quot;,\n",
       "                                                                          &#x27;your&#x27;,\n",
       "                                                                          &#x27;yours&#x27;,\n",
       "                                                                          &#x27;yourself&#x27;,\n",
       "                                                                          &#x27;yourselves&#x27;,\n",
       "                                                                          &#x27;he&#x27;,\n",
       "                                                                          &#x27;him&#x27;,\n",
       "                                                                          &#x27;his&#x27;,\n",
       "                                                                          &#x27;himself&#x27;,\n",
       "                                                                          &#x27;she&#x27;,\n",
       "                                                                          &quot;she&#x27;s&quot;,\n",
       "                                                                          &#x27;her&#x27;,\n",
       "                                                                          &#x27;hers&#x27;,\n",
       "                                                                          &#x27;herself&#x27;,\n",
       "                                                                          &#x27;it&#x27;,\n",
       "                                                                          &quot;it&#x27;s&quot;,\n",
       "                                                                          &#x27;its&#x27;,\n",
       "                                                                          &#x27;itself&#x27;, ...])),\n",
       "                                             (&#x27;dt&#x27;, DecisionTreeClassifier())]),\n",
       "                   param_distributions={&#x27;cv__max_df&#x27;: [0.25, 0.5, 0.75, 1.0],\n",
       "                                        &#x27;cv__max_features&#x27;: [200, 400, 600, 800,\n",
       "                                                             1000],\n",
       "                                        &#x27;cv__ngram_range&#x27;: [(1, 1), (1, 2),\n",
       "                                                            (2, 2), (3, 3)],\n",
       "                                        &#x27;dt__max_depth&#x27;: [5, 10, 15, 20],\n",
       "                                        &#x27;dt__max_features&#x27;: [5, 10, 15, 20],\n",
       "                                        &#x27;dt__min_samples_leaf&#x27;: [2, 6, 8, 10],\n",
       "                                        &#x27;dt__min_samples_split&#x27;: [2, 6, 8, 10]},\n",
       "                   random_state=42)</pre></div></div></div><div class=\"sk-parallel\"><div class=\"sk-parallel-item\"><div class=\"sk-item\"><div class=\"sk-label-container\"><div class=\"sk-label sk-toggleable\"><input class=\"sk-toggleable__control sk-hidden--visually\" id=\"sk-estimator-id-30\" type=\"checkbox\" ><label for=\"sk-estimator-id-30\" class=\"sk-toggleable__label sk-toggleable__label-arrow\">estimator: Pipeline</label><div class=\"sk-toggleable__content\"><pre>Pipeline(steps=[(&#x27;cv&#x27;,\n",
       "                 CountVectorizer(stop_words=[&#x27;i&#x27;, &#x27;me&#x27;, &#x27;my&#x27;, &#x27;myself&#x27;, &#x27;we&#x27;,\n",
       "                                             &#x27;our&#x27;, &#x27;ours&#x27;, &#x27;ourselves&#x27;, &#x27;you&#x27;,\n",
       "                                             &quot;you&#x27;re&quot;, &quot;you&#x27;ve&quot;, &quot;you&#x27;ll&quot;,\n",
       "                                             &quot;you&#x27;d&quot;, &#x27;your&#x27;, &#x27;yours&#x27;,\n",
       "                                             &#x27;yourself&#x27;, &#x27;yourselves&#x27;, &#x27;he&#x27;,\n",
       "                                             &#x27;him&#x27;, &#x27;his&#x27;, &#x27;himself&#x27;, &#x27;she&#x27;,\n",
       "                                             &quot;she&#x27;s&quot;, &#x27;her&#x27;, &#x27;hers&#x27;, &#x27;herself&#x27;,\n",
       "                                             &#x27;it&#x27;, &quot;it&#x27;s&quot;, &#x27;its&#x27;, &#x27;itself&#x27;, ...])),\n",
       "                (&#x27;dt&#x27;, DecisionTreeClassifier())])</pre></div></div></div><div class=\"sk-serial\"><div class=\"sk-item\"><div class=\"sk-serial\"><div class=\"sk-item\"><div class=\"sk-estimator sk-toggleable\"><input class=\"sk-toggleable__control sk-hidden--visually\" id=\"sk-estimator-id-31\" type=\"checkbox\" ><label for=\"sk-estimator-id-31\" class=\"sk-toggleable__label sk-toggleable__label-arrow\">CountVectorizer</label><div class=\"sk-toggleable__content\"><pre>CountVectorizer(stop_words=[&#x27;i&#x27;, &#x27;me&#x27;, &#x27;my&#x27;, &#x27;myself&#x27;, &#x27;we&#x27;, &#x27;our&#x27;, &#x27;ours&#x27;,\n",
       "                            &#x27;ourselves&#x27;, &#x27;you&#x27;, &quot;you&#x27;re&quot;, &quot;you&#x27;ve&quot;, &quot;you&#x27;ll&quot;,\n",
       "                            &quot;you&#x27;d&quot;, &#x27;your&#x27;, &#x27;yours&#x27;, &#x27;yourself&#x27;, &#x27;yourselves&#x27;,\n",
       "                            &#x27;he&#x27;, &#x27;him&#x27;, &#x27;his&#x27;, &#x27;himself&#x27;, &#x27;she&#x27;, &quot;she&#x27;s&quot;,\n",
       "                            &#x27;her&#x27;, &#x27;hers&#x27;, &#x27;herself&#x27;, &#x27;it&#x27;, &quot;it&#x27;s&quot;, &#x27;its&#x27;,\n",
       "                            &#x27;itself&#x27;, ...])</pre></div></div></div><div class=\"sk-item\"><div class=\"sk-estimator sk-toggleable\"><input class=\"sk-toggleable__control sk-hidden--visually\" id=\"sk-estimator-id-32\" type=\"checkbox\" ><label for=\"sk-estimator-id-32\" class=\"sk-toggleable__label sk-toggleable__label-arrow\">DecisionTreeClassifier</label><div class=\"sk-toggleable__content\"><pre>DecisionTreeClassifier()</pre></div></div></div></div></div></div></div></div></div></div></div></div>"
      ],
      "text/plain": [
       "RandomizedSearchCV(cv=5,\n",
       "                   estimator=Pipeline(steps=[('cv',\n",
       "                                              CountVectorizer(stop_words=['i',\n",
       "                                                                          'me',\n",
       "                                                                          'my',\n",
       "                                                                          'myself',\n",
       "                                                                          'we',\n",
       "                                                                          'our',\n",
       "                                                                          'ours',\n",
       "                                                                          'ourselves',\n",
       "                                                                          'you',\n",
       "                                                                          \"you're\",\n",
       "                                                                          \"you've\",\n",
       "                                                                          \"you'll\",\n",
       "                                                                          \"you'd\",\n",
       "                                                                          'your',\n",
       "                                                                          'yours',\n",
       "                                                                          'yourself',\n",
       "                                                                          'yourselves',\n",
       "                                                                          'he',\n",
       "                                                                          'him',\n",
       "                                                                          'his',\n",
       "                                                                          'himself',\n",
       "                                                                          'she',\n",
       "                                                                          \"she's\",\n",
       "                                                                          'her',\n",
       "                                                                          'hers',\n",
       "                                                                          'herself',\n",
       "                                                                          'it',\n",
       "                                                                          \"it's\",\n",
       "                                                                          'its',\n",
       "                                                                          'itself', ...])),\n",
       "                                             ('dt', DecisionTreeClassifier())]),\n",
       "                   param_distributions={'cv__max_df': [0.25, 0.5, 0.75, 1.0],\n",
       "                                        'cv__max_features': [200, 400, 600, 800,\n",
       "                                                             1000],\n",
       "                                        'cv__ngram_range': [(1, 1), (1, 2),\n",
       "                                                            (2, 2), (3, 3)],\n",
       "                                        'dt__max_depth': [5, 10, 15, 20],\n",
       "                                        'dt__max_features': [5, 10, 15, 20],\n",
       "                                        'dt__min_samples_leaf': [2, 6, 8, 10],\n",
       "                                        'dt__min_samples_split': [2, 6, 8, 10]},\n",
       "                   random_state=42)"
      ]
     },
     "execution_count": 54,
     "metadata": {},
     "output_type": "execute_result"
    }
   ],
   "source": [
    "gr = RandomizedSearchCV(dt_pipe,\n",
    "                        param_distributions=dt_params,\n",
    "                        cv=5,\n",
    "                        random_state=42)\n",
    "\n",
    "gr.fit(X_train,y_train)"
   ]
  },
  {
   "cell_type": "code",
   "execution_count": 55,
   "id": "92af72bc-6532-43a2-8994-aed1e51c87f0",
   "metadata": {},
   "outputs": [
    {
     "name": "stdout",
     "output_type": "stream",
     "text": [
      "Best Parameters:\n",
      "{'dt__min_samples_split': 10, 'dt__min_samples_leaf': 2, 'dt__max_features': 20, 'dt__max_depth': 15, 'cv__ngram_range': (1, 2), 'cv__max_features': 200, 'cv__max_df': 1.0}\n",
      "Best Scores:\n",
      "0.6154\n"
     ]
    }
   ],
   "source": [
    "print_grid_results(gr)"
   ]
  },
  {
   "cell_type": "markdown",
   "id": "fab2cbbf-cfdc-4853-ab2d-44e494513d2b",
   "metadata": {},
   "source": [
    "GridSearchCV to find the optimum hyperparameters"
   ]
  },
  {
   "cell_type": "code",
   "execution_count": 97,
   "id": "988628f1-0e23-49d0-8ee5-99a3cc3595af",
   "metadata": {},
   "outputs": [],
   "source": [
    "dt_params = {\n",
    "    'cv__max_df':[0.5],\n",
    "    'cv__max_features':[200,300],\n",
    "    'cv__ngram_range':[(1,1),(1,2)],\n",
    "    'dt__min_samples_split':[4,8],\n",
    "    'dt__min_samples_leaf':[4,8],\n",
    "    'dt__max_depth':[60,80]\n",
    "}"
   ]
  },
  {
   "cell_type": "code",
   "execution_count": 98,
   "id": "382b8125-4b71-4280-830b-80422dfa388c",
   "metadata": {},
   "outputs": [
    {
     "data": {
      "text/html": [
       "<style>#sk-container-id-16 {color: black;background-color: white;}#sk-container-id-16 pre{padding: 0;}#sk-container-id-16 div.sk-toggleable {background-color: white;}#sk-container-id-16 label.sk-toggleable__label {cursor: pointer;display: block;width: 100%;margin-bottom: 0;padding: 0.3em;box-sizing: border-box;text-align: center;}#sk-container-id-16 label.sk-toggleable__label-arrow:before {content: \"▸\";float: left;margin-right: 0.25em;color: #696969;}#sk-container-id-16 label.sk-toggleable__label-arrow:hover:before {color: black;}#sk-container-id-16 div.sk-estimator:hover label.sk-toggleable__label-arrow:before {color: black;}#sk-container-id-16 div.sk-toggleable__content {max-height: 0;max-width: 0;overflow: hidden;text-align: left;background-color: #f0f8ff;}#sk-container-id-16 div.sk-toggleable__content pre {margin: 0.2em;color: black;border-radius: 0.25em;background-color: #f0f8ff;}#sk-container-id-16 input.sk-toggleable__control:checked~div.sk-toggleable__content {max-height: 200px;max-width: 100%;overflow: auto;}#sk-container-id-16 input.sk-toggleable__control:checked~label.sk-toggleable__label-arrow:before {content: \"▾\";}#sk-container-id-16 div.sk-estimator input.sk-toggleable__control:checked~label.sk-toggleable__label {background-color: #d4ebff;}#sk-container-id-16 div.sk-label input.sk-toggleable__control:checked~label.sk-toggleable__label {background-color: #d4ebff;}#sk-container-id-16 input.sk-hidden--visually {border: 0;clip: rect(1px 1px 1px 1px);clip: rect(1px, 1px, 1px, 1px);height: 1px;margin: -1px;overflow: hidden;padding: 0;position: absolute;width: 1px;}#sk-container-id-16 div.sk-estimator {font-family: monospace;background-color: #f0f8ff;border: 1px dotted black;border-radius: 0.25em;box-sizing: border-box;margin-bottom: 0.5em;}#sk-container-id-16 div.sk-estimator:hover {background-color: #d4ebff;}#sk-container-id-16 div.sk-parallel-item::after {content: \"\";width: 100%;border-bottom: 1px solid gray;flex-grow: 1;}#sk-container-id-16 div.sk-label:hover label.sk-toggleable__label {background-color: #d4ebff;}#sk-container-id-16 div.sk-serial::before {content: \"\";position: absolute;border-left: 1px solid gray;box-sizing: border-box;top: 0;bottom: 0;left: 50%;z-index: 0;}#sk-container-id-16 div.sk-serial {display: flex;flex-direction: column;align-items: center;background-color: white;padding-right: 0.2em;padding-left: 0.2em;position: relative;}#sk-container-id-16 div.sk-item {position: relative;z-index: 1;}#sk-container-id-16 div.sk-parallel {display: flex;align-items: stretch;justify-content: center;background-color: white;position: relative;}#sk-container-id-16 div.sk-item::before, #sk-container-id-16 div.sk-parallel-item::before {content: \"\";position: absolute;border-left: 1px solid gray;box-sizing: border-box;top: 0;bottom: 0;left: 50%;z-index: -1;}#sk-container-id-16 div.sk-parallel-item {display: flex;flex-direction: column;z-index: 1;position: relative;background-color: white;}#sk-container-id-16 div.sk-parallel-item:first-child::after {align-self: flex-end;width: 50%;}#sk-container-id-16 div.sk-parallel-item:last-child::after {align-self: flex-start;width: 50%;}#sk-container-id-16 div.sk-parallel-item:only-child::after {width: 0;}#sk-container-id-16 div.sk-dashed-wrapped {border: 1px dashed gray;margin: 0 0.4em 0.5em 0.4em;box-sizing: border-box;padding-bottom: 0.4em;background-color: white;}#sk-container-id-16 div.sk-label label {font-family: monospace;font-weight: bold;display: inline-block;line-height: 1.2em;}#sk-container-id-16 div.sk-label-container {text-align: center;}#sk-container-id-16 div.sk-container {/* jupyter's `normalize.less` sets `[hidden] { display: none; }` but bootstrap.min.css set `[hidden] { display: none !important; }` so we also need the `!important` here to be able to override the default hidden behavior on the sphinx rendered scikit-learn.org. See: https://github.com/scikit-learn/scikit-learn/issues/21755 */display: inline-block !important;position: relative;}#sk-container-id-16 div.sk-text-repr-fallback {display: none;}</style><div id=\"sk-container-id-16\" class=\"sk-top-container\"><div class=\"sk-text-repr-fallback\"><pre>GridSearchCV(cv=5,\n",
       "             estimator=Pipeline(steps=[(&#x27;cv&#x27;,\n",
       "                                        CountVectorizer(stop_words=[&#x27;i&#x27;, &#x27;me&#x27;,\n",
       "                                                                    &#x27;my&#x27;,\n",
       "                                                                    &#x27;myself&#x27;,\n",
       "                                                                    &#x27;we&#x27;, &#x27;our&#x27;,\n",
       "                                                                    &#x27;ours&#x27;,\n",
       "                                                                    &#x27;ourselves&#x27;,\n",
       "                                                                    &#x27;you&#x27;,\n",
       "                                                                    &quot;you&#x27;re&quot;,\n",
       "                                                                    &quot;you&#x27;ve&quot;,\n",
       "                                                                    &quot;you&#x27;ll&quot;,\n",
       "                                                                    &quot;you&#x27;d&quot;,\n",
       "                                                                    &#x27;your&#x27;,\n",
       "                                                                    &#x27;yours&#x27;,\n",
       "                                                                    &#x27;yourself&#x27;,\n",
       "                                                                    &#x27;yourselves&#x27;,\n",
       "                                                                    &#x27;he&#x27;, &#x27;him&#x27;,\n",
       "                                                                    &#x27;his&#x27;,\n",
       "                                                                    &#x27;himself&#x27;,\n",
       "                                                                    &#x27;she&#x27;,\n",
       "                                                                    &quot;she&#x27;s&quot;,\n",
       "                                                                    &#x27;her&#x27;,\n",
       "                                                                    &#x27;hers&#x27;,\n",
       "                                                                    &#x27;herself&#x27;,\n",
       "                                                                    &#x27;it&#x27;,\n",
       "                                                                    &quot;it&#x27;s&quot;,\n",
       "                                                                    &#x27;its&#x27;,\n",
       "                                                                    &#x27;itself&#x27;, ...])),\n",
       "                                       (&#x27;dt&#x27;, DecisionTreeClassifier())]),\n",
       "             param_grid={&#x27;cv__max_df&#x27;: [0.5], &#x27;cv__max_features&#x27;: [200, 300],\n",
       "                         &#x27;cv__ngram_range&#x27;: [(1, 1), (1, 2)],\n",
       "                         &#x27;dt__max_depth&#x27;: [60, 80],\n",
       "                         &#x27;dt__min_samples_leaf&#x27;: [4, 8],\n",
       "                         &#x27;dt__min_samples_split&#x27;: [4, 8]})</pre><b>In a Jupyter environment, please rerun this cell to show the HTML representation or trust the notebook. <br />On GitHub, the HTML representation is unable to render, please try loading this page with nbviewer.org.</b></div><div class=\"sk-container\" hidden><div class=\"sk-item sk-dashed-wrapped\"><div class=\"sk-label-container\"><div class=\"sk-label sk-toggleable\"><input class=\"sk-toggleable__control sk-hidden--visually\" id=\"sk-estimator-id-61\" type=\"checkbox\" ><label for=\"sk-estimator-id-61\" class=\"sk-toggleable__label sk-toggleable__label-arrow\">GridSearchCV</label><div class=\"sk-toggleable__content\"><pre>GridSearchCV(cv=5,\n",
       "             estimator=Pipeline(steps=[(&#x27;cv&#x27;,\n",
       "                                        CountVectorizer(stop_words=[&#x27;i&#x27;, &#x27;me&#x27;,\n",
       "                                                                    &#x27;my&#x27;,\n",
       "                                                                    &#x27;myself&#x27;,\n",
       "                                                                    &#x27;we&#x27;, &#x27;our&#x27;,\n",
       "                                                                    &#x27;ours&#x27;,\n",
       "                                                                    &#x27;ourselves&#x27;,\n",
       "                                                                    &#x27;you&#x27;,\n",
       "                                                                    &quot;you&#x27;re&quot;,\n",
       "                                                                    &quot;you&#x27;ve&quot;,\n",
       "                                                                    &quot;you&#x27;ll&quot;,\n",
       "                                                                    &quot;you&#x27;d&quot;,\n",
       "                                                                    &#x27;your&#x27;,\n",
       "                                                                    &#x27;yours&#x27;,\n",
       "                                                                    &#x27;yourself&#x27;,\n",
       "                                                                    &#x27;yourselves&#x27;,\n",
       "                                                                    &#x27;he&#x27;, &#x27;him&#x27;,\n",
       "                                                                    &#x27;his&#x27;,\n",
       "                                                                    &#x27;himself&#x27;,\n",
       "                                                                    &#x27;she&#x27;,\n",
       "                                                                    &quot;she&#x27;s&quot;,\n",
       "                                                                    &#x27;her&#x27;,\n",
       "                                                                    &#x27;hers&#x27;,\n",
       "                                                                    &#x27;herself&#x27;,\n",
       "                                                                    &#x27;it&#x27;,\n",
       "                                                                    &quot;it&#x27;s&quot;,\n",
       "                                                                    &#x27;its&#x27;,\n",
       "                                                                    &#x27;itself&#x27;, ...])),\n",
       "                                       (&#x27;dt&#x27;, DecisionTreeClassifier())]),\n",
       "             param_grid={&#x27;cv__max_df&#x27;: [0.5], &#x27;cv__max_features&#x27;: [200, 300],\n",
       "                         &#x27;cv__ngram_range&#x27;: [(1, 1), (1, 2)],\n",
       "                         &#x27;dt__max_depth&#x27;: [60, 80],\n",
       "                         &#x27;dt__min_samples_leaf&#x27;: [4, 8],\n",
       "                         &#x27;dt__min_samples_split&#x27;: [4, 8]})</pre></div></div></div><div class=\"sk-parallel\"><div class=\"sk-parallel-item\"><div class=\"sk-item\"><div class=\"sk-label-container\"><div class=\"sk-label sk-toggleable\"><input class=\"sk-toggleable__control sk-hidden--visually\" id=\"sk-estimator-id-62\" type=\"checkbox\" ><label for=\"sk-estimator-id-62\" class=\"sk-toggleable__label sk-toggleable__label-arrow\">estimator: Pipeline</label><div class=\"sk-toggleable__content\"><pre>Pipeline(steps=[(&#x27;cv&#x27;,\n",
       "                 CountVectorizer(stop_words=[&#x27;i&#x27;, &#x27;me&#x27;, &#x27;my&#x27;, &#x27;myself&#x27;, &#x27;we&#x27;,\n",
       "                                             &#x27;our&#x27;, &#x27;ours&#x27;, &#x27;ourselves&#x27;, &#x27;you&#x27;,\n",
       "                                             &quot;you&#x27;re&quot;, &quot;you&#x27;ve&quot;, &quot;you&#x27;ll&quot;,\n",
       "                                             &quot;you&#x27;d&quot;, &#x27;your&#x27;, &#x27;yours&#x27;,\n",
       "                                             &#x27;yourself&#x27;, &#x27;yourselves&#x27;, &#x27;he&#x27;,\n",
       "                                             &#x27;him&#x27;, &#x27;his&#x27;, &#x27;himself&#x27;, &#x27;she&#x27;,\n",
       "                                             &quot;she&#x27;s&quot;, &#x27;her&#x27;, &#x27;hers&#x27;, &#x27;herself&#x27;,\n",
       "                                             &#x27;it&#x27;, &quot;it&#x27;s&quot;, &#x27;its&#x27;, &#x27;itself&#x27;, ...])),\n",
       "                (&#x27;dt&#x27;, DecisionTreeClassifier())])</pre></div></div></div><div class=\"sk-serial\"><div class=\"sk-item\"><div class=\"sk-serial\"><div class=\"sk-item\"><div class=\"sk-estimator sk-toggleable\"><input class=\"sk-toggleable__control sk-hidden--visually\" id=\"sk-estimator-id-63\" type=\"checkbox\" ><label for=\"sk-estimator-id-63\" class=\"sk-toggleable__label sk-toggleable__label-arrow\">CountVectorizer</label><div class=\"sk-toggleable__content\"><pre>CountVectorizer(stop_words=[&#x27;i&#x27;, &#x27;me&#x27;, &#x27;my&#x27;, &#x27;myself&#x27;, &#x27;we&#x27;, &#x27;our&#x27;, &#x27;ours&#x27;,\n",
       "                            &#x27;ourselves&#x27;, &#x27;you&#x27;, &quot;you&#x27;re&quot;, &quot;you&#x27;ve&quot;, &quot;you&#x27;ll&quot;,\n",
       "                            &quot;you&#x27;d&quot;, &#x27;your&#x27;, &#x27;yours&#x27;, &#x27;yourself&#x27;, &#x27;yourselves&#x27;,\n",
       "                            &#x27;he&#x27;, &#x27;him&#x27;, &#x27;his&#x27;, &#x27;himself&#x27;, &#x27;she&#x27;, &quot;she&#x27;s&quot;,\n",
       "                            &#x27;her&#x27;, &#x27;hers&#x27;, &#x27;herself&#x27;, &#x27;it&#x27;, &quot;it&#x27;s&quot;, &#x27;its&#x27;,\n",
       "                            &#x27;itself&#x27;, ...])</pre></div></div></div><div class=\"sk-item\"><div class=\"sk-estimator sk-toggleable\"><input class=\"sk-toggleable__control sk-hidden--visually\" id=\"sk-estimator-id-64\" type=\"checkbox\" ><label for=\"sk-estimator-id-64\" class=\"sk-toggleable__label sk-toggleable__label-arrow\">DecisionTreeClassifier</label><div class=\"sk-toggleable__content\"><pre>DecisionTreeClassifier()</pre></div></div></div></div></div></div></div></div></div></div></div></div>"
      ],
      "text/plain": [
       "GridSearchCV(cv=5,\n",
       "             estimator=Pipeline(steps=[('cv',\n",
       "                                        CountVectorizer(stop_words=['i', 'me',\n",
       "                                                                    'my',\n",
       "                                                                    'myself',\n",
       "                                                                    'we', 'our',\n",
       "                                                                    'ours',\n",
       "                                                                    'ourselves',\n",
       "                                                                    'you',\n",
       "                                                                    \"you're\",\n",
       "                                                                    \"you've\",\n",
       "                                                                    \"you'll\",\n",
       "                                                                    \"you'd\",\n",
       "                                                                    'your',\n",
       "                                                                    'yours',\n",
       "                                                                    'yourself',\n",
       "                                                                    'yourselves',\n",
       "                                                                    'he', 'him',\n",
       "                                                                    'his',\n",
       "                                                                    'himself',\n",
       "                                                                    'she',\n",
       "                                                                    \"she's\",\n",
       "                                                                    'her',\n",
       "                                                                    'hers',\n",
       "                                                                    'herself',\n",
       "                                                                    'it',\n",
       "                                                                    \"it's\",\n",
       "                                                                    'its',\n",
       "                                                                    'itself', ...])),\n",
       "                                       ('dt', DecisionTreeClassifier())]),\n",
       "             param_grid={'cv__max_df': [0.5], 'cv__max_features': [200, 300],\n",
       "                         'cv__ngram_range': [(1, 1), (1, 2)],\n",
       "                         'dt__max_depth': [60, 80],\n",
       "                         'dt__min_samples_leaf': [4, 8],\n",
       "                         'dt__min_samples_split': [4, 8]})"
      ]
     },
     "execution_count": 98,
     "metadata": {},
     "output_type": "execute_result"
    }
   ],
   "source": [
    "dt_gs = GridSearchCV(dt_pipe,\n",
    "                  param_grid=dt_params,\n",
    "                  cv=5)\n",
    "\n",
    "dt_gs.fit(X_train,y_train)"
   ]
  },
  {
   "cell_type": "code",
   "execution_count": 100,
   "id": "7b775228-8e63-4f06-bca8-1c11ac060ca0",
   "metadata": {},
   "outputs": [],
   "source": [
    "# Create Pipeline\n",
    "dt_pipe_best = Pipeline([\n",
    "    \n",
    "    ('cv', CountVectorizer(max_df=dt_gs.best_params_['cv__max_df'],\n",
    "                           max_features=dt_gs.best_params_['cv__max_features'],\n",
    "                           ngram_range=dt_gs.best_params_['cv__ngram_range'],\n",
    "                           stop_words=manual_stopwords)),\n",
    "    \n",
    "    ('dt', DecisionTreeClassifier(min_samples_split=dt_gs.best_params_\\\n",
    "                                  ['dt__min_samples_split'],\n",
    "                                  min_samples_leaf=dt_gs.best_params_\\\n",
    "                                  ['dt__min_samples_leaf'],\n",
    "                                  max_depth=dt_gs.best_params_['dt__max_depth']))\n",
    "])"
   ]
  },
  {
   "cell_type": "markdown",
   "id": "9721670e-a72c-497d-9ea3-0b14d5289068",
   "metadata": {},
   "source": [
    "Fit the model on GridSearchCV best parameter"
   ]
  },
  {
   "cell_type": "code",
   "execution_count": 101,
   "id": "b5dee6a7-6686-44e2-9556-013319cdd82c",
   "metadata": {},
   "outputs": [
    {
     "name": "stdout",
     "output_type": "stream",
     "text": [
      "Train Score: 0.7512\n",
      "Test Score: 0.6473\n",
      "Classification Report:\n",
      "              precision    recall  f1-score   support\n",
      "\n",
      "    coursera       0.67      0.57      0.62       250\n",
      "         edx       0.63      0.72      0.67       249\n",
      "\n",
      "    accuracy                           0.65       499\n",
      "   macro avg       0.65      0.65      0.65       499\n",
      "weighted avg       0.65      0.65      0.65       499\n",
      "\n"
     ]
    }
   ],
   "source": [
    "fit_pipe(dt_pipe_best,X_train,X_test,y_train,y_test)"
   ]
  },
  {
   "cell_type": "code",
   "execution_count": 102,
   "id": "5f123d23-b7ab-42c0-8823-0a77b97f6302",
   "metadata": {},
   "outputs": [
    {
     "name": "stdout",
     "output_type": "stream",
     "text": [
      "Confusion Matrix:\n"
     ]
    },
    {
     "data": {
      "image/png": "[encoded data removed]",
      "text/plain": [
       "<Figure size 432x288 with 2 Axes>"
      ]
     },
     "metadata": {
      "needs_background": "light"
     },
     "output_type": "display_data"
    }
   ],
   "source": [
    "show_cm(dt_pipe_best,X_train,X_test,y_train,y_test)"
   ]
  },
  {
   "cell_type": "markdown",
   "id": "4b8eeaa4-7a2a-4809-bfb1-355a76686c91",
   "metadata": {},
   "source": [
    "__Key Takeaway:__ <br>\n",
    "- Default hyperparameters of Decision Tree gives us an accuracy of 0.67\n",
    "- Optimized hyperparameters gives us an accuracy of 0.65\n",
    "- However, the recall for `edx` is significantly higher, while on the other hand the recall for `coursera` is significantly lower\n",
    "- This is not the best model to tackle this task when the false positive and false negative are equally important"
   ]
  },
  {
   "cell_type": "markdown",
   "id": "84022ee0-aa74-4918-bd58-623cb14f9d68",
   "metadata": {},
   "source": [
    "----"
   ]
  },
  {
   "cell_type": "markdown",
   "id": "affacfff-9ce6-400e-978a-a079c8b652ab",
   "metadata": {
    "tags": []
   },
   "source": [
    "#### Bagged Decision Tree Classifier\n",
    "[Back to Table of Content](#Table-of-Content)"
   ]
  },
  {
   "cell_type": "code",
   "execution_count": 103,
   "id": "be97399c-d9a9-4bb4-810e-9ad78903ed36",
   "metadata": {},
   "outputs": [],
   "source": [
    "# Tf-Idf Vectorizer and k-Neareset Neighbour Classification\n",
    "# For this case Tf-Idf Vectorizer works better than Count Vectorizer\n",
    "\n",
    "# Create Pipeline\n",
    "bg_pipe = Pipeline([\n",
    "    ('tf', TfidfVectorizer(stop_words=manual_stopwords)),\n",
    "    ('bg', BaggingClassifier())\n",
    "])"
   ]
  },
  {
   "cell_type": "code",
   "execution_count": 104,
   "id": "6d7361ba-0930-4e62-be4c-22dacefc82bc",
   "metadata": {},
   "outputs": [
    {
     "name": "stdout",
     "output_type": "stream",
     "text": [
      "Train Score: 0.9645\n",
      "Test Score: 0.6533\n",
      "Classification Report:\n",
      "              precision    recall  f1-score   support\n",
      "\n",
      "    coursera       0.67      0.62      0.64       250\n",
      "         edx       0.64      0.69      0.67       249\n",
      "\n",
      "    accuracy                           0.65       499\n",
      "   macro avg       0.65      0.65      0.65       499\n",
      "weighted avg       0.65      0.65      0.65       499\n",
      "\n"
     ]
    }
   ],
   "source": [
    "fit_pipe(bg_pipe,X_train,X_test,y_train,y_test)"
   ]
  },
  {
   "cell_type": "markdown",
   "id": "d6ecd55f-b96a-4ca3-9092-e5842113ebe5",
   "metadata": {},
   "source": [
    "__*Optimization of Bagged Decision Tree Classification*__"
   ]
  },
  {
   "cell_type": "markdown",
   "id": "d4255813-a965-4700-bad6-c059e8ada4da",
   "metadata": {},
   "source": [
    "RandomizedSearchCV to find the starting point"
   ]
  },
  {
   "cell_type": "code",
   "execution_count": 105,
   "id": "22e7c49d-d4b1-4b5f-9f0d-76463b69775e",
   "metadata": {},
   "outputs": [],
   "source": [
    "bg_params = {\n",
    "    'tf__max_df':[0.25,0.5,0.75,1.0],\n",
    "    'tf__max_features':[200,400,600,800,1000],\n",
    "    'tf__ngram_range':[(1,1),(1,2),(2,2),(3,3)],\n",
    "    'bg__n_estimators':[10,20,30],\n",
    "    'bg__max_samples':[5,10,15,20],\n",
    "    'bg__max_features':[5,10,15,20]\n",
    "}"
   ]
  },
  {
   "cell_type": "code",
   "execution_count": 106,
   "id": "2161c3a6-d81e-4c28-be93-69328844a506",
   "metadata": {},
   "outputs": [
    {
     "data": {
      "text/html": [
       "<style>#sk-container-id-17 {color: black;background-color: white;}#sk-container-id-17 pre{padding: 0;}#sk-container-id-17 div.sk-toggleable {background-color: white;}#sk-container-id-17 label.sk-toggleable__label {cursor: pointer;display: block;width: 100%;margin-bottom: 0;padding: 0.3em;box-sizing: border-box;text-align: center;}#sk-container-id-17 label.sk-toggleable__label-arrow:before {content: \"▸\";float: left;margin-right: 0.25em;color: #696969;}#sk-container-id-17 label.sk-toggleable__label-arrow:hover:before {color: black;}#sk-container-id-17 div.sk-estimator:hover label.sk-toggleable__label-arrow:before {color: black;}#sk-container-id-17 div.sk-toggleable__content {max-height: 0;max-width: 0;overflow: hidden;text-align: left;background-color: #f0f8ff;}#sk-container-id-17 div.sk-toggleable__content pre {margin: 0.2em;color: black;border-radius: 0.25em;background-color: #f0f8ff;}#sk-container-id-17 input.sk-toggleable__control:checked~div.sk-toggleable__content {max-height: 200px;max-width: 100%;overflow: auto;}#sk-container-id-17 input.sk-toggleable__control:checked~label.sk-toggleable__label-arrow:before {content: \"▾\";}#sk-container-id-17 div.sk-estimator input.sk-toggleable__control:checked~label.sk-toggleable__label {background-color: #d4ebff;}#sk-container-id-17 div.sk-label input.sk-toggleable__control:checked~label.sk-toggleable__label {background-color: #d4ebff;}#sk-container-id-17 input.sk-hidden--visually {border: 0;clip: rect(1px 1px 1px 1px);clip: rect(1px, 1px, 1px, 1px);height: 1px;margin: -1px;overflow: hidden;padding: 0;position: absolute;width: 1px;}#sk-container-id-17 div.sk-estimator {font-family: monospace;background-color: #f0f8ff;border: 1px dotted black;border-radius: 0.25em;box-sizing: border-box;margin-bottom: 0.5em;}#sk-container-id-17 div.sk-estimator:hover {background-color: #d4ebff;}#sk-container-id-17 div.sk-parallel-item::after {content: \"\";width: 100%;border-bottom: 1px solid gray;flex-grow: 1;}#sk-container-id-17 div.sk-label:hover label.sk-toggleable__label {background-color: #d4ebff;}#sk-container-id-17 div.sk-serial::before {content: \"\";position: absolute;border-left: 1px solid gray;box-sizing: border-box;top: 0;bottom: 0;left: 50%;z-index: 0;}#sk-container-id-17 div.sk-serial {display: flex;flex-direction: column;align-items: center;background-color: white;padding-right: 0.2em;padding-left: 0.2em;position: relative;}#sk-container-id-17 div.sk-item {position: relative;z-index: 1;}#sk-container-id-17 div.sk-parallel {display: flex;align-items: stretch;justify-content: center;background-color: white;position: relative;}#sk-container-id-17 div.sk-item::before, #sk-container-id-17 div.sk-parallel-item::before {content: \"\";position: absolute;border-left: 1px solid gray;box-sizing: border-box;top: 0;bottom: 0;left: 50%;z-index: -1;}#sk-container-id-17 div.sk-parallel-item {display: flex;flex-direction: column;z-index: 1;position: relative;background-color: white;}#sk-container-id-17 div.sk-parallel-item:first-child::after {align-self: flex-end;width: 50%;}#sk-container-id-17 div.sk-parallel-item:last-child::after {align-self: flex-start;width: 50%;}#sk-container-id-17 div.sk-parallel-item:only-child::after {width: 0;}#sk-container-id-17 div.sk-dashed-wrapped {border: 1px dashed gray;margin: 0 0.4em 0.5em 0.4em;box-sizing: border-box;padding-bottom: 0.4em;background-color: white;}#sk-container-id-17 div.sk-label label {font-family: monospace;font-weight: bold;display: inline-block;line-height: 1.2em;}#sk-container-id-17 div.sk-label-container {text-align: center;}#sk-container-id-17 div.sk-container {/* jupyter's `normalize.less` sets `[hidden] { display: none; }` but bootstrap.min.css set `[hidden] { display: none !important; }` so we also need the `!important` here to be able to override the default hidden behavior on the sphinx rendered scikit-learn.org. See: https://github.com/scikit-learn/scikit-learn/issues/21755 */display: inline-block !important;position: relative;}#sk-container-id-17 div.sk-text-repr-fallback {display: none;}</style><div id=\"sk-container-id-17\" class=\"sk-top-container\"><div class=\"sk-text-repr-fallback\"><pre>RandomizedSearchCV(cv=5,\n",
       "                   estimator=Pipeline(steps=[(&#x27;tf&#x27;,\n",
       "                                              TfidfVectorizer(stop_words=[&#x27;i&#x27;,\n",
       "                                                                          &#x27;me&#x27;,\n",
       "                                                                          &#x27;my&#x27;,\n",
       "                                                                          &#x27;myself&#x27;,\n",
       "                                                                          &#x27;we&#x27;,\n",
       "                                                                          &#x27;our&#x27;,\n",
       "                                                                          &#x27;ours&#x27;,\n",
       "                                                                          &#x27;ourselves&#x27;,\n",
       "                                                                          &#x27;you&#x27;,\n",
       "                                                                          &quot;you&#x27;re&quot;,\n",
       "                                                                          &quot;you&#x27;ve&quot;,\n",
       "                                                                          &quot;you&#x27;ll&quot;,\n",
       "                                                                          &quot;you&#x27;d&quot;,\n",
       "                                                                          &#x27;your&#x27;,\n",
       "                                                                          &#x27;yours&#x27;,\n",
       "                                                                          &#x27;yourself&#x27;,\n",
       "                                                                          &#x27;yourselves&#x27;,\n",
       "                                                                          &#x27;he&#x27;,\n",
       "                                                                          &#x27;him&#x27;,\n",
       "                                                                          &#x27;his&#x27;,\n",
       "                                                                          &#x27;himself&#x27;,\n",
       "                                                                          &#x27;she&#x27;,\n",
       "                                                                          &quot;she&#x27;s&quot;,\n",
       "                                                                          &#x27;her&#x27;,\n",
       "                                                                          &#x27;hers&#x27;,\n",
       "                                                                          &#x27;herself&#x27;,\n",
       "                                                                          &#x27;it&#x27;,\n",
       "                                                                          &quot;it&#x27;s&quot;,\n",
       "                                                                          &#x27;its&#x27;,\n",
       "                                                                          &#x27;itself&#x27;, ...])),\n",
       "                                             (&#x27;bg&#x27;, BaggingClassifier())]),\n",
       "                   param_distributions={&#x27;bg__max_features&#x27;: [5, 10, 15, 20],\n",
       "                                        &#x27;bg__max_samples&#x27;: [5, 10, 15, 20],\n",
       "                                        &#x27;bg__n_estimators&#x27;: [10, 20, 30],\n",
       "                                        &#x27;tf__max_df&#x27;: [0.25, 0.5, 0.75, 1.0],\n",
       "                                        &#x27;tf__max_features&#x27;: [200, 400, 600, 800,\n",
       "                                                             1000],\n",
       "                                        &#x27;tf__ngram_range&#x27;: [(1, 1), (1, 2),\n",
       "                                                            (2, 2), (3, 3)]},\n",
       "                   random_state=42)</pre><b>In a Jupyter environment, please rerun this cell to show the HTML representation or trust the notebook. <br />On GitHub, the HTML representation is unable to render, please try loading this page with nbviewer.org.</b></div><div class=\"sk-container\" hidden><div class=\"sk-item sk-dashed-wrapped\"><div class=\"sk-label-container\"><div class=\"sk-label sk-toggleable\"><input class=\"sk-toggleable__control sk-hidden--visually\" id=\"sk-estimator-id-65\" type=\"checkbox\" ><label for=\"sk-estimator-id-65\" class=\"sk-toggleable__label sk-toggleable__label-arrow\">RandomizedSearchCV</label><div class=\"sk-toggleable__content\"><pre>RandomizedSearchCV(cv=5,\n",
       "                   estimator=Pipeline(steps=[(&#x27;tf&#x27;,\n",
       "                                              TfidfVectorizer(stop_words=[&#x27;i&#x27;,\n",
       "                                                                          &#x27;me&#x27;,\n",
       "                                                                          &#x27;my&#x27;,\n",
       "                                                                          &#x27;myself&#x27;,\n",
       "                                                                          &#x27;we&#x27;,\n",
       "                                                                          &#x27;our&#x27;,\n",
       "                                                                          &#x27;ours&#x27;,\n",
       "                                                                          &#x27;ourselves&#x27;,\n",
       "                                                                          &#x27;you&#x27;,\n",
       "                                                                          &quot;you&#x27;re&quot;,\n",
       "                                                                          &quot;you&#x27;ve&quot;,\n",
       "                                                                          &quot;you&#x27;ll&quot;,\n",
       "                                                                          &quot;you&#x27;d&quot;,\n",
       "                                                                          &#x27;your&#x27;,\n",
       "                                                                          &#x27;yours&#x27;,\n",
       "                                                                          &#x27;yourself&#x27;,\n",
       "                                                                          &#x27;yourselves&#x27;,\n",
       "                                                                          &#x27;he&#x27;,\n",
       "                                                                          &#x27;him&#x27;,\n",
       "                                                                          &#x27;his&#x27;,\n",
       "                                                                          &#x27;himself&#x27;,\n",
       "                                                                          &#x27;she&#x27;,\n",
       "                                                                          &quot;she&#x27;s&quot;,\n",
       "                                                                          &#x27;her&#x27;,\n",
       "                                                                          &#x27;hers&#x27;,\n",
       "                                                                          &#x27;herself&#x27;,\n",
       "                                                                          &#x27;it&#x27;,\n",
       "                                                                          &quot;it&#x27;s&quot;,\n",
       "                                                                          &#x27;its&#x27;,\n",
       "                                                                          &#x27;itself&#x27;, ...])),\n",
       "                                             (&#x27;bg&#x27;, BaggingClassifier())]),\n",
       "                   param_distributions={&#x27;bg__max_features&#x27;: [5, 10, 15, 20],\n",
       "                                        &#x27;bg__max_samples&#x27;: [5, 10, 15, 20],\n",
       "                                        &#x27;bg__n_estimators&#x27;: [10, 20, 30],\n",
       "                                        &#x27;tf__max_df&#x27;: [0.25, 0.5, 0.75, 1.0],\n",
       "                                        &#x27;tf__max_features&#x27;: [200, 400, 600, 800,\n",
       "                                                             1000],\n",
       "                                        &#x27;tf__ngram_range&#x27;: [(1, 1), (1, 2),\n",
       "                                                            (2, 2), (3, 3)]},\n",
       "                   random_state=42)</pre></div></div></div><div class=\"sk-parallel\"><div class=\"sk-parallel-item\"><div class=\"sk-item\"><div class=\"sk-label-container\"><div class=\"sk-label sk-toggleable\"><input class=\"sk-toggleable__control sk-hidden--visually\" id=\"sk-estimator-id-66\" type=\"checkbox\" ><label for=\"sk-estimator-id-66\" class=\"sk-toggleable__label sk-toggleable__label-arrow\">estimator: Pipeline</label><div class=\"sk-toggleable__content\"><pre>Pipeline(steps=[(&#x27;tf&#x27;,\n",
       "                 TfidfVectorizer(stop_words=[&#x27;i&#x27;, &#x27;me&#x27;, &#x27;my&#x27;, &#x27;myself&#x27;, &#x27;we&#x27;,\n",
       "                                             &#x27;our&#x27;, &#x27;ours&#x27;, &#x27;ourselves&#x27;, &#x27;you&#x27;,\n",
       "                                             &quot;you&#x27;re&quot;, &quot;you&#x27;ve&quot;, &quot;you&#x27;ll&quot;,\n",
       "                                             &quot;you&#x27;d&quot;, &#x27;your&#x27;, &#x27;yours&#x27;,\n",
       "                                             &#x27;yourself&#x27;, &#x27;yourselves&#x27;, &#x27;he&#x27;,\n",
       "                                             &#x27;him&#x27;, &#x27;his&#x27;, &#x27;himself&#x27;, &#x27;she&#x27;,\n",
       "                                             &quot;she&#x27;s&quot;, &#x27;her&#x27;, &#x27;hers&#x27;, &#x27;herself&#x27;,\n",
       "                                             &#x27;it&#x27;, &quot;it&#x27;s&quot;, &#x27;its&#x27;, &#x27;itself&#x27;, ...])),\n",
       "                (&#x27;bg&#x27;, BaggingClassifier())])</pre></div></div></div><div class=\"sk-serial\"><div class=\"sk-item\"><div class=\"sk-serial\"><div class=\"sk-item\"><div class=\"sk-estimator sk-toggleable\"><input class=\"sk-toggleable__control sk-hidden--visually\" id=\"sk-estimator-id-67\" type=\"checkbox\" ><label for=\"sk-estimator-id-67\" class=\"sk-toggleable__label sk-toggleable__label-arrow\">TfidfVectorizer</label><div class=\"sk-toggleable__content\"><pre>TfidfVectorizer(stop_words=[&#x27;i&#x27;, &#x27;me&#x27;, &#x27;my&#x27;, &#x27;myself&#x27;, &#x27;we&#x27;, &#x27;our&#x27;, &#x27;ours&#x27;,\n",
       "                            &#x27;ourselves&#x27;, &#x27;you&#x27;, &quot;you&#x27;re&quot;, &quot;you&#x27;ve&quot;, &quot;you&#x27;ll&quot;,\n",
       "                            &quot;you&#x27;d&quot;, &#x27;your&#x27;, &#x27;yours&#x27;, &#x27;yourself&#x27;, &#x27;yourselves&#x27;,\n",
       "                            &#x27;he&#x27;, &#x27;him&#x27;, &#x27;his&#x27;, &#x27;himself&#x27;, &#x27;she&#x27;, &quot;she&#x27;s&quot;,\n",
       "                            &#x27;her&#x27;, &#x27;hers&#x27;, &#x27;herself&#x27;, &#x27;it&#x27;, &quot;it&#x27;s&quot;, &#x27;its&#x27;,\n",
       "                            &#x27;itself&#x27;, ...])</pre></div></div></div><div class=\"sk-item\"><div class=\"sk-estimator sk-toggleable\"><input class=\"sk-toggleable__control sk-hidden--visually\" id=\"sk-estimator-id-68\" type=\"checkbox\" ><label for=\"sk-estimator-id-68\" class=\"sk-toggleable__label sk-toggleable__label-arrow\">BaggingClassifier</label><div class=\"sk-toggleable__content\"><pre>BaggingClassifier()</pre></div></div></div></div></div></div></div></div></div></div></div></div>"
      ],
      "text/plain": [
       "RandomizedSearchCV(cv=5,\n",
       "                   estimator=Pipeline(steps=[('tf',\n",
       "                                              TfidfVectorizer(stop_words=['i',\n",
       "                                                                          'me',\n",
       "                                                                          'my',\n",
       "                                                                          'myself',\n",
       "                                                                          'we',\n",
       "                                                                          'our',\n",
       "                                                                          'ours',\n",
       "                                                                          'ourselves',\n",
       "                                                                          'you',\n",
       "                                                                          \"you're\",\n",
       "                                                                          \"you've\",\n",
       "                                                                          \"you'll\",\n",
       "                                                                          \"you'd\",\n",
       "                                                                          'your',\n",
       "                                                                          'yours',\n",
       "                                                                          'yourself',\n",
       "                                                                          'yourselves',\n",
       "                                                                          'he',\n",
       "                                                                          'him',\n",
       "                                                                          'his',\n",
       "                                                                          'himself',\n",
       "                                                                          'she',\n",
       "                                                                          \"she's\",\n",
       "                                                                          'her',\n",
       "                                                                          'hers',\n",
       "                                                                          'herself',\n",
       "                                                                          'it',\n",
       "                                                                          \"it's\",\n",
       "                                                                          'its',\n",
       "                                                                          'itself', ...])),\n",
       "                                             ('bg', BaggingClassifier())]),\n",
       "                   param_distributions={'bg__max_features': [5, 10, 15, 20],\n",
       "                                        'bg__max_samples': [5, 10, 15, 20],\n",
       "                                        'bg__n_estimators': [10, 20, 30],\n",
       "                                        'tf__max_df': [0.25, 0.5, 0.75, 1.0],\n",
       "                                        'tf__max_features': [200, 400, 600, 800,\n",
       "                                                             1000],\n",
       "                                        'tf__ngram_range': [(1, 1), (1, 2),\n",
       "                                                            (2, 2), (3, 3)]},\n",
       "                   random_state=42)"
      ]
     },
     "execution_count": 106,
     "metadata": {},
     "output_type": "execute_result"
    }
   ],
   "source": [
    "gr = RandomizedSearchCV(bg_pipe,\n",
    "                        param_distributions=bg_params,\n",
    "                        cv=5,\n",
    "                        random_state=42)\n",
    "\n",
    "gr.fit(X_train,y_train)"
   ]
  },
  {
   "cell_type": "code",
   "execution_count": 107,
   "id": "51a4060a-ba9c-4865-8003-4315c71e5bb7",
   "metadata": {},
   "outputs": [
    {
     "name": "stdout",
     "output_type": "stream",
     "text": [
      "Best Parameters:\n",
      "{'tf__ngram_range': (1, 1), 'tf__max_features': 800, 'tf__max_df': 0.25, 'bg__n_estimators': 30, 'bg__max_samples': 20, 'bg__max_features': 20}\n",
      "Best Scores:\n",
      "0.5378\n"
     ]
    }
   ],
   "source": [
    "print_grid_results(gr)"
   ]
  },
  {
   "cell_type": "markdown",
   "id": "fbc62c82-4f07-477e-bca1-e5ccd0c7a84a",
   "metadata": {},
   "source": [
    "GridSearchCV to find the optimum hyperparameters"
   ]
  },
  {
   "cell_type": "code",
   "execution_count": 114,
   "id": "b27db672-10a0-41c0-820b-b392fbd5082e",
   "metadata": {},
   "outputs": [],
   "source": [
    "bg_params = {\n",
    "    'tf__max_df':[0.5,0.75],\n",
    "    'tf__max_features':[75,100],\n",
    "    'tf__ngram_range':[(1,1),(1,2)],\n",
    "    'bg__n_estimators':[200,300],\n",
    "    'bg__max_samples':[80,160],\n",
    "    'bg__max_features':[20,40]\n",
    "}"
   ]
  },
  {
   "cell_type": "code",
   "execution_count": 115,
   "id": "e8d988e0-7bae-4413-942d-af6db72bd311",
   "metadata": {},
   "outputs": [
    {
     "data": {
      "text/html": [
       "<style>#sk-container-id-19 {color: black;background-color: white;}#sk-container-id-19 pre{padding: 0;}#sk-container-id-19 div.sk-toggleable {background-color: white;}#sk-container-id-19 label.sk-toggleable__label {cursor: pointer;display: block;width: 100%;margin-bottom: 0;padding: 0.3em;box-sizing: border-box;text-align: center;}#sk-container-id-19 label.sk-toggleable__label-arrow:before {content: \"▸\";float: left;margin-right: 0.25em;color: #696969;}#sk-container-id-19 label.sk-toggleable__label-arrow:hover:before {color: black;}#sk-container-id-19 div.sk-estimator:hover label.sk-toggleable__label-arrow:before {color: black;}#sk-container-id-19 div.sk-toggleable__content {max-height: 0;max-width: 0;overflow: hidden;text-align: left;background-color: #f0f8ff;}#sk-container-id-19 div.sk-toggleable__content pre {margin: 0.2em;color: black;border-radius: 0.25em;background-color: #f0f8ff;}#sk-container-id-19 input.sk-toggleable__control:checked~div.sk-toggleable__content {max-height: 200px;max-width: 100%;overflow: auto;}#sk-container-id-19 input.sk-toggleable__control:checked~label.sk-toggleable__label-arrow:before {content: \"▾\";}#sk-container-id-19 div.sk-estimator input.sk-toggleable__control:checked~label.sk-toggleable__label {background-color: #d4ebff;}#sk-container-id-19 div.sk-label input.sk-toggleable__control:checked~label.sk-toggleable__label {background-color: #d4ebff;}#sk-container-id-19 input.sk-hidden--visually {border: 0;clip: rect(1px 1px 1px 1px);clip: rect(1px, 1px, 1px, 1px);height: 1px;margin: -1px;overflow: hidden;padding: 0;position: absolute;width: 1px;}#sk-container-id-19 div.sk-estimator {font-family: monospace;background-color: #f0f8ff;border: 1px dotted black;border-radius: 0.25em;box-sizing: border-box;margin-bottom: 0.5em;}#sk-container-id-19 div.sk-estimator:hover {background-color: #d4ebff;}#sk-container-id-19 div.sk-parallel-item::after {content: \"\";width: 100%;border-bottom: 1px solid gray;flex-grow: 1;}#sk-container-id-19 div.sk-label:hover label.sk-toggleable__label {background-color: #d4ebff;}#sk-container-id-19 div.sk-serial::before {content: \"\";position: absolute;border-left: 1px solid gray;box-sizing: border-box;top: 0;bottom: 0;left: 50%;z-index: 0;}#sk-container-id-19 div.sk-serial {display: flex;flex-direction: column;align-items: center;background-color: white;padding-right: 0.2em;padding-left: 0.2em;position: relative;}#sk-container-id-19 div.sk-item {position: relative;z-index: 1;}#sk-container-id-19 div.sk-parallel {display: flex;align-items: stretch;justify-content: center;background-color: white;position: relative;}#sk-container-id-19 div.sk-item::before, #sk-container-id-19 div.sk-parallel-item::before {content: \"\";position: absolute;border-left: 1px solid gray;box-sizing: border-box;top: 0;bottom: 0;left: 50%;z-index: -1;}#sk-container-id-19 div.sk-parallel-item {display: flex;flex-direction: column;z-index: 1;position: relative;background-color: white;}#sk-container-id-19 div.sk-parallel-item:first-child::after {align-self: flex-end;width: 50%;}#sk-container-id-19 div.sk-parallel-item:last-child::after {align-self: flex-start;width: 50%;}#sk-container-id-19 div.sk-parallel-item:only-child::after {width: 0;}#sk-container-id-19 div.sk-dashed-wrapped {border: 1px dashed gray;margin: 0 0.4em 0.5em 0.4em;box-sizing: border-box;padding-bottom: 0.4em;background-color: white;}#sk-container-id-19 div.sk-label label {font-family: monospace;font-weight: bold;display: inline-block;line-height: 1.2em;}#sk-container-id-19 div.sk-label-container {text-align: center;}#sk-container-id-19 div.sk-container {/* jupyter's `normalize.less` sets `[hidden] { display: none; }` but bootstrap.min.css set `[hidden] { display: none !important; }` so we also need the `!important` here to be able to override the default hidden behavior on the sphinx rendered scikit-learn.org. See: https://github.com/scikit-learn/scikit-learn/issues/21755 */display: inline-block !important;position: relative;}#sk-container-id-19 div.sk-text-repr-fallback {display: none;}</style><div id=\"sk-container-id-19\" class=\"sk-top-container\"><div class=\"sk-text-repr-fallback\"><pre>GridSearchCV(cv=5,\n",
       "             estimator=Pipeline(steps=[(&#x27;tf&#x27;,\n",
       "                                        TfidfVectorizer(stop_words=[&#x27;i&#x27;, &#x27;me&#x27;,\n",
       "                                                                    &#x27;my&#x27;,\n",
       "                                                                    &#x27;myself&#x27;,\n",
       "                                                                    &#x27;we&#x27;, &#x27;our&#x27;,\n",
       "                                                                    &#x27;ours&#x27;,\n",
       "                                                                    &#x27;ourselves&#x27;,\n",
       "                                                                    &#x27;you&#x27;,\n",
       "                                                                    &quot;you&#x27;re&quot;,\n",
       "                                                                    &quot;you&#x27;ve&quot;,\n",
       "                                                                    &quot;you&#x27;ll&quot;,\n",
       "                                                                    &quot;you&#x27;d&quot;,\n",
       "                                                                    &#x27;your&#x27;,\n",
       "                                                                    &#x27;yours&#x27;,\n",
       "                                                                    &#x27;yourself&#x27;,\n",
       "                                                                    &#x27;yourselves&#x27;,\n",
       "                                                                    &#x27;he&#x27;, &#x27;him&#x27;,\n",
       "                                                                    &#x27;his&#x27;,\n",
       "                                                                    &#x27;himself&#x27;,\n",
       "                                                                    &#x27;she&#x27;,\n",
       "                                                                    &quot;she&#x27;s&quot;,\n",
       "                                                                    &#x27;her&#x27;,\n",
       "                                                                    &#x27;hers&#x27;,\n",
       "                                                                    &#x27;herself&#x27;,\n",
       "                                                                    &#x27;it&#x27;,\n",
       "                                                                    &quot;it&#x27;s&quot;,\n",
       "                                                                    &#x27;its&#x27;,\n",
       "                                                                    &#x27;itself&#x27;, ...])),\n",
       "                                       (&#x27;bg&#x27;, BaggingClassifier())]),\n",
       "             param_grid={&#x27;bg__max_features&#x27;: [20, 40],\n",
       "                         &#x27;bg__max_samples&#x27;: [80, 160],\n",
       "                         &#x27;bg__n_estimators&#x27;: [200, 300],\n",
       "                         &#x27;tf__max_df&#x27;: [0.5, 0.75],\n",
       "                         &#x27;tf__max_features&#x27;: [75, 100],\n",
       "                         &#x27;tf__ngram_range&#x27;: [(1, 1), (1, 2)]})</pre><b>In a Jupyter environment, please rerun this cell to show the HTML representation or trust the notebook. <br />On GitHub, the HTML representation is unable to render, please try loading this page with nbviewer.org.</b></div><div class=\"sk-container\" hidden><div class=\"sk-item sk-dashed-wrapped\"><div class=\"sk-label-container\"><div class=\"sk-label sk-toggleable\"><input class=\"sk-toggleable__control sk-hidden--visually\" id=\"sk-estimator-id-73\" type=\"checkbox\" ><label for=\"sk-estimator-id-73\" class=\"sk-toggleable__label sk-toggleable__label-arrow\">GridSearchCV</label><div class=\"sk-toggleable__content\"><pre>GridSearchCV(cv=5,\n",
       "             estimator=Pipeline(steps=[(&#x27;tf&#x27;,\n",
       "                                        TfidfVectorizer(stop_words=[&#x27;i&#x27;, &#x27;me&#x27;,\n",
       "                                                                    &#x27;my&#x27;,\n",
       "                                                                    &#x27;myself&#x27;,\n",
       "                                                                    &#x27;we&#x27;, &#x27;our&#x27;,\n",
       "                                                                    &#x27;ours&#x27;,\n",
       "                                                                    &#x27;ourselves&#x27;,\n",
       "                                                                    &#x27;you&#x27;,\n",
       "                                                                    &quot;you&#x27;re&quot;,\n",
       "                                                                    &quot;you&#x27;ve&quot;,\n",
       "                                                                    &quot;you&#x27;ll&quot;,\n",
       "                                                                    &quot;you&#x27;d&quot;,\n",
       "                                                                    &#x27;your&#x27;,\n",
       "                                                                    &#x27;yours&#x27;,\n",
       "                                                                    &#x27;yourself&#x27;,\n",
       "                                                                    &#x27;yourselves&#x27;,\n",
       "                                                                    &#x27;he&#x27;, &#x27;him&#x27;,\n",
       "                                                                    &#x27;his&#x27;,\n",
       "                                                                    &#x27;himself&#x27;,\n",
       "                                                                    &#x27;she&#x27;,\n",
       "                                                                    &quot;she&#x27;s&quot;,\n",
       "                                                                    &#x27;her&#x27;,\n",
       "                                                                    &#x27;hers&#x27;,\n",
       "                                                                    &#x27;herself&#x27;,\n",
       "                                                                    &#x27;it&#x27;,\n",
       "                                                                    &quot;it&#x27;s&quot;,\n",
       "                                                                    &#x27;its&#x27;,\n",
       "                                                                    &#x27;itself&#x27;, ...])),\n",
       "                                       (&#x27;bg&#x27;, BaggingClassifier())]),\n",
       "             param_grid={&#x27;bg__max_features&#x27;: [20, 40],\n",
       "                         &#x27;bg__max_samples&#x27;: [80, 160],\n",
       "                         &#x27;bg__n_estimators&#x27;: [200, 300],\n",
       "                         &#x27;tf__max_df&#x27;: [0.5, 0.75],\n",
       "                         &#x27;tf__max_features&#x27;: [75, 100],\n",
       "                         &#x27;tf__ngram_range&#x27;: [(1, 1), (1, 2)]})</pre></div></div></div><div class=\"sk-parallel\"><div class=\"sk-parallel-item\"><div class=\"sk-item\"><div class=\"sk-label-container\"><div class=\"sk-label sk-toggleable\"><input class=\"sk-toggleable__control sk-hidden--visually\" id=\"sk-estimator-id-74\" type=\"checkbox\" ><label for=\"sk-estimator-id-74\" class=\"sk-toggleable__label sk-toggleable__label-arrow\">estimator: Pipeline</label><div class=\"sk-toggleable__content\"><pre>Pipeline(steps=[(&#x27;tf&#x27;,\n",
       "                 TfidfVectorizer(stop_words=[&#x27;i&#x27;, &#x27;me&#x27;, &#x27;my&#x27;, &#x27;myself&#x27;, &#x27;we&#x27;,\n",
       "                                             &#x27;our&#x27;, &#x27;ours&#x27;, &#x27;ourselves&#x27;, &#x27;you&#x27;,\n",
       "                                             &quot;you&#x27;re&quot;, &quot;you&#x27;ve&quot;, &quot;you&#x27;ll&quot;,\n",
       "                                             &quot;you&#x27;d&quot;, &#x27;your&#x27;, &#x27;yours&#x27;,\n",
       "                                             &#x27;yourself&#x27;, &#x27;yourselves&#x27;, &#x27;he&#x27;,\n",
       "                                             &#x27;him&#x27;, &#x27;his&#x27;, &#x27;himself&#x27;, &#x27;she&#x27;,\n",
       "                                             &quot;she&#x27;s&quot;, &#x27;her&#x27;, &#x27;hers&#x27;, &#x27;herself&#x27;,\n",
       "                                             &#x27;it&#x27;, &quot;it&#x27;s&quot;, &#x27;its&#x27;, &#x27;itself&#x27;, ...])),\n",
       "                (&#x27;bg&#x27;, BaggingClassifier())])</pre></div></div></div><div class=\"sk-serial\"><div class=\"sk-item\"><div class=\"sk-serial\"><div class=\"sk-item\"><div class=\"sk-estimator sk-toggleable\"><input class=\"sk-toggleable__control sk-hidden--visually\" id=\"sk-estimator-id-75\" type=\"checkbox\" ><label for=\"sk-estimator-id-75\" class=\"sk-toggleable__label sk-toggleable__label-arrow\">TfidfVectorizer</label><div class=\"sk-toggleable__content\"><pre>TfidfVectorizer(stop_words=[&#x27;i&#x27;, &#x27;me&#x27;, &#x27;my&#x27;, &#x27;myself&#x27;, &#x27;we&#x27;, &#x27;our&#x27;, &#x27;ours&#x27;,\n",
       "                            &#x27;ourselves&#x27;, &#x27;you&#x27;, &quot;you&#x27;re&quot;, &quot;you&#x27;ve&quot;, &quot;you&#x27;ll&quot;,\n",
       "                            &quot;you&#x27;d&quot;, &#x27;your&#x27;, &#x27;yours&#x27;, &#x27;yourself&#x27;, &#x27;yourselves&#x27;,\n",
       "                            &#x27;he&#x27;, &#x27;him&#x27;, &#x27;his&#x27;, &#x27;himself&#x27;, &#x27;she&#x27;, &quot;she&#x27;s&quot;,\n",
       "                            &#x27;her&#x27;, &#x27;hers&#x27;, &#x27;herself&#x27;, &#x27;it&#x27;, &quot;it&#x27;s&quot;, &#x27;its&#x27;,\n",
       "                            &#x27;itself&#x27;, ...])</pre></div></div></div><div class=\"sk-item\"><div class=\"sk-estimator sk-toggleable\"><input class=\"sk-toggleable__control sk-hidden--visually\" id=\"sk-estimator-id-76\" type=\"checkbox\" ><label for=\"sk-estimator-id-76\" class=\"sk-toggleable__label sk-toggleable__label-arrow\">BaggingClassifier</label><div class=\"sk-toggleable__content\"><pre>BaggingClassifier()</pre></div></div></div></div></div></div></div></div></div></div></div></div>"
      ],
      "text/plain": [
       "GridSearchCV(cv=5,\n",
       "             estimator=Pipeline(steps=[('tf',\n",
       "                                        TfidfVectorizer(stop_words=['i', 'me',\n",
       "                                                                    'my',\n",
       "                                                                    'myself',\n",
       "                                                                    'we', 'our',\n",
       "                                                                    'ours',\n",
       "                                                                    'ourselves',\n",
       "                                                                    'you',\n",
       "                                                                    \"you're\",\n",
       "                                                                    \"you've\",\n",
       "                                                                    \"you'll\",\n",
       "                                                                    \"you'd\",\n",
       "                                                                    'your',\n",
       "                                                                    'yours',\n",
       "                                                                    'yourself',\n",
       "                                                                    'yourselves',\n",
       "                                                                    'he', 'him',\n",
       "                                                                    'his',\n",
       "                                                                    'himself',\n",
       "                                                                    'she',\n",
       "                                                                    \"she's\",\n",
       "                                                                    'her',\n",
       "                                                                    'hers',\n",
       "                                                                    'herself',\n",
       "                                                                    'it',\n",
       "                                                                    \"it's\",\n",
       "                                                                    'its',\n",
       "                                                                    'itself', ...])),\n",
       "                                       ('bg', BaggingClassifier())]),\n",
       "             param_grid={'bg__max_features': [20, 40],\n",
       "                         'bg__max_samples': [80, 160],\n",
       "                         'bg__n_estimators': [200, 300],\n",
       "                         'tf__max_df': [0.5, 0.75],\n",
       "                         'tf__max_features': [75, 100],\n",
       "                         'tf__ngram_range': [(1, 1), (1, 2)]})"
      ]
     },
     "execution_count": 115,
     "metadata": {},
     "output_type": "execute_result"
    }
   ],
   "source": [
    "bg_gs = GridSearchCV(bg_pipe,\n",
    "                     param_grid=bg_params,\n",
    "                     cv=5)\n",
    "\n",
    "bg_gs.fit(X_train,y_train)"
   ]
  },
  {
   "cell_type": "code",
   "execution_count": 116,
   "id": "2aa89449-2eff-4b38-b561-d174b309e438",
   "metadata": {},
   "outputs": [
    {
     "data": {
      "text/plain": [
       "{'bg__max_features': 20,\n",
       " 'bg__max_samples': 160,\n",
       " 'bg__n_estimators': 300,\n",
       " 'tf__max_df': 0.75,\n",
       " 'tf__max_features': 100,\n",
       " 'tf__ngram_range': (1, 1)}"
      ]
     },
     "execution_count": 116,
     "metadata": {},
     "output_type": "execute_result"
    }
   ],
   "source": [
    "bg_gs.best_params_"
   ]
  },
  {
   "cell_type": "code",
   "execution_count": 117,
   "id": "501512c9-5cef-4461-835c-06f5f2c9866c",
   "metadata": {},
   "outputs": [],
   "source": [
    "# Create Pipeline\n",
    "bg_pipe_best = Pipeline([\n",
    "    \n",
    "    ('tf', TfidfVectorizer(max_df=bg_gs.best_params_['tf__max_df'],\n",
    "                           max_features=bg_gs.best_params_['tf__max_features'],\n",
    "                           ngram_range=bg_gs.best_params_['tf__ngram_range'],\n",
    "                           stop_words=manual_stopwords)),\n",
    "    \n",
    "    ('bg', BaggingClassifier(max_features=bg_gs.best_params_['bg__max_features'],\n",
    "                             max_samples=bg_gs.best_params_['bg__max_samples'],\n",
    "                             n_estimators=bg_gs.best_params_['bg__n_estimators']\n",
    "                            ))\n",
    "])"
   ]
  },
  {
   "cell_type": "markdown",
   "id": "12f30fcd-d6bd-409a-bf6e-043c79431092",
   "metadata": {},
   "source": [
    "Fit the model on GridSearchCV best parameter"
   ]
  },
  {
   "cell_type": "code",
   "execution_count": 118,
   "id": "dd09ac41-0d6c-4432-8061-e894ff7d46dc",
   "metadata": {},
   "outputs": [
    {
     "name": "stdout",
     "output_type": "stream",
     "text": [
      "Train Score: 0.7579\n",
      "Test Score: 0.6533\n",
      "Classification Report:\n",
      "              precision    recall  f1-score   support\n",
      "\n",
      "    coursera       0.66      0.63      0.64       250\n",
      "         edx       0.65      0.68      0.66       249\n",
      "\n",
      "    accuracy                           0.65       499\n",
      "   macro avg       0.65      0.65      0.65       499\n",
      "weighted avg       0.65      0.65      0.65       499\n",
      "\n"
     ]
    }
   ],
   "source": [
    "fit_pipe(bg_pipe_best,X_train,X_test,y_train,y_test)"
   ]
  },
  {
   "cell_type": "code",
   "execution_count": 119,
   "id": "445b127f-f96c-40c8-8fa7-2d8d89189ea9",
   "metadata": {},
   "outputs": [
    {
     "name": "stdout",
     "output_type": "stream",
     "text": [
      "Confusion Matrix:\n"
     ]
    },
    {
     "data": {
      "image/png": "[encoded data removed]",
      "text/plain": [
       "<Figure size 432x288 with 2 Axes>"
      ]
     },
     "metadata": {
      "needs_background": "light"
     },
     "output_type": "display_data"
    }
   ],
   "source": [
    "show_cm(bg_pipe_best,X_train,X_test,y_train,y_test)"
   ]
  },
  {
   "cell_type": "markdown",
   "id": "a8f52264-8a06-44f2-b224-cc0ad833c9fc",
   "metadata": {},
   "source": [
    "__Key Takeaway:__ <br>\n",
    "- Default hyperparameters of Bagged Decision Tree gives us an accuracy of 0.6533\n",
    "- Optimizing give us an accuracy of 0.6313, which is not an improvement\n",
    "- Default hyperparameters performs better, and other models performs better"
   ]
  },
  {
   "cell_type": "markdown",
   "id": "d514c52b-4b51-44e6-9551-a8d571d64edc",
   "metadata": {},
   "source": [
    "---"
   ]
  },
  {
   "cell_type": "markdown",
   "id": "5389abe7-01db-4dbb-b16e-76c3c8c90f92",
   "metadata": {
    "tags": []
   },
   "source": [
    "#### Random Forest Classifier\n",
    "[Back to Table of Content](#Table-of-Content)"
   ]
  },
  {
   "cell_type": "code",
   "execution_count": 120,
   "id": "e9d51627-f2de-4c65-8bbc-eeb40a7613ca",
   "metadata": {},
   "outputs": [],
   "source": [
    "# CountVectorizer and k-Neareset Neighbour Classification\n",
    "# CountVectorizer works better than Tf-Idf in this case\n",
    "# Create Pipeline\n",
    "\n",
    "rf_pipe = Pipeline([\n",
    "    ('cv', CountVectorizer(stop_words=manual_stopwords)),\n",
    "    ('rf', RandomForestClassifier())\n",
    "])"
   ]
  },
  {
   "cell_type": "code",
   "execution_count": 121,
   "id": "0a0a1098-22c8-4566-8688-3a82fa72ae69",
   "metadata": {},
   "outputs": [
    {
     "name": "stdout",
     "output_type": "stream",
     "text": [
      "Train Score: 0.9839\n",
      "Test Score: 0.7054\n",
      "Classification Report:\n",
      "              precision    recall  f1-score   support\n",
      "\n",
      "    coursera       0.71      0.70      0.70       250\n",
      "         edx       0.70      0.71      0.71       249\n",
      "\n",
      "    accuracy                           0.71       499\n",
      "   macro avg       0.71      0.71      0.71       499\n",
      "weighted avg       0.71      0.71      0.71       499\n",
      "\n"
     ]
    }
   ],
   "source": [
    "fit_pipe(rf_pipe,X_train,X_test,y_train,y_test)"
   ]
  },
  {
   "cell_type": "markdown",
   "id": "565daee6-768e-48c8-aae1-d03a069e7de0",
   "metadata": {},
   "source": [
    "__*Optimization of Random Forest Classification*__"
   ]
  },
  {
   "cell_type": "markdown",
   "id": "018311ca-4385-41d6-8a06-8ab4dae7d6de",
   "metadata": {},
   "source": [
    "RandomizedSearchCV to find the starting point"
   ]
  },
  {
   "cell_type": "code",
   "execution_count": 122,
   "id": "52574400-11f5-4460-9df4-37dd59b6acf5",
   "metadata": {},
   "outputs": [],
   "source": [
    "rf_params = {\n",
    "    'cv__max_df':[0.25,0.5,0.75,1.0],\n",
    "    'cv__max_features':[200,400,600,800,1000],\n",
    "    'cv__ngram_range':[(1,1),(1,2),(2,2),(3,3)],\n",
    "    'rf__n_estimators':[10,20,30],\n",
    "    'rf__max_depth':[10,20,30],\n",
    "    'rf__max_samples':[5,10,15,20],\n",
    "    'rf__max_features':[5,10,15,20]\n",
    "}"
   ]
  },
  {
   "cell_type": "code",
   "execution_count": 123,
   "id": "7bb03317-add0-441e-b0f7-fbc27d359841",
   "metadata": {},
   "outputs": [
    {
     "data": {
      "text/html": [
       "<style>#sk-container-id-20 {color: black;background-color: white;}#sk-container-id-20 pre{padding: 0;}#sk-container-id-20 div.sk-toggleable {background-color: white;}#sk-container-id-20 label.sk-toggleable__label {cursor: pointer;display: block;width: 100%;margin-bottom: 0;padding: 0.3em;box-sizing: border-box;text-align: center;}#sk-container-id-20 label.sk-toggleable__label-arrow:before {content: \"▸\";float: left;margin-right: 0.25em;color: #696969;}#sk-container-id-20 label.sk-toggleable__label-arrow:hover:before {color: black;}#sk-container-id-20 div.sk-estimator:hover label.sk-toggleable__label-arrow:before {color: black;}#sk-container-id-20 div.sk-toggleable__content {max-height: 0;max-width: 0;overflow: hidden;text-align: left;background-color: #f0f8ff;}#sk-container-id-20 div.sk-toggleable__content pre {margin: 0.2em;color: black;border-radius: 0.25em;background-color: #f0f8ff;}#sk-container-id-20 input.sk-toggleable__control:checked~div.sk-toggleable__content {max-height: 200px;max-width: 100%;overflow: auto;}#sk-container-id-20 input.sk-toggleable__control:checked~label.sk-toggleable__label-arrow:before {content: \"▾\";}#sk-container-id-20 div.sk-estimator input.sk-toggleable__control:checked~label.sk-toggleable__label {background-color: #d4ebff;}#sk-container-id-20 div.sk-label input.sk-toggleable__control:checked~label.sk-toggleable__label {background-color: #d4ebff;}#sk-container-id-20 input.sk-hidden--visually {border: 0;clip: rect(1px 1px 1px 1px);clip: rect(1px, 1px, 1px, 1px);height: 1px;margin: -1px;overflow: hidden;padding: 0;position: absolute;width: 1px;}#sk-container-id-20 div.sk-estimator {font-family: monospace;background-color: #f0f8ff;border: 1px dotted black;border-radius: 0.25em;box-sizing: border-box;margin-bottom: 0.5em;}#sk-container-id-20 div.sk-estimator:hover {background-color: #d4ebff;}#sk-container-id-20 div.sk-parallel-item::after {content: \"\";width: 100%;border-bottom: 1px solid gray;flex-grow: 1;}#sk-container-id-20 div.sk-label:hover label.sk-toggleable__label {background-color: #d4ebff;}#sk-container-id-20 div.sk-serial::before {content: \"\";position: absolute;border-left: 1px solid gray;box-sizing: border-box;top: 0;bottom: 0;left: 50%;z-index: 0;}#sk-container-id-20 div.sk-serial {display: flex;flex-direction: column;align-items: center;background-color: white;padding-right: 0.2em;padding-left: 0.2em;position: relative;}#sk-container-id-20 div.sk-item {position: relative;z-index: 1;}#sk-container-id-20 div.sk-parallel {display: flex;align-items: stretch;justify-content: center;background-color: white;position: relative;}#sk-container-id-20 div.sk-item::before, #sk-container-id-20 div.sk-parallel-item::before {content: \"\";position: absolute;border-left: 1px solid gray;box-sizing: border-box;top: 0;bottom: 0;left: 50%;z-index: -1;}#sk-container-id-20 div.sk-parallel-item {display: flex;flex-direction: column;z-index: 1;position: relative;background-color: white;}#sk-container-id-20 div.sk-parallel-item:first-child::after {align-self: flex-end;width: 50%;}#sk-container-id-20 div.sk-parallel-item:last-child::after {align-self: flex-start;width: 50%;}#sk-container-id-20 div.sk-parallel-item:only-child::after {width: 0;}#sk-container-id-20 div.sk-dashed-wrapped {border: 1px dashed gray;margin: 0 0.4em 0.5em 0.4em;box-sizing: border-box;padding-bottom: 0.4em;background-color: white;}#sk-container-id-20 div.sk-label label {font-family: monospace;font-weight: bold;display: inline-block;line-height: 1.2em;}#sk-container-id-20 div.sk-label-container {text-align: center;}#sk-container-id-20 div.sk-container {/* jupyter's `normalize.less` sets `[hidden] { display: none; }` but bootstrap.min.css set `[hidden] { display: none !important; }` so we also need the `!important` here to be able to override the default hidden behavior on the sphinx rendered scikit-learn.org. See: https://github.com/scikit-learn/scikit-learn/issues/21755 */display: inline-block !important;position: relative;}#sk-container-id-20 div.sk-text-repr-fallback {display: none;}</style><div id=\"sk-container-id-20\" class=\"sk-top-container\"><div class=\"sk-text-repr-fallback\"><pre>RandomizedSearchCV(cv=5,\n",
       "                   estimator=Pipeline(steps=[(&#x27;cv&#x27;,\n",
       "                                              CountVectorizer(stop_words=[&#x27;i&#x27;,\n",
       "                                                                          &#x27;me&#x27;,\n",
       "                                                                          &#x27;my&#x27;,\n",
       "                                                                          &#x27;myself&#x27;,\n",
       "                                                                          &#x27;we&#x27;,\n",
       "                                                                          &#x27;our&#x27;,\n",
       "                                                                          &#x27;ours&#x27;,\n",
       "                                                                          &#x27;ourselves&#x27;,\n",
       "                                                                          &#x27;you&#x27;,\n",
       "                                                                          &quot;you&#x27;re&quot;,\n",
       "                                                                          &quot;you&#x27;ve&quot;,\n",
       "                                                                          &quot;you&#x27;ll&quot;,\n",
       "                                                                          &quot;you&#x27;d&quot;,\n",
       "                                                                          &#x27;your&#x27;,\n",
       "                                                                          &#x27;yours&#x27;,\n",
       "                                                                          &#x27;yourself&#x27;,\n",
       "                                                                          &#x27;yourselves&#x27;,\n",
       "                                                                          &#x27;he&#x27;,\n",
       "                                                                          &#x27;him&#x27;,\n",
       "                                                                          &#x27;his&#x27;,\n",
       "                                                                          &#x27;himself&#x27;,\n",
       "                                                                          &#x27;she&#x27;,\n",
       "                                                                          &quot;she&#x27;s&quot;,\n",
       "                                                                          &#x27;her&#x27;,\n",
       "                                                                          &#x27;hers&#x27;,\n",
       "                                                                          &#x27;herself&#x27;,\n",
       "                                                                          &#x27;it&#x27;,\n",
       "                                                                          &quot;it&#x27;s&quot;,\n",
       "                                                                          &#x27;its&#x27;,\n",
       "                                                                          &#x27;itself&#x27;, ...])),\n",
       "                                             (&#x27;rf&#x27;, RandomForestClassifier())]),\n",
       "                   param_distributions={&#x27;cv__max_df&#x27;: [0.25, 0.5, 0.75, 1.0],\n",
       "                                        &#x27;cv__max_features&#x27;: [200, 400, 600, 800,\n",
       "                                                             1000],\n",
       "                                        &#x27;cv__ngram_range&#x27;: [(1, 1), (1, 2),\n",
       "                                                            (2, 2), (3, 3)],\n",
       "                                        &#x27;rf__max_depth&#x27;: [10, 20, 30],\n",
       "                                        &#x27;rf__max_features&#x27;: [5, 10, 15, 20],\n",
       "                                        &#x27;rf__max_samples&#x27;: [5, 10, 15, 20],\n",
       "                                        &#x27;rf__n_estimators&#x27;: [10, 20, 30]},\n",
       "                   random_state=42)</pre><b>In a Jupyter environment, please rerun this cell to show the HTML representation or trust the notebook. <br />On GitHub, the HTML representation is unable to render, please try loading this page with nbviewer.org.</b></div><div class=\"sk-container\" hidden><div class=\"sk-item sk-dashed-wrapped\"><div class=\"sk-label-container\"><div class=\"sk-label sk-toggleable\"><input class=\"sk-toggleable__control sk-hidden--visually\" id=\"sk-estimator-id-77\" type=\"checkbox\" ><label for=\"sk-estimator-id-77\" class=\"sk-toggleable__label sk-toggleable__label-arrow\">RandomizedSearchCV</label><div class=\"sk-toggleable__content\"><pre>RandomizedSearchCV(cv=5,\n",
       "                   estimator=Pipeline(steps=[(&#x27;cv&#x27;,\n",
       "                                              CountVectorizer(stop_words=[&#x27;i&#x27;,\n",
       "                                                                          &#x27;me&#x27;,\n",
       "                                                                          &#x27;my&#x27;,\n",
       "                                                                          &#x27;myself&#x27;,\n",
       "                                                                          &#x27;we&#x27;,\n",
       "                                                                          &#x27;our&#x27;,\n",
       "                                                                          &#x27;ours&#x27;,\n",
       "                                                                          &#x27;ourselves&#x27;,\n",
       "                                                                          &#x27;you&#x27;,\n",
       "                                                                          &quot;you&#x27;re&quot;,\n",
       "                                                                          &quot;you&#x27;ve&quot;,\n",
       "                                                                          &quot;you&#x27;ll&quot;,\n",
       "                                                                          &quot;you&#x27;d&quot;,\n",
       "                                                                          &#x27;your&#x27;,\n",
       "                                                                          &#x27;yours&#x27;,\n",
       "                                                                          &#x27;yourself&#x27;,\n",
       "                                                                          &#x27;yourselves&#x27;,\n",
       "                                                                          &#x27;he&#x27;,\n",
       "                                                                          &#x27;him&#x27;,\n",
       "                                                                          &#x27;his&#x27;,\n",
       "                                                                          &#x27;himself&#x27;,\n",
       "                                                                          &#x27;she&#x27;,\n",
       "                                                                          &quot;she&#x27;s&quot;,\n",
       "                                                                          &#x27;her&#x27;,\n",
       "                                                                          &#x27;hers&#x27;,\n",
       "                                                                          &#x27;herself&#x27;,\n",
       "                                                                          &#x27;it&#x27;,\n",
       "                                                                          &quot;it&#x27;s&quot;,\n",
       "                                                                          &#x27;its&#x27;,\n",
       "                                                                          &#x27;itself&#x27;, ...])),\n",
       "                                             (&#x27;rf&#x27;, RandomForestClassifier())]),\n",
       "                   param_distributions={&#x27;cv__max_df&#x27;: [0.25, 0.5, 0.75, 1.0],\n",
       "                                        &#x27;cv__max_features&#x27;: [200, 400, 600, 800,\n",
       "                                                             1000],\n",
       "                                        &#x27;cv__ngram_range&#x27;: [(1, 1), (1, 2),\n",
       "                                                            (2, 2), (3, 3)],\n",
       "                                        &#x27;rf__max_depth&#x27;: [10, 20, 30],\n",
       "                                        &#x27;rf__max_features&#x27;: [5, 10, 15, 20],\n",
       "                                        &#x27;rf__max_samples&#x27;: [5, 10, 15, 20],\n",
       "                                        &#x27;rf__n_estimators&#x27;: [10, 20, 30]},\n",
       "                   random_state=42)</pre></div></div></div><div class=\"sk-parallel\"><div class=\"sk-parallel-item\"><div class=\"sk-item\"><div class=\"sk-label-container\"><div class=\"sk-label sk-toggleable\"><input class=\"sk-toggleable__control sk-hidden--visually\" id=\"sk-estimator-id-78\" type=\"checkbox\" ><label for=\"sk-estimator-id-78\" class=\"sk-toggleable__label sk-toggleable__label-arrow\">estimator: Pipeline</label><div class=\"sk-toggleable__content\"><pre>Pipeline(steps=[(&#x27;cv&#x27;,\n",
       "                 CountVectorizer(stop_words=[&#x27;i&#x27;, &#x27;me&#x27;, &#x27;my&#x27;, &#x27;myself&#x27;, &#x27;we&#x27;,\n",
       "                                             &#x27;our&#x27;, &#x27;ours&#x27;, &#x27;ourselves&#x27;, &#x27;you&#x27;,\n",
       "                                             &quot;you&#x27;re&quot;, &quot;you&#x27;ve&quot;, &quot;you&#x27;ll&quot;,\n",
       "                                             &quot;you&#x27;d&quot;, &#x27;your&#x27;, &#x27;yours&#x27;,\n",
       "                                             &#x27;yourself&#x27;, &#x27;yourselves&#x27;, &#x27;he&#x27;,\n",
       "                                             &#x27;him&#x27;, &#x27;his&#x27;, &#x27;himself&#x27;, &#x27;she&#x27;,\n",
       "                                             &quot;she&#x27;s&quot;, &#x27;her&#x27;, &#x27;hers&#x27;, &#x27;herself&#x27;,\n",
       "                                             &#x27;it&#x27;, &quot;it&#x27;s&quot;, &#x27;its&#x27;, &#x27;itself&#x27;, ...])),\n",
       "                (&#x27;rf&#x27;, RandomForestClassifier())])</pre></div></div></div><div class=\"sk-serial\"><div class=\"sk-item\"><div class=\"sk-serial\"><div class=\"sk-item\"><div class=\"sk-estimator sk-toggleable\"><input class=\"sk-toggleable__control sk-hidden--visually\" id=\"sk-estimator-id-79\" type=\"checkbox\" ><label for=\"sk-estimator-id-79\" class=\"sk-toggleable__label sk-toggleable__label-arrow\">CountVectorizer</label><div class=\"sk-toggleable__content\"><pre>CountVectorizer(stop_words=[&#x27;i&#x27;, &#x27;me&#x27;, &#x27;my&#x27;, &#x27;myself&#x27;, &#x27;we&#x27;, &#x27;our&#x27;, &#x27;ours&#x27;,\n",
       "                            &#x27;ourselves&#x27;, &#x27;you&#x27;, &quot;you&#x27;re&quot;, &quot;you&#x27;ve&quot;, &quot;you&#x27;ll&quot;,\n",
       "                            &quot;you&#x27;d&quot;, &#x27;your&#x27;, &#x27;yours&#x27;, &#x27;yourself&#x27;, &#x27;yourselves&#x27;,\n",
       "                            &#x27;he&#x27;, &#x27;him&#x27;, &#x27;his&#x27;, &#x27;himself&#x27;, &#x27;she&#x27;, &quot;she&#x27;s&quot;,\n",
       "                            &#x27;her&#x27;, &#x27;hers&#x27;, &#x27;herself&#x27;, &#x27;it&#x27;, &quot;it&#x27;s&quot;, &#x27;its&#x27;,\n",
       "                            &#x27;itself&#x27;, ...])</pre></div></div></div><div class=\"sk-item\"><div class=\"sk-estimator sk-toggleable\"><input class=\"sk-toggleable__control sk-hidden--visually\" id=\"sk-estimator-id-80\" type=\"checkbox\" ><label for=\"sk-estimator-id-80\" class=\"sk-toggleable__label sk-toggleable__label-arrow\">RandomForestClassifier</label><div class=\"sk-toggleable__content\"><pre>RandomForestClassifier()</pre></div></div></div></div></div></div></div></div></div></div></div></div>"
      ],
      "text/plain": [
       "RandomizedSearchCV(cv=5,\n",
       "                   estimator=Pipeline(steps=[('cv',\n",
       "                                              CountVectorizer(stop_words=['i',\n",
       "                                                                          'me',\n",
       "                                                                          'my',\n",
       "                                                                          'myself',\n",
       "                                                                          'we',\n",
       "                                                                          'our',\n",
       "                                                                          'ours',\n",
       "                                                                          'ourselves',\n",
       "                                                                          'you',\n",
       "                                                                          \"you're\",\n",
       "                                                                          \"you've\",\n",
       "                                                                          \"you'll\",\n",
       "                                                                          \"you'd\",\n",
       "                                                                          'your',\n",
       "                                                                          'yours',\n",
       "                                                                          'yourself',\n",
       "                                                                          'yourselves',\n",
       "                                                                          'he',\n",
       "                                                                          'him',\n",
       "                                                                          'his',\n",
       "                                                                          'himself',\n",
       "                                                                          'she',\n",
       "                                                                          \"she's\",\n",
       "                                                                          'her',\n",
       "                                                                          'hers',\n",
       "                                                                          'herself',\n",
       "                                                                          'it',\n",
       "                                                                          \"it's\",\n",
       "                                                                          'its',\n",
       "                                                                          'itself', ...])),\n",
       "                                             ('rf', RandomForestClassifier())]),\n",
       "                   param_distributions={'cv__max_df': [0.25, 0.5, 0.75, 1.0],\n",
       "                                        'cv__max_features': [200, 400, 600, 800,\n",
       "                                                             1000],\n",
       "                                        'cv__ngram_range': [(1, 1), (1, 2),\n",
       "                                                            (2, 2), (3, 3)],\n",
       "                                        'rf__max_depth': [10, 20, 30],\n",
       "                                        'rf__max_features': [5, 10, 15, 20],\n",
       "                                        'rf__max_samples': [5, 10, 15, 20],\n",
       "                                        'rf__n_estimators': [10, 20, 30]},\n",
       "                   random_state=42)"
      ]
     },
     "execution_count": 123,
     "metadata": {},
     "output_type": "execute_result"
    }
   ],
   "source": [
    "gr = RandomizedSearchCV(rf_pipe,\n",
    "                        param_distributions=rf_params,\n",
    "                        cv=5,\n",
    "                        random_state=42)\n",
    "\n",
    "gr.fit(X_train,y_train)"
   ]
  },
  {
   "cell_type": "code",
   "execution_count": 124,
   "id": "4134eb46-e1cb-4e48-8c30-53ee9d455eeb",
   "metadata": {},
   "outputs": [
    {
     "name": "stdout",
     "output_type": "stream",
     "text": [
      "Best Parameters:\n",
      "{'rf__n_estimators': 30, 'rf__max_samples': 15, 'rf__max_features': 20, 'rf__max_depth': 30, 'cv__ngram_range': (1, 2), 'cv__max_features': 400, 'cv__max_df': 0.25}\n",
      "Best Scores:\n",
      "0.5773\n"
     ]
    }
   ],
   "source": [
    "print_grid_results(gr)"
   ]
  },
  {
   "cell_type": "markdown",
   "id": "51d9e598-fc6d-4a24-9e64-3a854374ae1b",
   "metadata": {},
   "source": [
    "GridSearchCV to find the optimum hyperparameters"
   ]
  },
  {
   "cell_type": "code",
   "execution_count": 132,
   "id": "e17d24db-d2e5-4f86-b5fd-3389d201643b",
   "metadata": {},
   "outputs": [],
   "source": [
    "rf_params = {\n",
    "    'cv__max_df':[0.1,0.25],\n",
    "    'cv__max_features':[200,400],\n",
    "    'cv__ngram_range':[(1,1),(1,2)],\n",
    "    'rf__n_estimators':[60,120],\n",
    "    'rf__max_depth':[15,30],\n",
    "    'rf__max_samples':[20,40],\n",
    "    'rf__max_features':[60,120]\n",
    "}"
   ]
  },
  {
   "cell_type": "code",
   "execution_count": 133,
   "id": "e6fb364e-8f3b-44b5-8d6c-b522b2afb778",
   "metadata": {},
   "outputs": [
    {
     "data": {
      "text/html": [
       "<style>#sk-container-id-22 {color: black;background-color: white;}#sk-container-id-22 pre{padding: 0;}#sk-container-id-22 div.sk-toggleable {background-color: white;}#sk-container-id-22 label.sk-toggleable__label {cursor: pointer;display: block;width: 100%;margin-bottom: 0;padding: 0.3em;box-sizing: border-box;text-align: center;}#sk-container-id-22 label.sk-toggleable__label-arrow:before {content: \"▸\";float: left;margin-right: 0.25em;color: #696969;}#sk-container-id-22 label.sk-toggleable__label-arrow:hover:before {color: black;}#sk-container-id-22 div.sk-estimator:hover label.sk-toggleable__label-arrow:before {color: black;}#sk-container-id-22 div.sk-toggleable__content {max-height: 0;max-width: 0;overflow: hidden;text-align: left;background-color: #f0f8ff;}#sk-container-id-22 div.sk-toggleable__content pre {margin: 0.2em;color: black;border-radius: 0.25em;background-color: #f0f8ff;}#sk-container-id-22 input.sk-toggleable__control:checked~div.sk-toggleable__content {max-height: 200px;max-width: 100%;overflow: auto;}#sk-container-id-22 input.sk-toggleable__control:checked~label.sk-toggleable__label-arrow:before {content: \"▾\";}#sk-container-id-22 div.sk-estimator input.sk-toggleable__control:checked~label.sk-toggleable__label {background-color: #d4ebff;}#sk-container-id-22 div.sk-label input.sk-toggleable__control:checked~label.sk-toggleable__label {background-color: #d4ebff;}#sk-container-id-22 input.sk-hidden--visually {border: 0;clip: rect(1px 1px 1px 1px);clip: rect(1px, 1px, 1px, 1px);height: 1px;margin: -1px;overflow: hidden;padding: 0;position: absolute;width: 1px;}#sk-container-id-22 div.sk-estimator {font-family: monospace;background-color: #f0f8ff;border: 1px dotted black;border-radius: 0.25em;box-sizing: border-box;margin-bottom: 0.5em;}#sk-container-id-22 div.sk-estimator:hover {background-color: #d4ebff;}#sk-container-id-22 div.sk-parallel-item::after {content: \"\";width: 100%;border-bottom: 1px solid gray;flex-grow: 1;}#sk-container-id-22 div.sk-label:hover label.sk-toggleable__label {background-color: #d4ebff;}#sk-container-id-22 div.sk-serial::before {content: \"\";position: absolute;border-left: 1px solid gray;box-sizing: border-box;top: 0;bottom: 0;left: 50%;z-index: 0;}#sk-container-id-22 div.sk-serial {display: flex;flex-direction: column;align-items: center;background-color: white;padding-right: 0.2em;padding-left: 0.2em;position: relative;}#sk-container-id-22 div.sk-item {position: relative;z-index: 1;}#sk-container-id-22 div.sk-parallel {display: flex;align-items: stretch;justify-content: center;background-color: white;position: relative;}#sk-container-id-22 div.sk-item::before, #sk-container-id-22 div.sk-parallel-item::before {content: \"\";position: absolute;border-left: 1px solid gray;box-sizing: border-box;top: 0;bottom: 0;left: 50%;z-index: -1;}#sk-container-id-22 div.sk-parallel-item {display: flex;flex-direction: column;z-index: 1;position: relative;background-color: white;}#sk-container-id-22 div.sk-parallel-item:first-child::after {align-self: flex-end;width: 50%;}#sk-container-id-22 div.sk-parallel-item:last-child::after {align-self: flex-start;width: 50%;}#sk-container-id-22 div.sk-parallel-item:only-child::after {width: 0;}#sk-container-id-22 div.sk-dashed-wrapped {border: 1px dashed gray;margin: 0 0.4em 0.5em 0.4em;box-sizing: border-box;padding-bottom: 0.4em;background-color: white;}#sk-container-id-22 div.sk-label label {font-family: monospace;font-weight: bold;display: inline-block;line-height: 1.2em;}#sk-container-id-22 div.sk-label-container {text-align: center;}#sk-container-id-22 div.sk-container {/* jupyter's `normalize.less` sets `[hidden] { display: none; }` but bootstrap.min.css set `[hidden] { display: none !important; }` so we also need the `!important` here to be able to override the default hidden behavior on the sphinx rendered scikit-learn.org. See: https://github.com/scikit-learn/scikit-learn/issues/21755 */display: inline-block !important;position: relative;}#sk-container-id-22 div.sk-text-repr-fallback {display: none;}</style><div id=\"sk-container-id-22\" class=\"sk-top-container\"><div class=\"sk-text-repr-fallback\"><pre>GridSearchCV(cv=5,\n",
       "             estimator=Pipeline(steps=[(&#x27;cv&#x27;,\n",
       "                                        CountVectorizer(stop_words=[&#x27;i&#x27;, &#x27;me&#x27;,\n",
       "                                                                    &#x27;my&#x27;,\n",
       "                                                                    &#x27;myself&#x27;,\n",
       "                                                                    &#x27;we&#x27;, &#x27;our&#x27;,\n",
       "                                                                    &#x27;ours&#x27;,\n",
       "                                                                    &#x27;ourselves&#x27;,\n",
       "                                                                    &#x27;you&#x27;,\n",
       "                                                                    &quot;you&#x27;re&quot;,\n",
       "                                                                    &quot;you&#x27;ve&quot;,\n",
       "                                                                    &quot;you&#x27;ll&quot;,\n",
       "                                                                    &quot;you&#x27;d&quot;,\n",
       "                                                                    &#x27;your&#x27;,\n",
       "                                                                    &#x27;yours&#x27;,\n",
       "                                                                    &#x27;yourself&#x27;,\n",
       "                                                                    &#x27;yourselves&#x27;,\n",
       "                                                                    &#x27;he&#x27;, &#x27;him&#x27;,\n",
       "                                                                    &#x27;his&#x27;,\n",
       "                                                                    &#x27;himself&#x27;,\n",
       "                                                                    &#x27;she&#x27;,\n",
       "                                                                    &quot;she&#x27;s&quot;,\n",
       "                                                                    &#x27;her&#x27;,\n",
       "                                                                    &#x27;hers&#x27;,\n",
       "                                                                    &#x27;herself&#x27;,\n",
       "                                                                    &#x27;it&#x27;,\n",
       "                                                                    &quot;it&#x27;s&quot;,\n",
       "                                                                    &#x27;its&#x27;,\n",
       "                                                                    &#x27;itself&#x27;, ...])),\n",
       "                                       (&#x27;rf&#x27;, RandomForestClassifier())]),\n",
       "             param_grid={&#x27;cv__max_df&#x27;: [0.1, 0.25],\n",
       "                         &#x27;cv__max_features&#x27;: [200, 400],\n",
       "                         &#x27;cv__ngram_range&#x27;: [(1, 1), (1, 2)],\n",
       "                         &#x27;rf__max_depth&#x27;: [15, 30],\n",
       "                         &#x27;rf__max_features&#x27;: [60, 120],\n",
       "                         &#x27;rf__max_samples&#x27;: [20, 40],\n",
       "                         &#x27;rf__n_estimators&#x27;: [60, 120]})</pre><b>In a Jupyter environment, please rerun this cell to show the HTML representation or trust the notebook. <br />On GitHub, the HTML representation is unable to render, please try loading this page with nbviewer.org.</b></div><div class=\"sk-container\" hidden><div class=\"sk-item sk-dashed-wrapped\"><div class=\"sk-label-container\"><div class=\"sk-label sk-toggleable\"><input class=\"sk-toggleable__control sk-hidden--visually\" id=\"sk-estimator-id-85\" type=\"checkbox\" ><label for=\"sk-estimator-id-85\" class=\"sk-toggleable__label sk-toggleable__label-arrow\">GridSearchCV</label><div class=\"sk-toggleable__content\"><pre>GridSearchCV(cv=5,\n",
       "             estimator=Pipeline(steps=[(&#x27;cv&#x27;,\n",
       "                                        CountVectorizer(stop_words=[&#x27;i&#x27;, &#x27;me&#x27;,\n",
       "                                                                    &#x27;my&#x27;,\n",
       "                                                                    &#x27;myself&#x27;,\n",
       "                                                                    &#x27;we&#x27;, &#x27;our&#x27;,\n",
       "                                                                    &#x27;ours&#x27;,\n",
       "                                                                    &#x27;ourselves&#x27;,\n",
       "                                                                    &#x27;you&#x27;,\n",
       "                                                                    &quot;you&#x27;re&quot;,\n",
       "                                                                    &quot;you&#x27;ve&quot;,\n",
       "                                                                    &quot;you&#x27;ll&quot;,\n",
       "                                                                    &quot;you&#x27;d&quot;,\n",
       "                                                                    &#x27;your&#x27;,\n",
       "                                                                    &#x27;yours&#x27;,\n",
       "                                                                    &#x27;yourself&#x27;,\n",
       "                                                                    &#x27;yourselves&#x27;,\n",
       "                                                                    &#x27;he&#x27;, &#x27;him&#x27;,\n",
       "                                                                    &#x27;his&#x27;,\n",
       "                                                                    &#x27;himself&#x27;,\n",
       "                                                                    &#x27;she&#x27;,\n",
       "                                                                    &quot;she&#x27;s&quot;,\n",
       "                                                                    &#x27;her&#x27;,\n",
       "                                                                    &#x27;hers&#x27;,\n",
       "                                                                    &#x27;herself&#x27;,\n",
       "                                                                    &#x27;it&#x27;,\n",
       "                                                                    &quot;it&#x27;s&quot;,\n",
       "                                                                    &#x27;its&#x27;,\n",
       "                                                                    &#x27;itself&#x27;, ...])),\n",
       "                                       (&#x27;rf&#x27;, RandomForestClassifier())]),\n",
       "             param_grid={&#x27;cv__max_df&#x27;: [0.1, 0.25],\n",
       "                         &#x27;cv__max_features&#x27;: [200, 400],\n",
       "                         &#x27;cv__ngram_range&#x27;: [(1, 1), (1, 2)],\n",
       "                         &#x27;rf__max_depth&#x27;: [15, 30],\n",
       "                         &#x27;rf__max_features&#x27;: [60, 120],\n",
       "                         &#x27;rf__max_samples&#x27;: [20, 40],\n",
       "                         &#x27;rf__n_estimators&#x27;: [60, 120]})</pre></div></div></div><div class=\"sk-parallel\"><div class=\"sk-parallel-item\"><div class=\"sk-item\"><div class=\"sk-label-container\"><div class=\"sk-label sk-toggleable\"><input class=\"sk-toggleable__control sk-hidden--visually\" id=\"sk-estimator-id-86\" type=\"checkbox\" ><label for=\"sk-estimator-id-86\" class=\"sk-toggleable__label sk-toggleable__label-arrow\">estimator: Pipeline</label><div class=\"sk-toggleable__content\"><pre>Pipeline(steps=[(&#x27;cv&#x27;,\n",
       "                 CountVectorizer(stop_words=[&#x27;i&#x27;, &#x27;me&#x27;, &#x27;my&#x27;, &#x27;myself&#x27;, &#x27;we&#x27;,\n",
       "                                             &#x27;our&#x27;, &#x27;ours&#x27;, &#x27;ourselves&#x27;, &#x27;you&#x27;,\n",
       "                                             &quot;you&#x27;re&quot;, &quot;you&#x27;ve&quot;, &quot;you&#x27;ll&quot;,\n",
       "                                             &quot;you&#x27;d&quot;, &#x27;your&#x27;, &#x27;yours&#x27;,\n",
       "                                             &#x27;yourself&#x27;, &#x27;yourselves&#x27;, &#x27;he&#x27;,\n",
       "                                             &#x27;him&#x27;, &#x27;his&#x27;, &#x27;himself&#x27;, &#x27;she&#x27;,\n",
       "                                             &quot;she&#x27;s&quot;, &#x27;her&#x27;, &#x27;hers&#x27;, &#x27;herself&#x27;,\n",
       "                                             &#x27;it&#x27;, &quot;it&#x27;s&quot;, &#x27;its&#x27;, &#x27;itself&#x27;, ...])),\n",
       "                (&#x27;rf&#x27;, RandomForestClassifier())])</pre></div></div></div><div class=\"sk-serial\"><div class=\"sk-item\"><div class=\"sk-serial\"><div class=\"sk-item\"><div class=\"sk-estimator sk-toggleable\"><input class=\"sk-toggleable__control sk-hidden--visually\" id=\"sk-estimator-id-87\" type=\"checkbox\" ><label for=\"sk-estimator-id-87\" class=\"sk-toggleable__label sk-toggleable__label-arrow\">CountVectorizer</label><div class=\"sk-toggleable__content\"><pre>CountVectorizer(stop_words=[&#x27;i&#x27;, &#x27;me&#x27;, &#x27;my&#x27;, &#x27;myself&#x27;, &#x27;we&#x27;, &#x27;our&#x27;, &#x27;ours&#x27;,\n",
       "                            &#x27;ourselves&#x27;, &#x27;you&#x27;, &quot;you&#x27;re&quot;, &quot;you&#x27;ve&quot;, &quot;you&#x27;ll&quot;,\n",
       "                            &quot;you&#x27;d&quot;, &#x27;your&#x27;, &#x27;yours&#x27;, &#x27;yourself&#x27;, &#x27;yourselves&#x27;,\n",
       "                            &#x27;he&#x27;, &#x27;him&#x27;, &#x27;his&#x27;, &#x27;himself&#x27;, &#x27;she&#x27;, &quot;she&#x27;s&quot;,\n",
       "                            &#x27;her&#x27;, &#x27;hers&#x27;, &#x27;herself&#x27;, &#x27;it&#x27;, &quot;it&#x27;s&quot;, &#x27;its&#x27;,\n",
       "                            &#x27;itself&#x27;, ...])</pre></div></div></div><div class=\"sk-item\"><div class=\"sk-estimator sk-toggleable\"><input class=\"sk-toggleable__control sk-hidden--visually\" id=\"sk-estimator-id-88\" type=\"checkbox\" ><label for=\"sk-estimator-id-88\" class=\"sk-toggleable__label sk-toggleable__label-arrow\">RandomForestClassifier</label><div class=\"sk-toggleable__content\"><pre>RandomForestClassifier()</pre></div></div></div></div></div></div></div></div></div></div></div></div>"
      ],
      "text/plain": [
       "GridSearchCV(cv=5,\n",
       "             estimator=Pipeline(steps=[('cv',\n",
       "                                        CountVectorizer(stop_words=['i', 'me',\n",
       "                                                                    'my',\n",
       "                                                                    'myself',\n",
       "                                                                    'we', 'our',\n",
       "                                                                    'ours',\n",
       "                                                                    'ourselves',\n",
       "                                                                    'you',\n",
       "                                                                    \"you're\",\n",
       "                                                                    \"you've\",\n",
       "                                                                    \"you'll\",\n",
       "                                                                    \"you'd\",\n",
       "                                                                    'your',\n",
       "                                                                    'yours',\n",
       "                                                                    'yourself',\n",
       "                                                                    'yourselves',\n",
       "                                                                    'he', 'him',\n",
       "                                                                    'his',\n",
       "                                                                    'himself',\n",
       "                                                                    'she',\n",
       "                                                                    \"she's\",\n",
       "                                                                    'her',\n",
       "                                                                    'hers',\n",
       "                                                                    'herself',\n",
       "                                                                    'it',\n",
       "                                                                    \"it's\",\n",
       "                                                                    'its',\n",
       "                                                                    'itself', ...])),\n",
       "                                       ('rf', RandomForestClassifier())]),\n",
       "             param_grid={'cv__max_df': [0.1, 0.25],\n",
       "                         'cv__max_features': [200, 400],\n",
       "                         'cv__ngram_range': [(1, 1), (1, 2)],\n",
       "                         'rf__max_depth': [15, 30],\n",
       "                         'rf__max_features': [60, 120],\n",
       "                         'rf__max_samples': [20, 40],\n",
       "                         'rf__n_estimators': [60, 120]})"
      ]
     },
     "execution_count": 133,
     "metadata": {},
     "output_type": "execute_result"
    }
   ],
   "source": [
    "rf_gs = GridSearchCV(rf_pipe,\n",
    "                  param_grid=rf_params,\n",
    "                  cv=5)\n",
    "\n",
    "rf_gs.fit(X_train,y_train)"
   ]
  },
  {
   "cell_type": "code",
   "execution_count": 134,
   "id": "bbbffcfd-2357-4473-9fa5-f6312c1ae7b7",
   "metadata": {},
   "outputs": [
    {
     "data": {
      "text/plain": [
       "{'cv__max_df': 0.25,\n",
       " 'cv__max_features': 200,\n",
       " 'cv__ngram_range': (1, 1),\n",
       " 'rf__max_depth': 30,\n",
       " 'rf__max_features': 60,\n",
       " 'rf__max_samples': 40,\n",
       " 'rf__n_estimators': 120}"
      ]
     },
     "execution_count": 134,
     "metadata": {},
     "output_type": "execute_result"
    }
   ],
   "source": [
    "rf_gs.best_params_"
   ]
  },
  {
   "cell_type": "code",
   "execution_count": 135,
   "id": "28fae900-d08e-42c9-aa14-cc8ffcfdbf07",
   "metadata": {},
   "outputs": [],
   "source": [
    "# Create Pipeline\n",
    "rf_pipe_best = Pipeline([\n",
    "    \n",
    "    ('cv', CountVectorizer(max_df=rf_gs.best_params_['cv__max_df'],\n",
    "                           max_features=rf_gs.best_params_['cv__max_features'],\n",
    "                           ngram_range=rf_gs.best_params_['cv__ngram_range'],\n",
    "                           stop_words=manual_stopwords)),\n",
    "    \n",
    "    ('rf', RandomForestClassifier(max_depth=rf_gs.best_params_\\\n",
    "                                  ['rf__max_features'],\n",
    "                                  max_features=rf_gs.best_params_\\\n",
    "                                  ['rf__max_features'],\n",
    "                                  max_samples=rf_gs.best_params_\\\n",
    "                                  ['rf__max_samples'],\n",
    "                                  n_estimators=rf_gs.best_params_\\\n",
    "                                  ['rf__n_estimators']\n",
    "                            ))\n",
    "])"
   ]
  },
  {
   "cell_type": "markdown",
   "id": "d24dc324-45c7-4732-bc9c-0357e9447a65",
   "metadata": {},
   "source": [
    "Fit the model on GridSearchCV best parameter"
   ]
  },
  {
   "cell_type": "code",
   "execution_count": 136,
   "id": "daca9fe5-bec7-414c-ae4e-594bfe561136",
   "metadata": {},
   "outputs": [
    {
     "name": "stdout",
     "output_type": "stream",
     "text": [
      "Train Score: 0.6763\n",
      "Test Score: 0.6393\n",
      "Classification Report:\n",
      "              precision    recall  f1-score   support\n",
      "\n",
      "    coursera       0.81      0.37      0.51       250\n",
      "         edx       0.59      0.91      0.72       249\n",
      "\n",
      "    accuracy                           0.64       499\n",
      "   macro avg       0.70      0.64      0.61       499\n",
      "weighted avg       0.70      0.64      0.61       499\n",
      "\n"
     ]
    }
   ],
   "source": [
    "fit_pipe(rf_pipe_best,X_train,X_test,y_train,y_test)"
   ]
  },
  {
   "cell_type": "code",
   "execution_count": 137,
   "id": "d9856686-e7e0-441f-80e7-b1e3ca216e14",
   "metadata": {},
   "outputs": [
    {
     "name": "stdout",
     "output_type": "stream",
     "text": [
      "Confusion Matrix:\n"
     ]
    },
    {
     "data": {
      "image/png": "[encoded data removed]",
      "text/plain": [
       "<Figure size 432x288 with 2 Axes>"
      ]
     },
     "metadata": {
      "needs_background": "light"
     },
     "output_type": "display_data"
    }
   ],
   "source": [
    "show_cm(bg_pipe_best,X_train,X_test,y_train,y_test)"
   ]
  },
  {
   "cell_type": "markdown",
   "id": "42cad786-0e96-4cff-92af-469a43b00754",
   "metadata": {},
   "source": [
    "__Key Takeaway:__ <br>\n",
    "- Default hyperparameters of Random Forest Classfier gives us an accuracy of 0.667\n",
    "- Optimization gives us a parameter of 0.635\n",
    "- This is not an improvement, but more of an overfit\n",
    "- We will select other models"
   ]
  },
  {
   "cell_type": "markdown",
   "id": "99954191-5b87-4b85-a246-ffb5fb71fcdd",
   "metadata": {},
   "source": [
    "---"
   ]
  },
  {
   "cell_type": "markdown",
   "id": "508d017d-039c-427c-9b2e-3f3c12ff5bf1",
   "metadata": {
    "tags": []
   },
   "source": [
    "#### Ada Boosting Classifier\n",
    "[Back to Table of Content](#Table-of-Content)"
   ]
  },
  {
   "cell_type": "code",
   "execution_count": 138,
   "id": "28e270aa-1d27-481f-85f9-0afc812a872f",
   "metadata": {},
   "outputs": [],
   "source": [
    "# CountVectorizer and k-Neareset Neighbour Classification\n",
    "\n",
    "# Create Pipeline\n",
    "ad_pipe = Pipeline([\n",
    "    ('tf', TfidfVectorizer(stop_words=manual_stopwords)),\n",
    "    ('ad', AdaBoostClassifier())\n",
    "])"
   ]
  },
  {
   "cell_type": "code",
   "execution_count": 139,
   "id": "2dc04e5a-cfd1-4732-a305-88a9d13e17f1",
   "metadata": {},
   "outputs": [
    {
     "name": "stdout",
     "output_type": "stream",
     "text": [
      "Train Score: 0.7258\n",
      "Test Score: 0.6493\n",
      "Classification Report:\n",
      "              precision    recall  f1-score   support\n",
      "\n",
      "    coursera       0.83      0.38      0.52       250\n",
      "         edx       0.60      0.92      0.72       249\n",
      "\n",
      "    accuracy                           0.65       499\n",
      "   macro avg       0.71      0.65      0.62       499\n",
      "weighted avg       0.71      0.65      0.62       499\n",
      "\n"
     ]
    }
   ],
   "source": [
    "fit_pipe(ad_pipe,X_train,X_test,y_train,y_test)"
   ]
  },
  {
   "cell_type": "markdown",
   "id": "7c0cbbba-e5bc-4f3a-8367-ba24ae752c5c",
   "metadata": {},
   "source": [
    "__*Optimization of Ada Boosting Classification*__"
   ]
  },
  {
   "cell_type": "markdown",
   "id": "0f79cf51-7213-48a3-945a-e45d5ffa0f0b",
   "metadata": {},
   "source": [
    "RandomizedSearchCV to find the starting point"
   ]
  },
  {
   "cell_type": "code",
   "execution_count": 140,
   "id": "1144e6a6-1e52-4eb9-9d7f-6d00e9d93748",
   "metadata": {},
   "outputs": [],
   "source": [
    "ad_params = {\n",
    "    'tf__max_df':[0.25,0.5,0.75,1.0],\n",
    "    'tf__max_features':[200,400,600,800,1000],\n",
    "    'tf__ngram_range':[(1,1),(1,2),(2,2),(3,3)],\n",
    "    'ad__n_estimators':[10,20,30],\n",
    "    'ad__learning_rate':[0.5,1]\n",
    "}"
   ]
  },
  {
   "cell_type": "code",
   "execution_count": 141,
   "id": "a30a97a9-92b2-4c7a-865d-c0cbcbb239f7",
   "metadata": {},
   "outputs": [
    {
     "data": {
      "text/html": [
       "<style>#sk-container-id-23 {color: black;background-color: white;}#sk-container-id-23 pre{padding: 0;}#sk-container-id-23 div.sk-toggleable {background-color: white;}#sk-container-id-23 label.sk-toggleable__label {cursor: pointer;display: block;width: 100%;margin-bottom: 0;padding: 0.3em;box-sizing: border-box;text-align: center;}#sk-container-id-23 label.sk-toggleable__label-arrow:before {content: \"▸\";float: left;margin-right: 0.25em;color: #696969;}#sk-container-id-23 label.sk-toggleable__label-arrow:hover:before {color: black;}#sk-container-id-23 div.sk-estimator:hover label.sk-toggleable__label-arrow:before {color: black;}#sk-container-id-23 div.sk-toggleable__content {max-height: 0;max-width: 0;overflow: hidden;text-align: left;background-color: #f0f8ff;}#sk-container-id-23 div.sk-toggleable__content pre {margin: 0.2em;color: black;border-radius: 0.25em;background-color: #f0f8ff;}#sk-container-id-23 input.sk-toggleable__control:checked~div.sk-toggleable__content {max-height: 200px;max-width: 100%;overflow: auto;}#sk-container-id-23 input.sk-toggleable__control:checked~label.sk-toggleable__label-arrow:before {content: \"▾\";}#sk-container-id-23 div.sk-estimator input.sk-toggleable__control:checked~label.sk-toggleable__label {background-color: #d4ebff;}#sk-container-id-23 div.sk-label input.sk-toggleable__control:checked~label.sk-toggleable__label {background-color: #d4ebff;}#sk-container-id-23 input.sk-hidden--visually {border: 0;clip: rect(1px 1px 1px 1px);clip: rect(1px, 1px, 1px, 1px);height: 1px;margin: -1px;overflow: hidden;padding: 0;position: absolute;width: 1px;}#sk-container-id-23 div.sk-estimator {font-family: monospace;background-color: #f0f8ff;border: 1px dotted black;border-radius: 0.25em;box-sizing: border-box;margin-bottom: 0.5em;}#sk-container-id-23 div.sk-estimator:hover {background-color: #d4ebff;}#sk-container-id-23 div.sk-parallel-item::after {content: \"\";width: 100%;border-bottom: 1px solid gray;flex-grow: 1;}#sk-container-id-23 div.sk-label:hover label.sk-toggleable__label {background-color: #d4ebff;}#sk-container-id-23 div.sk-serial::before {content: \"\";position: absolute;border-left: 1px solid gray;box-sizing: border-box;top: 0;bottom: 0;left: 50%;z-index: 0;}#sk-container-id-23 div.sk-serial {display: flex;flex-direction: column;align-items: center;background-color: white;padding-right: 0.2em;padding-left: 0.2em;position: relative;}#sk-container-id-23 div.sk-item {position: relative;z-index: 1;}#sk-container-id-23 div.sk-parallel {display: flex;align-items: stretch;justify-content: center;background-color: white;position: relative;}#sk-container-id-23 div.sk-item::before, #sk-container-id-23 div.sk-parallel-item::before {content: \"\";position: absolute;border-left: 1px solid gray;box-sizing: border-box;top: 0;bottom: 0;left: 50%;z-index: -1;}#sk-container-id-23 div.sk-parallel-item {display: flex;flex-direction: column;z-index: 1;position: relative;background-color: white;}#sk-container-id-23 div.sk-parallel-item:first-child::after {align-self: flex-end;width: 50%;}#sk-container-id-23 div.sk-parallel-item:last-child::after {align-self: flex-start;width: 50%;}#sk-container-id-23 div.sk-parallel-item:only-child::after {width: 0;}#sk-container-id-23 div.sk-dashed-wrapped {border: 1px dashed gray;margin: 0 0.4em 0.5em 0.4em;box-sizing: border-box;padding-bottom: 0.4em;background-color: white;}#sk-container-id-23 div.sk-label label {font-family: monospace;font-weight: bold;display: inline-block;line-height: 1.2em;}#sk-container-id-23 div.sk-label-container {text-align: center;}#sk-container-id-23 div.sk-container {/* jupyter's `normalize.less` sets `[hidden] { display: none; }` but bootstrap.min.css set `[hidden] { display: none !important; }` so we also need the `!important` here to be able to override the default hidden behavior on the sphinx rendered scikit-learn.org. See: https://github.com/scikit-learn/scikit-learn/issues/21755 */display: inline-block !important;position: relative;}#sk-container-id-23 div.sk-text-repr-fallback {display: none;}</style><div id=\"sk-container-id-23\" class=\"sk-top-container\"><div class=\"sk-text-repr-fallback\"><pre>RandomizedSearchCV(cv=5,\n",
       "                   estimator=Pipeline(steps=[(&#x27;tf&#x27;,\n",
       "                                              TfidfVectorizer(stop_words=[&#x27;i&#x27;,\n",
       "                                                                          &#x27;me&#x27;,\n",
       "                                                                          &#x27;my&#x27;,\n",
       "                                                                          &#x27;myself&#x27;,\n",
       "                                                                          &#x27;we&#x27;,\n",
       "                                                                          &#x27;our&#x27;,\n",
       "                                                                          &#x27;ours&#x27;,\n",
       "                                                                          &#x27;ourselves&#x27;,\n",
       "                                                                          &#x27;you&#x27;,\n",
       "                                                                          &quot;you&#x27;re&quot;,\n",
       "                                                                          &quot;you&#x27;ve&quot;,\n",
       "                                                                          &quot;you&#x27;ll&quot;,\n",
       "                                                                          &quot;you&#x27;d&quot;,\n",
       "                                                                          &#x27;your&#x27;,\n",
       "                                                                          &#x27;yours&#x27;,\n",
       "                                                                          &#x27;yourself&#x27;,\n",
       "                                                                          &#x27;yourselves&#x27;,\n",
       "                                                                          &#x27;he&#x27;,\n",
       "                                                                          &#x27;him&#x27;,\n",
       "                                                                          &#x27;his&#x27;,\n",
       "                                                                          &#x27;himself&#x27;,\n",
       "                                                                          &#x27;she&#x27;,\n",
       "                                                                          &quot;she&#x27;s&quot;,\n",
       "                                                                          &#x27;her&#x27;,\n",
       "                                                                          &#x27;hers&#x27;,\n",
       "                                                                          &#x27;herself&#x27;,\n",
       "                                                                          &#x27;it&#x27;,\n",
       "                                                                          &quot;it&#x27;s&quot;,\n",
       "                                                                          &#x27;its&#x27;,\n",
       "                                                                          &#x27;itself&#x27;, ...])),\n",
       "                                             (&#x27;ad&#x27;, AdaBoostClassifier())]),\n",
       "                   param_distributions={&#x27;ad__learning_rate&#x27;: [0.5, 1],\n",
       "                                        &#x27;ad__n_estimators&#x27;: [10, 20, 30],\n",
       "                                        &#x27;tf__max_df&#x27;: [0.25, 0.5, 0.75, 1.0],\n",
       "                                        &#x27;tf__max_features&#x27;: [200, 400, 600, 800,\n",
       "                                                             1000],\n",
       "                                        &#x27;tf__ngram_range&#x27;: [(1, 1), (1, 2),\n",
       "                                                            (2, 2), (3, 3)]},\n",
       "                   random_state=42)</pre><b>In a Jupyter environment, please rerun this cell to show the HTML representation or trust the notebook. <br />On GitHub, the HTML representation is unable to render, please try loading this page with nbviewer.org.</b></div><div class=\"sk-container\" hidden><div class=\"sk-item sk-dashed-wrapped\"><div class=\"sk-label-container\"><div class=\"sk-label sk-toggleable\"><input class=\"sk-toggleable__control sk-hidden--visually\" id=\"sk-estimator-id-89\" type=\"checkbox\" ><label for=\"sk-estimator-id-89\" class=\"sk-toggleable__label sk-toggleable__label-arrow\">RandomizedSearchCV</label><div class=\"sk-toggleable__content\"><pre>RandomizedSearchCV(cv=5,\n",
       "                   estimator=Pipeline(steps=[(&#x27;tf&#x27;,\n",
       "                                              TfidfVectorizer(stop_words=[&#x27;i&#x27;,\n",
       "                                                                          &#x27;me&#x27;,\n",
       "                                                                          &#x27;my&#x27;,\n",
       "                                                                          &#x27;myself&#x27;,\n",
       "                                                                          &#x27;we&#x27;,\n",
       "                                                                          &#x27;our&#x27;,\n",
       "                                                                          &#x27;ours&#x27;,\n",
       "                                                                          &#x27;ourselves&#x27;,\n",
       "                                                                          &#x27;you&#x27;,\n",
       "                                                                          &quot;you&#x27;re&quot;,\n",
       "                                                                          &quot;you&#x27;ve&quot;,\n",
       "                                                                          &quot;you&#x27;ll&quot;,\n",
       "                                                                          &quot;you&#x27;d&quot;,\n",
       "                                                                          &#x27;your&#x27;,\n",
       "                                                                          &#x27;yours&#x27;,\n",
       "                                                                          &#x27;yourself&#x27;,\n",
       "                                                                          &#x27;yourselves&#x27;,\n",
       "                                                                          &#x27;he&#x27;,\n",
       "                                                                          &#x27;him&#x27;,\n",
       "                                                                          &#x27;his&#x27;,\n",
       "                                                                          &#x27;himself&#x27;,\n",
       "                                                                          &#x27;she&#x27;,\n",
       "                                                                          &quot;she&#x27;s&quot;,\n",
       "                                                                          &#x27;her&#x27;,\n",
       "                                                                          &#x27;hers&#x27;,\n",
       "                                                                          &#x27;herself&#x27;,\n",
       "                                                                          &#x27;it&#x27;,\n",
       "                                                                          &quot;it&#x27;s&quot;,\n",
       "                                                                          &#x27;its&#x27;,\n",
       "                                                                          &#x27;itself&#x27;, ...])),\n",
       "                                             (&#x27;ad&#x27;, AdaBoostClassifier())]),\n",
       "                   param_distributions={&#x27;ad__learning_rate&#x27;: [0.5, 1],\n",
       "                                        &#x27;ad__n_estimators&#x27;: [10, 20, 30],\n",
       "                                        &#x27;tf__max_df&#x27;: [0.25, 0.5, 0.75, 1.0],\n",
       "                                        &#x27;tf__max_features&#x27;: [200, 400, 600, 800,\n",
       "                                                             1000],\n",
       "                                        &#x27;tf__ngram_range&#x27;: [(1, 1), (1, 2),\n",
       "                                                            (2, 2), (3, 3)]},\n",
       "                   random_state=42)</pre></div></div></div><div class=\"sk-parallel\"><div class=\"sk-parallel-item\"><div class=\"sk-item\"><div class=\"sk-label-container\"><div class=\"sk-label sk-toggleable\"><input class=\"sk-toggleable__control sk-hidden--visually\" id=\"sk-estimator-id-90\" type=\"checkbox\" ><label for=\"sk-estimator-id-90\" class=\"sk-toggleable__label sk-toggleable__label-arrow\">estimator: Pipeline</label><div class=\"sk-toggleable__content\"><pre>Pipeline(steps=[(&#x27;tf&#x27;,\n",
       "                 TfidfVectorizer(stop_words=[&#x27;i&#x27;, &#x27;me&#x27;, &#x27;my&#x27;, &#x27;myself&#x27;, &#x27;we&#x27;,\n",
       "                                             &#x27;our&#x27;, &#x27;ours&#x27;, &#x27;ourselves&#x27;, &#x27;you&#x27;,\n",
       "                                             &quot;you&#x27;re&quot;, &quot;you&#x27;ve&quot;, &quot;you&#x27;ll&quot;,\n",
       "                                             &quot;you&#x27;d&quot;, &#x27;your&#x27;, &#x27;yours&#x27;,\n",
       "                                             &#x27;yourself&#x27;, &#x27;yourselves&#x27;, &#x27;he&#x27;,\n",
       "                                             &#x27;him&#x27;, &#x27;his&#x27;, &#x27;himself&#x27;, &#x27;she&#x27;,\n",
       "                                             &quot;she&#x27;s&quot;, &#x27;her&#x27;, &#x27;hers&#x27;, &#x27;herself&#x27;,\n",
       "                                             &#x27;it&#x27;, &quot;it&#x27;s&quot;, &#x27;its&#x27;, &#x27;itself&#x27;, ...])),\n",
       "                (&#x27;ad&#x27;, AdaBoostClassifier())])</pre></div></div></div><div class=\"sk-serial\"><div class=\"sk-item\"><div class=\"sk-serial\"><div class=\"sk-item\"><div class=\"sk-estimator sk-toggleable\"><input class=\"sk-toggleable__control sk-hidden--visually\" id=\"sk-estimator-id-91\" type=\"checkbox\" ><label for=\"sk-estimator-id-91\" class=\"sk-toggleable__label sk-toggleable__label-arrow\">TfidfVectorizer</label><div class=\"sk-toggleable__content\"><pre>TfidfVectorizer(stop_words=[&#x27;i&#x27;, &#x27;me&#x27;, &#x27;my&#x27;, &#x27;myself&#x27;, &#x27;we&#x27;, &#x27;our&#x27;, &#x27;ours&#x27;,\n",
       "                            &#x27;ourselves&#x27;, &#x27;you&#x27;, &quot;you&#x27;re&quot;, &quot;you&#x27;ve&quot;, &quot;you&#x27;ll&quot;,\n",
       "                            &quot;you&#x27;d&quot;, &#x27;your&#x27;, &#x27;yours&#x27;, &#x27;yourself&#x27;, &#x27;yourselves&#x27;,\n",
       "                            &#x27;he&#x27;, &#x27;him&#x27;, &#x27;his&#x27;, &#x27;himself&#x27;, &#x27;she&#x27;, &quot;she&#x27;s&quot;,\n",
       "                            &#x27;her&#x27;, &#x27;hers&#x27;, &#x27;herself&#x27;, &#x27;it&#x27;, &quot;it&#x27;s&quot;, &#x27;its&#x27;,\n",
       "                            &#x27;itself&#x27;, ...])</pre></div></div></div><div class=\"sk-item\"><div class=\"sk-estimator sk-toggleable\"><input class=\"sk-toggleable__control sk-hidden--visually\" id=\"sk-estimator-id-92\" type=\"checkbox\" ><label for=\"sk-estimator-id-92\" class=\"sk-toggleable__label sk-toggleable__label-arrow\">AdaBoostClassifier</label><div class=\"sk-toggleable__content\"><pre>AdaBoostClassifier()</pre></div></div></div></div></div></div></div></div></div></div></div></div>"
      ],
      "text/plain": [
       "RandomizedSearchCV(cv=5,\n",
       "                   estimator=Pipeline(steps=[('tf',\n",
       "                                              TfidfVectorizer(stop_words=['i',\n",
       "                                                                          'me',\n",
       "                                                                          'my',\n",
       "                                                                          'myself',\n",
       "                                                                          'we',\n",
       "                                                                          'our',\n",
       "                                                                          'ours',\n",
       "                                                                          'ourselves',\n",
       "                                                                          'you',\n",
       "                                                                          \"you're\",\n",
       "                                                                          \"you've\",\n",
       "                                                                          \"you'll\",\n",
       "                                                                          \"you'd\",\n",
       "                                                                          'your',\n",
       "                                                                          'yours',\n",
       "                                                                          'yourself',\n",
       "                                                                          'yourselves',\n",
       "                                                                          'he',\n",
       "                                                                          'him',\n",
       "                                                                          'his',\n",
       "                                                                          'himself',\n",
       "                                                                          'she',\n",
       "                                                                          \"she's\",\n",
       "                                                                          'her',\n",
       "                                                                          'hers',\n",
       "                                                                          'herself',\n",
       "                                                                          'it',\n",
       "                                                                          \"it's\",\n",
       "                                                                          'its',\n",
       "                                                                          'itself', ...])),\n",
       "                                             ('ad', AdaBoostClassifier())]),\n",
       "                   param_distributions={'ad__learning_rate': [0.5, 1],\n",
       "                                        'ad__n_estimators': [10, 20, 30],\n",
       "                                        'tf__max_df': [0.25, 0.5, 0.75, 1.0],\n",
       "                                        'tf__max_features': [200, 400, 600, 800,\n",
       "                                                             1000],\n",
       "                                        'tf__ngram_range': [(1, 1), (1, 2),\n",
       "                                                            (2, 2), (3, 3)]},\n",
       "                   random_state=42)"
      ]
     },
     "execution_count": 141,
     "metadata": {},
     "output_type": "execute_result"
    }
   ],
   "source": [
    "gr = RandomizedSearchCV(ad_pipe,\n",
    "                        param_distributions=ad_params,\n",
    "                        cv=5,\n",
    "                        random_state=42)\n",
    "\n",
    "gr.fit(X_train,y_train)"
   ]
  },
  {
   "cell_type": "code",
   "execution_count": 142,
   "id": "c8765ab3-6e53-4200-b31a-38f11cc71104",
   "metadata": {},
   "outputs": [
    {
     "name": "stdout",
     "output_type": "stream",
     "text": [
      "Best Parameters:\n",
      "{'tf__ngram_range': (1, 1), 'tf__max_features': 800, 'tf__max_df': 0.25, 'ad__n_estimators': 30, 'ad__learning_rate': 0.5}\n",
      "Best Scores:\n",
      "0.6441\n"
     ]
    }
   ],
   "source": [
    "print_grid_results(gr)"
   ]
  },
  {
   "cell_type": "markdown",
   "id": "45a0e311-4188-41bf-b8f4-310967607903",
   "metadata": {},
   "source": [
    "GridSearchCV to find the optimum hyperparameters"
   ]
  },
  {
   "cell_type": "code",
   "execution_count": 143,
   "id": "5f91e89b-ca75-4e66-88d9-51b19704259f",
   "metadata": {},
   "outputs": [],
   "source": [
    "ad_params = {\n",
    "    'tf__max_df':[0.15,0.25],\n",
    "    'tf__max_features':[800,1000],\n",
    "    'tf__ngram_range':[(1,1),(1,2)],\n",
    "    'ad__n_estimators':[30,60],\n",
    "    'ad__learning_rate':[0.25,0.5]\n",
    "}"
   ]
  },
  {
   "cell_type": "code",
   "execution_count": 144,
   "id": "ef5c07ca-481e-446a-a630-14390d094887",
   "metadata": {},
   "outputs": [
    {
     "data": {
      "text/html": [
       "<style>#sk-container-id-24 {color: black;background-color: white;}#sk-container-id-24 pre{padding: 0;}#sk-container-id-24 div.sk-toggleable {background-color: white;}#sk-container-id-24 label.sk-toggleable__label {cursor: pointer;display: block;width: 100%;margin-bottom: 0;padding: 0.3em;box-sizing: border-box;text-align: center;}#sk-container-id-24 label.sk-toggleable__label-arrow:before {content: \"▸\";float: left;margin-right: 0.25em;color: #696969;}#sk-container-id-24 label.sk-toggleable__label-arrow:hover:before {color: black;}#sk-container-id-24 div.sk-estimator:hover label.sk-toggleable__label-arrow:before {color: black;}#sk-container-id-24 div.sk-toggleable__content {max-height: 0;max-width: 0;overflow: hidden;text-align: left;background-color: #f0f8ff;}#sk-container-id-24 div.sk-toggleable__content pre {margin: 0.2em;color: black;border-radius: 0.25em;background-color: #f0f8ff;}#sk-container-id-24 input.sk-toggleable__control:checked~div.sk-toggleable__content {max-height: 200px;max-width: 100%;overflow: auto;}#sk-container-id-24 input.sk-toggleable__control:checked~label.sk-toggleable__label-arrow:before {content: \"▾\";}#sk-container-id-24 div.sk-estimator input.sk-toggleable__control:checked~label.sk-toggleable__label {background-color: #d4ebff;}#sk-container-id-24 div.sk-label input.sk-toggleable__control:checked~label.sk-toggleable__label {background-color: #d4ebff;}#sk-container-id-24 input.sk-hidden--visually {border: 0;clip: rect(1px 1px 1px 1px);clip: rect(1px, 1px, 1px, 1px);height: 1px;margin: -1px;overflow: hidden;padding: 0;position: absolute;width: 1px;}#sk-container-id-24 div.sk-estimator {font-family: monospace;background-color: #f0f8ff;border: 1px dotted black;border-radius: 0.25em;box-sizing: border-box;margin-bottom: 0.5em;}#sk-container-id-24 div.sk-estimator:hover {background-color: #d4ebff;}#sk-container-id-24 div.sk-parallel-item::after {content: \"\";width: 100%;border-bottom: 1px solid gray;flex-grow: 1;}#sk-container-id-24 div.sk-label:hover label.sk-toggleable__label {background-color: #d4ebff;}#sk-container-id-24 div.sk-serial::before {content: \"\";position: absolute;border-left: 1px solid gray;box-sizing: border-box;top: 0;bottom: 0;left: 50%;z-index: 0;}#sk-container-id-24 div.sk-serial {display: flex;flex-direction: column;align-items: center;background-color: white;padding-right: 0.2em;padding-left: 0.2em;position: relative;}#sk-container-id-24 div.sk-item {position: relative;z-index: 1;}#sk-container-id-24 div.sk-parallel {display: flex;align-items: stretch;justify-content: center;background-color: white;position: relative;}#sk-container-id-24 div.sk-item::before, #sk-container-id-24 div.sk-parallel-item::before {content: \"\";position: absolute;border-left: 1px solid gray;box-sizing: border-box;top: 0;bottom: 0;left: 50%;z-index: -1;}#sk-container-id-24 div.sk-parallel-item {display: flex;flex-direction: column;z-index: 1;position: relative;background-color: white;}#sk-container-id-24 div.sk-parallel-item:first-child::after {align-self: flex-end;width: 50%;}#sk-container-id-24 div.sk-parallel-item:last-child::after {align-self: flex-start;width: 50%;}#sk-container-id-24 div.sk-parallel-item:only-child::after {width: 0;}#sk-container-id-24 div.sk-dashed-wrapped {border: 1px dashed gray;margin: 0 0.4em 0.5em 0.4em;box-sizing: border-box;padding-bottom: 0.4em;background-color: white;}#sk-container-id-24 div.sk-label label {font-family: monospace;font-weight: bold;display: inline-block;line-height: 1.2em;}#sk-container-id-24 div.sk-label-container {text-align: center;}#sk-container-id-24 div.sk-container {/* jupyter's `normalize.less` sets `[hidden] { display: none; }` but bootstrap.min.css set `[hidden] { display: none !important; }` so we also need the `!important` here to be able to override the default hidden behavior on the sphinx rendered scikit-learn.org. See: https://github.com/scikit-learn/scikit-learn/issues/21755 */display: inline-block !important;position: relative;}#sk-container-id-24 div.sk-text-repr-fallback {display: none;}</style><div id=\"sk-container-id-24\" class=\"sk-top-container\"><div class=\"sk-text-repr-fallback\"><pre>GridSearchCV(cv=5,\n",
       "             estimator=Pipeline(steps=[(&#x27;tf&#x27;,\n",
       "                                        TfidfVectorizer(stop_words=[&#x27;i&#x27;, &#x27;me&#x27;,\n",
       "                                                                    &#x27;my&#x27;,\n",
       "                                                                    &#x27;myself&#x27;,\n",
       "                                                                    &#x27;we&#x27;, &#x27;our&#x27;,\n",
       "                                                                    &#x27;ours&#x27;,\n",
       "                                                                    &#x27;ourselves&#x27;,\n",
       "                                                                    &#x27;you&#x27;,\n",
       "                                                                    &quot;you&#x27;re&quot;,\n",
       "                                                                    &quot;you&#x27;ve&quot;,\n",
       "                                                                    &quot;you&#x27;ll&quot;,\n",
       "                                                                    &quot;you&#x27;d&quot;,\n",
       "                                                                    &#x27;your&#x27;,\n",
       "                                                                    &#x27;yours&#x27;,\n",
       "                                                                    &#x27;yourself&#x27;,\n",
       "                                                                    &#x27;yourselves&#x27;,\n",
       "                                                                    &#x27;he&#x27;, &#x27;him&#x27;,\n",
       "                                                                    &#x27;his&#x27;,\n",
       "                                                                    &#x27;himself&#x27;,\n",
       "                                                                    &#x27;she&#x27;,\n",
       "                                                                    &quot;she&#x27;s&quot;,\n",
       "                                                                    &#x27;her&#x27;,\n",
       "                                                                    &#x27;hers&#x27;,\n",
       "                                                                    &#x27;herself&#x27;,\n",
       "                                                                    &#x27;it&#x27;,\n",
       "                                                                    &quot;it&#x27;s&quot;,\n",
       "                                                                    &#x27;its&#x27;,\n",
       "                                                                    &#x27;itself&#x27;, ...])),\n",
       "                                       (&#x27;ad&#x27;, AdaBoostClassifier())]),\n",
       "             param_grid={&#x27;ad__learning_rate&#x27;: [0.25, 0.5],\n",
       "                         &#x27;ad__n_estimators&#x27;: [30, 60],\n",
       "                         &#x27;tf__max_df&#x27;: [0.15, 0.25],\n",
       "                         &#x27;tf__max_features&#x27;: [800, 1000],\n",
       "                         &#x27;tf__ngram_range&#x27;: [(1, 1), (1, 2)]})</pre><b>In a Jupyter environment, please rerun this cell to show the HTML representation or trust the notebook. <br />On GitHub, the HTML representation is unable to render, please try loading this page with nbviewer.org.</b></div><div class=\"sk-container\" hidden><div class=\"sk-item sk-dashed-wrapped\"><div class=\"sk-label-container\"><div class=\"sk-label sk-toggleable\"><input class=\"sk-toggleable__control sk-hidden--visually\" id=\"sk-estimator-id-93\" type=\"checkbox\" ><label for=\"sk-estimator-id-93\" class=\"sk-toggleable__label sk-toggleable__label-arrow\">GridSearchCV</label><div class=\"sk-toggleable__content\"><pre>GridSearchCV(cv=5,\n",
       "             estimator=Pipeline(steps=[(&#x27;tf&#x27;,\n",
       "                                        TfidfVectorizer(stop_words=[&#x27;i&#x27;, &#x27;me&#x27;,\n",
       "                                                                    &#x27;my&#x27;,\n",
       "                                                                    &#x27;myself&#x27;,\n",
       "                                                                    &#x27;we&#x27;, &#x27;our&#x27;,\n",
       "                                                                    &#x27;ours&#x27;,\n",
       "                                                                    &#x27;ourselves&#x27;,\n",
       "                                                                    &#x27;you&#x27;,\n",
       "                                                                    &quot;you&#x27;re&quot;,\n",
       "                                                                    &quot;you&#x27;ve&quot;,\n",
       "                                                                    &quot;you&#x27;ll&quot;,\n",
       "                                                                    &quot;you&#x27;d&quot;,\n",
       "                                                                    &#x27;your&#x27;,\n",
       "                                                                    &#x27;yours&#x27;,\n",
       "                                                                    &#x27;yourself&#x27;,\n",
       "                                                                    &#x27;yourselves&#x27;,\n",
       "                                                                    &#x27;he&#x27;, &#x27;him&#x27;,\n",
       "                                                                    &#x27;his&#x27;,\n",
       "                                                                    &#x27;himself&#x27;,\n",
       "                                                                    &#x27;she&#x27;,\n",
       "                                                                    &quot;she&#x27;s&quot;,\n",
       "                                                                    &#x27;her&#x27;,\n",
       "                                                                    &#x27;hers&#x27;,\n",
       "                                                                    &#x27;herself&#x27;,\n",
       "                                                                    &#x27;it&#x27;,\n",
       "                                                                    &quot;it&#x27;s&quot;,\n",
       "                                                                    &#x27;its&#x27;,\n",
       "                                                                    &#x27;itself&#x27;, ...])),\n",
       "                                       (&#x27;ad&#x27;, AdaBoostClassifier())]),\n",
       "             param_grid={&#x27;ad__learning_rate&#x27;: [0.25, 0.5],\n",
       "                         &#x27;ad__n_estimators&#x27;: [30, 60],\n",
       "                         &#x27;tf__max_df&#x27;: [0.15, 0.25],\n",
       "                         &#x27;tf__max_features&#x27;: [800, 1000],\n",
       "                         &#x27;tf__ngram_range&#x27;: [(1, 1), (1, 2)]})</pre></div></div></div><div class=\"sk-parallel\"><div class=\"sk-parallel-item\"><div class=\"sk-item\"><div class=\"sk-label-container\"><div class=\"sk-label sk-toggleable\"><input class=\"sk-toggleable__control sk-hidden--visually\" id=\"sk-estimator-id-94\" type=\"checkbox\" ><label for=\"sk-estimator-id-94\" class=\"sk-toggleable__label sk-toggleable__label-arrow\">estimator: Pipeline</label><div class=\"sk-toggleable__content\"><pre>Pipeline(steps=[(&#x27;tf&#x27;,\n",
       "                 TfidfVectorizer(stop_words=[&#x27;i&#x27;, &#x27;me&#x27;, &#x27;my&#x27;, &#x27;myself&#x27;, &#x27;we&#x27;,\n",
       "                                             &#x27;our&#x27;, &#x27;ours&#x27;, &#x27;ourselves&#x27;, &#x27;you&#x27;,\n",
       "                                             &quot;you&#x27;re&quot;, &quot;you&#x27;ve&quot;, &quot;you&#x27;ll&quot;,\n",
       "                                             &quot;you&#x27;d&quot;, &#x27;your&#x27;, &#x27;yours&#x27;,\n",
       "                                             &#x27;yourself&#x27;, &#x27;yourselves&#x27;, &#x27;he&#x27;,\n",
       "                                             &#x27;him&#x27;, &#x27;his&#x27;, &#x27;himself&#x27;, &#x27;she&#x27;,\n",
       "                                             &quot;she&#x27;s&quot;, &#x27;her&#x27;, &#x27;hers&#x27;, &#x27;herself&#x27;,\n",
       "                                             &#x27;it&#x27;, &quot;it&#x27;s&quot;, &#x27;its&#x27;, &#x27;itself&#x27;, ...])),\n",
       "                (&#x27;ad&#x27;, AdaBoostClassifier())])</pre></div></div></div><div class=\"sk-serial\"><div class=\"sk-item\"><div class=\"sk-serial\"><div class=\"sk-item\"><div class=\"sk-estimator sk-toggleable\"><input class=\"sk-toggleable__control sk-hidden--visually\" id=\"sk-estimator-id-95\" type=\"checkbox\" ><label for=\"sk-estimator-id-95\" class=\"sk-toggleable__label sk-toggleable__label-arrow\">TfidfVectorizer</label><div class=\"sk-toggleable__content\"><pre>TfidfVectorizer(stop_words=[&#x27;i&#x27;, &#x27;me&#x27;, &#x27;my&#x27;, &#x27;myself&#x27;, &#x27;we&#x27;, &#x27;our&#x27;, &#x27;ours&#x27;,\n",
       "                            &#x27;ourselves&#x27;, &#x27;you&#x27;, &quot;you&#x27;re&quot;, &quot;you&#x27;ve&quot;, &quot;you&#x27;ll&quot;,\n",
       "                            &quot;you&#x27;d&quot;, &#x27;your&#x27;, &#x27;yours&#x27;, &#x27;yourself&#x27;, &#x27;yourselves&#x27;,\n",
       "                            &#x27;he&#x27;, &#x27;him&#x27;, &#x27;his&#x27;, &#x27;himself&#x27;, &#x27;she&#x27;, &quot;she&#x27;s&quot;,\n",
       "                            &#x27;her&#x27;, &#x27;hers&#x27;, &#x27;herself&#x27;, &#x27;it&#x27;, &quot;it&#x27;s&quot;, &#x27;its&#x27;,\n",
       "                            &#x27;itself&#x27;, ...])</pre></div></div></div><div class=\"sk-item\"><div class=\"sk-estimator sk-toggleable\"><input class=\"sk-toggleable__control sk-hidden--visually\" id=\"sk-estimator-id-96\" type=\"checkbox\" ><label for=\"sk-estimator-id-96\" class=\"sk-toggleable__label sk-toggleable__label-arrow\">AdaBoostClassifier</label><div class=\"sk-toggleable__content\"><pre>AdaBoostClassifier()</pre></div></div></div></div></div></div></div></div></div></div></div></div>"
      ],
      "text/plain": [
       "GridSearchCV(cv=5,\n",
       "             estimator=Pipeline(steps=[('tf',\n",
       "                                        TfidfVectorizer(stop_words=['i', 'me',\n",
       "                                                                    'my',\n",
       "                                                                    'myself',\n",
       "                                                                    'we', 'our',\n",
       "                                                                    'ours',\n",
       "                                                                    'ourselves',\n",
       "                                                                    'you',\n",
       "                                                                    \"you're\",\n",
       "                                                                    \"you've\",\n",
       "                                                                    \"you'll\",\n",
       "                                                                    \"you'd\",\n",
       "                                                                    'your',\n",
       "                                                                    'yours',\n",
       "                                                                    'yourself',\n",
       "                                                                    'yourselves',\n",
       "                                                                    'he', 'him',\n",
       "                                                                    'his',\n",
       "                                                                    'himself',\n",
       "                                                                    'she',\n",
       "                                                                    \"she's\",\n",
       "                                                                    'her',\n",
       "                                                                    'hers',\n",
       "                                                                    'herself',\n",
       "                                                                    'it',\n",
       "                                                                    \"it's\",\n",
       "                                                                    'its',\n",
       "                                                                    'itself', ...])),\n",
       "                                       ('ad', AdaBoostClassifier())]),\n",
       "             param_grid={'ad__learning_rate': [0.25, 0.5],\n",
       "                         'ad__n_estimators': [30, 60],\n",
       "                         'tf__max_df': [0.15, 0.25],\n",
       "                         'tf__max_features': [800, 1000],\n",
       "                         'tf__ngram_range': [(1, 1), (1, 2)]})"
      ]
     },
     "execution_count": 144,
     "metadata": {},
     "output_type": "execute_result"
    }
   ],
   "source": [
    "ad_gs = GridSearchCV(ad_pipe,\n",
    "                  param_grid=ad_params,\n",
    "                  cv=5)\n",
    "\n",
    "ad_gs.fit(X_train,y_train)"
   ]
  },
  {
   "cell_type": "code",
   "execution_count": 145,
   "id": "cde42d03-ad46-4bd7-943f-33c34e3970fc",
   "metadata": {},
   "outputs": [],
   "source": [
    "# Create Pipeline\n",
    "ad_pipe_best = Pipeline([\n",
    "    \n",
    "    ('tf', TfidfVectorizer(max_df=ad_gs.best_params_['tf__max_df'],\n",
    "                           max_features=ad_gs.best_params_['tf__max_features'],\n",
    "                           ngram_range=ad_gs.best_params_['tf__ngram_range'],\n",
    "                           stop_words=manual_stopwords)),\n",
    "    \n",
    "    ('ad', AdaBoostClassifier(n_estimators=ad_gs.best_params_\\\n",
    "                                  ['ad__n_estimators'],\n",
    "                              learning_rate=ad_gs.best_params_\\\n",
    "                                  ['ad__learning_rate']\n",
    "                            ))\n",
    "])"
   ]
  },
  {
   "cell_type": "markdown",
   "id": "76502a7c-e548-445c-96d3-4cbfd5c32e6a",
   "metadata": {},
   "source": [
    "Fit the model on GridSearchCV best parameter"
   ]
  },
  {
   "cell_type": "code",
   "execution_count": 146,
   "id": "d59cb76d-3538-40fd-9bfe-a020102f9bb7",
   "metadata": {},
   "outputs": [
    {
     "name": "stdout",
     "output_type": "stream",
     "text": [
      "Train Score: 0.7271\n",
      "Test Score: 0.6533\n",
      "Classification Report:\n",
      "              precision    recall  f1-score   support\n",
      "\n",
      "    coursera       0.81      0.40      0.54       250\n",
      "         edx       0.60      0.90      0.72       249\n",
      "\n",
      "    accuracy                           0.65       499\n",
      "   macro avg       0.70      0.65      0.63       499\n",
      "weighted avg       0.71      0.65      0.63       499\n",
      "\n"
     ]
    }
   ],
   "source": [
    "fit_pipe(ad_pipe_best,X_train,X_test,y_train,y_test)"
   ]
  },
  {
   "cell_type": "code",
   "execution_count": 147,
   "id": "406916bd-8e53-4835-9625-1c62db01cdad",
   "metadata": {},
   "outputs": [
    {
     "name": "stdout",
     "output_type": "stream",
     "text": [
      "Confusion Matrix:\n"
     ]
    },
    {
     "data": {
      "image/png": "[encoded data removed]",
      "text/plain": [
       "<Figure size 432x288 with 2 Axes>"
      ]
     },
     "metadata": {
      "needs_background": "light"
     },
     "output_type": "display_data"
    }
   ],
   "source": [
    "show_cm(ad_pipe_best,X_train,X_test,y_train,y_test)"
   ]
  },
  {
   "cell_type": "markdown",
   "id": "0c4a7174-68a8-48ca-98ba-a0b15607e1ea",
   "metadata": {},
   "source": [
    "__Key Takeaway:__ <br>\n",
    "- Ada Boosting gives us an accuracy of 0.6473 from the default settings\n",
    "- Optimization helps improves the accuracy to 0.6573\n",
    "- However, other simpler model gives better results"
   ]
  },
  {
   "cell_type": "markdown",
   "id": "55bd4d6b-3185-4d39-82b5-71b15b4df98e",
   "metadata": {},
   "source": [
    "---"
   ]
  },
  {
   "cell_type": "markdown",
   "id": "3acbbf6d-b01a-4d7c-90af-348ea1079c1d",
   "metadata": {
    "tags": []
   },
   "source": [
    "#### Multinomial Naive Bayes Classifier\n",
    "[Back to Table of Content](#Table-of-Content)"
   ]
  },
  {
   "cell_type": "code",
   "execution_count": 153,
   "id": "0315c8e0-27ba-45b4-ace2-1f2e4aac8ac8",
   "metadata": {},
   "outputs": [],
   "source": [
    "# CountVectorizer and Multinomial Naive Bayes\n",
    "# CountVectorizer works better than Tf-Idf in this case\n",
    "# Create Pipeline\n",
    "\n",
    "nb_pipe = Pipeline([\n",
    "    ('cv', CountVectorizer(stop_words=manual_stopwords)),\n",
    "    ('nb', MultinomialNB())\n",
    "])"
   ]
  },
  {
   "cell_type": "code",
   "execution_count": 154,
   "id": "73195d83-2a36-4f3f-97d7-fcec387f1ef5",
   "metadata": {},
   "outputs": [
    {
     "name": "stdout",
     "output_type": "stream",
     "text": [
      "Train Score: 0.8763\n",
      "Test Score: 0.7335\n",
      "Classification Report:\n",
      "              precision    recall  f1-score   support\n",
      "\n",
      "    coursera       0.71      0.79      0.75       250\n",
      "         edx       0.76      0.68      0.72       249\n",
      "\n",
      "    accuracy                           0.73       499\n",
      "   macro avg       0.74      0.73      0.73       499\n",
      "weighted avg       0.74      0.73      0.73       499\n",
      "\n"
     ]
    }
   ],
   "source": [
    "fit_pipe(nb_pipe,X_train,X_test,y_train,y_test)"
   ]
  },
  {
   "cell_type": "markdown",
   "id": "e91e519b-e3f8-4c95-8d6c-dabbe033b93c",
   "metadata": {},
   "source": [
    "__*Optimization of Random Forest Classification*__"
   ]
  },
  {
   "cell_type": "markdown",
   "id": "399b36f8-6c7c-4b84-8e58-54f8121e44ef",
   "metadata": {},
   "source": [
    "RandomizedSearchCV to find the starting point"
   ]
  },
  {
   "cell_type": "code",
   "execution_count": 163,
   "id": "c2b91933-b078-4829-ba0c-5a4863209b2d",
   "metadata": {
    "tags": []
   },
   "outputs": [],
   "source": [
    "nb_params = {\n",
    "    'cv__max_df':[0.25,0.5,0.75,1.0],\n",
    "    'cv__max_features':[600,800,1000,1200,1400],\n",
    "    'cv__ngram_range':[(1,1),(1,2),(2,2),(3,3)],\n",
    "    'nb__alpha':[1,10,20,30]\n",
    "}"
   ]
  },
  {
   "cell_type": "code",
   "execution_count": 164,
   "id": "bef5c5b5-d24d-4ef4-9391-4b955c746d1b",
   "metadata": {},
   "outputs": [
    {
     "data": {
      "text/html": [
       "<style>#sk-container-id-27 {color: black;background-color: white;}#sk-container-id-27 pre{padding: 0;}#sk-container-id-27 div.sk-toggleable {background-color: white;}#sk-container-id-27 label.sk-toggleable__label {cursor: pointer;display: block;width: 100%;margin-bottom: 0;padding: 0.3em;box-sizing: border-box;text-align: center;}#sk-container-id-27 label.sk-toggleable__label-arrow:before {content: \"▸\";float: left;margin-right: 0.25em;color: #696969;}#sk-container-id-27 label.sk-toggleable__label-arrow:hover:before {color: black;}#sk-container-id-27 div.sk-estimator:hover label.sk-toggleable__label-arrow:before {color: black;}#sk-container-id-27 div.sk-toggleable__content {max-height: 0;max-width: 0;overflow: hidden;text-align: left;background-color: #f0f8ff;}#sk-container-id-27 div.sk-toggleable__content pre {margin: 0.2em;color: black;border-radius: 0.25em;background-color: #f0f8ff;}#sk-container-id-27 input.sk-toggleable__control:checked~div.sk-toggleable__content {max-height: 200px;max-width: 100%;overflow: auto;}#sk-container-id-27 input.sk-toggleable__control:checked~label.sk-toggleable__label-arrow:before {content: \"▾\";}#sk-container-id-27 div.sk-estimator input.sk-toggleable__control:checked~label.sk-toggleable__label {background-color: #d4ebff;}#sk-container-id-27 div.sk-label input.sk-toggleable__control:checked~label.sk-toggleable__label {background-color: #d4ebff;}#sk-container-id-27 input.sk-hidden--visually {border: 0;clip: rect(1px 1px 1px 1px);clip: rect(1px, 1px, 1px, 1px);height: 1px;margin: -1px;overflow: hidden;padding: 0;position: absolute;width: 1px;}#sk-container-id-27 div.sk-estimator {font-family: monospace;background-color: #f0f8ff;border: 1px dotted black;border-radius: 0.25em;box-sizing: border-box;margin-bottom: 0.5em;}#sk-container-id-27 div.sk-estimator:hover {background-color: #d4ebff;}#sk-container-id-27 div.sk-parallel-item::after {content: \"\";width: 100%;border-bottom: 1px solid gray;flex-grow: 1;}#sk-container-id-27 div.sk-label:hover label.sk-toggleable__label {background-color: #d4ebff;}#sk-container-id-27 div.sk-serial::before {content: \"\";position: absolute;border-left: 1px solid gray;box-sizing: border-box;top: 0;bottom: 0;left: 50%;z-index: 0;}#sk-container-id-27 div.sk-serial {display: flex;flex-direction: column;align-items: center;background-color: white;padding-right: 0.2em;padding-left: 0.2em;position: relative;}#sk-container-id-27 div.sk-item {position: relative;z-index: 1;}#sk-container-id-27 div.sk-parallel {display: flex;align-items: stretch;justify-content: center;background-color: white;position: relative;}#sk-container-id-27 div.sk-item::before, #sk-container-id-27 div.sk-parallel-item::before {content: \"\";position: absolute;border-left: 1px solid gray;box-sizing: border-box;top: 0;bottom: 0;left: 50%;z-index: -1;}#sk-container-id-27 div.sk-parallel-item {display: flex;flex-direction: column;z-index: 1;position: relative;background-color: white;}#sk-container-id-27 div.sk-parallel-item:first-child::after {align-self: flex-end;width: 50%;}#sk-container-id-27 div.sk-parallel-item:last-child::after {align-self: flex-start;width: 50%;}#sk-container-id-27 div.sk-parallel-item:only-child::after {width: 0;}#sk-container-id-27 div.sk-dashed-wrapped {border: 1px dashed gray;margin: 0 0.4em 0.5em 0.4em;box-sizing: border-box;padding-bottom: 0.4em;background-color: white;}#sk-container-id-27 div.sk-label label {font-family: monospace;font-weight: bold;display: inline-block;line-height: 1.2em;}#sk-container-id-27 div.sk-label-container {text-align: center;}#sk-container-id-27 div.sk-container {/* jupyter's `normalize.less` sets `[hidden] { display: none; }` but bootstrap.min.css set `[hidden] { display: none !important; }` so we also need the `!important` here to be able to override the default hidden behavior on the sphinx rendered scikit-learn.org. See: https://github.com/scikit-learn/scikit-learn/issues/21755 */display: inline-block !important;position: relative;}#sk-container-id-27 div.sk-text-repr-fallback {display: none;}</style><div id=\"sk-container-id-27\" class=\"sk-top-container\"><div class=\"sk-text-repr-fallback\"><pre>RandomizedSearchCV(cv=5,\n",
       "                   estimator=Pipeline(steps=[(&#x27;cv&#x27;,\n",
       "                                              CountVectorizer(stop_words=[&#x27;i&#x27;,\n",
       "                                                                          &#x27;me&#x27;,\n",
       "                                                                          &#x27;my&#x27;,\n",
       "                                                                          &#x27;myself&#x27;,\n",
       "                                                                          &#x27;we&#x27;,\n",
       "                                                                          &#x27;our&#x27;,\n",
       "                                                                          &#x27;ours&#x27;,\n",
       "                                                                          &#x27;ourselves&#x27;,\n",
       "                                                                          &#x27;you&#x27;,\n",
       "                                                                          &quot;you&#x27;re&quot;,\n",
       "                                                                          &quot;you&#x27;ve&quot;,\n",
       "                                                                          &quot;you&#x27;ll&quot;,\n",
       "                                                                          &quot;you&#x27;d&quot;,\n",
       "                                                                          &#x27;your&#x27;,\n",
       "                                                                          &#x27;yours&#x27;,\n",
       "                                                                          &#x27;yourself&#x27;,\n",
       "                                                                          &#x27;yourselves&#x27;,\n",
       "                                                                          &#x27;he&#x27;,\n",
       "                                                                          &#x27;him&#x27;,\n",
       "                                                                          &#x27;his&#x27;,\n",
       "                                                                          &#x27;himself&#x27;,\n",
       "                                                                          &#x27;she&#x27;,\n",
       "                                                                          &quot;she&#x27;s&quot;,\n",
       "                                                                          &#x27;her&#x27;,\n",
       "                                                                          &#x27;hers&#x27;,\n",
       "                                                                          &#x27;herself&#x27;,\n",
       "                                                                          &#x27;it&#x27;,\n",
       "                                                                          &quot;it&#x27;s&quot;,\n",
       "                                                                          &#x27;its&#x27;,\n",
       "                                                                          &#x27;itself&#x27;, ...])),\n",
       "                                             (&#x27;nb&#x27;, MultinomialNB())]),\n",
       "                   param_distributions={&#x27;cv__max_df&#x27;: [0.25, 0.5, 0.75, 1.0],\n",
       "                                        &#x27;cv__max_features&#x27;: [600, 800, 1000,\n",
       "                                                             1200, 1400],\n",
       "                                        &#x27;cv__ngram_range&#x27;: [(1, 1), (1, 2),\n",
       "                                                            (2, 2), (3, 3)],\n",
       "                                        &#x27;nb__alpha&#x27;: [1, 10, 20, 30]},\n",
       "                   random_state=42)</pre><b>In a Jupyter environment, please rerun this cell to show the HTML representation or trust the notebook. <br />On GitHub, the HTML representation is unable to render, please try loading this page with nbviewer.org.</b></div><div class=\"sk-container\" hidden><div class=\"sk-item sk-dashed-wrapped\"><div class=\"sk-label-container\"><div class=\"sk-label sk-toggleable\"><input class=\"sk-toggleable__control sk-hidden--visually\" id=\"sk-estimator-id-105\" type=\"checkbox\" ><label for=\"sk-estimator-id-105\" class=\"sk-toggleable__label sk-toggleable__label-arrow\">RandomizedSearchCV</label><div class=\"sk-toggleable__content\"><pre>RandomizedSearchCV(cv=5,\n",
       "                   estimator=Pipeline(steps=[(&#x27;cv&#x27;,\n",
       "                                              CountVectorizer(stop_words=[&#x27;i&#x27;,\n",
       "                                                                          &#x27;me&#x27;,\n",
       "                                                                          &#x27;my&#x27;,\n",
       "                                                                          &#x27;myself&#x27;,\n",
       "                                                                          &#x27;we&#x27;,\n",
       "                                                                          &#x27;our&#x27;,\n",
       "                                                                          &#x27;ours&#x27;,\n",
       "                                                                          &#x27;ourselves&#x27;,\n",
       "                                                                          &#x27;you&#x27;,\n",
       "                                                                          &quot;you&#x27;re&quot;,\n",
       "                                                                          &quot;you&#x27;ve&quot;,\n",
       "                                                                          &quot;you&#x27;ll&quot;,\n",
       "                                                                          &quot;you&#x27;d&quot;,\n",
       "                                                                          &#x27;your&#x27;,\n",
       "                                                                          &#x27;yours&#x27;,\n",
       "                                                                          &#x27;yourself&#x27;,\n",
       "                                                                          &#x27;yourselves&#x27;,\n",
       "                                                                          &#x27;he&#x27;,\n",
       "                                                                          &#x27;him&#x27;,\n",
       "                                                                          &#x27;his&#x27;,\n",
       "                                                                          &#x27;himself&#x27;,\n",
       "                                                                          &#x27;she&#x27;,\n",
       "                                                                          &quot;she&#x27;s&quot;,\n",
       "                                                                          &#x27;her&#x27;,\n",
       "                                                                          &#x27;hers&#x27;,\n",
       "                                                                          &#x27;herself&#x27;,\n",
       "                                                                          &#x27;it&#x27;,\n",
       "                                                                          &quot;it&#x27;s&quot;,\n",
       "                                                                          &#x27;its&#x27;,\n",
       "                                                                          &#x27;itself&#x27;, ...])),\n",
       "                                             (&#x27;nb&#x27;, MultinomialNB())]),\n",
       "                   param_distributions={&#x27;cv__max_df&#x27;: [0.25, 0.5, 0.75, 1.0],\n",
       "                                        &#x27;cv__max_features&#x27;: [600, 800, 1000,\n",
       "                                                             1200, 1400],\n",
       "                                        &#x27;cv__ngram_range&#x27;: [(1, 1), (1, 2),\n",
       "                                                            (2, 2), (3, 3)],\n",
       "                                        &#x27;nb__alpha&#x27;: [1, 10, 20, 30]},\n",
       "                   random_state=42)</pre></div></div></div><div class=\"sk-parallel\"><div class=\"sk-parallel-item\"><div class=\"sk-item\"><div class=\"sk-label-container\"><div class=\"sk-label sk-toggleable\"><input class=\"sk-toggleable__control sk-hidden--visually\" id=\"sk-estimator-id-106\" type=\"checkbox\" ><label for=\"sk-estimator-id-106\" class=\"sk-toggleable__label sk-toggleable__label-arrow\">estimator: Pipeline</label><div class=\"sk-toggleable__content\"><pre>Pipeline(steps=[(&#x27;cv&#x27;,\n",
       "                 CountVectorizer(stop_words=[&#x27;i&#x27;, &#x27;me&#x27;, &#x27;my&#x27;, &#x27;myself&#x27;, &#x27;we&#x27;,\n",
       "                                             &#x27;our&#x27;, &#x27;ours&#x27;, &#x27;ourselves&#x27;, &#x27;you&#x27;,\n",
       "                                             &quot;you&#x27;re&quot;, &quot;you&#x27;ve&quot;, &quot;you&#x27;ll&quot;,\n",
       "                                             &quot;you&#x27;d&quot;, &#x27;your&#x27;, &#x27;yours&#x27;,\n",
       "                                             &#x27;yourself&#x27;, &#x27;yourselves&#x27;, &#x27;he&#x27;,\n",
       "                                             &#x27;him&#x27;, &#x27;his&#x27;, &#x27;himself&#x27;, &#x27;she&#x27;,\n",
       "                                             &quot;she&#x27;s&quot;, &#x27;her&#x27;, &#x27;hers&#x27;, &#x27;herself&#x27;,\n",
       "                                             &#x27;it&#x27;, &quot;it&#x27;s&quot;, &#x27;its&#x27;, &#x27;itself&#x27;, ...])),\n",
       "                (&#x27;nb&#x27;, MultinomialNB())])</pre></div></div></div><div class=\"sk-serial\"><div class=\"sk-item\"><div class=\"sk-serial\"><div class=\"sk-item\"><div class=\"sk-estimator sk-toggleable\"><input class=\"sk-toggleable__control sk-hidden--visually\" id=\"sk-estimator-id-107\" type=\"checkbox\" ><label for=\"sk-estimator-id-107\" class=\"sk-toggleable__label sk-toggleable__label-arrow\">CountVectorizer</label><div class=\"sk-toggleable__content\"><pre>CountVectorizer(stop_words=[&#x27;i&#x27;, &#x27;me&#x27;, &#x27;my&#x27;, &#x27;myself&#x27;, &#x27;we&#x27;, &#x27;our&#x27;, &#x27;ours&#x27;,\n",
       "                            &#x27;ourselves&#x27;, &#x27;you&#x27;, &quot;you&#x27;re&quot;, &quot;you&#x27;ve&quot;, &quot;you&#x27;ll&quot;,\n",
       "                            &quot;you&#x27;d&quot;, &#x27;your&#x27;, &#x27;yours&#x27;, &#x27;yourself&#x27;, &#x27;yourselves&#x27;,\n",
       "                            &#x27;he&#x27;, &#x27;him&#x27;, &#x27;his&#x27;, &#x27;himself&#x27;, &#x27;she&#x27;, &quot;she&#x27;s&quot;,\n",
       "                            &#x27;her&#x27;, &#x27;hers&#x27;, &#x27;herself&#x27;, &#x27;it&#x27;, &quot;it&#x27;s&quot;, &#x27;its&#x27;,\n",
       "                            &#x27;itself&#x27;, ...])</pre></div></div></div><div class=\"sk-item\"><div class=\"sk-estimator sk-toggleable\"><input class=\"sk-toggleable__control sk-hidden--visually\" id=\"sk-estimator-id-108\" type=\"checkbox\" ><label for=\"sk-estimator-id-108\" class=\"sk-toggleable__label sk-toggleable__label-arrow\">MultinomialNB</label><div class=\"sk-toggleable__content\"><pre>MultinomialNB()</pre></div></div></div></div></div></div></div></div></div></div></div></div>"
      ],
      "text/plain": [
       "RandomizedSearchCV(cv=5,\n",
       "                   estimator=Pipeline(steps=[('cv',\n",
       "                                              CountVectorizer(stop_words=['i',\n",
       "                                                                          'me',\n",
       "                                                                          'my',\n",
       "                                                                          'myself',\n",
       "                                                                          'we',\n",
       "                                                                          'our',\n",
       "                                                                          'ours',\n",
       "                                                                          'ourselves',\n",
       "                                                                          'you',\n",
       "                                                                          \"you're\",\n",
       "                                                                          \"you've\",\n",
       "                                                                          \"you'll\",\n",
       "                                                                          \"you'd\",\n",
       "                                                                          'your',\n",
       "                                                                          'yours',\n",
       "                                                                          'yourself',\n",
       "                                                                          'yourselves',\n",
       "                                                                          'he',\n",
       "                                                                          'him',\n",
       "                                                                          'his',\n",
       "                                                                          'himself',\n",
       "                                                                          'she',\n",
       "                                                                          \"she's\",\n",
       "                                                                          'her',\n",
       "                                                                          'hers',\n",
       "                                                                          'herself',\n",
       "                                                                          'it',\n",
       "                                                                          \"it's\",\n",
       "                                                                          'its',\n",
       "                                                                          'itself', ...])),\n",
       "                                             ('nb', MultinomialNB())]),\n",
       "                   param_distributions={'cv__max_df': [0.25, 0.5, 0.75, 1.0],\n",
       "                                        'cv__max_features': [600, 800, 1000,\n",
       "                                                             1200, 1400],\n",
       "                                        'cv__ngram_range': [(1, 1), (1, 2),\n",
       "                                                            (2, 2), (3, 3)],\n",
       "                                        'nb__alpha': [1, 10, 20, 30]},\n",
       "                   random_state=42)"
      ]
     },
     "execution_count": 164,
     "metadata": {},
     "output_type": "execute_result"
    }
   ],
   "source": [
    "gr = RandomizedSearchCV(nb_pipe,\n",
    "                        param_distributions=nb_params,\n",
    "                        cv=5,\n",
    "                        random_state=42)\n",
    "\n",
    "gr.fit(X_train,y_train)"
   ]
  },
  {
   "cell_type": "code",
   "execution_count": 165,
   "id": "434bb285-5497-4b81-bcba-235d102961e7",
   "metadata": {},
   "outputs": [
    {
     "name": "stdout",
     "output_type": "stream",
     "text": [
      "Best Parameters:\n",
      "{'nb__alpha': 20, 'cv__ngram_range': (1, 2), 'cv__max_features': 1400, 'cv__max_df': 0.75}\n",
      "Best Scores:\n",
      "0.6849\n"
     ]
    }
   ],
   "source": [
    "print_grid_results(gr)"
   ]
  },
  {
   "cell_type": "markdown",
   "id": "d3e48487-43b1-4381-8a8d-cc0d9a633621",
   "metadata": {},
   "source": [
    "GridSearchCV to find the optimum hyperparameters"
   ]
  },
  {
   "cell_type": "code",
   "execution_count": 237,
   "id": "30d12f94-e669-4e28-945b-d323d63da3cd",
   "metadata": {},
   "outputs": [],
   "source": [
    "nb_params = {\n",
    "    'cv__max_df':[0.25,0.5,0.75],\n",
    "    'cv__max_features':[1200,1400,1600],\n",
    "    'cv__ngram_range':[(1,1),(1,2)],\n",
    "    'nb__alpha':[10,20]\n",
    "}"
   ]
  },
  {
   "cell_type": "code",
   "execution_count": 241,
   "id": "20888047-2709-4f6f-ba4d-6c860fbd0e3c",
   "metadata": {},
   "outputs": [
    {
     "data": {
      "text/html": [
       "<style>#sk-container-id-31 {color: black;background-color: white;}#sk-container-id-31 pre{padding: 0;}#sk-container-id-31 div.sk-toggleable {background-color: white;}#sk-container-id-31 label.sk-toggleable__label {cursor: pointer;display: block;width: 100%;margin-bottom: 0;padding: 0.3em;box-sizing: border-box;text-align: center;}#sk-container-id-31 label.sk-toggleable__label-arrow:before {content: \"▸\";float: left;margin-right: 0.25em;color: #696969;}#sk-container-id-31 label.sk-toggleable__label-arrow:hover:before {color: black;}#sk-container-id-31 div.sk-estimator:hover label.sk-toggleable__label-arrow:before {color: black;}#sk-container-id-31 div.sk-toggleable__content {max-height: 0;max-width: 0;overflow: hidden;text-align: left;background-color: #f0f8ff;}#sk-container-id-31 div.sk-toggleable__content pre {margin: 0.2em;color: black;border-radius: 0.25em;background-color: #f0f8ff;}#sk-container-id-31 input.sk-toggleable__control:checked~div.sk-toggleable__content {max-height: 200px;max-width: 100%;overflow: auto;}#sk-container-id-31 input.sk-toggleable__control:checked~label.sk-toggleable__label-arrow:before {content: \"▾\";}#sk-container-id-31 div.sk-estimator input.sk-toggleable__control:checked~label.sk-toggleable__label {background-color: #d4ebff;}#sk-container-id-31 div.sk-label input.sk-toggleable__control:checked~label.sk-toggleable__label {background-color: #d4ebff;}#sk-container-id-31 input.sk-hidden--visually {border: 0;clip: rect(1px 1px 1px 1px);clip: rect(1px, 1px, 1px, 1px);height: 1px;margin: -1px;overflow: hidden;padding: 0;position: absolute;width: 1px;}#sk-container-id-31 div.sk-estimator {font-family: monospace;background-color: #f0f8ff;border: 1px dotted black;border-radius: 0.25em;box-sizing: border-box;margin-bottom: 0.5em;}#sk-container-id-31 div.sk-estimator:hover {background-color: #d4ebff;}#sk-container-id-31 div.sk-parallel-item::after {content: \"\";width: 100%;border-bottom: 1px solid gray;flex-grow: 1;}#sk-container-id-31 div.sk-label:hover label.sk-toggleable__label {background-color: #d4ebff;}#sk-container-id-31 div.sk-serial::before {content: \"\";position: absolute;border-left: 1px solid gray;box-sizing: border-box;top: 0;bottom: 0;left: 50%;z-index: 0;}#sk-container-id-31 div.sk-serial {display: flex;flex-direction: column;align-items: center;background-color: white;padding-right: 0.2em;padding-left: 0.2em;position: relative;}#sk-container-id-31 div.sk-item {position: relative;z-index: 1;}#sk-container-id-31 div.sk-parallel {display: flex;align-items: stretch;justify-content: center;background-color: white;position: relative;}#sk-container-id-31 div.sk-item::before, #sk-container-id-31 div.sk-parallel-item::before {content: \"\";position: absolute;border-left: 1px solid gray;box-sizing: border-box;top: 0;bottom: 0;left: 50%;z-index: -1;}#sk-container-id-31 div.sk-parallel-item {display: flex;flex-direction: column;z-index: 1;position: relative;background-color: white;}#sk-container-id-31 div.sk-parallel-item:first-child::after {align-self: flex-end;width: 50%;}#sk-container-id-31 div.sk-parallel-item:last-child::after {align-self: flex-start;width: 50%;}#sk-container-id-31 div.sk-parallel-item:only-child::after {width: 0;}#sk-container-id-31 div.sk-dashed-wrapped {border: 1px dashed gray;margin: 0 0.4em 0.5em 0.4em;box-sizing: border-box;padding-bottom: 0.4em;background-color: white;}#sk-container-id-31 div.sk-label label {font-family: monospace;font-weight: bold;display: inline-block;line-height: 1.2em;}#sk-container-id-31 div.sk-label-container {text-align: center;}#sk-container-id-31 div.sk-container {/* jupyter's `normalize.less` sets `[hidden] { display: none; }` but bootstrap.min.css set `[hidden] { display: none !important; }` so we also need the `!important` here to be able to override the default hidden behavior on the sphinx rendered scikit-learn.org. See: https://github.com/scikit-learn/scikit-learn/issues/21755 */display: inline-block !important;position: relative;}#sk-container-id-31 div.sk-text-repr-fallback {display: none;}</style><div id=\"sk-container-id-31\" class=\"sk-top-container\"><div class=\"sk-text-repr-fallback\"><pre>GridSearchCV(cv=5,\n",
       "             estimator=Pipeline(steps=[(&#x27;cv&#x27;,\n",
       "                                        CountVectorizer(stop_words=[&#x27;i&#x27;, &#x27;me&#x27;,\n",
       "                                                                    &#x27;my&#x27;,\n",
       "                                                                    &#x27;myself&#x27;,\n",
       "                                                                    &#x27;we&#x27;, &#x27;our&#x27;,\n",
       "                                                                    &#x27;ours&#x27;,\n",
       "                                                                    &#x27;ourselves&#x27;,\n",
       "                                                                    &#x27;you&#x27;,\n",
       "                                                                    &quot;you&#x27;re&quot;,\n",
       "                                                                    &quot;you&#x27;ve&quot;,\n",
       "                                                                    &quot;you&#x27;ll&quot;,\n",
       "                                                                    &quot;you&#x27;d&quot;,\n",
       "                                                                    &#x27;your&#x27;,\n",
       "                                                                    &#x27;yours&#x27;,\n",
       "                                                                    &#x27;yourself&#x27;,\n",
       "                                                                    &#x27;yourselves&#x27;,\n",
       "                                                                    &#x27;he&#x27;, &#x27;him&#x27;,\n",
       "                                                                    &#x27;his&#x27;,\n",
       "                                                                    &#x27;himself&#x27;,\n",
       "                                                                    &#x27;she&#x27;,\n",
       "                                                                    &quot;she&#x27;s&quot;,\n",
       "                                                                    &#x27;her&#x27;,\n",
       "                                                                    &#x27;hers&#x27;,\n",
       "                                                                    &#x27;herself&#x27;,\n",
       "                                                                    &#x27;it&#x27;,\n",
       "                                                                    &quot;it&#x27;s&quot;,\n",
       "                                                                    &#x27;its&#x27;,\n",
       "                                                                    &#x27;itself&#x27;, ...])),\n",
       "                                       (&#x27;nb&#x27;, MultinomialNB())]),\n",
       "             param_grid={&#x27;cv__max_df&#x27;: [0.25, 0.5, 0.75],\n",
       "                         &#x27;cv__max_features&#x27;: [1200, 1400, 1600],\n",
       "                         &#x27;cv__ngram_range&#x27;: [(1, 1), (1, 2)],\n",
       "                         &#x27;nb__alpha&#x27;: [10, 20]})</pre><b>In a Jupyter environment, please rerun this cell to show the HTML representation or trust the notebook. <br />On GitHub, the HTML representation is unable to render, please try loading this page with nbviewer.org.</b></div><div class=\"sk-container\" hidden><div class=\"sk-item sk-dashed-wrapped\"><div class=\"sk-label-container\"><div class=\"sk-label sk-toggleable\"><input class=\"sk-toggleable__control sk-hidden--visually\" id=\"sk-estimator-id-115\" type=\"checkbox\" ><label for=\"sk-estimator-id-115\" class=\"sk-toggleable__label sk-toggleable__label-arrow\">GridSearchCV</label><div class=\"sk-toggleable__content\"><pre>GridSearchCV(cv=5,\n",
       "             estimator=Pipeline(steps=[(&#x27;cv&#x27;,\n",
       "                                        CountVectorizer(stop_words=[&#x27;i&#x27;, &#x27;me&#x27;,\n",
       "                                                                    &#x27;my&#x27;,\n",
       "                                                                    &#x27;myself&#x27;,\n",
       "                                                                    &#x27;we&#x27;, &#x27;our&#x27;,\n",
       "                                                                    &#x27;ours&#x27;,\n",
       "                                                                    &#x27;ourselves&#x27;,\n",
       "                                                                    &#x27;you&#x27;,\n",
       "                                                                    &quot;you&#x27;re&quot;,\n",
       "                                                                    &quot;you&#x27;ve&quot;,\n",
       "                                                                    &quot;you&#x27;ll&quot;,\n",
       "                                                                    &quot;you&#x27;d&quot;,\n",
       "                                                                    &#x27;your&#x27;,\n",
       "                                                                    &#x27;yours&#x27;,\n",
       "                                                                    &#x27;yourself&#x27;,\n",
       "                                                                    &#x27;yourselves&#x27;,\n",
       "                                                                    &#x27;he&#x27;, &#x27;him&#x27;,\n",
       "                                                                    &#x27;his&#x27;,\n",
       "                                                                    &#x27;himself&#x27;,\n",
       "                                                                    &#x27;she&#x27;,\n",
       "                                                                    &quot;she&#x27;s&quot;,\n",
       "                                                                    &#x27;her&#x27;,\n",
       "                                                                    &#x27;hers&#x27;,\n",
       "                                                                    &#x27;herself&#x27;,\n",
       "                                                                    &#x27;it&#x27;,\n",
       "                                                                    &quot;it&#x27;s&quot;,\n",
       "                                                                    &#x27;its&#x27;,\n",
       "                                                                    &#x27;itself&#x27;, ...])),\n",
       "                                       (&#x27;nb&#x27;, MultinomialNB())]),\n",
       "             param_grid={&#x27;cv__max_df&#x27;: [0.25, 0.5, 0.75],\n",
       "                         &#x27;cv__max_features&#x27;: [1200, 1400, 1600],\n",
       "                         &#x27;cv__ngram_range&#x27;: [(1, 1), (1, 2)],\n",
       "                         &#x27;nb__alpha&#x27;: [10, 20]})</pre></div></div></div><div class=\"sk-parallel\"><div class=\"sk-parallel-item\"><div class=\"sk-item\"><div class=\"sk-label-container\"><div class=\"sk-label sk-toggleable\"><input class=\"sk-toggleable__control sk-hidden--visually\" id=\"sk-estimator-id-116\" type=\"checkbox\" ><label for=\"sk-estimator-id-116\" class=\"sk-toggleable__label sk-toggleable__label-arrow\">estimator: Pipeline</label><div class=\"sk-toggleable__content\"><pre>Pipeline(steps=[(&#x27;cv&#x27;,\n",
       "                 CountVectorizer(stop_words=[&#x27;i&#x27;, &#x27;me&#x27;, &#x27;my&#x27;, &#x27;myself&#x27;, &#x27;we&#x27;,\n",
       "                                             &#x27;our&#x27;, &#x27;ours&#x27;, &#x27;ourselves&#x27;, &#x27;you&#x27;,\n",
       "                                             &quot;you&#x27;re&quot;, &quot;you&#x27;ve&quot;, &quot;you&#x27;ll&quot;,\n",
       "                                             &quot;you&#x27;d&quot;, &#x27;your&#x27;, &#x27;yours&#x27;,\n",
       "                                             &#x27;yourself&#x27;, &#x27;yourselves&#x27;, &#x27;he&#x27;,\n",
       "                                             &#x27;him&#x27;, &#x27;his&#x27;, &#x27;himself&#x27;, &#x27;she&#x27;,\n",
       "                                             &quot;she&#x27;s&quot;, &#x27;her&#x27;, &#x27;hers&#x27;, &#x27;herself&#x27;,\n",
       "                                             &#x27;it&#x27;, &quot;it&#x27;s&quot;, &#x27;its&#x27;, &#x27;itself&#x27;, ...])),\n",
       "                (&#x27;nb&#x27;, MultinomialNB())])</pre></div></div></div><div class=\"sk-serial\"><div class=\"sk-item\"><div class=\"sk-serial\"><div class=\"sk-item\"><div class=\"sk-estimator sk-toggleable\"><input class=\"sk-toggleable__control sk-hidden--visually\" id=\"sk-estimator-id-117\" type=\"checkbox\" ><label for=\"sk-estimator-id-117\" class=\"sk-toggleable__label sk-toggleable__label-arrow\">CountVectorizer</label><div class=\"sk-toggleable__content\"><pre>CountVectorizer(stop_words=[&#x27;i&#x27;, &#x27;me&#x27;, &#x27;my&#x27;, &#x27;myself&#x27;, &#x27;we&#x27;, &#x27;our&#x27;, &#x27;ours&#x27;,\n",
       "                            &#x27;ourselves&#x27;, &#x27;you&#x27;, &quot;you&#x27;re&quot;, &quot;you&#x27;ve&quot;, &quot;you&#x27;ll&quot;,\n",
       "                            &quot;you&#x27;d&quot;, &#x27;your&#x27;, &#x27;yours&#x27;, &#x27;yourself&#x27;, &#x27;yourselves&#x27;,\n",
       "                            &#x27;he&#x27;, &#x27;him&#x27;, &#x27;his&#x27;, &#x27;himself&#x27;, &#x27;she&#x27;, &quot;she&#x27;s&quot;,\n",
       "                            &#x27;her&#x27;, &#x27;hers&#x27;, &#x27;herself&#x27;, &#x27;it&#x27;, &quot;it&#x27;s&quot;, &#x27;its&#x27;,\n",
       "                            &#x27;itself&#x27;, ...])</pre></div></div></div><div class=\"sk-item\"><div class=\"sk-estimator sk-toggleable\"><input class=\"sk-toggleable__control sk-hidden--visually\" id=\"sk-estimator-id-118\" type=\"checkbox\" ><label for=\"sk-estimator-id-118\" class=\"sk-toggleable__label sk-toggleable__label-arrow\">MultinomialNB</label><div class=\"sk-toggleable__content\"><pre>MultinomialNB()</pre></div></div></div></div></div></div></div></div></div></div></div></div>"
      ],
      "text/plain": [
       "GridSearchCV(cv=5,\n",
       "             estimator=Pipeline(steps=[('cv',\n",
       "                                        CountVectorizer(stop_words=['i', 'me',\n",
       "                                                                    'my',\n",
       "                                                                    'myself',\n",
       "                                                                    'we', 'our',\n",
       "                                                                    'ours',\n",
       "                                                                    'ourselves',\n",
       "                                                                    'you',\n",
       "                                                                    \"you're\",\n",
       "                                                                    \"you've\",\n",
       "                                                                    \"you'll\",\n",
       "                                                                    \"you'd\",\n",
       "                                                                    'your',\n",
       "                                                                    'yours',\n",
       "                                                                    'yourself',\n",
       "                                                                    'yourselves',\n",
       "                                                                    'he', 'him',\n",
       "                                                                    'his',\n",
       "                                                                    'himself',\n",
       "                                                                    'she',\n",
       "                                                                    \"she's\",\n",
       "                                                                    'her',\n",
       "                                                                    'hers',\n",
       "                                                                    'herself',\n",
       "                                                                    'it',\n",
       "                                                                    \"it's\",\n",
       "                                                                    'its',\n",
       "                                                                    'itself', ...])),\n",
       "                                       ('nb', MultinomialNB())]),\n",
       "             param_grid={'cv__max_df': [0.25, 0.5, 0.75],\n",
       "                         'cv__max_features': [1200, 1400, 1600],\n",
       "                         'cv__ngram_range': [(1, 1), (1, 2)],\n",
       "                         'nb__alpha': [10, 20]})"
      ]
     },
     "execution_count": 241,
     "metadata": {},
     "output_type": "execute_result"
    }
   ],
   "source": [
    "nb_gs = GridSearchCV(nb_pipe,\n",
    "                  param_grid=nb_params,\n",
    "                  cv=5)\n",
    "\n",
    "nb_gs.fit(X_train,y_train)"
   ]
  },
  {
   "cell_type": "code",
   "execution_count": 242,
   "id": "8ccc0069-6a40-489c-9976-6d7422ad7a83",
   "metadata": {},
   "outputs": [
    {
     "data": {
      "text/plain": [
       "{'cv__max_df': 0.5,\n",
       " 'cv__max_features': 1600,\n",
       " 'cv__ngram_range': (1, 1),\n",
       " 'nb__alpha': 20}"
      ]
     },
     "execution_count": 242,
     "metadata": {},
     "output_type": "execute_result"
    }
   ],
   "source": [
    "nb_gs.best_params_"
   ]
  },
  {
   "cell_type": "code",
   "execution_count": 243,
   "id": "7ad7419a-5f51-419c-87e3-09ffacdc65e7",
   "metadata": {},
   "outputs": [],
   "source": [
    "# Create Pipeline\n",
    "rf_pipe_best = Pipeline([\n",
    "    \n",
    "    ('cv', CountVectorizer(max_df=nb_gs.best_params_['cv__max_df'],\n",
    "                           max_features=nb_gs.best_params_['cv__max_features'],\n",
    "                           ngram_range=nb_gs.best_params_['cv__ngram_range'],\n",
    "                           stop_words=manual_stopwords)),\n",
    "    \n",
    "    ('nb', MultinomialNB(alpha=nb_gs.best_params_['nb__alpha']))\n",
    "])"
   ]
  },
  {
   "cell_type": "markdown",
   "id": "d58f7a90-5fba-45be-834b-581d30cd7b3d",
   "metadata": {},
   "source": [
    "Fit the model on GridSearchCV best parameter"
   ]
  },
  {
   "cell_type": "code",
   "execution_count": 244,
   "id": "ffdb1fa1-efda-4fcc-b622-142064a96218",
   "metadata": {},
   "outputs": [
    {
     "name": "stdout",
     "output_type": "stream",
     "text": [
      "Train Score: 0.796\n",
      "Test Score: 0.7134\n",
      "Classification Report:\n",
      "              precision    recall  f1-score   support\n",
      "\n",
      "    coursera       0.68      0.80      0.74       250\n",
      "         edx       0.75      0.63      0.69       249\n",
      "\n",
      "    accuracy                           0.71       499\n",
      "   macro avg       0.72      0.71      0.71       499\n",
      "weighted avg       0.72      0.71      0.71       499\n",
      "\n"
     ]
    }
   ],
   "source": [
    "fit_pipe(rf_pipe_best,X_train,X_test,y_train,y_test)"
   ]
  },
  {
   "cell_type": "code",
   "execution_count": 245,
   "id": "f104e6cb-6355-4402-a574-bf82e9a11647",
   "metadata": {},
   "outputs": [
    {
     "name": "stdout",
     "output_type": "stream",
     "text": [
      "Confusion Matrix:\n"
     ]
    },
    {
     "data": {
      "image/png": "[encoded data removed]",
      "text/plain": [
       "<Figure size 432x288 with 2 Axes>"
      ]
     },
     "metadata": {
      "needs_background": "light"
     },
     "output_type": "display_data"
    }
   ],
   "source": [
    "show_cm(bg_pipe_best,X_train,X_test,y_train,y_test)"
   ]
  },
  {
   "cell_type": "markdown",
   "id": "70deee1e-90e7-480a-b0e2-19631d926079",
   "metadata": {},
   "source": [
    "__Key Takeaway:__ <br>\n",
    "- Multi-nomial NB gives the best results so far with 71% accuracy on the testing data\n",
    "- However, there is an imbalance in recall for `coursera` and `edx`"
   ]
  },
  {
   "cell_type": "markdown",
   "id": "80e865ea-54fe-47f1-8896-ebcb86c2036e",
   "metadata": {},
   "source": [
    "---"
   ]
  },
  {
   "cell_type": "markdown",
   "id": "75fc1fdd-dd27-4b2c-bb80-131ca0587143",
   "metadata": {
    "tags": []
   },
   "source": [
    "#### Bernoulli Naive Bayes Classifier\n",
    "[Back to Table of Content](#Table-of-Content)"
   ]
  },
  {
   "cell_type": "code",
   "execution_count": 260,
   "id": "94fc8c9c-2c21-4369-9bb6-d9b4282f664a",
   "metadata": {},
   "outputs": [],
   "source": [
    "# CountVectorizer and Multinomial Naive Bayes\n",
    "# CountVectorizer works better than Tf-Idf in this case\n",
    "# Create Pipeline\n",
    "\n",
    "bn_pipe = Pipeline([\n",
    "    ('cv', CountVectorizer(stop_words=manual_stopwords)),\n",
    "    ('bn', BernoulliNB())\n",
    "])"
   ]
  },
  {
   "cell_type": "code",
   "execution_count": 261,
   "id": "17ba71b3-41bf-4366-95a7-a96dc83c50d1",
   "metadata": {},
   "outputs": [
    {
     "name": "stdout",
     "output_type": "stream",
     "text": [
      "Train Score: 0.8662\n",
      "Test Score: 0.7074\n",
      "Classification Report:\n",
      "              precision    recall  f1-score   support\n",
      "\n",
      "    coursera       0.67      0.80      0.73       250\n",
      "         edx       0.76      0.61      0.68       249\n",
      "\n",
      "    accuracy                           0.71       499\n",
      "   macro avg       0.72      0.71      0.70       499\n",
      "weighted avg       0.72      0.71      0.70       499\n",
      "\n"
     ]
    }
   ],
   "source": [
    "fit_pipe(bn_pipe,X_train,X_test,y_train,y_test)"
   ]
  },
  {
   "cell_type": "markdown",
   "id": "8ee001d9-d5de-4a3e-ab50-b6049cd14256",
   "metadata": {},
   "source": [
    "__*Optimization of Random Forest Classification*__"
   ]
  },
  {
   "cell_type": "markdown",
   "id": "dd4644b4-bc90-497b-a7b9-5f84080bc7e6",
   "metadata": {},
   "source": [
    "RandomizedSearchCV to find the starting point"
   ]
  },
  {
   "cell_type": "code",
   "execution_count": 263,
   "id": "58704fad-cb4c-4e98-975b-f5438a9b08d0",
   "metadata": {
    "tags": []
   },
   "outputs": [],
   "source": [
    "bn_params = {\n",
    "    'cv__max_df':[0.25,0.5,0.75,1.0],\n",
    "    'cv__max_features':[600,800,1000,1200,1400],\n",
    "    'cv__ngram_range':[(1,1),(1,2),(2,2),(3,3)],\n",
    "    'bn__alpha':[1,10,20,30]\n",
    "}"
   ]
  },
  {
   "cell_type": "code",
   "execution_count": 264,
   "id": "f7a44420-38a8-4eef-bc5e-1a60b525262d",
   "metadata": {},
   "outputs": [
    {
     "data": {
      "text/html": [
       "<style>#sk-container-id-33 {color: black;background-color: white;}#sk-container-id-33 pre{padding: 0;}#sk-container-id-33 div.sk-toggleable {background-color: white;}#sk-container-id-33 label.sk-toggleable__label {cursor: pointer;display: block;width: 100%;margin-bottom: 0;padding: 0.3em;box-sizing: border-box;text-align: center;}#sk-container-id-33 label.sk-toggleable__label-arrow:before {content: \"▸\";float: left;margin-right: 0.25em;color: #696969;}#sk-container-id-33 label.sk-toggleable__label-arrow:hover:before {color: black;}#sk-container-id-33 div.sk-estimator:hover label.sk-toggleable__label-arrow:before {color: black;}#sk-container-id-33 div.sk-toggleable__content {max-height: 0;max-width: 0;overflow: hidden;text-align: left;background-color: #f0f8ff;}#sk-container-id-33 div.sk-toggleable__content pre {margin: 0.2em;color: black;border-radius: 0.25em;background-color: #f0f8ff;}#sk-container-id-33 input.sk-toggleable__control:checked~div.sk-toggleable__content {max-height: 200px;max-width: 100%;overflow: auto;}#sk-container-id-33 input.sk-toggleable__control:checked~label.sk-toggleable__label-arrow:before {content: \"▾\";}#sk-container-id-33 div.sk-estimator input.sk-toggleable__control:checked~label.sk-toggleable__label {background-color: #d4ebff;}#sk-container-id-33 div.sk-label input.sk-toggleable__control:checked~label.sk-toggleable__label {background-color: #d4ebff;}#sk-container-id-33 input.sk-hidden--visually {border: 0;clip: rect(1px 1px 1px 1px);clip: rect(1px, 1px, 1px, 1px);height: 1px;margin: -1px;overflow: hidden;padding: 0;position: absolute;width: 1px;}#sk-container-id-33 div.sk-estimator {font-family: monospace;background-color: #f0f8ff;border: 1px dotted black;border-radius: 0.25em;box-sizing: border-box;margin-bottom: 0.5em;}#sk-container-id-33 div.sk-estimator:hover {background-color: #d4ebff;}#sk-container-id-33 div.sk-parallel-item::after {content: \"\";width: 100%;border-bottom: 1px solid gray;flex-grow: 1;}#sk-container-id-33 div.sk-label:hover label.sk-toggleable__label {background-color: #d4ebff;}#sk-container-id-33 div.sk-serial::before {content: \"\";position: absolute;border-left: 1px solid gray;box-sizing: border-box;top: 0;bottom: 0;left: 50%;z-index: 0;}#sk-container-id-33 div.sk-serial {display: flex;flex-direction: column;align-items: center;background-color: white;padding-right: 0.2em;padding-left: 0.2em;position: relative;}#sk-container-id-33 div.sk-item {position: relative;z-index: 1;}#sk-container-id-33 div.sk-parallel {display: flex;align-items: stretch;justify-content: center;background-color: white;position: relative;}#sk-container-id-33 div.sk-item::before, #sk-container-id-33 div.sk-parallel-item::before {content: \"\";position: absolute;border-left: 1px solid gray;box-sizing: border-box;top: 0;bottom: 0;left: 50%;z-index: -1;}#sk-container-id-33 div.sk-parallel-item {display: flex;flex-direction: column;z-index: 1;position: relative;background-color: white;}#sk-container-id-33 div.sk-parallel-item:first-child::after {align-self: flex-end;width: 50%;}#sk-container-id-33 div.sk-parallel-item:last-child::after {align-self: flex-start;width: 50%;}#sk-container-id-33 div.sk-parallel-item:only-child::after {width: 0;}#sk-container-id-33 div.sk-dashed-wrapped {border: 1px dashed gray;margin: 0 0.4em 0.5em 0.4em;box-sizing: border-box;padding-bottom: 0.4em;background-color: white;}#sk-container-id-33 div.sk-label label {font-family: monospace;font-weight: bold;display: inline-block;line-height: 1.2em;}#sk-container-id-33 div.sk-label-container {text-align: center;}#sk-container-id-33 div.sk-container {/* jupyter's `normalize.less` sets `[hidden] { display: none; }` but bootstrap.min.css set `[hidden] { display: none !important; }` so we also need the `!important` here to be able to override the default hidden behavior on the sphinx rendered scikit-learn.org. See: https://github.com/scikit-learn/scikit-learn/issues/21755 */display: inline-block !important;position: relative;}#sk-container-id-33 div.sk-text-repr-fallback {display: none;}</style><div id=\"sk-container-id-33\" class=\"sk-top-container\"><div class=\"sk-text-repr-fallback\"><pre>RandomizedSearchCV(cv=5,\n",
       "                   estimator=Pipeline(steps=[(&#x27;cv&#x27;,\n",
       "                                              CountVectorizer(stop_words=[&#x27;i&#x27;,\n",
       "                                                                          &#x27;me&#x27;,\n",
       "                                                                          &#x27;my&#x27;,\n",
       "                                                                          &#x27;myself&#x27;,\n",
       "                                                                          &#x27;we&#x27;,\n",
       "                                                                          &#x27;our&#x27;,\n",
       "                                                                          &#x27;ours&#x27;,\n",
       "                                                                          &#x27;ourselves&#x27;,\n",
       "                                                                          &#x27;you&#x27;,\n",
       "                                                                          &quot;you&#x27;re&quot;,\n",
       "                                                                          &quot;you&#x27;ve&quot;,\n",
       "                                                                          &quot;you&#x27;ll&quot;,\n",
       "                                                                          &quot;you&#x27;d&quot;,\n",
       "                                                                          &#x27;your&#x27;,\n",
       "                                                                          &#x27;yours&#x27;,\n",
       "                                                                          &#x27;yourself&#x27;,\n",
       "                                                                          &#x27;yourselves&#x27;,\n",
       "                                                                          &#x27;he&#x27;,\n",
       "                                                                          &#x27;him&#x27;,\n",
       "                                                                          &#x27;his&#x27;,\n",
       "                                                                          &#x27;himself&#x27;,\n",
       "                                                                          &#x27;she&#x27;,\n",
       "                                                                          &quot;she&#x27;s&quot;,\n",
       "                                                                          &#x27;her&#x27;,\n",
       "                                                                          &#x27;hers&#x27;,\n",
       "                                                                          &#x27;herself&#x27;,\n",
       "                                                                          &#x27;it&#x27;,\n",
       "                                                                          &quot;it&#x27;s&quot;,\n",
       "                                                                          &#x27;its&#x27;,\n",
       "                                                                          &#x27;itself&#x27;, ...])),\n",
       "                                             (&#x27;bn&#x27;, BernoulliNB())]),\n",
       "                   param_distributions={&#x27;bn__alpha&#x27;: [1, 10, 20, 30],\n",
       "                                        &#x27;cv__max_df&#x27;: [0.25, 0.5, 0.75, 1.0],\n",
       "                                        &#x27;cv__max_features&#x27;: [600, 800, 1000,\n",
       "                                                             1200, 1400],\n",
       "                                        &#x27;cv__ngram_range&#x27;: [(1, 1), (1, 2),\n",
       "                                                            (2, 2), (3, 3)]},\n",
       "                   random_state=42)</pre><b>In a Jupyter environment, please rerun this cell to show the HTML representation or trust the notebook. <br />On GitHub, the HTML representation is unable to render, please try loading this page with nbviewer.org.</b></div><div class=\"sk-container\" hidden><div class=\"sk-item sk-dashed-wrapped\"><div class=\"sk-label-container\"><div class=\"sk-label sk-toggleable\"><input class=\"sk-toggleable__control sk-hidden--visually\" id=\"sk-estimator-id-123\" type=\"checkbox\" ><label for=\"sk-estimator-id-123\" class=\"sk-toggleable__label sk-toggleable__label-arrow\">RandomizedSearchCV</label><div class=\"sk-toggleable__content\"><pre>RandomizedSearchCV(cv=5,\n",
       "                   estimator=Pipeline(steps=[(&#x27;cv&#x27;,\n",
       "                                              CountVectorizer(stop_words=[&#x27;i&#x27;,\n",
       "                                                                          &#x27;me&#x27;,\n",
       "                                                                          &#x27;my&#x27;,\n",
       "                                                                          &#x27;myself&#x27;,\n",
       "                                                                          &#x27;we&#x27;,\n",
       "                                                                          &#x27;our&#x27;,\n",
       "                                                                          &#x27;ours&#x27;,\n",
       "                                                                          &#x27;ourselves&#x27;,\n",
       "                                                                          &#x27;you&#x27;,\n",
       "                                                                          &quot;you&#x27;re&quot;,\n",
       "                                                                          &quot;you&#x27;ve&quot;,\n",
       "                                                                          &quot;you&#x27;ll&quot;,\n",
       "                                                                          &quot;you&#x27;d&quot;,\n",
       "                                                                          &#x27;your&#x27;,\n",
       "                                                                          &#x27;yours&#x27;,\n",
       "                                                                          &#x27;yourself&#x27;,\n",
       "                                                                          &#x27;yourselves&#x27;,\n",
       "                                                                          &#x27;he&#x27;,\n",
       "                                                                          &#x27;him&#x27;,\n",
       "                                                                          &#x27;his&#x27;,\n",
       "                                                                          &#x27;himself&#x27;,\n",
       "                                                                          &#x27;she&#x27;,\n",
       "                                                                          &quot;she&#x27;s&quot;,\n",
       "                                                                          &#x27;her&#x27;,\n",
       "                                                                          &#x27;hers&#x27;,\n",
       "                                                                          &#x27;herself&#x27;,\n",
       "                                                                          &#x27;it&#x27;,\n",
       "                                                                          &quot;it&#x27;s&quot;,\n",
       "                                                                          &#x27;its&#x27;,\n",
       "                                                                          &#x27;itself&#x27;, ...])),\n",
       "                                             (&#x27;bn&#x27;, BernoulliNB())]),\n",
       "                   param_distributions={&#x27;bn__alpha&#x27;: [1, 10, 20, 30],\n",
       "                                        &#x27;cv__max_df&#x27;: [0.25, 0.5, 0.75, 1.0],\n",
       "                                        &#x27;cv__max_features&#x27;: [600, 800, 1000,\n",
       "                                                             1200, 1400],\n",
       "                                        &#x27;cv__ngram_range&#x27;: [(1, 1), (1, 2),\n",
       "                                                            (2, 2), (3, 3)]},\n",
       "                   random_state=42)</pre></div></div></div><div class=\"sk-parallel\"><div class=\"sk-parallel-item\"><div class=\"sk-item\"><div class=\"sk-label-container\"><div class=\"sk-label sk-toggleable\"><input class=\"sk-toggleable__control sk-hidden--visually\" id=\"sk-estimator-id-124\" type=\"checkbox\" ><label for=\"sk-estimator-id-124\" class=\"sk-toggleable__label sk-toggleable__label-arrow\">estimator: Pipeline</label><div class=\"sk-toggleable__content\"><pre>Pipeline(steps=[(&#x27;cv&#x27;,\n",
       "                 CountVectorizer(stop_words=[&#x27;i&#x27;, &#x27;me&#x27;, &#x27;my&#x27;, &#x27;myself&#x27;, &#x27;we&#x27;,\n",
       "                                             &#x27;our&#x27;, &#x27;ours&#x27;, &#x27;ourselves&#x27;, &#x27;you&#x27;,\n",
       "                                             &quot;you&#x27;re&quot;, &quot;you&#x27;ve&quot;, &quot;you&#x27;ll&quot;,\n",
       "                                             &quot;you&#x27;d&quot;, &#x27;your&#x27;, &#x27;yours&#x27;,\n",
       "                                             &#x27;yourself&#x27;, &#x27;yourselves&#x27;, &#x27;he&#x27;,\n",
       "                                             &#x27;him&#x27;, &#x27;his&#x27;, &#x27;himself&#x27;, &#x27;she&#x27;,\n",
       "                                             &quot;she&#x27;s&quot;, &#x27;her&#x27;, &#x27;hers&#x27;, &#x27;herself&#x27;,\n",
       "                                             &#x27;it&#x27;, &quot;it&#x27;s&quot;, &#x27;its&#x27;, &#x27;itself&#x27;, ...])),\n",
       "                (&#x27;bn&#x27;, BernoulliNB())])</pre></div></div></div><div class=\"sk-serial\"><div class=\"sk-item\"><div class=\"sk-serial\"><div class=\"sk-item\"><div class=\"sk-estimator sk-toggleable\"><input class=\"sk-toggleable__control sk-hidden--visually\" id=\"sk-estimator-id-125\" type=\"checkbox\" ><label for=\"sk-estimator-id-125\" class=\"sk-toggleable__label sk-toggleable__label-arrow\">CountVectorizer</label><div class=\"sk-toggleable__content\"><pre>CountVectorizer(stop_words=[&#x27;i&#x27;, &#x27;me&#x27;, &#x27;my&#x27;, &#x27;myself&#x27;, &#x27;we&#x27;, &#x27;our&#x27;, &#x27;ours&#x27;,\n",
       "                            &#x27;ourselves&#x27;, &#x27;you&#x27;, &quot;you&#x27;re&quot;, &quot;you&#x27;ve&quot;, &quot;you&#x27;ll&quot;,\n",
       "                            &quot;you&#x27;d&quot;, &#x27;your&#x27;, &#x27;yours&#x27;, &#x27;yourself&#x27;, &#x27;yourselves&#x27;,\n",
       "                            &#x27;he&#x27;, &#x27;him&#x27;, &#x27;his&#x27;, &#x27;himself&#x27;, &#x27;she&#x27;, &quot;she&#x27;s&quot;,\n",
       "                            &#x27;her&#x27;, &#x27;hers&#x27;, &#x27;herself&#x27;, &#x27;it&#x27;, &quot;it&#x27;s&quot;, &#x27;its&#x27;,\n",
       "                            &#x27;itself&#x27;, ...])</pre></div></div></div><div class=\"sk-item\"><div class=\"sk-estimator sk-toggleable\"><input class=\"sk-toggleable__control sk-hidden--visually\" id=\"sk-estimator-id-126\" type=\"checkbox\" ><label for=\"sk-estimator-id-126\" class=\"sk-toggleable__label sk-toggleable__label-arrow\">BernoulliNB</label><div class=\"sk-toggleable__content\"><pre>BernoulliNB()</pre></div></div></div></div></div></div></div></div></div></div></div></div>"
      ],
      "text/plain": [
       "RandomizedSearchCV(cv=5,\n",
       "                   estimator=Pipeline(steps=[('cv',\n",
       "                                              CountVectorizer(stop_words=['i',\n",
       "                                                                          'me',\n",
       "                                                                          'my',\n",
       "                                                                          'myself',\n",
       "                                                                          'we',\n",
       "                                                                          'our',\n",
       "                                                                          'ours',\n",
       "                                                                          'ourselves',\n",
       "                                                                          'you',\n",
       "                                                                          \"you're\",\n",
       "                                                                          \"you've\",\n",
       "                                                                          \"you'll\",\n",
       "                                                                          \"you'd\",\n",
       "                                                                          'your',\n",
       "                                                                          'yours',\n",
       "                                                                          'yourself',\n",
       "                                                                          'yourselves',\n",
       "                                                                          'he',\n",
       "                                                                          'him',\n",
       "                                                                          'his',\n",
       "                                                                          'himself',\n",
       "                                                                          'she',\n",
       "                                                                          \"she's\",\n",
       "                                                                          'her',\n",
       "                                                                          'hers',\n",
       "                                                                          'herself',\n",
       "                                                                          'it',\n",
       "                                                                          \"it's\",\n",
       "                                                                          'its',\n",
       "                                                                          'itself', ...])),\n",
       "                                             ('bn', BernoulliNB())]),\n",
       "                   param_distributions={'bn__alpha': [1, 10, 20, 30],\n",
       "                                        'cv__max_df': [0.25, 0.5, 0.75, 1.0],\n",
       "                                        'cv__max_features': [600, 800, 1000,\n",
       "                                                             1200, 1400],\n",
       "                                        'cv__ngram_range': [(1, 1), (1, 2),\n",
       "                                                            (2, 2), (3, 3)]},\n",
       "                   random_state=42)"
      ]
     },
     "execution_count": 264,
     "metadata": {},
     "output_type": "execute_result"
    }
   ],
   "source": [
    "gr = RandomizedSearchCV(bn_pipe,\n",
    "                        param_distributions=bn_params,\n",
    "                        cv=5,\n",
    "                        random_state=42)\n",
    "\n",
    "gr.fit(X_train,y_train)"
   ]
  },
  {
   "cell_type": "code",
   "execution_count": 265,
   "id": "ac05f990-db69-48ee-b769-0d5c57dd975e",
   "metadata": {},
   "outputs": [
    {
     "name": "stdout",
     "output_type": "stream",
     "text": [
      "Best Parameters:\n",
      "{'cv__ngram_range': (1, 2), 'cv__max_features': 800, 'cv__max_df': 0.5, 'bn__alpha': 1}\n",
      "Best Scores:\n",
      "0.6823\n"
     ]
    }
   ],
   "source": [
    "print_grid_results(gr)"
   ]
  },
  {
   "cell_type": "markdown",
   "id": "c3a624ed-d5e1-4683-8b75-10885929f436",
   "metadata": {},
   "source": [
    "GridSearchCV to find the optimum hyperparameters"
   ]
  },
  {
   "cell_type": "code",
   "execution_count": 266,
   "id": "320eab5c-b35d-40fb-bf7a-6463a08e87b9",
   "metadata": {},
   "outputs": [],
   "source": [
    "nb_params = {\n",
    "    'cv__max_df':[0.25,0.5,0.75],\n",
    "    'cv__max_features':[1200,1400,1600],\n",
    "    'cv__ngram_range':[(1,1),(1,2)],\n",
    "    'nb__alpha':[10,20]\n",
    "}"
   ]
  },
  {
   "cell_type": "code",
   "execution_count": 267,
   "id": "673310fa-2d79-40fe-97b4-86183213a430",
   "metadata": {},
   "outputs": [
    {
     "data": {
      "text/html": [
       "<style>#sk-container-id-34 {color: black;background-color: white;}#sk-container-id-34 pre{padding: 0;}#sk-container-id-34 div.sk-toggleable {background-color: white;}#sk-container-id-34 label.sk-toggleable__label {cursor: pointer;display: block;width: 100%;margin-bottom: 0;padding: 0.3em;box-sizing: border-box;text-align: center;}#sk-container-id-34 label.sk-toggleable__label-arrow:before {content: \"▸\";float: left;margin-right: 0.25em;color: #696969;}#sk-container-id-34 label.sk-toggleable__label-arrow:hover:before {color: black;}#sk-container-id-34 div.sk-estimator:hover label.sk-toggleable__label-arrow:before {color: black;}#sk-container-id-34 div.sk-toggleable__content {max-height: 0;max-width: 0;overflow: hidden;text-align: left;background-color: #f0f8ff;}#sk-container-id-34 div.sk-toggleable__content pre {margin: 0.2em;color: black;border-radius: 0.25em;background-color: #f0f8ff;}#sk-container-id-34 input.sk-toggleable__control:checked~div.sk-toggleable__content {max-height: 200px;max-width: 100%;overflow: auto;}#sk-container-id-34 input.sk-toggleable__control:checked~label.sk-toggleable__label-arrow:before {content: \"▾\";}#sk-container-id-34 div.sk-estimator input.sk-toggleable__control:checked~label.sk-toggleable__label {background-color: #d4ebff;}#sk-container-id-34 div.sk-label input.sk-toggleable__control:checked~label.sk-toggleable__label {background-color: #d4ebff;}#sk-container-id-34 input.sk-hidden--visually {border: 0;clip: rect(1px 1px 1px 1px);clip: rect(1px, 1px, 1px, 1px);height: 1px;margin: -1px;overflow: hidden;padding: 0;position: absolute;width: 1px;}#sk-container-id-34 div.sk-estimator {font-family: monospace;background-color: #f0f8ff;border: 1px dotted black;border-radius: 0.25em;box-sizing: border-box;margin-bottom: 0.5em;}#sk-container-id-34 div.sk-estimator:hover {background-color: #d4ebff;}#sk-container-id-34 div.sk-parallel-item::after {content: \"\";width: 100%;border-bottom: 1px solid gray;flex-grow: 1;}#sk-container-id-34 div.sk-label:hover label.sk-toggleable__label {background-color: #d4ebff;}#sk-container-id-34 div.sk-serial::before {content: \"\";position: absolute;border-left: 1px solid gray;box-sizing: border-box;top: 0;bottom: 0;left: 50%;z-index: 0;}#sk-container-id-34 div.sk-serial {display: flex;flex-direction: column;align-items: center;background-color: white;padding-right: 0.2em;padding-left: 0.2em;position: relative;}#sk-container-id-34 div.sk-item {position: relative;z-index: 1;}#sk-container-id-34 div.sk-parallel {display: flex;align-items: stretch;justify-content: center;background-color: white;position: relative;}#sk-container-id-34 div.sk-item::before, #sk-container-id-34 div.sk-parallel-item::before {content: \"\";position: absolute;border-left: 1px solid gray;box-sizing: border-box;top: 0;bottom: 0;left: 50%;z-index: -1;}#sk-container-id-34 div.sk-parallel-item {display: flex;flex-direction: column;z-index: 1;position: relative;background-color: white;}#sk-container-id-34 div.sk-parallel-item:first-child::after {align-self: flex-end;width: 50%;}#sk-container-id-34 div.sk-parallel-item:last-child::after {align-self: flex-start;width: 50%;}#sk-container-id-34 div.sk-parallel-item:only-child::after {width: 0;}#sk-container-id-34 div.sk-dashed-wrapped {border: 1px dashed gray;margin: 0 0.4em 0.5em 0.4em;box-sizing: border-box;padding-bottom: 0.4em;background-color: white;}#sk-container-id-34 div.sk-label label {font-family: monospace;font-weight: bold;display: inline-block;line-height: 1.2em;}#sk-container-id-34 div.sk-label-container {text-align: center;}#sk-container-id-34 div.sk-container {/* jupyter's `normalize.less` sets `[hidden] { display: none; }` but bootstrap.min.css set `[hidden] { display: none !important; }` so we also need the `!important` here to be able to override the default hidden behavior on the sphinx rendered scikit-learn.org. See: https://github.com/scikit-learn/scikit-learn/issues/21755 */display: inline-block !important;position: relative;}#sk-container-id-34 div.sk-text-repr-fallback {display: none;}</style><div id=\"sk-container-id-34\" class=\"sk-top-container\"><div class=\"sk-text-repr-fallback\"><pre>GridSearchCV(cv=5,\n",
       "             estimator=Pipeline(steps=[(&#x27;cv&#x27;,\n",
       "                                        CountVectorizer(stop_words=[&#x27;i&#x27;, &#x27;me&#x27;,\n",
       "                                                                    &#x27;my&#x27;,\n",
       "                                                                    &#x27;myself&#x27;,\n",
       "                                                                    &#x27;we&#x27;, &#x27;our&#x27;,\n",
       "                                                                    &#x27;ours&#x27;,\n",
       "                                                                    &#x27;ourselves&#x27;,\n",
       "                                                                    &#x27;you&#x27;,\n",
       "                                                                    &quot;you&#x27;re&quot;,\n",
       "                                                                    &quot;you&#x27;ve&quot;,\n",
       "                                                                    &quot;you&#x27;ll&quot;,\n",
       "                                                                    &quot;you&#x27;d&quot;,\n",
       "                                                                    &#x27;your&#x27;,\n",
       "                                                                    &#x27;yours&#x27;,\n",
       "                                                                    &#x27;yourself&#x27;,\n",
       "                                                                    &#x27;yourselves&#x27;,\n",
       "                                                                    &#x27;he&#x27;, &#x27;him&#x27;,\n",
       "                                                                    &#x27;his&#x27;,\n",
       "                                                                    &#x27;himself&#x27;,\n",
       "                                                                    &#x27;she&#x27;,\n",
       "                                                                    &quot;she&#x27;s&quot;,\n",
       "                                                                    &#x27;her&#x27;,\n",
       "                                                                    &#x27;hers&#x27;,\n",
       "                                                                    &#x27;herself&#x27;,\n",
       "                                                                    &#x27;it&#x27;,\n",
       "                                                                    &quot;it&#x27;s&quot;,\n",
       "                                                                    &#x27;its&#x27;,\n",
       "                                                                    &#x27;itself&#x27;, ...])),\n",
       "                                       (&#x27;nb&#x27;, MultinomialNB())]),\n",
       "             param_grid={&#x27;cv__max_df&#x27;: [0.25, 0.5, 0.75],\n",
       "                         &#x27;cv__max_features&#x27;: [1200, 1400, 1600],\n",
       "                         &#x27;cv__ngram_range&#x27;: [(1, 1), (1, 2)],\n",
       "                         &#x27;nb__alpha&#x27;: [10, 20]})</pre><b>In a Jupyter environment, please rerun this cell to show the HTML representation or trust the notebook. <br />On GitHub, the HTML representation is unable to render, please try loading this page with nbviewer.org.</b></div><div class=\"sk-container\" hidden><div class=\"sk-item sk-dashed-wrapped\"><div class=\"sk-label-container\"><div class=\"sk-label sk-toggleable\"><input class=\"sk-toggleable__control sk-hidden--visually\" id=\"sk-estimator-id-127\" type=\"checkbox\" ><label for=\"sk-estimator-id-127\" class=\"sk-toggleable__label sk-toggleable__label-arrow\">GridSearchCV</label><div class=\"sk-toggleable__content\"><pre>GridSearchCV(cv=5,\n",
       "             estimator=Pipeline(steps=[(&#x27;cv&#x27;,\n",
       "                                        CountVectorizer(stop_words=[&#x27;i&#x27;, &#x27;me&#x27;,\n",
       "                                                                    &#x27;my&#x27;,\n",
       "                                                                    &#x27;myself&#x27;,\n",
       "                                                                    &#x27;we&#x27;, &#x27;our&#x27;,\n",
       "                                                                    &#x27;ours&#x27;,\n",
       "                                                                    &#x27;ourselves&#x27;,\n",
       "                                                                    &#x27;you&#x27;,\n",
       "                                                                    &quot;you&#x27;re&quot;,\n",
       "                                                                    &quot;you&#x27;ve&quot;,\n",
       "                                                                    &quot;you&#x27;ll&quot;,\n",
       "                                                                    &quot;you&#x27;d&quot;,\n",
       "                                                                    &#x27;your&#x27;,\n",
       "                                                                    &#x27;yours&#x27;,\n",
       "                                                                    &#x27;yourself&#x27;,\n",
       "                                                                    &#x27;yourselves&#x27;,\n",
       "                                                                    &#x27;he&#x27;, &#x27;him&#x27;,\n",
       "                                                                    &#x27;his&#x27;,\n",
       "                                                                    &#x27;himself&#x27;,\n",
       "                                                                    &#x27;she&#x27;,\n",
       "                                                                    &quot;she&#x27;s&quot;,\n",
       "                                                                    &#x27;her&#x27;,\n",
       "                                                                    &#x27;hers&#x27;,\n",
       "                                                                    &#x27;herself&#x27;,\n",
       "                                                                    &#x27;it&#x27;,\n",
       "                                                                    &quot;it&#x27;s&quot;,\n",
       "                                                                    &#x27;its&#x27;,\n",
       "                                                                    &#x27;itself&#x27;, ...])),\n",
       "                                       (&#x27;nb&#x27;, MultinomialNB())]),\n",
       "             param_grid={&#x27;cv__max_df&#x27;: [0.25, 0.5, 0.75],\n",
       "                         &#x27;cv__max_features&#x27;: [1200, 1400, 1600],\n",
       "                         &#x27;cv__ngram_range&#x27;: [(1, 1), (1, 2)],\n",
       "                         &#x27;nb__alpha&#x27;: [10, 20]})</pre></div></div></div><div class=\"sk-parallel\"><div class=\"sk-parallel-item\"><div class=\"sk-item\"><div class=\"sk-label-container\"><div class=\"sk-label sk-toggleable\"><input class=\"sk-toggleable__control sk-hidden--visually\" id=\"sk-estimator-id-128\" type=\"checkbox\" ><label for=\"sk-estimator-id-128\" class=\"sk-toggleable__label sk-toggleable__label-arrow\">estimator: Pipeline</label><div class=\"sk-toggleable__content\"><pre>Pipeline(steps=[(&#x27;cv&#x27;,\n",
       "                 CountVectorizer(stop_words=[&#x27;i&#x27;, &#x27;me&#x27;, &#x27;my&#x27;, &#x27;myself&#x27;, &#x27;we&#x27;,\n",
       "                                             &#x27;our&#x27;, &#x27;ours&#x27;, &#x27;ourselves&#x27;, &#x27;you&#x27;,\n",
       "                                             &quot;you&#x27;re&quot;, &quot;you&#x27;ve&quot;, &quot;you&#x27;ll&quot;,\n",
       "                                             &quot;you&#x27;d&quot;, &#x27;your&#x27;, &#x27;yours&#x27;,\n",
       "                                             &#x27;yourself&#x27;, &#x27;yourselves&#x27;, &#x27;he&#x27;,\n",
       "                                             &#x27;him&#x27;, &#x27;his&#x27;, &#x27;himself&#x27;, &#x27;she&#x27;,\n",
       "                                             &quot;she&#x27;s&quot;, &#x27;her&#x27;, &#x27;hers&#x27;, &#x27;herself&#x27;,\n",
       "                                             &#x27;it&#x27;, &quot;it&#x27;s&quot;, &#x27;its&#x27;, &#x27;itself&#x27;, ...])),\n",
       "                (&#x27;nb&#x27;, MultinomialNB())])</pre></div></div></div><div class=\"sk-serial\"><div class=\"sk-item\"><div class=\"sk-serial\"><div class=\"sk-item\"><div class=\"sk-estimator sk-toggleable\"><input class=\"sk-toggleable__control sk-hidden--visually\" id=\"sk-estimator-id-129\" type=\"checkbox\" ><label for=\"sk-estimator-id-129\" class=\"sk-toggleable__label sk-toggleable__label-arrow\">CountVectorizer</label><div class=\"sk-toggleable__content\"><pre>CountVectorizer(stop_words=[&#x27;i&#x27;, &#x27;me&#x27;, &#x27;my&#x27;, &#x27;myself&#x27;, &#x27;we&#x27;, &#x27;our&#x27;, &#x27;ours&#x27;,\n",
       "                            &#x27;ourselves&#x27;, &#x27;you&#x27;, &quot;you&#x27;re&quot;, &quot;you&#x27;ve&quot;, &quot;you&#x27;ll&quot;,\n",
       "                            &quot;you&#x27;d&quot;, &#x27;your&#x27;, &#x27;yours&#x27;, &#x27;yourself&#x27;, &#x27;yourselves&#x27;,\n",
       "                            &#x27;he&#x27;, &#x27;him&#x27;, &#x27;his&#x27;, &#x27;himself&#x27;, &#x27;she&#x27;, &quot;she&#x27;s&quot;,\n",
       "                            &#x27;her&#x27;, &#x27;hers&#x27;, &#x27;herself&#x27;, &#x27;it&#x27;, &quot;it&#x27;s&quot;, &#x27;its&#x27;,\n",
       "                            &#x27;itself&#x27;, ...])</pre></div></div></div><div class=\"sk-item\"><div class=\"sk-estimator sk-toggleable\"><input class=\"sk-toggleable__control sk-hidden--visually\" id=\"sk-estimator-id-130\" type=\"checkbox\" ><label for=\"sk-estimator-id-130\" class=\"sk-toggleable__label sk-toggleable__label-arrow\">MultinomialNB</label><div class=\"sk-toggleable__content\"><pre>MultinomialNB()</pre></div></div></div></div></div></div></div></div></div></div></div></div>"
      ],
      "text/plain": [
       "GridSearchCV(cv=5,\n",
       "             estimator=Pipeline(steps=[('cv',\n",
       "                                        CountVectorizer(stop_words=['i', 'me',\n",
       "                                                                    'my',\n",
       "                                                                    'myself',\n",
       "                                                                    'we', 'our',\n",
       "                                                                    'ours',\n",
       "                                                                    'ourselves',\n",
       "                                                                    'you',\n",
       "                                                                    \"you're\",\n",
       "                                                                    \"you've\",\n",
       "                                                                    \"you'll\",\n",
       "                                                                    \"you'd\",\n",
       "                                                                    'your',\n",
       "                                                                    'yours',\n",
       "                                                                    'yourself',\n",
       "                                                                    'yourselves',\n",
       "                                                                    'he', 'him',\n",
       "                                                                    'his',\n",
       "                                                                    'himself',\n",
       "                                                                    'she',\n",
       "                                                                    \"she's\",\n",
       "                                                                    'her',\n",
       "                                                                    'hers',\n",
       "                                                                    'herself',\n",
       "                                                                    'it',\n",
       "                                                                    \"it's\",\n",
       "                                                                    'its',\n",
       "                                                                    'itself', ...])),\n",
       "                                       ('nb', MultinomialNB())]),\n",
       "             param_grid={'cv__max_df': [0.25, 0.5, 0.75],\n",
       "                         'cv__max_features': [1200, 1400, 1600],\n",
       "                         'cv__ngram_range': [(1, 1), (1, 2)],\n",
       "                         'nb__alpha': [10, 20]})"
      ]
     },
     "execution_count": 267,
     "metadata": {},
     "output_type": "execute_result"
    }
   ],
   "source": [
    "nb_gs = GridSearchCV(nb_pipe,\n",
    "                  param_grid=nb_params,\n",
    "                  cv=5)\n",
    "\n",
    "nb_gs.fit(X_train,y_train)"
   ]
  },
  {
   "cell_type": "code",
   "execution_count": 268,
   "id": "5e70a82e-c3af-4a32-b726-e2791bf27f30",
   "metadata": {},
   "outputs": [
    {
     "data": {
      "text/plain": [
       "{'cv__max_df': 0.5,\n",
       " 'cv__max_features': 1600,\n",
       " 'cv__ngram_range': (1, 1),\n",
       " 'nb__alpha': 20}"
      ]
     },
     "execution_count": 268,
     "metadata": {},
     "output_type": "execute_result"
    }
   ],
   "source": [
    "nb_gs.best_params_"
   ]
  },
  {
   "cell_type": "code",
   "execution_count": 269,
   "id": "357e08fc-18d7-4677-b8d4-886db3e761cf",
   "metadata": {},
   "outputs": [],
   "source": [
    "# Create Pipeline\n",
    "rf_pipe_best = Pipeline([\n",
    "    \n",
    "    ('cv', CountVectorizer(max_df=nb_gs.best_params_['cv__max_df'],\n",
    "                           max_features=nb_gs.best_params_['cv__max_features'],\n",
    "                           ngram_range=nb_gs.best_params_['cv__ngram_range'],\n",
    "                           stop_words=manual_stopwords)),\n",
    "    \n",
    "    ('nb', MultinomialNB(alpha=nb_gs.best_params_['nb__alpha']))\n",
    "])"
   ]
  },
  {
   "cell_type": "markdown",
   "id": "2de2db7d-ff55-4ac1-ba1d-08fc8100b49f",
   "metadata": {},
   "source": [
    "Fit the model on GridSearchCV best parameter"
   ]
  },
  {
   "cell_type": "code",
   "execution_count": 270,
   "id": "9ab65121-840e-4610-8979-32b357b474eb",
   "metadata": {},
   "outputs": [
    {
     "name": "stdout",
     "output_type": "stream",
     "text": [
      "Train Score: 0.796\n",
      "Test Score: 0.7134\n",
      "Classification Report:\n",
      "              precision    recall  f1-score   support\n",
      "\n",
      "    coursera       0.68      0.80      0.74       250\n",
      "         edx       0.75      0.63      0.69       249\n",
      "\n",
      "    accuracy                           0.71       499\n",
      "   macro avg       0.72      0.71      0.71       499\n",
      "weighted avg       0.72      0.71      0.71       499\n",
      "\n"
     ]
    }
   ],
   "source": [
    "fit_pipe(rf_pipe_best,X_train,X_test,y_train,y_test)"
   ]
  },
  {
   "cell_type": "code",
   "execution_count": 271,
   "id": "ae1b5cdb-1e0f-46ca-a0a1-518531f4af54",
   "metadata": {},
   "outputs": [
    {
     "name": "stdout",
     "output_type": "stream",
     "text": [
      "Confusion Matrix:\n"
     ]
    },
    {
     "data": {
      "image/png": "[encoded data removed]",
      "text/plain": [
       "<Figure size 432x288 with 2 Axes>"
      ]
     },
     "metadata": {
      "needs_background": "light"
     },
     "output_type": "display_data"
    }
   ],
   "source": [
    "show_cm(bg_pipe_best,X_train,X_test,y_train,y_test)"
   ]
  },
  {
   "cell_type": "markdown",
   "id": "260ae79a-00a9-4823-b9eb-d00f779d8254",
   "metadata": {},
   "source": [
    "__Key Takeaway:__ <br>\n",
    "- Similarly to Multi-nomial NB, the Bernoulli NB gives the best results so far with 71% accuracy on the testing data\n",
    "- However, there is an imbalance in recall for `coursera` and `edx`"
   ]
  },
  {
   "cell_type": "markdown",
   "id": "5fd8b4bf-495a-481c-a530-4922310209de",
   "metadata": {},
   "source": [
    "---"
   ]
  },
  {
   "cell_type": "markdown",
   "id": "049875ca-385d-432c-ab4a-68e8fb877584",
   "metadata": {
    "tags": []
   },
   "source": [
    "#### Gaussian Naive Bayes Classifier\n",
    "[Back to Table of Content](#Table-of-Content)"
   ]
  },
  {
   "cell_type": "code",
   "execution_count": 198,
   "id": "21842dab-4b5b-4eff-adee-61d96893837d",
   "metadata": {},
   "outputs": [],
   "source": [
    "# Create a function to vectorize and return dataframe\n",
    "\n",
    "def vec_to_df(vec=CountVectorizer(),data=post_df['title']):\n",
    "    # Vectorize using own choice and return vectorized dataframe\n",
    "    \n",
    "    # fit transform title\n",
    "    d = vec.fit_transform(data)\n",
    "    \n",
    "    # Storing into a DataFrame\n",
    "    df_vec = pd.DataFrame(d.todense(),columns=vec.get_feature_names_out())\n",
    "    \n",
    "    return df_vec"
   ]
  },
  {
   "cell_type": "code",
   "execution_count": 206,
   "id": "80113874-ef06-4a34-9d99-e865fdbb412d",
   "metadata": {},
   "outputs": [],
   "source": [
    "# Select X and y\n",
    "X = post_df['title_lemma'].values.astype('U')\n",
    "y = post_df['subreddit']"
   ]
  },
  {
   "cell_type": "code",
   "execution_count": 225,
   "id": "0f616bd3-34f1-4dc9-aeb3-d50bf995bead",
   "metadata": {},
   "outputs": [],
   "source": [
    "# Split the data\n",
    "X_train,X_test,y_train,y_test = train_test_split(X,y,stratify=y,random_state=42)"
   ]
  },
  {
   "cell_type": "code",
   "execution_count": 226,
   "id": "3a47034a-7b7a-4e3f-953b-b492fad3e3b2",
   "metadata": {},
   "outputs": [],
   "source": [
    "# Instantiate\n",
    "tf = TfidfVectorizer()"
   ]
  },
  {
   "cell_type": "code",
   "execution_count": 227,
   "id": "0ed30376-3560-4139-9427-03374bc06877",
   "metadata": {},
   "outputs": [],
   "source": [
    "# Fit transform train\n",
    "X_train_vec = tf.fit_transform(X_train)"
   ]
  },
  {
   "cell_type": "code",
   "execution_count": 228,
   "id": "c8439a21-08c9-4bae-b0a6-736f1282debd",
   "metadata": {},
   "outputs": [],
   "source": [
    "# Transform test\n",
    "X_test_vec = tf.transform(X_test)"
   ]
  },
  {
   "cell_type": "code",
   "execution_count": 229,
   "id": "bd790ce4-0645-4673-a5ad-bf3753e8a2b0",
   "metadata": {},
   "outputs": [],
   "source": [
    "# Convert X_train to dataframe\n",
    "X_train = pd.DataFrame(X_train_vec.todense(),columns=tf.get_feature_names_out())"
   ]
  },
  {
   "cell_type": "code",
   "execution_count": 230,
   "id": "a8f5d9df-c036-4e63-97dd-4ace8bd433bd",
   "metadata": {},
   "outputs": [],
   "source": [
    "# Convert X_test to dataframe\n",
    "X_test = pd.DataFrame(X_test_vec.todense(),columns=tf.get_feature_names_out())"
   ]
  },
  {
   "cell_type": "code",
   "execution_count": 231,
   "id": "7d8c22ff-e7ba-4c82-8ba9-d1b11e06fd20",
   "metadata": {},
   "outputs": [],
   "source": [
    "# Instantiate model\n",
    "gn = GaussianNB()"
   ]
  },
  {
   "cell_type": "code",
   "execution_count": 232,
   "id": "fc87a2ab-f053-4113-aa2d-5a66930264fc",
   "metadata": {},
   "outputs": [
    {
     "data": {
      "text/html": [
       "<style>#sk-container-id-30 {color: black;background-color: white;}#sk-container-id-30 pre{padding: 0;}#sk-container-id-30 div.sk-toggleable {background-color: white;}#sk-container-id-30 label.sk-toggleable__label {cursor: pointer;display: block;width: 100%;margin-bottom: 0;padding: 0.3em;box-sizing: border-box;text-align: center;}#sk-container-id-30 label.sk-toggleable__label-arrow:before {content: \"▸\";float: left;margin-right: 0.25em;color: #696969;}#sk-container-id-30 label.sk-toggleable__label-arrow:hover:before {color: black;}#sk-container-id-30 div.sk-estimator:hover label.sk-toggleable__label-arrow:before {color: black;}#sk-container-id-30 div.sk-toggleable__content {max-height: 0;max-width: 0;overflow: hidden;text-align: left;background-color: #f0f8ff;}#sk-container-id-30 div.sk-toggleable__content pre {margin: 0.2em;color: black;border-radius: 0.25em;background-color: #f0f8ff;}#sk-container-id-30 input.sk-toggleable__control:checked~div.sk-toggleable__content {max-height: 200px;max-width: 100%;overflow: auto;}#sk-container-id-30 input.sk-toggleable__control:checked~label.sk-toggleable__label-arrow:before {content: \"▾\";}#sk-container-id-30 div.sk-estimator input.sk-toggleable__control:checked~label.sk-toggleable__label {background-color: #d4ebff;}#sk-container-id-30 div.sk-label input.sk-toggleable__control:checked~label.sk-toggleable__label {background-color: #d4ebff;}#sk-container-id-30 input.sk-hidden--visually {border: 0;clip: rect(1px 1px 1px 1px);clip: rect(1px, 1px, 1px, 1px);height: 1px;margin: -1px;overflow: hidden;padding: 0;position: absolute;width: 1px;}#sk-container-id-30 div.sk-estimator {font-family: monospace;background-color: #f0f8ff;border: 1px dotted black;border-radius: 0.25em;box-sizing: border-box;margin-bottom: 0.5em;}#sk-container-id-30 div.sk-estimator:hover {background-color: #d4ebff;}#sk-container-id-30 div.sk-parallel-item::after {content: \"\";width: 100%;border-bottom: 1px solid gray;flex-grow: 1;}#sk-container-id-30 div.sk-label:hover label.sk-toggleable__label {background-color: #d4ebff;}#sk-container-id-30 div.sk-serial::before {content: \"\";position: absolute;border-left: 1px solid gray;box-sizing: border-box;top: 0;bottom: 0;left: 50%;z-index: 0;}#sk-container-id-30 div.sk-serial {display: flex;flex-direction: column;align-items: center;background-color: white;padding-right: 0.2em;padding-left: 0.2em;position: relative;}#sk-container-id-30 div.sk-item {position: relative;z-index: 1;}#sk-container-id-30 div.sk-parallel {display: flex;align-items: stretch;justify-content: center;background-color: white;position: relative;}#sk-container-id-30 div.sk-item::before, #sk-container-id-30 div.sk-parallel-item::before {content: \"\";position: absolute;border-left: 1px solid gray;box-sizing: border-box;top: 0;bottom: 0;left: 50%;z-index: -1;}#sk-container-id-30 div.sk-parallel-item {display: flex;flex-direction: column;z-index: 1;position: relative;background-color: white;}#sk-container-id-30 div.sk-parallel-item:first-child::after {align-self: flex-end;width: 50%;}#sk-container-id-30 div.sk-parallel-item:last-child::after {align-self: flex-start;width: 50%;}#sk-container-id-30 div.sk-parallel-item:only-child::after {width: 0;}#sk-container-id-30 div.sk-dashed-wrapped {border: 1px dashed gray;margin: 0 0.4em 0.5em 0.4em;box-sizing: border-box;padding-bottom: 0.4em;background-color: white;}#sk-container-id-30 div.sk-label label {font-family: monospace;font-weight: bold;display: inline-block;line-height: 1.2em;}#sk-container-id-30 div.sk-label-container {text-align: center;}#sk-container-id-30 div.sk-container {/* jupyter's `normalize.less` sets `[hidden] { display: none; }` but bootstrap.min.css set `[hidden] { display: none !important; }` so we also need the `!important` here to be able to override the default hidden behavior on the sphinx rendered scikit-learn.org. See: https://github.com/scikit-learn/scikit-learn/issues/21755 */display: inline-block !important;position: relative;}#sk-container-id-30 div.sk-text-repr-fallback {display: none;}</style><div id=\"sk-container-id-30\" class=\"sk-top-container\"><div class=\"sk-text-repr-fallback\"><pre>GaussianNB()</pre><b>In a Jupyter environment, please rerun this cell to show the HTML representation or trust the notebook. <br />On GitHub, the HTML representation is unable to render, please try loading this page with nbviewer.org.</b></div><div class=\"sk-container\" hidden><div class=\"sk-item\"><div class=\"sk-estimator sk-toggleable\"><input class=\"sk-toggleable__control sk-hidden--visually\" id=\"sk-estimator-id-114\" type=\"checkbox\" checked><label for=\"sk-estimator-id-114\" class=\"sk-toggleable__label sk-toggleable__label-arrow\">GaussianNB</label><div class=\"sk-toggleable__content\"><pre>GaussianNB()</pre></div></div></div></div></div>"
      ],
      "text/plain": [
       "GaussianNB()"
      ]
     },
     "execution_count": 232,
     "metadata": {},
     "output_type": "execute_result"
    }
   ],
   "source": [
    "# Fit the model\n",
    "gn.fit(X_train,y_train)"
   ]
  },
  {
   "cell_type": "code",
   "execution_count": 233,
   "id": "c32cd28b-136f-4efc-8a36-fc93e2d79f20",
   "metadata": {},
   "outputs": [],
   "source": [
    "# Predict\n",
    "y_pred = gn.predict(X_test)"
   ]
  },
  {
   "cell_type": "code",
   "execution_count": 234,
   "id": "fdfdb4aa-fb7d-4cb0-a7e6-adadc0a75a8a",
   "metadata": {},
   "outputs": [
    {
     "data": {
      "text/plain": [
       "0.9036789297658863"
      ]
     },
     "execution_count": 234,
     "metadata": {},
     "output_type": "execute_result"
    }
   ],
   "source": [
    "# Training score\n",
    "gn.score(X_train,y_train)"
   ]
  },
  {
   "cell_type": "code",
   "execution_count": 235,
   "id": "b17637be-655c-49c8-88f5-011dee023d97",
   "metadata": {},
   "outputs": [
    {
     "data": {
      "text/plain": [
       "0.7014028056112225"
      ]
     },
     "execution_count": 235,
     "metadata": {},
     "output_type": "execute_result"
    }
   ],
   "source": [
    "# Test score\n",
    "gn.score(X_test,y_test)"
   ]
  },
  {
   "cell_type": "code",
   "execution_count": 236,
   "id": "768ecb37-363f-4e71-9ac8-c08437a837af",
   "metadata": {},
   "outputs": [
    {
     "name": "stdout",
     "output_type": "stream",
     "text": [
      "              precision    recall  f1-score   support\n",
      "\n",
      "    coursera       0.67      0.80      0.73       250\n",
      "         edx       0.75      0.60      0.67       249\n",
      "\n",
      "    accuracy                           0.70       499\n",
      "   macro avg       0.71      0.70      0.70       499\n",
      "weighted avg       0.71      0.70      0.70       499\n",
      "\n"
     ]
    }
   ],
   "source": [
    "# Classification report\n",
    "print(classification_report(y_test,y_pred))"
   ]
  },
  {
   "cell_type": "markdown",
   "id": "5f0834e4-c10a-464b-ae46-8ec3f220c2a7",
   "metadata": {},
   "source": [
    "__Key Takeaway:__ <br>\n",
    "- Gaussian Naive Bayes gives similar results to Multinomial Naive Bayes\n",
    "- We will stick with Multinomial Naive Bayes, since the recall balance was better"
   ]
  },
  {
   "cell_type": "markdown",
   "id": "b6f9e026-80f1-468a-82f8-069095259e28",
   "metadata": {},
   "source": [
    "---"
   ]
  },
  {
   "cell_type": "markdown",
   "id": "014e1889-37fa-4345-a411-b21f3cf51a45",
   "metadata": {},
   "source": [
    "## Summary\n",
    "[Back to Table of Content](#Table-of-Content)"
   ]
  },
  {
   "cell_type": "markdown",
   "id": "ec4cf9a8-f18b-407c-b92f-f337f4da9efe",
   "metadata": {},
   "source": [
    "**Logistic Regression  - Selected as final model**<br>"
   ]
  },
  {
   "cell_type": "markdown",
   "id": "03b219fc-2538-4812-850d-b051e00d0deb",
   "metadata": {},
   "source": [
    "|Model|Baseline|Optimized|\n",
    "|---|---|---|\n",
    "|train accuracy|0.91|0.83|\n",
    "|test accuracy|0.74|0.71|\n",
    "|coursera recall|0.72|0.68|\n",
    "|edx recall|0.76|0.74|\n",
    "|f1-score|0.74|0.71|"
   ]
  },
  {
   "cell_type": "markdown",
   "id": "a6c11260-2919-41eb-92b7-c4b5e98a0712",
   "metadata": {},
   "source": [
    "**Decision:** <br>\n",
    "The optimize model will be **more sustainable** and should perform better with more data. Other model produces the same **accuracy of 71%** but the balance in recall makes this model the **best option in the long term.**"
   ]
  },
  {
   "cell_type": "markdown",
   "id": "abe81c80-6fbd-4401-9c66-40f4d2adeae7",
   "metadata": {},
   "source": [
    "**k-Nearest Neighbor** <br>"
   ]
  },
  {
   "cell_type": "markdown",
   "id": "73f421aa-70bd-4f6c-8166-5a7431db7bb8",
   "metadata": {},
   "source": [
    "|Model|Baseline|Optimized|\n",
    "|---|---|---|\n",
    "|train accuracy|0.77|0.67|\n",
    "|test accuracy|0.63|0.62|\n",
    "|coursera recall|0.54|0.82|\n",
    "|edx recall|0.71|0.42|\n",
    "|f1-score|0.63|0.62|"
   ]
  },
  {
   "cell_type": "markdown",
   "id": "e326fa78-8e4c-4ef9-a0d7-c272d2e8ddf8",
   "metadata": {},
   "source": [
    "**Decision:** <br>\n",
    "Both models are not suitable for this problem"
   ]
  },
  {
   "cell_type": "markdown",
   "id": "3571240f-5aa6-461e-b3a9-9ea5d659d4a6",
   "metadata": {},
   "source": [
    "**Decision Tree** <br>"
   ]
  },
  {
   "cell_type": "markdown",
   "id": "3cc32a12-3410-467d-90db-146c493349e3",
   "metadata": {},
   "source": [
    "|Model|Baseline|Optimized|\n",
    "|---|---|---|\n",
    "|train accuracy|0.99|0.75|\n",
    "|test accuracy|0.67|0.65|\n",
    "|coursera recall|0.65|0.57|\n",
    "|edx recall|0.69|0.72|\n",
    "|f1-score|0.67|0.65|"
   ]
  },
  {
   "cell_type": "markdown",
   "id": "7bbdaeef-7e69-422d-9a89-c1da043f1576",
   "metadata": {},
   "source": [
    "**Decision:** <br>\n",
    "Optimized version reduces overfitting, while maintaining the same accuracy"
   ]
  },
  {
   "cell_type": "markdown",
   "id": "d31cc093-5869-4ae6-b490-68a9da7e6b7b",
   "metadata": {},
   "source": [
    "**Bagged Decision Tree** <br>"
   ]
  },
  {
   "cell_type": "markdown",
   "id": "19263c45-7790-4313-b23a-68140fb6ec99",
   "metadata": {},
   "source": [
    "|Model|Baseline|Optimized|\n",
    "|---|---|---|\n",
    "|train accuracy|0.96|0.76|\n",
    "|test accuracy|0.65|0.65|\n",
    "|coursera recall|0.62|0.63|\n",
    "|edx recall|0.69|0.68|\n",
    "|f1-score|0.65|0.65|"
   ]
  },
  {
   "cell_type": "markdown",
   "id": "8baf5e23-4e14-4cc4-8bf3-bef092d420ff",
   "metadata": {},
   "source": [
    "**Decision:** <br>\n",
    "Optimized version reduces overfitting, improves accuracy as well as the f1-score. This is the best model so far."
   ]
  },
  {
   "cell_type": "markdown",
   "id": "0a0d3557-c487-4823-8df0-e6f2cce4ab59",
   "metadata": {},
   "source": [
    "**Random Forest Classifier** <br>"
   ]
  },
  {
   "cell_type": "markdown",
   "id": "0f587ce2-0f88-45eb-b4de-6161f7b7c59b",
   "metadata": {},
   "source": [
    "|Model|Baseline|Optimized|\n",
    "|---|---|---|\n",
    "|train accuracy|0.98|0.67|\n",
    "|test accuracy|0.71|0.64|\n",
    "|coursera recall|0.70|0.37|\n",
    "|edx recall|0.71|0.91|\n",
    "|f1-score|0.71|0.64|"
   ]
  },
  {
   "cell_type": "markdown",
   "id": "c6b8d586-efd1-46d1-83f9-f6b236574513",
   "metadata": {},
   "source": [
    "**Decision:** <br>\n",
    "Optimized version reduces overfitting, maintaining the accuracy as well as the f1-score."
   ]
  },
  {
   "cell_type": "markdown",
   "id": "8e513261-92ef-43e8-9406-a246d1187320",
   "metadata": {},
   "source": [
    "**Ada Boosting Classifier** <br>"
   ]
  },
  {
   "cell_type": "markdown",
   "id": "8b1c6678-1e4f-4c51-b048-fd529bdc438c",
   "metadata": {},
   "source": [
    "|Model|Baseline|Optimized|\n",
    "|---|---|---|\n",
    "|train accuracy|0.72|0.73|\n",
    "|test accuracy|0.65|0.65|\n",
    "|coursera recall|0.38|0.40|\n",
    "|edx recall|0.92|0.90|\n",
    "|f1-score|0.65|0.65|"
   ]
  },
  {
   "cell_type": "markdown",
   "id": "9abd1460-89bd-48c3-8fe3-9f79a8fa2269",
   "metadata": {},
   "source": [
    "**Decision:** <br>\n",
    "The differences in recall of both classes is unacceptable, other model works better."
   ]
  },
  {
   "cell_type": "markdown",
   "id": "44eec414-08b3-4ef7-ab8d-889e1d93e908",
   "metadata": {},
   "source": [
    "**Multinomial Naive Bayes Classifier** <br>"
   ]
  },
  {
   "cell_type": "markdown",
   "id": "b7522790-09dd-4727-a6eb-a326d0ff24b3",
   "metadata": {},
   "source": [
    "|Model|Baseline|Optimized|\n",
    "|---|---|---|\n",
    "|train accuracy|0.88|0.80|\n",
    "|test accuracy|0.73|0.71|\n",
    "|coursera recall|0.79|0.80|\n",
    "|edx recall|0.68|0.63|\n",
    "|f1-score|0.73|0.71|"
   ]
  },
  {
   "cell_type": "markdown",
   "id": "af62384a-5e19-4721-b2b5-1a8b69473e1b",
   "metadata": {},
   "source": [
    "**Decision:** <br>\n",
    "Good accuracy, but imbalance recall will not benefit us long term"
   ]
  },
  {
   "cell_type": "markdown",
   "id": "eaf5554c-b5fd-41f1-951f-df395bd7eec8",
   "metadata": {},
   "source": [
    "**Bernoulli Naive Bayes Classifier** <br>"
   ]
  },
  {
   "cell_type": "markdown",
   "id": "e7c878e8-ec44-4163-86d6-a4e5df1696e8",
   "metadata": {},
   "source": [
    "|Model|Baseline|Optimized|\n",
    "|---|---|---|\n",
    "|train accuracy|0.87|0.80|\n",
    "|test accuracy|0.71|0.71|\n",
    "|coursera recall|0.80|0.80|\n",
    "|edx recall|0.61|0.63|\n",
    "|f1-score|0.71|0.71|"
   ]
  },
  {
   "cell_type": "markdown",
   "id": "ac7b33c3-ed06-499c-a00d-30a7f6635059",
   "metadata": {},
   "source": [
    "**Decision:** <br>\n",
    "Good accuracy, but imbalance recall will not benefit us long term"
   ]
  },
  {
   "cell_type": "markdown",
   "id": "b1995f04-7f77-4d27-bfb1-38cf5d023a16",
   "metadata": {},
   "source": [
    "**Gaussian Naive Bayes Classifier** <br>"
   ]
  },
  {
   "cell_type": "markdown",
   "id": "cba4fcb1-769a-4646-a108-0f87615964cf",
   "metadata": {},
   "source": [
    "|Model|Baseline|\n",
    "|---|---|\n",
    "|train accuracy|0.90|\n",
    "|test accuracy|0.70|\n",
    "|coursera recall|0.80|\n",
    "|edx recall|0.60|\n",
    "|f1-score|0.70|"
   ]
  },
  {
   "cell_type": "markdown",
   "id": "8cd2ca38-21ec-4aff-bce8-3bb4eccc6a14",
   "metadata": {},
   "source": [
    "**Decision:** <br>\n",
    "Good accuracy, but it seems to be an overfit, other model works better."
   ]
  }
 ],
 "metadata": {
  "kernelspec": {
   "display_name": "Python 3 (ipykernel)",
   "language": "python",
   "name": "python3"
  },
  "language_info": {
   "codemirror_mode": {
    "name": "ipython",
    "version": 3
   },
   "file_extension": ".py",
   "mimetype": "text/x-python",
   "name": "python",
   "nbconvert_exporter": "python",
   "pygments_lexer": "ipython3",
   "version": "3.9.12"
  }
 },
 "nbformat": 4,
 "nbformat_minor": 5
}
