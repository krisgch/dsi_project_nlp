{
 "cells": [
  {
   "cell_type": "markdown",
   "id": "e18d74cb-e05f-4f77-97a7-a1aef1b1baeb",
   "metadata": {
    "tags": []
   },
   "source": [
    "# Part 4. Final Model, Mis-classification & Success Predictions Analysis"
   ]
  },
  {
   "cell_type": "markdown",
   "id": "47b260a3-c853-4111-a410-32b6e58913da",
   "metadata": {},
   "source": [
    "---"
   ]
  },
  {
   "cell_type": "markdown",
   "id": "62345b28-8a2c-483c-a2e7-d57102a62a12",
   "metadata": {
    "tags": []
   },
   "source": [
    "## Importing Libraries"
   ]
  },
  {
   "cell_type": "code",
   "execution_count": 67,
   "id": "ea75bca2-9206-4366-8727-f7bd4db31c51",
   "metadata": {},
   "outputs": [],
   "source": [
    "# Importing the usual\n",
    "import pandas as pd\n",
    "import numpy as np\n",
    "import seaborn as sns\n",
    "import matplotlib.pyplot as plt\n",
    "\n",
    "# Import joblib\n",
    "import joblib\n",
    "\n",
    "# Import NLP library\n",
    "from nltk.corpus import stopwords\n",
    "from sklearn.feature_extraction.text import TfidfVectorizer, CountVectorizer\n",
    "\n",
    "# Importing classification model\n",
    "from sklearn.linear_model import LogisticRegression\n",
    "\n",
    "# Importing Optimzation Tools\n",
    "from sklearn.model_selection import train_test_split\n",
    "from sklearn.pipeline import Pipeline\n",
    "\n",
    "# Import metrics\n",
    "from sklearn import metrics\n",
    "from sklearn.metrics import confusion_matrix, classification_report,\\\n",
    "ConfusionMatrixDisplay"
   ]
  },
  {
   "cell_type": "code",
   "execution_count": 68,
   "id": "fb7b67f2-5a08-46d6-9286-8e7008e30307",
   "metadata": {},
   "outputs": [],
   "source": [
    "# Set option to display more text\n",
    "pd.set_option('max_colwidth', 1000)\n",
    "\n",
    "# Suppress slicing of copy dataframe - as we will make copies\n",
    "pd.options.mode.chained_assignment = None"
   ]
  },
  {
   "cell_type": "markdown",
   "id": "eff22a3e-2f45-4856-8d87-06371556470b",
   "metadata": {},
   "source": [
    "---"
   ]
  },
  {
   "cell_type": "markdown",
   "id": "87777a47-a28d-4874-813d-3b8109537cee",
   "metadata": {},
   "source": [
    "## Preparation"
   ]
  },
  {
   "cell_type": "markdown",
   "id": "557d1593-fc5d-4b53-9bdd-037d86032f28",
   "metadata": {
    "tags": []
   },
   "source": [
    "### Read datasets"
   ]
  },
  {
   "cell_type": "code",
   "execution_count": 69,
   "id": "3b76b102-0f8f-4cae-afd4-eb10c795d004",
   "metadata": {},
   "outputs": [],
   "source": [
    "# Read csv\n",
    "post_df = pd.read_csv('../datasets/coursera_edx_posts_cleaned.csv',\n",
    "                      index_col=[0])\n",
    "\n",
    "cmt_df = pd.read_csv('../datasets/coursera_edx_comments_cleaned.csv',\n",
    "                     index_col=[0])"
   ]
  },
  {
   "cell_type": "code",
   "execution_count": 71,
   "id": "18db468b-a67e-4dd8-a477-66dfbbf7d10b",
   "metadata": {},
   "outputs": [
    {
     "data": {
      "text/html": [
       "<div>\n",
       "<style scoped>\n",
       "    .dataframe tbody tr th:only-of-type {\n",
       "        vertical-align: middle;\n",
       "    }\n",
       "\n",
       "    .dataframe tbody tr th {\n",
       "        vertical-align: top;\n",
       "    }\n",
       "\n",
       "    .dataframe thead th {\n",
       "        text-align: right;\n",
       "    }\n",
       "</style>\n",
       "<table border=\"1\" class=\"dataframe\">\n",
       "  <thead>\n",
       "    <tr style=\"text-align: right;\">\n",
       "      <th></th>\n",
       "      <th>link_id</th>\n",
       "      <th>subreddit</th>\n",
       "      <th>title</th>\n",
       "      <th>title_length</th>\n",
       "      <th>title_count</th>\n",
       "      <th>title_lemma</th>\n",
       "      <th>title_stem</th>\n",
       "    </tr>\n",
       "  </thead>\n",
       "  <tbody>\n",
       "    <tr>\n",
       "      <th>0</th>\n",
       "      <td>t3_y09o1m</td>\n",
       "      <td>edx</td>\n",
       "      <td>Financial aid just gives u a discount, you still need to pass the course to get the certificate. Very rarely they change the passing grade, so more people can pass. But financial aid has no influence on this</td>\n",
       "      <td>207</td>\n",
       "      <td>38</td>\n",
       "      <td>financial aid just give u a discount you still need to pas the course to get the certificate very rarely they change the passing grade so more people can pas but financial aid ha no influence on this</td>\n",
       "      <td>financi aid just give u a discount you still need to pass the cours to get the certif veri rare they chang the pass grade so more peopl can pass but financi aid ha no influenc on thi</td>\n",
       "    </tr>\n",
       "    <tr>\n",
       "      <th>1</th>\n",
       "      <td>t3_xxluk0</td>\n",
       "      <td>edx</td>\n",
       "      <td>Not necessarily. Assignments are only for certificate students, and when creating a course it’s possible to restrict individual course pages to certificate students only. Some courses I’ve been involved with have about 10-15% of the material unavailable to auditors.</td>\n",
       "      <td>266</td>\n",
       "      <td>39</td>\n",
       "      <td>not necessarily assignment are only for certificate student and when creating a course it s possible to restrict individual course page to certificate student only some course i ve been involved with have about 10 15 of the material unavailable to auditor</td>\n",
       "      <td>not necessarili assign are onli for certif student and when creat a cours it s possibl to restrict individu cours page to certif student onli some cours i ve been involv with have about 10 15 of the materi unavail to auditor</td>\n",
       "    </tr>\n",
       "    <tr>\n",
       "      <th>2</th>\n",
       "      <td>t3_xtm1ea</td>\n",
       "      <td>edx</td>\n",
       "      <td>You can just access archived courses even if not enrolled, but not purchase anymore or do graded assignments</td>\n",
       "      <td>108</td>\n",
       "      <td>18</td>\n",
       "      <td>you can just access archived course even if not enrolled but not purchase anymore or do graded assignment</td>\n",
       "      <td>you can just access archiv cours even if not enrol but not purchas anymor or do grade assign</td>\n",
       "    </tr>\n",
       "    <tr>\n",
       "      <th>3</th>\n",
       "      <td>t3_xsaqli</td>\n",
       "      <td>edx</td>\n",
       "      <td>Cs50 python is more about learning the python language and is probably easier. It has less explanations though and reasoning about computer science. Cs50 teaches you more about theory and would make you a better programmer. You also learn some python in cs50. I’d recommend doing both and cs50 first.</td>\n",
       "      <td>300</td>\n",
       "      <td>50</td>\n",
       "      <td>cs50 python is more about learning the python language and is probably easier it ha le explanation though and reasoning about computer science cs50 teach you more about theory and would make you a better programmer you also learn some python in cs50 i d recommend doing both and cs50 first</td>\n",
       "      <td>cs50 python is more about learn the python languag and is probabl easier it ha less explan though and reason about comput scienc cs50 teach you more about theori and would make you a better programm you also learn some python in cs50 i d recommend do both and cs50 first</td>\n",
       "    </tr>\n",
       "    <tr>\n",
       "      <th>4</th>\n",
       "      <td>t3_xseepw</td>\n",
       "      <td>edx</td>\n",
       "      <td>I’m taking it. I don’t like it but I will complete it. Seems like a mediocre course to push their ibm cloud platform which isn’t very popular in the industry, but might be if you want an ibm job. \\n\\nAt the same time you will gain some knowledge and understanding of how cloud applications work.\\n\\nIt does not teach coding in any shape or form. So if you need to learn coding, you must do it elsewhere. You may be able to take the course without much coding knowledge, most things seem to be cut and paste (keep in mind I have experience in most of the languages they used so I might be overstating).\\n\\nOverall I have been underwhelmed by all ibm edX courses so far.</td>\n",
       "      <td>662</td>\n",
       "      <td>127</td>\n",
       "      <td>i m taking it i don t like it but i will complete it seems like a mediocre course to push their ibm cloud platform which isn t very popular in the industry but might be if you want an ibm job at the same time you will gain some knowledge and understanding of how cloud application work it doe not teach coding in any shape or form so if you need to learn coding you must do it elsewhere you may be able to take the course without much coding knowledge most thing seem to be cut and paste keep in mind i have experience in most of the language they used so i might be overstating overall i have been underwhelmed by all ibm edx course so far</td>\n",
       "      <td>i m take it i don t like it but i will complet it seem like a mediocr cours to push their ibm cloud platform which isn t veri popular in the industri but might be if you want an ibm job at the same time you will gain some knowledg and understand of how cloud applic work it doe not teach code in ani shape or form so if you need to learn code you must do it elsewher you may be abl to take the cours without much code knowledg most thing seem to be cut and past keep in mind i have experi in most of the languag they use so i might be overst overal i have been underwhelm by all ibm edx cours so far</td>\n",
       "    </tr>\n",
       "    <tr>\n",
       "      <th>...</th>\n",
       "      <td>...</td>\n",
       "      <td>...</td>\n",
       "      <td>...</td>\n",
       "      <td>...</td>\n",
       "      <td>...</td>\n",
       "      <td>...</td>\n",
       "      <td>...</td>\n",
       "    </tr>\n",
       "    <tr>\n",
       "      <th>1753</th>\n",
       "      <td>t3_m4a6xc</td>\n",
       "      <td>coursera</td>\n",
       "      <td>I see no disadvantages in learning new things.</td>\n",
       "      <td>46</td>\n",
       "      <td>8</td>\n",
       "      <td>i see no disadvantage in learning new thing</td>\n",
       "      <td>i see no disadvantag in learn new thing</td>\n",
       "    </tr>\n",
       "    <tr>\n",
       "      <th>1754</th>\n",
       "      <td>t3_m2f5s1</td>\n",
       "      <td>coursera</td>\n",
       "      <td>Contact the help desk directly . I don’t think we can assist you in this manner</td>\n",
       "      <td>79</td>\n",
       "      <td>16</td>\n",
       "      <td>contact the help desk directly i don t think we can assist you in this manner</td>\n",
       "      <td>contact the help desk directli i don t think we can assist you in thi manner</td>\n",
       "    </tr>\n",
       "    <tr>\n",
       "      <th>1755</th>\n",
       "      <td>t3_m1pqmn</td>\n",
       "      <td>coursera</td>\n",
       "      <td>Depends what you want to do - tech/health/management?</td>\n",
       "      <td>53</td>\n",
       "      <td>8</td>\n",
       "      <td>depends what you want to do tech health management</td>\n",
       "      <td>depend what you want to do tech health manag</td>\n",
       "    </tr>\n",
       "    <tr>\n",
       "      <th>1756</th>\n",
       "      <td>t3_lz1zy2</td>\n",
       "      <td>coursera</td>\n",
       "      <td>Coursera certificates have close to 0 value on your resume, apart from showing your willingness to keep educating yourself. The value lies in the skills you may learn.</td>\n",
       "      <td>167</td>\n",
       "      <td>28</td>\n",
       "      <td>coursera certificate have close to 0 value on your resume apart from showing your willingness to keep educating yourself the value lie in the skill you may learn</td>\n",
       "      <td>coursera certif have close to 0 valu on your resum apart from show your willing to keep educ yourself the valu lie in the skill you may learn</td>\n",
       "    </tr>\n",
       "    <tr>\n",
       "      <th>1757</th>\n",
       "      <td>t3_lyi76m</td>\n",
       "      <td>coursera</td>\n",
       "      <td>Every single course inside the certificate do comes with its own certificate, but the one you get when you complete all five of them is the professional certificate, otherwise it's just a normal certificate from every other Coursera course.</td>\n",
       "      <td>240</td>\n",
       "      <td>39</td>\n",
       "      <td>every single course inside the certificate do come with it own certificate but the one you get when you complete all five of them is the professional certificate otherwise it s just a normal certificate from every other coursera course</td>\n",
       "      <td>everi singl cours insid the certif do come with it own certif but the one you get when you complet all five of them is the profession certif otherwis it s just a normal certif from everi other coursera cours</td>\n",
       "    </tr>\n",
       "  </tbody>\n",
       "</table>\n",
       "<p>1582 rows × 7 columns</p>\n",
       "</div>"
      ],
      "text/plain": [
       "        link_id subreddit  \\\n",
       "0     t3_y09o1m       edx   \n",
       "1     t3_xxluk0       edx   \n",
       "2     t3_xtm1ea       edx   \n",
       "3     t3_xsaqli       edx   \n",
       "4     t3_xseepw       edx   \n",
       "...         ...       ...   \n",
       "1753  t3_m4a6xc  coursera   \n",
       "1754  t3_m2f5s1  coursera   \n",
       "1755  t3_m1pqmn  coursera   \n",
       "1756  t3_lz1zy2  coursera   \n",
       "1757  t3_lyi76m  coursera   \n",
       "\n",
       "                                                                                                                                                                                                                                                                                                                                                                                                                                                                                                                                                                                                                                                                                             title  \\\n",
       "0                                                                                                                                                                                                                                                                                                                                                                                                                                                                                  Financial aid just gives u a discount, you still need to pass the course to get the certificate. Very rarely they change the passing grade, so more people can pass. But financial aid has no influence on this   \n",
       "1                                                                                                                                                                                                                                                                                                                                                                                                                       Not necessarily. Assignments are only for certificate students, and when creating a course it’s possible to restrict individual course pages to certificate students only. Some courses I’ve been involved with have about 10-15% of the material unavailable to auditors.   \n",
       "2                                                                                                                                                                                                                                                                                                                                                                                                                                                                                                                                                                                     You can just access archived courses even if not enrolled, but not purchase anymore or do graded assignments   \n",
       "3                                                                                                                                                                                                                                                                                                                                                                                     Cs50 python is more about learning the python language and is probably easier. It has less explanations though and reasoning about computer science. Cs50 teaches you more about theory and would make you a better programmer. You also learn some python in cs50. I’d recommend doing both and cs50 first.   \n",
       "4     I’m taking it. I don’t like it but I will complete it. Seems like a mediocre course to push their ibm cloud platform which isn’t very popular in the industry, but might be if you want an ibm job. \\n\\nAt the same time you will gain some knowledge and understanding of how cloud applications work.\\n\\nIt does not teach coding in any shape or form. So if you need to learn coding, you must do it elsewhere. You may be able to take the course without much coding knowledge, most things seem to be cut and paste (keep in mind I have experience in most of the languages they used so I might be overstating).\\n\\nOverall I have been underwhelmed by all ibm edX courses so far.   \n",
       "...                                                                                                                                                                                                                                                                                                                                                                                                                                                                                                                                                                                                                                                                                            ...   \n",
       "1753                                                                                                                                                                                                                                                                                                                                                                                                                                                                                                                                                                                                                                                I see no disadvantages in learning new things.   \n",
       "1754                                                                                                                                                                                                                                                                                                                                                                                                                                                                                                                                                                                                               Contact the help desk directly . I don’t think we can assist you in this manner   \n",
       "1755                                                                                                                                                                                                                                                                                                                                                                                                                                                                                                                                                                                                                                         Depends what you want to do - tech/health/management?   \n",
       "1756                                                                                                                                                                                                                                                                                                                                                                                                                                                                                                                       Coursera certificates have close to 0 value on your resume, apart from showing your willingness to keep educating yourself. The value lies in the skills you may learn.   \n",
       "1757                                                                                                                                                                                                                                                                                                                                                                                                                                              Every single course inside the certificate do comes with its own certificate, but the one you get when you complete all five of them is the professional certificate, otherwise it's just a normal certificate from every other Coursera course.   \n",
       "\n",
       "      title_length  title_count  \\\n",
       "0              207           38   \n",
       "1              266           39   \n",
       "2              108           18   \n",
       "3              300           50   \n",
       "4              662          127   \n",
       "...            ...          ...   \n",
       "1753            46            8   \n",
       "1754            79           16   \n",
       "1755            53            8   \n",
       "1756           167           28   \n",
       "1757           240           39   \n",
       "\n",
       "                                                                                                                                                                                                                                                                                                                                                                                                                                                                                                                                                                                                                                                           title_lemma  \\\n",
       "0                                                                                                                                                                                                                                                                                                                                                                                                                                                              financial aid just give u a discount you still need to pas the course to get the certificate very rarely they change the passing grade so more people can pas but financial aid ha no influence on this   \n",
       "1                                                                                                                                                                                                                                                                                                                                                                                                      not necessarily assignment are only for certificate student and when creating a course it s possible to restrict individual course page to certificate student only some course i ve been involved with have about 10 15 of the material unavailable to auditor   \n",
       "2                                                                                                                                                                                                                                                                                                                                                                                                                                                                                                                                                            you can just access archived course even if not enrolled but not purchase anymore or do graded assignment   \n",
       "3                                                                                                                                                                                                                                                                                                                                                                    cs50 python is more about learning the python language and is probably easier it ha le explanation though and reasoning about computer science cs50 teach you more about theory and would make you a better programmer you also learn some python in cs50 i d recommend doing both and cs50 first   \n",
       "4     i m taking it i don t like it but i will complete it seems like a mediocre course to push their ibm cloud platform which isn t very popular in the industry but might be if you want an ibm job at the same time you will gain some knowledge and understanding of how cloud application work it doe not teach coding in any shape or form so if you need to learn coding you must do it elsewhere you may be able to take the course without much coding knowledge most thing seem to be cut and paste keep in mind i have experience in most of the language they used so i might be overstating overall i have been underwhelmed by all ibm edx course so far   \n",
       "...                                                                                                                                                                                                                                                                                                                                                                                                                                                                                                                                                                                                                                                                ...   \n",
       "1753                                                                                                                                                                                                                                                                                                                                                                                                                                                                                                                                                                                                                       i see no disadvantage in learning new thing   \n",
       "1754                                                                                                                                                                                                                                                                                                                                                                                                                                                                                                                                                                                     contact the help desk directly i don t think we can assist you in this manner   \n",
       "1755                                                                                                                                                                                                                                                                                                                                                                                                                                                                                                                                                                                                                depends what you want to do tech health management   \n",
       "1756                                                                                                                                                                                                                                                                                                                                                                                                                                                                                                 coursera certificate have close to 0 value on your resume apart from showing your willingness to keep educating yourself the value lie in the skill you may learn   \n",
       "1757                                                                                                                                                                                                                                                                                                                                                                                                                       every single course inside the certificate do come with it own certificate but the one you get when you complete all five of them is the professional certificate otherwise it s just a normal certificate from every other coursera course   \n",
       "\n",
       "                                                                                                                                                                                                                                                                                                                                                                                                                                                                                                                                                                                                                   title_stem  \n",
       "0                                                                                                                                                                                                                                                                                                                                                                                                                                      financi aid just give u a discount you still need to pass the cours to get the certif veri rare they chang the pass grade so more peopl can pass but financi aid ha no influenc on thi  \n",
       "1                                                                                                                                                                                                                                                                                                                                                                                            not necessarili assign are onli for certif student and when creat a cours it s possibl to restrict individu cours page to certif student onli some cours i ve been involv with have about 10 15 of the materi unavail to auditor  \n",
       "2                                                                                                                                                                                                                                                                                                                                                                                                                                                                                                                                you can just access archiv cours even if not enrol but not purchas anymor or do grade assign  \n",
       "3                                                                                                                                                                                                                                                                                                                                              cs50 python is more about learn the python languag and is probabl easier it ha less explan though and reason about comput scienc cs50 teach you more about theori and would make you a better programm you also learn some python in cs50 i d recommend do both and cs50 first  \n",
       "4     i m take it i don t like it but i will complet it seem like a mediocr cours to push their ibm cloud platform which isn t veri popular in the industri but might be if you want an ibm job at the same time you will gain some knowledg and understand of how cloud applic work it doe not teach code in ani shape or form so if you need to learn code you must do it elsewher you may be abl to take the cours without much code knowledg most thing seem to be cut and past keep in mind i have experi in most of the languag they use so i might be overst overal i have been underwhelm by all ibm edx cours so far  \n",
       "...                                                                                                                                                                                                                                                                                                                                                                                                                                                                                                                                                                                                                       ...  \n",
       "1753                                                                                                                                                                                                                                                                                                                                                                                                                                                                                                                                                                                  i see no disadvantag in learn new thing  \n",
       "1754                                                                                                                                                                                                                                                                                                                                                                                                                                                                                                                                             contact the help desk directli i don t think we can assist you in thi manner  \n",
       "1755                                                                                                                                                                                                                                                                                                                                                                                                                                                                                                                                                                             depend what you want to do tech health manag  \n",
       "1756                                                                                                                                                                                                                                                                                                                                                                                                                                                                            coursera certif have close to 0 valu on your resum apart from show your willing to keep educ yourself the valu lie in the skill you may learn  \n",
       "1757                                                                                                                                                                                                                                                                                                                                                                                                          everi singl cours insid the certif do come with it own certif but the one you get when you complet all five of them is the profession certif otherwis it s just a normal certif from everi other coursera cours  \n",
       "\n",
       "[1582 rows x 7 columns]"
      ]
     },
     "execution_count": 71,
     "metadata": {},
     "output_type": "execute_result"
    }
   ],
   "source": [
    "cmt_df"
   ]
  },
  {
   "cell_type": "markdown",
   "id": "f310bc1f-e622-458f-af50-cc25a66de938",
   "metadata": {},
   "source": [
    "### Stopwords"
   ]
  },
  {
   "cell_type": "code",
   "execution_count": 4,
   "id": "9688f38b-06e0-47c0-ae8b-f6c2b15a0fab",
   "metadata": {},
   "outputs": [],
   "source": [
    "# Manually adding stopwords\n",
    "manual_stopwords = stopwords.words('english')\n",
    "\n",
    "# List of keywords to add\n",
    "edx_list = ['edx','http','www','org'] \n",
    "coursera_list = ['coursera']\n",
    "\n",
    "# Add to stopwords\n",
    "manual_stopwords.extend(edx_list)\n",
    "manual_stopwords.extend(coursera_list)"
   ]
  },
  {
   "cell_type": "markdown",
   "id": "45830332-1c0c-4fc0-916d-fb709b3df595",
   "metadata": {},
   "source": [
    "### Modeling with Title"
   ]
  },
  {
   "cell_type": "code",
   "execution_count": 5,
   "id": "c0675b3e-6cca-427b-ab53-bc688137f07f",
   "metadata": {},
   "outputs": [],
   "source": [
    "# Select X and y.values\n",
    "X = post_df['title_lemma'].values.astype('U')\n",
    "y = post_df['subreddit']"
   ]
  },
  {
   "cell_type": "code",
   "execution_count": 6,
   "id": "10cb4e52-8055-4555-bd78-d63fb75944ca",
   "metadata": {},
   "outputs": [],
   "source": [
    "# Split the data\n",
    "X_train,X_test,y_train,y_test = train_test_split(X,y,stratify=y,\n",
    "                                                 random_state=42)"
   ]
  },
  {
   "cell_type": "code",
   "execution_count": 7,
   "id": "2d5b5e45-1935-4210-a610-a0a00b52938a",
   "metadata": {},
   "outputs": [
    {
     "data": {
      "text/plain": [
       "((1495,), (499,), (1495,), (499,))"
      ]
     },
     "execution_count": 7,
     "metadata": {},
     "output_type": "execute_result"
    }
   ],
   "source": [
    "# Check shape\n",
    "X_train.shape, X_test.shape, y_train.shape, y_test.shape"
   ]
  },
  {
   "cell_type": "code",
   "execution_count": 8,
   "id": "e56abe14-874b-4308-867d-da77adbc185e",
   "metadata": {},
   "outputs": [
    {
     "data": {
      "text/plain": [
       "coursera    749\n",
       "edx         746\n",
       "Name: subreddit, dtype: int64"
      ]
     },
     "execution_count": 8,
     "metadata": {},
     "output_type": "execute_result"
    }
   ],
   "source": [
    "# Check balance y_train\n",
    "y_train.value_counts()"
   ]
  },
  {
   "cell_type": "code",
   "execution_count": 9,
   "id": "857d0b76-a4c2-441c-82b5-d697189c6740",
   "metadata": {},
   "outputs": [
    {
     "data": {
      "text/plain": [
       "coursera    250\n",
       "edx         249\n",
       "Name: subreddit, dtype: int64"
      ]
     },
     "execution_count": 9,
     "metadata": {},
     "output_type": "execute_result"
    }
   ],
   "source": [
    "# Check balance y_test\n",
    "y_test.value_counts()"
   ]
  },
  {
   "cell_type": "markdown",
   "id": "ed4e453e-93ea-4404-950f-30378e072202",
   "metadata": {},
   "source": [
    "**The baseline for all our models is 50%, which is the majority class**"
   ]
  },
  {
   "cell_type": "markdown",
   "id": "17fc162e-27cd-4870-ac29-96d2dc34cb59",
   "metadata": {},
   "source": [
    "### Load Model"
   ]
  },
  {
   "cell_type": "code",
   "execution_count": 10,
   "id": "da669a14-11a6-4dfa-841d-a7373eb87f64",
   "metadata": {},
   "outputs": [],
   "source": [
    "lr_gs = joblib.load(\"../model/lr_model.pkl\")"
   ]
  },
  {
   "cell_type": "code",
   "execution_count": 11,
   "id": "17f55e16-ca87-406b-b79f-9f1211be9193",
   "metadata": {},
   "outputs": [
    {
     "data": {
      "text/plain": [
       "{'lr__C': 0.5,\n",
       " 'lr__n_jobs': -1,\n",
       " 'tf__max_df': 0.4,\n",
       " 'tf__max_features': 1000,\n",
       " 'tf__ngram_range': (1, 1)}"
      ]
     },
     "execution_count": 11,
     "metadata": {},
     "output_type": "execute_result"
    }
   ],
   "source": [
    "# check parameters\n",
    "lr_gs.best_params_"
   ]
  },
  {
   "cell_type": "markdown",
   "id": "ed1da99c-6b8b-4562-8941-451f3480cfdf",
   "metadata": {},
   "source": [
    "### Borrowing function from model comparison"
   ]
  },
  {
   "cell_type": "code",
   "execution_count": 12,
   "id": "41d9762e-6d2c-4c8e-8e5d-f5c47dc7a9ed",
   "metadata": {},
   "outputs": [],
   "source": [
    "def fit_pipe(pipe,X_train,X_test,y_train,y_test):\n",
    "    # Fit model\n",
    "    pipe.fit(X_train,y_train)\n",
    "\n",
    "    # Predict model\n",
    "    y_pred = pipe.predict(X_test)\n",
    "    \n",
    "    # Show score\n",
    "    print(f\"Train Score: {pipe.score(X_train,y_train).round(4)}\")\n",
    "    print(f\"Test Score: {pipe.score(X_test,y_test).round(4)}\")\n",
    "    \n",
    "    # Print report\n",
    "    print(\"Classification Report:\")\n",
    "    print(classification_report(y_test, y_pred))"
   ]
  },
  {
   "cell_type": "code",
   "execution_count": 13,
   "id": "bf332e64-3d7d-4730-8241-716ed4d260e5",
   "metadata": {},
   "outputs": [],
   "source": [
    "def show_cm(pipe,X_train,X_test,y_train,y_test):\n",
    "    # Fit model\n",
    "    pipe.fit(X_train,y_train)\n",
    "\n",
    "    # Predict model\n",
    "    y_pred = pipe.predict(X_test)\n",
    "    \n",
    "    # Generate confusion matrix\n",
    "    cm = confusion_matrix(y_test,y_pred)\n",
    "    \n",
    "    print(\"Confusion Matrix:\")\n",
    "    ConfusionMatrixDisplay(cm,display_labels=['Coursera','EdX']).plot()\n",
    "    plt.show();"
   ]
  },
  {
   "cell_type": "markdown",
   "id": "ae8dc40e-39d2-4d03-8de8-d2df3f7ce94e",
   "metadata": {},
   "source": [
    "### Borrowing Functions from EDA"
   ]
  },
  {
   "cell_type": "code",
   "execution_count": 14,
   "id": "b266a71a-2196-4035-ae9b-1051fb58c36f",
   "metadata": {},
   "outputs": [],
   "source": [
    "# Create a function to vectorize and return dataframe\n",
    "\n",
    "def vec_to_df(vec=CountVectorizer(),data=post_df['title']):\n",
    "    # Vectorize using own choice and return vectorized dataframe\n",
    "    \n",
    "    # fit transform title\n",
    "    d = vec.fit_transform(data)\n",
    "    \n",
    "    # Storing into a DataFrame\n",
    "    df_vec = pd.DataFrame(d.todense(),columns=vec.get_feature_names_out())\n",
    "    \n",
    "    return df_vec"
   ]
  },
  {
   "cell_type": "code",
   "execution_count": 15,
   "id": "624d7640-8c10-4963-aa94-cb82f59056aa",
   "metadata": {},
   "outputs": [],
   "source": [
    "# Create a function to plot top recurring words\n",
    "\n",
    "def plot_top_words(left_df,right_df,\n",
    "                   top_n=15,title='Top 15 Words'):\n",
    "    # Plot a comparison of top words mac vs windows\n",
    "    \n",
    "    # Generate figures\n",
    "    fig, (ax1, ax2) = plt.subplots(1,2,figsize=(12,6),sharex=True)\n",
    "    \n",
    "    # Plot for Udemy\n",
    "    left_df.sum().sort_values(ascending=False).head(top_n).\\\n",
    "    plot(kind='barh', ax=ax1, color = '#010000')\n",
    "    ax1.set_title('EdX')\n",
    "    \n",
    "    # Plot for Coursera\n",
    "    right_df.sum().sort_values(ascending=False).head(top_n).\\\n",
    "    plot(kind='barh', ax=ax2, color = '#0255d1')\n",
    "    ax2.set_title('Coursera')\n",
    "    \n",
    "    # Plot suptitle\n",
    "    plt.suptitle(title)\n",
    "    plt.tight_layout()"
   ]
  },
  {
   "cell_type": "code",
   "execution_count": 16,
   "id": "b7c6939c-24d2-47d9-b041-92b214b909ba",
   "metadata": {},
   "outputs": [],
   "source": [
    "def compare_words(left_df, right_df, vec_choice='cv', grams=(1,1), top_n=15, feature = 'title',\n",
    "                  title='Top 15 Words',):\n",
    "    \n",
    "    # Select vectorizer and combine vec_to_df and plot_top_words\n",
    "    \n",
    "    # Selecting vectorizer choice\n",
    "    if vec_choice == 'cv':\n",
    "        vec = CountVectorizer(stop_words=manual_stopwords,\n",
    "                              ngram_range=grams)\n",
    "    elif vec_choice == 'tf':\n",
    "        vec = TfidfVectorizer(stop_words=manual_stopwords,\n",
    "                              ngram_range=grams)\n",
    "            \n",
    "    # Split mac and window then vectorize   \n",
    "    edx_df  = vec_to_df(vec=vec,data=left_df[feature])\n",
    "    coursera_df  = vec_to_df(vec=vec,data=right_df[feature])\n",
    "    \n",
    "    # Plot to compare\n",
    "    plot_top_words(left_df = edx_df,\n",
    "                   right_df = coursera_df,\n",
    "                   top_n = top_n,\n",
    "                   title = title)"
   ]
  },
  {
   "cell_type": "markdown",
   "id": "200ddfb1-5454-4b9f-b138-400787b51628",
   "metadata": {},
   "source": [
    "---"
   ]
  },
  {
   "cell_type": "markdown",
   "id": "77abf770-d004-4800-8933-37fca9adbf3a",
   "metadata": {
    "tags": []
   },
   "source": [
    "## Logistic Regression"
   ]
  },
  {
   "cell_type": "markdown",
   "id": "fd4c9f5f-37da-4694-910a-3b532e3c213e",
   "metadata": {},
   "source": [
    "__*Check performance of loaded model*__"
   ]
  },
  {
   "cell_type": "code",
   "execution_count": 17,
   "id": "6f908d3a-edc1-4d9d-b37c-84805f239851",
   "metadata": {},
   "outputs": [],
   "source": [
    "# Create Pipeline with loaded GridSearchCV parameters\n",
    "lr_pipe_best = Pipeline([\n",
    "    # Step 1. Vectorizer\n",
    "    ('tf', TfidfVectorizer(max_df=lr_gs.best_params_['tf__max_df'],\n",
    "                           max_features=lr_gs.best_params_['tf__max_features'],\n",
    "                           ngram_range=lr_gs.best_params_['tf__ngram_range'],\n",
    "                           stop_words=manual_stopwords)),\n",
    "    # Step 2. Estimator\n",
    "    ('lr', LogisticRegression(C=lr_gs.best_params_['lr__C'],\n",
    "                              n_jobs=lr_gs.best_params_['lr__n_jobs'],\n",
    "                              random_state=42))\n",
    "])"
   ]
  },
  {
   "cell_type": "code",
   "execution_count": 18,
   "id": "dbc6f5e7-0c88-49b0-8e68-b55f07a33d33",
   "metadata": {},
   "outputs": [
    {
     "name": "stdout",
     "output_type": "stream",
     "text": [
      "Train Score: 0.8428\n",
      "Test Score: 0.7114\n",
      "Classification Report:\n",
      "              precision    recall  f1-score   support\n",
      "\n",
      "    coursera       0.73      0.68      0.70       250\n",
      "         edx       0.70      0.75      0.72       249\n",
      "\n",
      "    accuracy                           0.71       499\n",
      "   macro avg       0.71      0.71      0.71       499\n",
      "weighted avg       0.71      0.71      0.71       499\n",
      "\n"
     ]
    }
   ],
   "source": [
    "fit_pipe(lr_pipe_best,X_train,X_test,y_train,y_test)"
   ]
  },
  {
   "cell_type": "code",
   "execution_count": 19,
   "id": "52e47c38-fb1c-48bd-b58e-a2660104b908",
   "metadata": {},
   "outputs": [
    {
     "name": "stdout",
     "output_type": "stream",
     "text": [
      "Confusion Matrix:\n"
     ]
    },
    {
     "data": {
      "image/png": "[encoded data removed]",
      "text/plain": [
       "<Figure size 432x288 with 2 Axes>"
      ]
     },
     "metadata": {
      "needs_background": "light"
     },
     "output_type": "display_data"
    }
   ],
   "source": [
    "show_cm(lr_pipe_best,X_train,X_test,y_train,y_test)"
   ]
  },
  {
   "cell_type": "markdown",
   "id": "45a88a22-571c-4a70-9d80-40259f5edb54",
   "metadata": {},
   "source": [
    "---"
   ]
  },
  {
   "cell_type": "markdown",
   "id": "c3ce9222-8bc8-4b8f-8903-64a0b4d2b313",
   "metadata": {},
   "source": [
    "## Investigating misclassification"
   ]
  },
  {
   "cell_type": "markdown",
   "id": "b2d6c165-e43a-438a-8be6-0b199c04d582",
   "metadata": {},
   "source": [
    "Investigating misclassification will be done by generating a dataframe of wrong predictions and trained datasets. Which will then be used to evaluate where the model went wrong in those predictions. We will separate our investigation into two groups - *False Positve* and *False Negative*."
   ]
  },
  {
   "cell_type": "markdown",
   "id": "3643e77f-d37c-43b7-94e1-b5d59253d95a",
   "metadata": {},
   "source": [
    "**Note:** <br>\n",
    "- Positive = EdX\n",
    "- Negative = Coursera\n",
    "\n",
    "- False postive = predicted EdX but actually Coursera\n",
    "- False negative = predicted Coursera but actually Edx"
   ]
  },
  {
   "cell_type": "markdown",
   "id": "d9971eaf-5edc-41b6-9c20-a58df3839952",
   "metadata": {},
   "source": [
    "### Generating wrong predictions from test set"
   ]
  },
  {
   "cell_type": "code",
   "execution_count": 20,
   "id": "a706d6b8-8442-4c70-96cb-ef7a45625159",
   "metadata": {},
   "outputs": [],
   "source": [
    "# Generating wrong predictions dataframe\n",
    "\n",
    "# Generate predictions\n",
    "y_pred = lr_gs.predict(X_test)\n",
    "\n",
    "# Match with results\n",
    "results = pd.DataFrame({'X_test':X_test,'y_test':y_test,'y_pred':y_pred})\n",
    "\n",
    "# Generate predict probability\n",
    "predict_df = pd.DataFrame(lr_gs.predict_proba(X_test),\n",
    "                          columns=['Coursera','EdX'],index=results.index)\n",
    "\n",
    "# Generate prediction dataframe\n",
    "predictions = pd.concat([results,predict_df],axis=1)\n",
    "\n",
    "# Select only wrong predictions\n",
    "wrong = pd.DataFrame(predictions[predictions['y_test']!=predictions['y_pred']])"
   ]
  },
  {
   "cell_type": "markdown",
   "id": "042c69a5-4963-48a6-b29f-d01677cce866",
   "metadata": {},
   "source": [
    "Separating false positives from false negatives"
   ]
  },
  {
   "cell_type": "code",
   "execution_count": 21,
   "id": "f1068b70-92fe-4c8c-8e9d-594a5f2cb234",
   "metadata": {},
   "outputs": [],
   "source": [
    "# False positive\n",
    "false_positive = wrong[(wrong['y_test']=='coursera') & \\\n",
    "                       (wrong['y_pred']=='edx')]\n",
    "# False negative\n",
    "false_negative = wrong[(wrong['y_test']=='edx') & \\\n",
    "                       (wrong['y_pred']=='coursera')]"
   ]
  },
  {
   "cell_type": "markdown",
   "id": "e720df89-33da-4f0d-af3b-f3aa6b56ab29",
   "metadata": {},
   "source": [
    "### Generating vectorized train dataset"
   ]
  },
  {
   "cell_type": "code",
   "execution_count": 22,
   "id": "d4da0863-45f6-4eec-adb3-51899c978f7d",
   "metadata": {},
   "outputs": [],
   "source": [
    "# Borrowing function from 03_model_comparison notebook\n",
    "\n",
    "def vec_to_df(vec=CountVectorizer(),data=post_df):\n",
    "    # Vectorize using own choice and return vectorized dataframe\n",
    "    \n",
    "    # fit transform title\n",
    "    d = vec.fit_transform(data)\n",
    "    \n",
    "    # Storing into a DataFrame\n",
    "    df_vec = pd.DataFrame(d.todense(),columns=vec.get_feature_names_out())\n",
    "    \n",
    "    return df_vec"
   ]
  },
  {
   "cell_type": "code",
   "execution_count": 23,
   "id": "d5a2ce7f-4a8a-4275-8c7f-4c73d3a725c2",
   "metadata": {},
   "outputs": [],
   "source": [
    "# Store original training data into dataframe and reset index\n",
    "train = pd.DataFrame({'X_train':X_train,'y_train':y_train})\n",
    "\n",
    "# Vectorize training data\n",
    "X_vec_df = vec_to_df(vec=CountVectorizer(stop_words=manual_stopwords),\n",
    "                     data=X_train).set_index(train.index)\n",
    "\n",
    "# Concat to train_df\n",
    "train_df = pd.concat([train,X_vec_df],axis=1)"
   ]
  },
  {
   "cell_type": "markdown",
   "id": "c9a8e12a-2aa0-4d04-83db-942202e59363",
   "metadata": {
    "tags": []
   },
   "source": [
    "### Separating Mis-classification"
   ]
  },
  {
   "cell_type": "markdown",
   "id": "198e2292-1ca7-465c-a28d-7e917ea13491",
   "metadata": {},
   "source": [
    "We will create two columns to help us with evaluation. \n",
    "<br>\n",
    "1. how_likely\n",
    "    - Count how many of each word shows up in training data labeled as `edx` and `coursera`\n",
    "    - Taking showing up for `edx` labeled as positive and `coursera` as negative\n",
    "    - Sum up the differences in words showing up in training data for each label\n",
    "    - Positve means more of the words are labeled `edx`, negative means `coursera`\n",
    "    \n",
    "2. how_likely_single\n",
    "    - Same as *how_likely* but each word will be counted as +1 or -1"
   ]
  },
  {
   "cell_type": "code",
   "execution_count": 24,
   "id": "a6ddde49-8417-4898-9c95-626c7b6fe1a5",
   "metadata": {},
   "outputs": [],
   "source": [
    "def how_likely(string):\n",
    "    # Function to generate differences in word counts by total counts\n",
    "    # EdX + 1 / Coursera -1\n",
    "    diff = 0\n",
    "    for word in string.split():\n",
    "        # if words in edx diff + wordcount\n",
    "        try:\n",
    "            diff += train_df[train_df['y_train']=='edx'][word].sum()\n",
    "        except:\n",
    "            pass\n",
    "        # if words in coursera diff - wordcount\n",
    "        try:\n",
    "            diff -= train_df[train_df['y_train']=='coursera'][word].sum()\n",
    "        except:\n",
    "            pass\n",
    "        \n",
    "    return diff"
   ]
  },
  {
   "cell_type": "code",
   "execution_count": 25,
   "id": "f09ae6bc-2b5f-4b36-9eae-eccd62347479",
   "metadata": {},
   "outputs": [],
   "source": [
    "def how_likely_single(string):\n",
    "    # Function to generate differences in word counts by number of words\n",
    "\n",
    "    # EdX + 1 / Coursera -1\n",
    "    diff = 0\n",
    "    \n",
    "    for word in string.split():\n",
    "        # Count words\n",
    "        try:\n",
    "            edx_count = train_df[train_df['y_train']=='edx'][word].sum()\n",
    "        except:\n",
    "            edx_count = 0\n",
    "        try:\n",
    "            coursera_count = train_df[train_df['y_train']=='coursera']\\\n",
    "            [word].sum()\n",
    "        except:\n",
    "            coursera_count = 0\n",
    "            \n",
    "        # compare counts\n",
    "        if edx_count > coursera_count:\n",
    "            diff += 1\n",
    "        elif edx_count < coursera_count:\n",
    "            diff -= 1\n",
    "        else:\n",
    "            pass\n",
    "        \n",
    "    return diff"
   ]
  },
  {
   "cell_type": "markdown",
   "id": "70dfaf4a-44cd-482b-970b-058f01f5c2cc",
   "metadata": {
    "tags": []
   },
   "source": [
    "#### Generating `likely_total` and `likely_single` on Training Data"
   ]
  },
  {
   "cell_type": "code",
   "execution_count": 26,
   "id": "a409b954-f55c-4622-ab4e-2b609645e0de",
   "metadata": {},
   "outputs": [],
   "source": [
    "# Generate likely_total and likely_single column\n",
    "train_df['likely_total'] = train_df['X_train'].apply(how_likely)\n",
    "train_df['likely_single'] = train_df['X_train'].apply(how_likely_single)"
   ]
  },
  {
   "cell_type": "markdown",
   "id": "4e22380c-806c-4fe0-9e6f-1d94a582b405",
   "metadata": {},
   "source": [
    "#### False Positive"
   ]
  },
  {
   "cell_type": "markdown",
   "id": "332de7f4-cdfb-4929-9ddd-dde0f2d08863",
   "metadata": {},
   "source": [
    "Generate `likely_total` and `likely_single` column in the `flase_positive` DataFrame"
   ]
  },
  {
   "cell_type": "code",
   "execution_count": 27,
   "id": "494a0259-5ac5-4780-b4e6-10064e0b13d3",
   "metadata": {},
   "outputs": [],
   "source": [
    "false_positive['likely_total'] = false_positive['X_test'].apply(how_likely)"
   ]
  },
  {
   "cell_type": "code",
   "execution_count": 28,
   "id": "900837b3-e97f-46d5-85b4-a532e1abe332",
   "metadata": {},
   "outputs": [],
   "source": [
    "false_positive['likely_single'] = false_positive['X_test'].apply(how_likely_single)"
   ]
  },
  {
   "cell_type": "markdown",
   "id": "3a3e5b2a-af98-48af-b08a-baa09823c7d3",
   "metadata": {},
   "source": [
    "Investigate relationship between `likely_single` and probability of predicting `edx`"
   ]
  },
  {
   "cell_type": "code",
   "execution_count": 29,
   "id": "6c849fc8-4406-42a8-99b5-54c0912f5eed",
   "metadata": {},
   "outputs": [
    {
     "data": {
      "image/png": "[encoded data removed]",
      "text/plain": [
       "<Figure size 360x360 with 1 Axes>"
      ]
     },
     "metadata": {
      "needs_background": "light"
     },
     "output_type": "display_data"
    }
   ],
   "source": [
    "sns.lmplot(y='EdX',x='likely_single',data=false_positive,\n",
    "           x_estimator=np.mean,x_ci=False)\n",
    "\n",
    "plt.title('Probability of EdX vs Words in EdX Train')\n",
    "plt.ylabel('Probability of EdX')\n",
    "plt.xlabel('How many more words in EdX');"
   ]
  },
  {
   "cell_type": "markdown",
   "id": "377a6d9b-50f1-4e6e-8d23-eb5f806ea12c",
   "metadata": {},
   "source": [
    "**Key Takeaway:** <br>\n",
    "- The more words that show up in training data that are labeled `edx`, the more probability the model will predict the title to be from `edx` subreddit\n",
    "- From this visualization we can breakdown the false positives to three cases:\n",
    "    1. word count = 0\n",
    "    2. word count more towards `edx`\n",
    "    3. word count more towards `coursera`"
   ]
  },
  {
   "cell_type": "markdown",
   "id": "a3489a50-f882-4723-8868-9be8cd021287",
   "metadata": {
    "tags": []
   },
   "source": [
    "#### Cause of Error 1. Word Count = 0"
   ]
  },
  {
   "cell_type": "code",
   "execution_count": 30,
   "id": "b96b9df1-470a-4f57-8661-12b02c0a8ae9",
   "metadata": {},
   "outputs": [
    {
     "data": {
      "text/html": [
       "<div>\n",
       "<style scoped>\n",
       "    .dataframe tbody tr th:only-of-type {\n",
       "        vertical-align: middle;\n",
       "    }\n",
       "\n",
       "    .dataframe tbody tr th {\n",
       "        vertical-align: top;\n",
       "    }\n",
       "\n",
       "    .dataframe thead th {\n",
       "        text-align: right;\n",
       "    }\n",
       "</style>\n",
       "<table border=\"1\" class=\"dataframe\">\n",
       "  <thead>\n",
       "    <tr style=\"text-align: right;\">\n",
       "      <th></th>\n",
       "      <th>X_test</th>\n",
       "      <th>y_test</th>\n",
       "      <th>y_pred</th>\n",
       "      <th>Coursera</th>\n",
       "      <th>EdX</th>\n",
       "      <th>likely_total</th>\n",
       "      <th>likely_single</th>\n",
       "    </tr>\n",
       "  </thead>\n",
       "  <tbody>\n",
       "    <tr>\n",
       "      <th>1805</th>\n",
       "      <td>coursera tesol certif</td>\n",
       "      <td>coursera</td>\n",
       "      <td>edx</td>\n",
       "      <td>0.468972</td>\n",
       "      <td>0.531028</td>\n",
       "      <td>0</td>\n",
       "      <td>0</td>\n",
       "    </tr>\n",
       "    <tr>\n",
       "      <th>2060</th>\n",
       "      <td>asking about coursera</td>\n",
       "      <td>coursera</td>\n",
       "      <td>edx</td>\n",
       "      <td>0.435353</td>\n",
       "      <td>0.564647</td>\n",
       "      <td>0</td>\n",
       "      <td>0</td>\n",
       "    </tr>\n",
       "    <tr>\n",
       "      <th>1809</th>\n",
       "      <td>who is grading all of this</td>\n",
       "      <td>coursera</td>\n",
       "      <td>edx</td>\n",
       "      <td>0.417551</td>\n",
       "      <td>0.582449</td>\n",
       "      <td>0</td>\n",
       "      <td>0</td>\n",
       "    </tr>\n",
       "    <tr>\n",
       "      <th>1983</th>\n",
       "      <td>coursera down</td>\n",
       "      <td>coursera</td>\n",
       "      <td>edx</td>\n",
       "      <td>0.468972</td>\n",
       "      <td>0.531028</td>\n",
       "      <td>0</td>\n",
       "      <td>0</td>\n",
       "    </tr>\n",
       "    <tr>\n",
       "      <th>1292</th>\n",
       "      <td>frustrated</td>\n",
       "      <td>coursera</td>\n",
       "      <td>edx</td>\n",
       "      <td>0.468972</td>\n",
       "      <td>0.531028</td>\n",
       "      <td>0</td>\n",
       "      <td>0</td>\n",
       "    </tr>\n",
       "  </tbody>\n",
       "</table>\n",
       "</div>"
      ],
      "text/plain": [
       "                          X_test    y_test y_pred  Coursera       EdX  \\\n",
       "1805       coursera tesol certif  coursera    edx  0.468972  0.531028   \n",
       "2060       asking about coursera  coursera    edx  0.435353  0.564647   \n",
       "1809  who is grading all of this  coursera    edx  0.417551  0.582449   \n",
       "1983               coursera down  coursera    edx  0.468972  0.531028   \n",
       "1292                  frustrated  coursera    edx  0.468972  0.531028   \n",
       "\n",
       "      likely_total  likely_single  \n",
       "1805             0              0  \n",
       "2060             0              0  \n",
       "1809             0              0  \n",
       "1983             0              0  \n",
       "1292             0              0  "
      ]
     },
     "execution_count": 30,
     "metadata": {},
     "output_type": "execute_result"
    }
   ],
   "source": [
    "# False positive where both likely and likely_1 is more than 0\n",
    "false_positive[(false_positive['likely_single']==0) & \\\n",
    "               (false_positive['likely_total']==0)]"
   ]
  },
  {
   "cell_type": "markdown",
   "id": "65b363c7-6b40-4f75-af48-51b421435630",
   "metadata": {},
   "source": [
    "#### Case 1. Words didn't show up in training labeled `edx` and `coursera` - due to short title"
   ]
  },
  {
   "cell_type": "code",
   "execution_count": 31,
   "id": "73de3a10-4a43-48d5-9788-d7af45a54712",
   "metadata": {},
   "outputs": [
    {
     "data": {
      "text/plain": [
       "edx         23\n",
       "coursera     8\n",
       "Name: y_train, dtype: int64"
      ]
     },
     "execution_count": 31,
     "metadata": {},
     "output_type": "execute_result"
    }
   ],
   "source": [
    "# filtering both equal 0 \n",
    "train_df[(train_df['likely_total']==0)&(train_df['likely_single']==0)]\\\n",
    "['y_train'].value_counts()"
   ]
  },
  {
   "cell_type": "markdown",
   "id": "03d38899-dd59-47a4-91a3-147eb9cf2f94",
   "metadata": {},
   "source": [
    "**Key Takeaway:** <br>\n",
    "- For titles with words that show up equally for `edx` and `coursera` on the training dataset\n",
    "- This happens more often for those that are labeled `edx`\n",
    "- Meaning for this case, the model will automatically select `edx` as prediction"
   ]
  },
  {
   "cell_type": "markdown",
   "id": "d75a1ee3-2e28-49ca-aca0-5a593908bb61",
   "metadata": {},
   "source": [
    "#### Case 2. Words show up equally in training labeled `edx` and `coursera`"
   ]
  },
  {
   "cell_type": "code",
   "execution_count": 32,
   "id": "7cefdea7-c57b-4776-9ac5-91687eb1e6fe",
   "metadata": {},
   "outputs": [
    {
     "data": {
      "text/plain": [
       "edx         4\n",
       "coursera    2\n",
       "Name: y_train, dtype: int64"
      ]
     },
     "execution_count": 32,
     "metadata": {},
     "output_type": "execute_result"
    }
   ],
   "source": [
    "train_df[train_df['test']>0]['y_train'].value_counts()"
   ]
  },
  {
   "cell_type": "code",
   "execution_count": 33,
   "id": "f14010ff-9ae2-44b5-86ba-9c5bce9947d3",
   "metadata": {},
   "outputs": [
    {
     "data": {
      "text/plain": [
       "coursera    2\n",
       "Name: y_train, dtype: int64"
      ]
     },
     "execution_count": 33,
     "metadata": {},
     "output_type": "execute_result"
    }
   ],
   "source": [
    "train_df[train_df['retake']>0]['y_train'].value_counts()"
   ]
  },
  {
   "cell_type": "markdown",
   "id": "5fc20092-1550-4abc-8dc5-540ccc30014b",
   "metadata": {
    "tags": []
   },
   "source": [
    "#### Cause of Error 2. Word Count > 0 - topics discussed more in `coursera` subreddit"
   ]
  },
  {
   "cell_type": "code",
   "execution_count": 34,
   "id": "d4c42773-ee9e-46bd-b12e-4b4820fce7f2",
   "metadata": {},
   "outputs": [
    {
     "data": {
      "text/html": [
       "<div>\n",
       "<style scoped>\n",
       "    .dataframe tbody tr th:only-of-type {\n",
       "        vertical-align: middle;\n",
       "    }\n",
       "\n",
       "    .dataframe tbody tr th {\n",
       "        vertical-align: top;\n",
       "    }\n",
       "\n",
       "    .dataframe thead th {\n",
       "        text-align: right;\n",
       "    }\n",
       "</style>\n",
       "<table border=\"1\" class=\"dataframe\">\n",
       "  <thead>\n",
       "    <tr style=\"text-align: right;\">\n",
       "      <th></th>\n",
       "      <th>X_test</th>\n",
       "      <th>y_test</th>\n",
       "      <th>y_pred</th>\n",
       "      <th>Coursera</th>\n",
       "      <th>EdX</th>\n",
       "      <th>likely_total</th>\n",
       "      <th>likely_single</th>\n",
       "    </tr>\n",
       "  </thead>\n",
       "  <tbody>\n",
       "    <tr>\n",
       "      <th>1906</th>\n",
       "      <td>employer tuition assistance</td>\n",
       "      <td>coursera</td>\n",
       "      <td>edx</td>\n",
       "      <td>0.330849</td>\n",
       "      <td>0.669151</td>\n",
       "      <td>6</td>\n",
       "      <td>1</td>\n",
       "    </tr>\n",
       "    <tr>\n",
       "      <th>1747</th>\n",
       "      <td>no software experience</td>\n",
       "      <td>coursera</td>\n",
       "      <td>edx</td>\n",
       "      <td>0.377401</td>\n",
       "      <td>0.622599</td>\n",
       "      <td>12</td>\n",
       "      <td>2</td>\n",
       "    </tr>\n",
       "    <tr>\n",
       "      <th>2181</th>\n",
       "      <td>information on coursera</td>\n",
       "      <td>coursera</td>\n",
       "      <td>edx</td>\n",
       "      <td>0.375066</td>\n",
       "      <td>0.624934</td>\n",
       "      <td>5</td>\n",
       "      <td>1</td>\n",
       "    </tr>\n",
       "    <tr>\n",
       "      <th>1485</th>\n",
       "      <td>proof of enrollment</td>\n",
       "      <td>coursera</td>\n",
       "      <td>edx</td>\n",
       "      <td>0.414248</td>\n",
       "      <td>0.585752</td>\n",
       "      <td>1</td>\n",
       "      <td>1</td>\n",
       "    </tr>\n",
       "    <tr>\n",
       "      <th>2083</th>\n",
       "      <td>start date are all false</td>\n",
       "      <td>coursera</td>\n",
       "      <td>edx</td>\n",
       "      <td>0.356525</td>\n",
       "      <td>0.643475</td>\n",
       "      <td>15</td>\n",
       "      <td>1</td>\n",
       "    </tr>\n",
       "    <tr>\n",
       "      <th>2236</th>\n",
       "      <td>coursera writing and editing is it worth it</td>\n",
       "      <td>coursera</td>\n",
       "      <td>edx</td>\n",
       "      <td>0.389041</td>\n",
       "      <td>0.610959</td>\n",
       "      <td>5</td>\n",
       "      <td>2</td>\n",
       "    </tr>\n",
       "    <tr>\n",
       "      <th>2226</th>\n",
       "      <td>coursera about to become the worst platform</td>\n",
       "      <td>coursera</td>\n",
       "      <td>edx</td>\n",
       "      <td>0.413608</td>\n",
       "      <td>0.586392</td>\n",
       "      <td>3</td>\n",
       "      <td>2</td>\n",
       "    </tr>\n",
       "    <tr>\n",
       "      <th>1808</th>\n",
       "      <td>what happened to introduction to astronomy</td>\n",
       "      <td>coursera</td>\n",
       "      <td>edx</td>\n",
       "      <td>0.315232</td>\n",
       "      <td>0.684768</td>\n",
       "      <td>26</td>\n",
       "      <td>2</td>\n",
       "    </tr>\n",
       "    <tr>\n",
       "      <th>1259</th>\n",
       "      <td>b sc in computer science by university of london</td>\n",
       "      <td>coursera</td>\n",
       "      <td>edx</td>\n",
       "      <td>0.457411</td>\n",
       "      <td>0.542589</td>\n",
       "      <td>35</td>\n",
       "      <td>2</td>\n",
       "    </tr>\n",
       "    <tr>\n",
       "      <th>2058</th>\n",
       "      <td>question</td>\n",
       "      <td>coursera</td>\n",
       "      <td>edx</td>\n",
       "      <td>0.410304</td>\n",
       "      <td>0.589696</td>\n",
       "      <td>9</td>\n",
       "      <td>1</td>\n",
       "    </tr>\n",
       "  </tbody>\n",
       "</table>\n",
       "</div>"
      ],
      "text/plain": [
       "                                                X_test    y_test y_pred  \\\n",
       "1906                       employer tuition assistance  coursera    edx   \n",
       "1747                            no software experience  coursera    edx   \n",
       "2181                           information on coursera  coursera    edx   \n",
       "1485                               proof of enrollment  coursera    edx   \n",
       "2083                          start date are all false  coursera    edx   \n",
       "2236       coursera writing and editing is it worth it  coursera    edx   \n",
       "2226       coursera about to become the worst platform  coursera    edx   \n",
       "1808        what happened to introduction to astronomy  coursera    edx   \n",
       "1259  b sc in computer science by university of london  coursera    edx   \n",
       "2058                                          question  coursera    edx   \n",
       "\n",
       "      Coursera       EdX  likely_total  likely_single  \n",
       "1906  0.330849  0.669151             6              1  \n",
       "1747  0.377401  0.622599            12              2  \n",
       "2181  0.375066  0.624934             5              1  \n",
       "1485  0.414248  0.585752             1              1  \n",
       "2083  0.356525  0.643475            15              1  \n",
       "2236  0.389041  0.610959             5              2  \n",
       "2226  0.413608  0.586392             3              2  \n",
       "1808  0.315232  0.684768            26              2  \n",
       "1259  0.457411  0.542589            35              2  \n",
       "2058  0.410304  0.589696             9              1  "
      ]
     },
     "execution_count": 34,
     "metadata": {},
     "output_type": "execute_result"
    }
   ],
   "source": [
    "# False positive where likely_total and likely_single is more than 0\n",
    "false_positive[(false_positive['likely_single']>0) & \\\n",
    "               (false_positive['likely_total']>0)][:10]"
   ]
  },
  {
   "cell_type": "markdown",
   "id": "f60cabad-266d-4a05-9a11-dcb94c1f27e1",
   "metadata": {},
   "source": [
    "#### Case 1. Titles have topics that are dominated by `edx` subreddit"
   ]
  },
  {
   "cell_type": "markdown",
   "id": "89baea2b-6de2-4c18-92ad-e947539352ed",
   "metadata": {},
   "source": [
    "e.g. hse master of finance - finance courses are more dominated by `edx` as `coursera` are mostly tech related courses, additionally `edx` is partnered with universities and masters degree has been one of the main selling point for them."
   ]
  },
  {
   "cell_type": "code",
   "execution_count": 35,
   "id": "b2dbaa9a-86fd-4974-8986-0e1e93c707a1",
   "metadata": {},
   "outputs": [
    {
     "data": {
      "text/plain": [
       "edx         9\n",
       "coursera    1\n",
       "Name: y_train, dtype: int64"
      ]
     },
     "execution_count": 35,
     "metadata": {},
     "output_type": "execute_result"
    }
   ],
   "source": [
    "train_df[train_df['finance']>0]['y_train'].value_counts()"
   ]
  },
  {
   "cell_type": "code",
   "execution_count": 36,
   "id": "dc56a644-9383-4cd1-bda2-475c25459e7a",
   "metadata": {},
   "outputs": [
    {
     "data": {
      "text/plain": [
       "edx         15\n",
       "coursera    12\n",
       "Name: y_train, dtype: int64"
      ]
     },
     "execution_count": 36,
     "metadata": {},
     "output_type": "execute_result"
    }
   ],
   "source": [
    "train_df[train_df['master']>0]['y_train'].value_counts()"
   ]
  },
  {
   "cell_type": "markdown",
   "id": "6f14335b-2c44-49e9-bf42-7d5707eaac9b",
   "metadata": {},
   "source": [
    "#### Case 2. Generic words that unformationately show up more in the `edx` subreddit"
   ]
  },
  {
   "cell_type": "markdown",
   "id": "bc98cce7-89e6-4e7f-927a-a77a9d2b6279",
   "metadata": {},
   "source": [
    "e.g. where to access live chat"
   ]
  },
  {
   "cell_type": "code",
   "execution_count": 37,
   "id": "b232b9f3-df58-48b8-96b8-5e8555279350",
   "metadata": {},
   "outputs": [
    {
     "data": {
      "text/plain": [
       "edx         25\n",
       "coursera    19\n",
       "Name: y_train, dtype: int64"
      ]
     },
     "execution_count": 37,
     "metadata": {},
     "output_type": "execute_result"
    }
   ],
   "source": [
    "train_df[train_df['access']>0]['y_train'].value_counts()"
   ]
  },
  {
   "cell_type": "code",
   "execution_count": 38,
   "id": "4055a11f-2f9d-4cfc-9c65-fb027da3e421",
   "metadata": {},
   "outputs": [
    {
     "data": {
      "text/plain": [
       "edx         4\n",
       "coursera    2\n",
       "Name: y_train, dtype: int64"
      ]
     },
     "execution_count": 38,
     "metadata": {},
     "output_type": "execute_result"
    }
   ],
   "source": [
    "train_df[train_df['live']>0]['y_train'].value_counts()"
   ]
  },
  {
   "cell_type": "markdown",
   "id": "ee23806c-ddd7-4b3a-8bc5-0955eb1722c6",
   "metadata": {
    "tags": []
   },
   "source": [
    "#### Cause of Error 3. Word Count < 0 - topics discussed more in `coursera` in terms of number of words not necessarily word frequency"
   ]
  },
  {
   "cell_type": "code",
   "execution_count": 39,
   "id": "79a40bc9-105b-420e-8318-30f34e2a30ab",
   "metadata": {},
   "outputs": [
    {
     "data": {
      "text/html": [
       "<div>\n",
       "<style scoped>\n",
       "    .dataframe tbody tr th:only-of-type {\n",
       "        vertical-align: middle;\n",
       "    }\n",
       "\n",
       "    .dataframe tbody tr th {\n",
       "        vertical-align: top;\n",
       "    }\n",
       "\n",
       "    .dataframe thead th {\n",
       "        text-align: right;\n",
       "    }\n",
       "</style>\n",
       "<table border=\"1\" class=\"dataframe\">\n",
       "  <thead>\n",
       "    <tr style=\"text-align: right;\">\n",
       "      <th></th>\n",
       "      <th>X_test</th>\n",
       "      <th>y_test</th>\n",
       "      <th>y_pred</th>\n",
       "      <th>Coursera</th>\n",
       "      <th>EdX</th>\n",
       "      <th>likely_total</th>\n",
       "      <th>likely_single</th>\n",
       "    </tr>\n",
       "  </thead>\n",
       "  <tbody>\n",
       "    <tr>\n",
       "      <th>1729</th>\n",
       "      <td>your grade ha been overridden and adjusted</td>\n",
       "      <td>coursera</td>\n",
       "      <td>edx</td>\n",
       "      <td>0.482831</td>\n",
       "      <td>0.517169</td>\n",
       "      <td>-3</td>\n",
       "      <td>-1</td>\n",
       "    </tr>\n",
       "    <tr>\n",
       "      <th>1280</th>\n",
       "      <td>if you sign up to unlimited can you get certificate for the course you e already completed</td>\n",
       "      <td>coursera</td>\n",
       "      <td>edx</td>\n",
       "      <td>0.484102</td>\n",
       "      <td>0.515898</td>\n",
       "      <td>-41</td>\n",
       "      <td>-2</td>\n",
       "    </tr>\n",
       "    <tr>\n",
       "      <th>2017</th>\n",
       "      <td>view certificate</td>\n",
       "      <td>coursera</td>\n",
       "      <td>edx</td>\n",
       "      <td>0.498440</td>\n",
       "      <td>0.501560</td>\n",
       "      <td>-19</td>\n",
       "      <td>-2</td>\n",
       "    </tr>\n",
       "    <tr>\n",
       "      <th>1265</th>\n",
       "      <td>beware iit roorkee postgraduate certificate on coursera</td>\n",
       "      <td>coursera</td>\n",
       "      <td>edx</td>\n",
       "      <td>0.491844</td>\n",
       "      <td>0.508156</td>\n",
       "      <td>-19</td>\n",
       "      <td>-2</td>\n",
       "    </tr>\n",
       "    <tr>\n",
       "      <th>1944</th>\n",
       "      <td>most annoying thing when doing an online course</td>\n",
       "      <td>coursera</td>\n",
       "      <td>edx</td>\n",
       "      <td>0.432695</td>\n",
       "      <td>0.567305</td>\n",
       "      <td>-7</td>\n",
       "      <td>-1</td>\n",
       "    </tr>\n",
       "    <tr>\n",
       "      <th>1686</th>\n",
       "      <td>lost all progress and all saved course no way to contact coursea for answer</td>\n",
       "      <td>coursera</td>\n",
       "      <td>edx</td>\n",
       "      <td>0.485972</td>\n",
       "      <td>0.514028</td>\n",
       "      <td>-11</td>\n",
       "      <td>-3</td>\n",
       "    </tr>\n",
       "    <tr>\n",
       "      <th>1636</th>\n",
       "      <td>workload of taking two certificate course at the same time</td>\n",
       "      <td>coursera</td>\n",
       "      <td>edx</td>\n",
       "      <td>0.456835</td>\n",
       "      <td>0.543165</td>\n",
       "      <td>-17</td>\n",
       "      <td>-1</td>\n",
       "    </tr>\n",
       "    <tr>\n",
       "      <th>1857</th>\n",
       "      <td>will there be a sale during black friday</td>\n",
       "      <td>coursera</td>\n",
       "      <td>edx</td>\n",
       "      <td>0.469710</td>\n",
       "      <td>0.530290</td>\n",
       "      <td>-1</td>\n",
       "      <td>-1</td>\n",
       "    </tr>\n",
       "    <tr>\n",
       "      <th>1798</th>\n",
       "      <td>ha corusera helped you gain employment</td>\n",
       "      <td>coursera</td>\n",
       "      <td>edx</td>\n",
       "      <td>0.468972</td>\n",
       "      <td>0.531028</td>\n",
       "      <td>-4</td>\n",
       "      <td>-1</td>\n",
       "    </tr>\n",
       "    <tr>\n",
       "      <th>2050</th>\n",
       "      <td>what is mastertrack certificate</td>\n",
       "      <td>coursera</td>\n",
       "      <td>edx</td>\n",
       "      <td>0.491844</td>\n",
       "      <td>0.508156</td>\n",
       "      <td>-19</td>\n",
       "      <td>-2</td>\n",
       "    </tr>\n",
       "  </tbody>\n",
       "</table>\n",
       "</div>"
      ],
      "text/plain": [
       "                                                                                          X_test  \\\n",
       "1729                                                  your grade ha been overridden and adjusted   \n",
       "1280  if you sign up to unlimited can you get certificate for the course you e already completed   \n",
       "2017                                                                            view certificate   \n",
       "1265                                     beware iit roorkee postgraduate certificate on coursera   \n",
       "1944                                             most annoying thing when doing an online course   \n",
       "1686                 lost all progress and all saved course no way to contact coursea for answer   \n",
       "1636                                  workload of taking two certificate course at the same time   \n",
       "1857                                                    will there be a sale during black friday   \n",
       "1798                                                      ha corusera helped you gain employment   \n",
       "2050                                                             what is mastertrack certificate   \n",
       "\n",
       "        y_test y_pred  Coursera       EdX  likely_total  likely_single  \n",
       "1729  coursera    edx  0.482831  0.517169            -3             -1  \n",
       "1280  coursera    edx  0.484102  0.515898           -41             -2  \n",
       "2017  coursera    edx  0.498440  0.501560           -19             -2  \n",
       "1265  coursera    edx  0.491844  0.508156           -19             -2  \n",
       "1944  coursera    edx  0.432695  0.567305            -7             -1  \n",
       "1686  coursera    edx  0.485972  0.514028           -11             -3  \n",
       "1636  coursera    edx  0.456835  0.543165           -17             -1  \n",
       "1857  coursera    edx  0.469710  0.530290            -1             -1  \n",
       "1798  coursera    edx  0.468972  0.531028            -4             -1  \n",
       "2050  coursera    edx  0.491844  0.508156           -19             -2  "
      ]
     },
     "execution_count": 39,
     "metadata": {},
     "output_type": "execute_result"
    }
   ],
   "source": [
    "# False positive where likely_total and likely_single is more than 0\n",
    "false_positive[(false_positive['likely_single']<0) & \\\n",
    "               (false_positive['likely_total']<0)][:10]"
   ]
  },
  {
   "cell_type": "markdown",
   "id": "f65db54b-6acf-4663-b09d-730b704d4cd9",
   "metadata": {},
   "source": [
    "#### Case 1. Title have words that show up in `Coursera` subreddit but outweight by default prediction of `edx`"
   ]
  },
  {
   "cell_type": "markdown",
   "id": "6ddc2ab7-2d7b-4630-b32b-5203da605dd2",
   "metadata": {},
   "source": [
    "e.g. cleaning up r coursera"
   ]
  },
  {
   "cell_type": "code",
   "execution_count": 40,
   "id": "a17d11f7-ec47-468f-af89-48deedc7e4ed",
   "metadata": {},
   "outputs": [
    {
     "data": {
      "text/plain": [
       "coursera    1\n",
       "Name: y_train, dtype: int64"
      ]
     },
     "execution_count": 40,
     "metadata": {},
     "output_type": "execute_result"
    }
   ],
   "source": [
    "train_df[train_df['cleaning']>0]['y_train'].value_counts()"
   ]
  },
  {
   "cell_type": "markdown",
   "id": "1f4143a1-fc4c-49dd-be56-fb68f9fb36e0",
   "metadata": {},
   "source": [
    "e.g. public health on cousera"
   ]
  },
  {
   "cell_type": "code",
   "execution_count": 41,
   "id": "5d722ee0-bc17-4931-9e31-b39d8ca31ee3",
   "metadata": {},
   "outputs": [
    {
     "data": {
      "text/plain": [
       "edx         1\n",
       "coursera    1\n",
       "Name: y_train, dtype: int64"
      ]
     },
     "execution_count": 41,
     "metadata": {},
     "output_type": "execute_result"
    }
   ],
   "source": [
    "train_df[train_df['public']>0]['y_train'].value_counts()"
   ]
  },
  {
   "cell_type": "code",
   "execution_count": 42,
   "id": "9d191ef4-deb8-453f-a850-a915dd849dd3",
   "metadata": {},
   "outputs": [
    {
     "data": {
      "text/plain": [
       "coursera    2\n",
       "Name: y_train, dtype: int64"
      ]
     },
     "execution_count": 42,
     "metadata": {},
     "output_type": "execute_result"
    }
   ],
   "source": [
    "train_df[train_df['health']>0]['y_train'].value_counts()"
   ]
  },
  {
   "cell_type": "markdown",
   "id": "8b97e36f-cb77-44bd-b273-d13dd7aba82e",
   "metadata": {},
   "source": [
    "#### False Negative"
   ]
  },
  {
   "cell_type": "markdown",
   "id": "f1affda5-1a02-4f6c-a071-9852bac883f0",
   "metadata": {},
   "source": [
    "Generate `likely_total` and `likely_single` column in the `flase_positive` DataFrame"
   ]
  },
  {
   "cell_type": "code",
   "execution_count": 43,
   "id": "2b7a6bb3-2e07-4d16-b745-120abe3271f2",
   "metadata": {},
   "outputs": [],
   "source": [
    "false_negative['likely_total'] = false_negative['X_test'].apply(how_likely)"
   ]
  },
  {
   "cell_type": "code",
   "execution_count": 44,
   "id": "5f1f5a6c-f8d1-403e-94a7-89e45ec14825",
   "metadata": {},
   "outputs": [],
   "source": [
    "false_negative['likely_single'] = false_negative['X_test']\\\n",
    ".apply(how_likely_single)"
   ]
  },
  {
   "cell_type": "code",
   "execution_count": 45,
   "id": "68cff283-2210-4427-b05e-47f7f3206ac8",
   "metadata": {},
   "outputs": [
    {
     "data": {
      "image/png": "[encoded data removed]",
      "text/plain": [
       "<Figure size 360x360 with 1 Axes>"
      ]
     },
     "metadata": {
      "needs_background": "light"
     },
     "output_type": "display_data"
    }
   ],
   "source": [
    "sns.lmplot(y='Coursera',x='likely_single',data=false_negative,\n",
    "           x_estimator=np.mean,x_ci=False)\n",
    "\n",
    "plt.title('Probability of Coursera vs Words in EdX Train')\n",
    "plt.ylabel('Probability of Coursera')\n",
    "plt.xlabel('How many more words in EdX');"
   ]
  },
  {
   "cell_type": "markdown",
   "id": "51bf8227-58d6-46cb-9237-a40a1d0a7198",
   "metadata": {},
   "source": [
    "**Key Takeaway:** <br>\n",
    "- The more words that show up in training data that are labeled `edx`, the less probability the model will predict the title to be from `coursera` subreddit\n",
    "- From this visualization we can breakdown the false positives to three cases:\n",
    "    1. word count = 0\n",
    "    2. word count more towards `edx`\n",
    "    3. word count more towards `coursera`"
   ]
  },
  {
   "cell_type": "markdown",
   "id": "7c19bddb-6123-43b4-a1e6-4d80dedd2f4d",
   "metadata": {},
   "source": [
    "### Cause of Error 1. Word Count = 0 for `likely_single`"
   ]
  },
  {
   "cell_type": "code",
   "execution_count": 46,
   "id": "0c8eef71-f43a-4b9a-9f91-93c8db4f7648",
   "metadata": {},
   "outputs": [
    {
     "data": {
      "text/html": [
       "<div>\n",
       "<style scoped>\n",
       "    .dataframe tbody tr th:only-of-type {\n",
       "        vertical-align: middle;\n",
       "    }\n",
       "\n",
       "    .dataframe tbody tr th {\n",
       "        vertical-align: top;\n",
       "    }\n",
       "\n",
       "    .dataframe thead th {\n",
       "        text-align: right;\n",
       "    }\n",
       "</style>\n",
       "<table border=\"1\" class=\"dataframe\">\n",
       "  <thead>\n",
       "    <tr style=\"text-align: right;\">\n",
       "      <th></th>\n",
       "      <th>X_test</th>\n",
       "      <th>y_test</th>\n",
       "      <th>y_pred</th>\n",
       "      <th>Coursera</th>\n",
       "      <th>EdX</th>\n",
       "      <th>likely_total</th>\n",
       "      <th>likely_single</th>\n",
       "    </tr>\n",
       "  </thead>\n",
       "  <tbody>\n",
       "    <tr>\n",
       "      <th>773</th>\n",
       "      <td>what doe a computer science degree look like</td>\n",
       "      <td>edx</td>\n",
       "      <td>coursera</td>\n",
       "      <td>0.521281</td>\n",
       "      <td>0.478719</td>\n",
       "      <td>26</td>\n",
       "      <td>0</td>\n",
       "    </tr>\n",
       "    <tr>\n",
       "      <th>814</th>\n",
       "      <td>problem with cybermonday sale</td>\n",
       "      <td>edx</td>\n",
       "      <td>coursera</td>\n",
       "      <td>0.616802</td>\n",
       "      <td>0.383198</td>\n",
       "      <td>-6</td>\n",
       "      <td>0</td>\n",
       "    </tr>\n",
       "    <tr>\n",
       "      <th>147</th>\n",
       "      <td>i am having problem in understanding english lecture a little bit a i am a non native english speaker so whenever i watch a lecture a new word pop up and it break the flow and it take a lot longer to complete the lecture so if this happens to u too how u cope up with it plz tell</td>\n",
       "      <td>edx</td>\n",
       "      <td>coursera</td>\n",
       "      <td>0.507469</td>\n",
       "      <td>0.492531</td>\n",
       "      <td>-3</td>\n",
       "      <td>0</td>\n",
       "    </tr>\n",
       "    <tr>\n",
       "      <th>669</th>\n",
       "      <td>account setting update issue edit disabled verification denied</td>\n",
       "      <td>edx</td>\n",
       "      <td>coursera</td>\n",
       "      <td>0.506572</td>\n",
       "      <td>0.493428</td>\n",
       "      <td>-13</td>\n",
       "      <td>0</td>\n",
       "    </tr>\n",
       "    <tr>\n",
       "      <th>468</th>\n",
       "      <td>technical issue</td>\n",
       "      <td>edx</td>\n",
       "      <td>coursera</td>\n",
       "      <td>0.599448</td>\n",
       "      <td>0.400552</td>\n",
       "      <td>-10</td>\n",
       "      <td>0</td>\n",
       "    </tr>\n",
       "    <tr>\n",
       "      <th>816</th>\n",
       "      <td>looking for a course regarding animal behavior or psychology wa really interested in asux course about dog</td>\n",
       "      <td>edx</td>\n",
       "      <td>coursera</td>\n",
       "      <td>0.505753</td>\n",
       "      <td>0.494247</td>\n",
       "      <td>-19</td>\n",
       "      <td>0</td>\n",
       "    </tr>\n",
       "  </tbody>\n",
       "</table>\n",
       "</div>"
      ],
      "text/plain": [
       "                                                                                                                                                                                                                                                                                      X_test  \\\n",
       "773                                                                                                                                                                                                                                             what doe a computer science degree look like   \n",
       "814                                                                                                                                                                                                                                                            problem with cybermonday sale   \n",
       "147  i am having problem in understanding english lecture a little bit a i am a non native english speaker so whenever i watch a lecture a new word pop up and it break the flow and it take a lot longer to complete the lecture so if this happens to u too how u cope up with it plz tell   \n",
       "669                                                                                                                                                                                                                           account setting update issue edit disabled verification denied   \n",
       "468                                                                                                                                                                                                                                                                          technical issue   \n",
       "816                                                                                                                                                                               looking for a course regarding animal behavior or psychology wa really interested in asux course about dog   \n",
       "\n",
       "    y_test    y_pred  Coursera       EdX  likely_total  likely_single  \n",
       "773    edx  coursera  0.521281  0.478719            26              0  \n",
       "814    edx  coursera  0.616802  0.383198            -6              0  \n",
       "147    edx  coursera  0.507469  0.492531            -3              0  \n",
       "669    edx  coursera  0.506572  0.493428           -13              0  \n",
       "468    edx  coursera  0.599448  0.400552           -10              0  \n",
       "816    edx  coursera  0.505753  0.494247           -19              0  "
      ]
     },
     "execution_count": 46,
     "metadata": {},
     "output_type": "execute_result"
    }
   ],
   "source": [
    "false_negative[(false_negative['likely_single']==0)]"
   ]
  },
  {
   "cell_type": "markdown",
   "id": "80818a5c-6089-438e-84ff-eef5440f1eee",
   "metadata": {},
   "source": [
    "#### Case 1. Title have same amount of words showing up in `edx` and `coursera` labeled training data, but the frequencies are different"
   ]
  },
  {
   "cell_type": "markdown",
   "id": "7f583790-9279-4bef-937b-2ec9853b1bc2",
   "metadata": {},
   "source": [
    "e.g. how to finish a course"
   ]
  },
  {
   "cell_type": "code",
   "execution_count": 47,
   "id": "dbcda2b4-e990-4631-a89b-01669ce1391d",
   "metadata": {},
   "outputs": [
    {
     "data": {
      "text/plain": [
       "edx         7\n",
       "coursera    4\n",
       "Name: y_train, dtype: int64"
      ]
     },
     "execution_count": 47,
     "metadata": {},
     "output_type": "execute_result"
    }
   ],
   "source": [
    "train_df[train_df['finish']>0]['y_train'].value_counts()"
   ]
  },
  {
   "cell_type": "code",
   "execution_count": 48,
   "id": "2dea9758-2b8e-4327-bd0f-e5a86a681b5d",
   "metadata": {},
   "outputs": [
    {
     "data": {
      "text/plain": [
       "coursera    267\n",
       "edx         246\n",
       "Name: y_train, dtype: int64"
      ]
     },
     "execution_count": 48,
     "metadata": {},
     "output_type": "execute_result"
    }
   ],
   "source": [
    "train_df[train_df['course']>0]['y_train'].value_counts()"
   ]
  },
  {
   "cell_type": "markdown",
   "id": "faf539cb-5ab2-484b-90e3-825efc1302c4",
   "metadata": {},
   "source": [
    "### Cause of Error 2. Tite have more words showing up in `coursera subreddit`"
   ]
  },
  {
   "cell_type": "code",
   "execution_count": 49,
   "id": "4dc02bb9-439a-45f1-8223-94b6ff02be1f",
   "metadata": {},
   "outputs": [
    {
     "data": {
      "text/html": [
       "<div>\n",
       "<style scoped>\n",
       "    .dataframe tbody tr th:only-of-type {\n",
       "        vertical-align: middle;\n",
       "    }\n",
       "\n",
       "    .dataframe tbody tr th {\n",
       "        vertical-align: top;\n",
       "    }\n",
       "\n",
       "    .dataframe thead th {\n",
       "        text-align: right;\n",
       "    }\n",
       "</style>\n",
       "<table border=\"1\" class=\"dataframe\">\n",
       "  <thead>\n",
       "    <tr style=\"text-align: right;\">\n",
       "      <th></th>\n",
       "      <th>X_test</th>\n",
       "      <th>y_test</th>\n",
       "      <th>y_pred</th>\n",
       "      <th>Coursera</th>\n",
       "      <th>EdX</th>\n",
       "      <th>likely_total</th>\n",
       "      <th>likely_single</th>\n",
       "    </tr>\n",
       "  </thead>\n",
       "  <tbody>\n",
       "    <tr>\n",
       "      <th>970</th>\n",
       "      <td>need help with cs50x</td>\n",
       "      <td>edx</td>\n",
       "      <td>coursera</td>\n",
       "      <td>0.589111</td>\n",
       "      <td>0.410889</td>\n",
       "      <td>-9</td>\n",
       "      <td>-1</td>\n",
       "    </tr>\n",
       "    <tr>\n",
       "      <th>419</th>\n",
       "      <td>edx website freezing</td>\n",
       "      <td>edx</td>\n",
       "      <td>coursera</td>\n",
       "      <td>0.615322</td>\n",
       "      <td>0.384678</td>\n",
       "      <td>-5</td>\n",
       "      <td>-2</td>\n",
       "    </tr>\n",
       "    <tr>\n",
       "      <th>201</th>\n",
       "      <td>whats your recommended edx course s want to learn something just for fun</td>\n",
       "      <td>edx</td>\n",
       "      <td>coursera</td>\n",
       "      <td>0.538654</td>\n",
       "      <td>0.461346</td>\n",
       "      <td>-16</td>\n",
       "      <td>-1</td>\n",
       "    </tr>\n",
       "    <tr>\n",
       "      <th>682</th>\n",
       "      <td>how will this course help</td>\n",
       "      <td>edx</td>\n",
       "      <td>coursera</td>\n",
       "      <td>0.520877</td>\n",
       "      <td>0.479123</td>\n",
       "      <td>-13</td>\n",
       "      <td>-1</td>\n",
       "    </tr>\n",
       "    <tr>\n",
       "      <th>77</th>\n",
       "      <td>trying to decide between 2 logic course</td>\n",
       "      <td>edx</td>\n",
       "      <td>coursera</td>\n",
       "      <td>0.502508</td>\n",
       "      <td>0.497492</td>\n",
       "      <td>-13</td>\n",
       "      <td>-1</td>\n",
       "    </tr>\n",
       "    <tr>\n",
       "      <th>820</th>\n",
       "      <td>should i continue</td>\n",
       "      <td>edx</td>\n",
       "      <td>coursera</td>\n",
       "      <td>0.506440</td>\n",
       "      <td>0.493560</td>\n",
       "      <td>-1</td>\n",
       "      <td>-1</td>\n",
       "    </tr>\n",
       "    <tr>\n",
       "      <th>228</th>\n",
       "      <td>edx certification</td>\n",
       "      <td>edx</td>\n",
       "      <td>coursera</td>\n",
       "      <td>0.649097</td>\n",
       "      <td>0.350903</td>\n",
       "      <td>-16</td>\n",
       "      <td>-1</td>\n",
       "    </tr>\n",
       "    <tr>\n",
       "      <th>14</th>\n",
       "      <td>html error</td>\n",
       "      <td>edx</td>\n",
       "      <td>coursera</td>\n",
       "      <td>0.601426</td>\n",
       "      <td>0.398574</td>\n",
       "      <td>-5</td>\n",
       "      <td>-2</td>\n",
       "    </tr>\n",
       "    <tr>\n",
       "      <th>375</th>\n",
       "      <td>i don t get it why is this happening</td>\n",
       "      <td>edx</td>\n",
       "      <td>coursera</td>\n",
       "      <td>0.507789</td>\n",
       "      <td>0.492211</td>\n",
       "      <td>-13</td>\n",
       "      <td>-2</td>\n",
       "    </tr>\n",
       "    <tr>\n",
       "      <th>647</th>\n",
       "      <td>paying for a course certificate extends the time i have to earn that certificate after completing the course or just the time i have to access that course</td>\n",
       "      <td>edx</td>\n",
       "      <td>coursera</td>\n",
       "      <td>0.540401</td>\n",
       "      <td>0.459599</td>\n",
       "      <td>-58</td>\n",
       "      <td>-5</td>\n",
       "    </tr>\n",
       "  </tbody>\n",
       "</table>\n",
       "</div>"
      ],
      "text/plain": [
       "                                                                                                                                                         X_test  \\\n",
       "970                                                                                                                                        need help with cs50x   \n",
       "419                                                                                                                                        edx website freezing   \n",
       "201                                                                                    whats your recommended edx course s want to learn something just for fun   \n",
       "682                                                                                                                                   how will this course help   \n",
       "77                                                                                                                      trying to decide between 2 logic course   \n",
       "820                                                                                                                                           should i continue   \n",
       "228                                                                                                                                           edx certification   \n",
       "14                                                                                                                                                   html error   \n",
       "375                                                                                                                        i don t get it why is this happening   \n",
       "647  paying for a course certificate extends the time i have to earn that certificate after completing the course or just the time i have to access that course   \n",
       "\n",
       "    y_test    y_pred  Coursera       EdX  likely_total  likely_single  \n",
       "970    edx  coursera  0.589111  0.410889            -9             -1  \n",
       "419    edx  coursera  0.615322  0.384678            -5             -2  \n",
       "201    edx  coursera  0.538654  0.461346           -16             -1  \n",
       "682    edx  coursera  0.520877  0.479123           -13             -1  \n",
       "77     edx  coursera  0.502508  0.497492           -13             -1  \n",
       "820    edx  coursera  0.506440  0.493560            -1             -1  \n",
       "228    edx  coursera  0.649097  0.350903           -16             -1  \n",
       "14     edx  coursera  0.601426  0.398574            -5             -2  \n",
       "375    edx  coursera  0.507789  0.492211           -13             -2  \n",
       "647    edx  coursera  0.540401  0.459599           -58             -5  "
      ]
     },
     "execution_count": 49,
     "metadata": {},
     "output_type": "execute_result"
    }
   ],
   "source": [
    "false_negative[(false_negative['likely_single']<0)\n",
    "               &(false_negative['likely_single']<0)][:10]"
   ]
  },
  {
   "cell_type": "markdown",
   "id": "ae00877e-615d-4326-bf81-5d76886f0efa",
   "metadata": {},
   "source": [
    "#### Case 1. Title have words showing up more in `coursera` training set"
   ]
  },
  {
   "cell_type": "markdown",
   "id": "8313b43e-7992-46f3-b213-f3258bf2fa85",
   "metadata": {},
   "source": [
    "e.g. edx certification"
   ]
  },
  {
   "cell_type": "code",
   "execution_count": 50,
   "id": "31f3b9cb-8422-4176-b989-ee982d888327",
   "metadata": {},
   "outputs": [
    {
     "data": {
      "text/plain": [
       "coursera    23\n",
       "edx          7\n",
       "Name: y_train, dtype: int64"
      ]
     },
     "execution_count": 50,
     "metadata": {},
     "output_type": "execute_result"
    }
   ],
   "source": [
    "train_df[train_df['certification']>0]['y_train'].value_counts()"
   ]
  },
  {
   "cell_type": "markdown",
   "id": "5d13f18a-5d8b-4cbd-a81c-40d64815c51e",
   "metadata": {},
   "source": [
    "e.g. problem with cybermonday sale"
   ]
  },
  {
   "cell_type": "code",
   "execution_count": 51,
   "id": "e0f805bf-4b07-4108-8ede-854e052c9af1",
   "metadata": {},
   "outputs": [
    {
     "data": {
      "text/plain": [
       "coursera    12\n",
       "edx          5\n",
       "Name: y_train, dtype: int64"
      ]
     },
     "execution_count": 51,
     "metadata": {},
     "output_type": "execute_result"
    }
   ],
   "source": [
    "train_df[train_df['problem']>0]['y_train'].value_counts()"
   ]
  },
  {
   "cell_type": "code",
   "execution_count": 52,
   "id": "7e68d643-b126-49f2-b45f-1ba3b9aa4a16",
   "metadata": {},
   "outputs": [
    {
     "data": {
      "text/plain": [
       "edx    1\n",
       "Name: y_train, dtype: int64"
      ]
     },
     "execution_count": 52,
     "metadata": {},
     "output_type": "execute_result"
    }
   ],
   "source": [
    "train_df[train_df['cybermonday']>0]['y_train'].value_counts()"
   ]
  },
  {
   "cell_type": "markdown",
   "id": "11ca1b7a-cc5a-41df-b659-6898ce4f6ab0",
   "metadata": {},
   "source": [
    "### Cause of Error 3. Tite have more words showing up in `edx` subreddit but doesn't outweight in frequency"
   ]
  },
  {
   "cell_type": "code",
   "execution_count": 53,
   "id": "e7624d6a-6d1a-4c3d-bee3-4b84cf454e00",
   "metadata": {},
   "outputs": [
    {
     "data": {
      "text/html": [
       "<div>\n",
       "<style scoped>\n",
       "    .dataframe tbody tr th:only-of-type {\n",
       "        vertical-align: middle;\n",
       "    }\n",
       "\n",
       "    .dataframe tbody tr th {\n",
       "        vertical-align: top;\n",
       "    }\n",
       "\n",
       "    .dataframe thead th {\n",
       "        text-align: right;\n",
       "    }\n",
       "</style>\n",
       "<table border=\"1\" class=\"dataframe\">\n",
       "  <thead>\n",
       "    <tr style=\"text-align: right;\">\n",
       "      <th></th>\n",
       "      <th>X_test</th>\n",
       "      <th>y_test</th>\n",
       "      <th>y_pred</th>\n",
       "      <th>Coursera</th>\n",
       "      <th>EdX</th>\n",
       "      <th>likely_total</th>\n",
       "      <th>likely_single</th>\n",
       "    </tr>\n",
       "  </thead>\n",
       "  <tbody>\n",
       "    <tr>\n",
       "      <th>949</th>\n",
       "      <td>can t find any course about computer networking on edx</td>\n",
       "      <td>edx</td>\n",
       "      <td>coursera</td>\n",
       "      <td>0.526927</td>\n",
       "      <td>0.473073</td>\n",
       "      <td>-8</td>\n",
       "      <td>1</td>\n",
       "    </tr>\n",
       "    <tr>\n",
       "      <th>474</th>\n",
       "      <td>video lag</td>\n",
       "      <td>edx</td>\n",
       "      <td>coursera</td>\n",
       "      <td>0.529196</td>\n",
       "      <td>0.470804</td>\n",
       "      <td>3</td>\n",
       "      <td>1</td>\n",
       "    </tr>\n",
       "    <tr>\n",
       "      <th>390</th>\n",
       "      <td>edx aleks window launching small</td>\n",
       "      <td>edx</td>\n",
       "      <td>coursera</td>\n",
       "      <td>0.501895</td>\n",
       "      <td>0.498105</td>\n",
       "      <td>1</td>\n",
       "      <td>1</td>\n",
       "    </tr>\n",
       "    <tr>\n",
       "      <th>754</th>\n",
       "      <td>how long do i have after i finish a course to pay for the certification</td>\n",
       "      <td>edx</td>\n",
       "      <td>coursera</td>\n",
       "      <td>0.515887</td>\n",
       "      <td>0.484113</td>\n",
       "      <td>-22</td>\n",
       "      <td>1</td>\n",
       "    </tr>\n",
       "    <tr>\n",
       "      <th>831</th>\n",
       "      <td>question is codeacademy style gamification possible in edx</td>\n",
       "      <td>edx</td>\n",
       "      <td>coursera</td>\n",
       "      <td>0.510630</td>\n",
       "      <td>0.489370</td>\n",
       "      <td>8</td>\n",
       "      <td>1</td>\n",
       "    </tr>\n",
       "    <tr>\n",
       "      <th>421</th>\n",
       "      <td>aleks issue help someone lol</td>\n",
       "      <td>edx</td>\n",
       "      <td>coursera</td>\n",
       "      <td>0.542686</td>\n",
       "      <td>0.457314</td>\n",
       "      <td>-8</td>\n",
       "      <td>1</td>\n",
       "    </tr>\n",
       "    <tr>\n",
       "      <th>709</th>\n",
       "      <td>anyone who graduated from edx with a master s degree</td>\n",
       "      <td>edx</td>\n",
       "      <td>coursera</td>\n",
       "      <td>0.533375</td>\n",
       "      <td>0.466625</td>\n",
       "      <td>2</td>\n",
       "      <td>1</td>\n",
       "    </tr>\n",
       "  </tbody>\n",
       "</table>\n",
       "</div>"
      ],
      "text/plain": [
       "                                                                      X_test  \\\n",
       "949                   can t find any course about computer networking on edx   \n",
       "474                                                                video lag   \n",
       "390                                         edx aleks window launching small   \n",
       "754  how long do i have after i finish a course to pay for the certification   \n",
       "831               question is codeacademy style gamification possible in edx   \n",
       "421                                             aleks issue help someone lol   \n",
       "709                     anyone who graduated from edx with a master s degree   \n",
       "\n",
       "    y_test    y_pred  Coursera       EdX  likely_total  likely_single  \n",
       "949    edx  coursera  0.526927  0.473073            -8              1  \n",
       "474    edx  coursera  0.529196  0.470804             3              1  \n",
       "390    edx  coursera  0.501895  0.498105             1              1  \n",
       "754    edx  coursera  0.515887  0.484113           -22              1  \n",
       "831    edx  coursera  0.510630  0.489370             8              1  \n",
       "421    edx  coursera  0.542686  0.457314            -8              1  \n",
       "709    edx  coursera  0.533375  0.466625             2              1  "
      ]
     },
     "execution_count": 53,
     "metadata": {},
     "output_type": "execute_result"
    }
   ],
   "source": [
    "false_negative[(false_negative['likely_single']>0)\n",
    "               &(false_negative['likely_single']>0)][:10]"
   ]
  },
  {
   "cell_type": "markdown",
   "id": "461c853e-2331-49fc-b28d-b6119544f2dd",
   "metadata": {},
   "source": [
    "#### Case 1. Word frequency is higher for `coursera` due to topics of dicussion or simply generic terms"
   ]
  },
  {
   "cell_type": "markdown",
   "id": "457850e5-af73-4fe4-82f7-b34bf416bd5a",
   "metadata": {},
   "source": [
    "e.g. video lag - generic term"
   ]
  },
  {
   "cell_type": "code",
   "execution_count": 54,
   "id": "a06e0a84-6503-43d8-9e1b-7e07f67b1fca",
   "metadata": {},
   "outputs": [
    {
     "data": {
      "text/plain": [
       "edx         16\n",
       "coursera    12\n",
       "Name: y_train, dtype: int64"
      ]
     },
     "execution_count": 54,
     "metadata": {},
     "output_type": "execute_result"
    }
   ],
   "source": [
    "train_df[train_df['video']>0]['y_train'].value_counts()"
   ]
  },
  {
   "cell_type": "markdown",
   "id": "ad79ccab-99c3-4a49-a0a0-45b8df97adca",
   "metadata": {},
   "source": [
    "e.g. thought on edx certificate for blockchin worth it"
   ]
  },
  {
   "cell_type": "code",
   "execution_count": 55,
   "id": "e5a5a344-2c9f-4a52-8eaf-76ec39d17486",
   "metadata": {},
   "outputs": [
    {
     "data": {
      "text/plain": [
       "coursera    3\n",
       "edx         2\n",
       "Name: y_train, dtype: int64"
      ]
     },
     "execution_count": 55,
     "metadata": {},
     "output_type": "execute_result"
    }
   ],
   "source": [
    "train_df[train_df['thought']>0]['y_train'].value_counts()"
   ]
  },
  {
   "cell_type": "code",
   "execution_count": 56,
   "id": "79963c01-ac6f-46f8-92f9-6d23381bf264",
   "metadata": {},
   "outputs": [
    {
     "data": {
      "text/plain": [
       "coursera    104\n",
       "edx          90\n",
       "Name: y_train, dtype: int64"
      ]
     },
     "execution_count": 56,
     "metadata": {},
     "output_type": "execute_result"
    }
   ],
   "source": [
    "train_df[train_df['certificate']>0]['y_train'].value_counts()"
   ]
  },
  {
   "cell_type": "code",
   "execution_count": 57,
   "id": "c656ad52-6b6a-40c0-956a-be6823ccc222",
   "metadata": {},
   "outputs": [
    {
     "data": {
      "text/plain": [
       "edx         12\n",
       "coursera     9\n",
       "Name: y_train, dtype: int64"
      ]
     },
     "execution_count": 57,
     "metadata": {},
     "output_type": "execute_result"
    }
   ],
   "source": [
    "train_df[train_df['worth']>0]['y_train'].value_counts()"
   ]
  },
  {
   "cell_type": "markdown",
   "id": "2a4bea5e-3d4e-4e63-b97a-f48c00129f44",
   "metadata": {},
   "source": [
    "## Summary of Mis-classification"
   ]
  },
  {
   "cell_type": "markdown",
   "id": "734ee10a-a830-4b1c-8d79-a5d7587f942b",
   "metadata": {},
   "source": [
    "All false positives and false negative can be traced back to 3 main root causes: <br>\n",
    "\n",
    "1. Short titles that never show up on training dataset\n",
    "2. Title regarding topics dominated by the other subreddit\n",
    "3. Marginal differences outweighs by default predict probability"
   ]
  },
  {
   "cell_type": "markdown",
   "id": "5126133a-2fd2-4d43-ae9f-69600bbae0e4",
   "metadata": {},
   "source": [
    "Ways to tackle these error could be:\n",
    "1. Acquire more training dataset that enough words show up in the training dataset\n",
    "2. Manually add more dominate words to stopwords with the trade off of reducing the overall accuracy\n",
    "3. Join the title and comment string to add more training data, and reduces short titles"
   ]
  },
  {
   "cell_type": "markdown",
   "id": "c2cbf747-e15c-4a29-b553-e319760b0474",
   "metadata": {},
   "source": [
    "---"
   ]
  },
  {
   "cell_type": "markdown",
   "id": "d56d5e38-c4c0-4add-8f7c-1cc6b84ff520",
   "metadata": {},
   "source": [
    "## Successful Predictions Analysis"
   ]
  },
  {
   "cell_type": "code",
   "execution_count": 58,
   "id": "2b33a21e-284c-4f49-abcc-2a366036382f",
   "metadata": {},
   "outputs": [],
   "source": [
    "# Select only wrong predictions\n",
    "right = pd.DataFrame(predictions[predictions['y_test']==predictions['y_pred']])"
   ]
  },
  {
   "cell_type": "code",
   "execution_count": 59,
   "id": "b2c38b7e-17de-44f9-ac24-e617ededc8f9",
   "metadata": {},
   "outputs": [],
   "source": [
    "# True positive\n",
    "true_positive = right[(right['y_test']=='edx') & \\\n",
    "                       (right['y_pred']=='edx')]\n",
    "# True negative\n",
    "true_negative = right[(right['y_test']=='coursera') & \\\n",
    "                       (right['y_pred']=='coursera')]"
   ]
  },
  {
   "cell_type": "code",
   "execution_count": 60,
   "id": "f80cf3e1-873c-43f5-acd2-e1fb201b6db6",
   "metadata": {},
   "outputs": [],
   "source": [
    "# Create columns likely_total and likely_single - true positive\n",
    "true_positive['likely_total'] = true_positive['X_test'].apply(how_likely)\n",
    "true_positive['likely_single'] = true_positive['X_test'].apply(how_likely_single)"
   ]
  },
  {
   "cell_type": "code",
   "execution_count": 61,
   "id": "fb5175c8-51b0-49d7-a5eb-a78b50064b3c",
   "metadata": {},
   "outputs": [],
   "source": [
    "# Create columns likely_total and likely_single - true negative\n",
    "true_negative['likely_total'] = true_negative['X_test'].apply(how_likely)\n",
    "true_negative['likely_single'] = true_negative['X_test'].apply(how_likely_single)"
   ]
  },
  {
   "cell_type": "markdown",
   "id": "4e443920-a439-4bd7-ad1e-3f5a9107b8d4",
   "metadata": {},
   "source": [
    "### True Positive"
   ]
  },
  {
   "cell_type": "code",
   "execution_count": 62,
   "id": "2ce3ae8c-73fb-4e00-8e75-eaa567258ef0",
   "metadata": {},
   "outputs": [
    {
     "data": {
      "image/png": "[encoded data removed]",
      "text/plain": [
       "<Figure size 360x360 with 1 Axes>"
      ]
     },
     "metadata": {
      "needs_background": "light"
     },
     "output_type": "display_data"
    }
   ],
   "source": [
    "sns.lmplot(y='EdX',x='likely_single',data=true_positive,\n",
    "           x_estimator=np.mean,x_ci=False)\n",
    "\n",
    "plt.title('Probability of EdX vs Words in EdX Train')\n",
    "plt.ylabel('Probability of EdX')\n",
    "plt.xlabel('How many more words in EdX');"
   ]
  },
  {
   "cell_type": "markdown",
   "id": "733b75c1-8026-48fa-9bcd-69b35ec0052d",
   "metadata": {},
   "source": [
    "### True Negative"
   ]
  },
  {
   "cell_type": "code",
   "execution_count": 63,
   "id": "d67f59fc-898c-4976-9191-cfb20708167c",
   "metadata": {},
   "outputs": [
    {
     "data": {
      "image/png": "[encoded data removed]",
      "text/plain": [
       "<Figure size 360x360 with 1 Axes>"
      ]
     },
     "metadata": {
      "needs_background": "light"
     },
     "output_type": "display_data"
    }
   ],
   "source": [
    "sns.lmplot(y='EdX',x='likely_single',data=true_negative,\n",
    "           x_estimator=np.mean,x_ci=False)\n",
    "\n",
    "plt.title('Probability of EdX vs Words in EdX Train')\n",
    "plt.ylabel('Probability of EdX')\n",
    "plt.xlabel('How many more words in EdX');"
   ]
  },
  {
   "cell_type": "markdown",
   "id": "a32164b7-81ee-4ce7-bfb9-ee5831321c29",
   "metadata": {},
   "source": [
    "## Visualizing Correct Predicitions"
   ]
  },
  {
   "cell_type": "code",
   "execution_count": 64,
   "id": "2505a1a1-8a06-43fc-ae5d-ff3776870ad9",
   "metadata": {},
   "outputs": [
    {
     "data": {
      "image/png": "[encoded data removed]",
      "text/plain": [
       "<Figure size 864x432 with 2 Axes>"
      ]
     },
     "metadata": {
      "needs_background": "light"
     },
     "output_type": "display_data"
    }
   ],
   "source": [
    "compare_words(left_df=true_positive, right_df = true_negative,\n",
    "              vec_choice='cv',grams=(1,1),top_n=30, feature = 'X_test',\n",
    "              title='Top 30 Words in Title')"
   ]
  },
  {
   "cell_type": "code",
   "execution_count": 65,
   "id": "bf8421d6-74cf-4a11-adcd-429d318932e1",
   "metadata": {},
   "outputs": [
    {
     "data": {
      "image/png": "[encoded data removed]",
      "text/plain": [
       "<Figure size 864x432 with 2 Axes>"
      ]
     },
     "metadata": {
      "needs_background": "light"
     },
     "output_type": "display_data"
    }
   ],
   "source": [
    "compare_words(left_df=true_positive, right_df = true_negative,\n",
    "              vec_choice='cv',grams=(2,2),top_n=30, feature = 'X_test',\n",
    "              title='Top 30 Words in Title')"
   ]
  },
  {
   "cell_type": "code",
   "execution_count": 66,
   "id": "46298d66-d7d0-4778-9ab2-ee87a79b294c",
   "metadata": {},
   "outputs": [
    {
     "data": {
      "image/png": "[encoded data removed]",
      "text/plain": [
       "<Figure size 864x432 with 2 Axes>"
      ]
     },
     "metadata": {
      "needs_background": "light"
     },
     "output_type": "display_data"
    }
   ],
   "source": [
    "compare_words(left_df=true_positive, right_df = true_negative,\n",
    "              vec_choice='cv',grams=(3,3),top_n=30, feature = 'X_test',\n",
    "              title='Top 30 Words in Title')"
   ]
  },
  {
   "cell_type": "markdown",
   "id": "3bda03cc-7f89-48c1-a21e-683fbd4e80a1",
   "metadata": {},
   "source": [
    "## Summary of Correct Predicition"
   ]
  },
  {
   "cell_type": "markdown",
   "id": "6721a2c1-bf57-40e1-94cd-109cb17628ef",
   "metadata": {},
   "source": [
    "All true positives and true negatives can be explained using similar approach to mis-classifications: <br>\n",
    "\n",
    "1. Title with words and topics that are dominated by each subreddit"
   ]
  },
  {
   "cell_type": "markdown",
   "id": "06fcc083-0971-4220-8ab0-9ca566e97374",
   "metadata": {},
   "source": [
    "Topics that are dominated by each subreddit:\n",
    "1. *EdX*:\n",
    "- Courses: Data Science, statistics, and computer science\n",
    "- Content: Open, online, self-paced, micro-masters\n",
    "- Deals: Free course\n",
    "\n",
    "2. *Coursera*:\n",
    "- Courses: Google Data Analytic, Google UX Design, Machine Learning\n",
    "- Content: Online courses\n",
    "- Deals: Financial aids, Sales"
   ]
  }
 ],
 "metadata": {
  "kernelspec": {
   "display_name": "Python 3 (ipykernel)",
   "language": "python",
   "name": "python3"
  },
  "language_info": {
   "codemirror_mode": {
    "name": "ipython",
    "version": 3
   },
   "file_extension": ".py",
   "mimetype": "text/x-python",
   "name": "python",
   "nbconvert_exporter": "python",
   "pygments_lexer": "ipython3",
   "version": "3.9.12"
  }
 },
 "nbformat": 4,
 "nbformat_minor": 5
}
