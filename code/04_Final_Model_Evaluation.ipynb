{
 "cells": [
  {
   "cell_type": "markdown",
   "id": "e18d74cb-e05f-4f77-97a7-a1aef1b1baeb",
   "metadata": {
    "tags": []
   },
   "source": [
    "# Part 4. Final Model, Mis-classification & Success Predictions Analysis"
   ]
  },
  {
   "cell_type": "markdown",
   "id": "47b260a3-c853-4111-a410-32b6e58913da",
   "metadata": {},
   "source": [
    "---"
   ]
  },
  {
   "cell_type": "markdown",
   "id": "62345b28-8a2c-483c-a2e7-d57102a62a12",
   "metadata": {
    "tags": []
   },
   "source": [
    "## Importing Libraries"
   ]
  },
  {
   "cell_type": "code",
   "execution_count": 1,
   "id": "ea75bca2-9206-4366-8727-f7bd4db31c51",
   "metadata": {},
   "outputs": [],
   "source": [
    "# Importing the usual\n",
    "import pandas as pd\n",
    "import numpy as np\n",
    "import seaborn as sns\n",
    "import matplotlib.pyplot as plt\n",
    "\n",
    "# Import joblib\n",
    "import joblib\n",
    "\n",
    "# Import NLP library\n",
    "from nltk.corpus import stopwords\n",
    "from sklearn.feature_extraction.text import TfidfVectorizer, CountVectorizer\n",
    "\n",
    "# Importing classification model\n",
    "from sklearn.linear_model import LogisticRegression\n",
    "\n",
    "# Importing Optimzation Tools\n",
    "from sklearn.model_selection import train_test_split\n",
    "from sklearn.pipeline import Pipeline\n",
    "\n",
    "# Import metrics\n",
    "from sklearn import metrics\n",
    "from sklearn.metrics import confusion_matrix, classification_report,\\\n",
    "ConfusionMatrixDisplay"
   ]
  },
  {
   "cell_type": "code",
   "execution_count": 2,
   "id": "fb7b67f2-5a08-46d6-9286-8e7008e30307",
   "metadata": {},
   "outputs": [],
   "source": [
    "# Set option to display more text\n",
    "pd.set_option('max_colwidth', 1000)\n",
    "\n",
    "# Suppress slicing of copy dataframe - as we will make copies\n",
    "pd.options.mode.chained_assignment = None"
   ]
  },
  {
   "cell_type": "markdown",
   "id": "eff22a3e-2f45-4856-8d87-06371556470b",
   "metadata": {},
   "source": [
    "---"
   ]
  },
  {
   "cell_type": "markdown",
   "id": "87777a47-a28d-4874-813d-3b8109537cee",
   "metadata": {},
   "source": [
    "## Preparation"
   ]
  },
  {
   "cell_type": "markdown",
   "id": "557d1593-fc5d-4b53-9bdd-037d86032f28",
   "metadata": {
    "tags": []
   },
   "source": [
    "### Read datasets"
   ]
  },
  {
   "cell_type": "code",
   "execution_count": 3,
   "id": "3b76b102-0f8f-4cae-afd4-eb10c795d004",
   "metadata": {},
   "outputs": [],
   "source": [
    "# Read csv\n",
    "post_df = pd.read_csv('../datasets/coursera_edx_posts_cleaned.csv',\n",
    "                      index_col=[0])\n",
    "\n",
    "cmt_df = pd.read_csv('../datasets/coursera_edx_comments_cleaned.csv',\n",
    "                     index_col=[0])"
   ]
  },
  {
   "cell_type": "markdown",
   "id": "f310bc1f-e622-458f-af50-cc25a66de938",
   "metadata": {},
   "source": [
    "### Stopwords"
   ]
  },
  {
   "cell_type": "code",
   "execution_count": 4,
   "id": "9688f38b-06e0-47c0-ae8b-f6c2b15a0fab",
   "metadata": {},
   "outputs": [],
   "source": [
    "# Manually adding stopwords\n",
    "manual_stopwords = stopwords.words('english')\n",
    "\n",
    "# List of keywords to add\n",
    "edx_list = ['edx','http','www','org'] \n",
    "coursera_list = ['coursera']\n",
    "\n",
    "# Add to stopwords\n",
    "manual_stopwords.extend(edx_list)\n",
    "manual_stopwords.extend(coursera_list)"
   ]
  },
  {
   "cell_type": "markdown",
   "id": "45830332-1c0c-4fc0-916d-fb709b3df595",
   "metadata": {},
   "source": [
    "### Modeling with Title"
   ]
  },
  {
   "cell_type": "code",
   "execution_count": 5,
   "id": "c0675b3e-6cca-427b-ab53-bc688137f07f",
   "metadata": {},
   "outputs": [],
   "source": [
    "# Select X and y.values\n",
    "X = post_df['title_lemma'].values.astype('U')\n",
    "y = post_df['subreddit']"
   ]
  },
  {
   "cell_type": "code",
   "execution_count": 6,
   "id": "10cb4e52-8055-4555-bd78-d63fb75944ca",
   "metadata": {},
   "outputs": [],
   "source": [
    "# Split the data\n",
    "X_train,X_test,y_train,y_test = train_test_split(X,y,stratify=y,\n",
    "                                                 random_state=42)"
   ]
  },
  {
   "cell_type": "code",
   "execution_count": 7,
   "id": "2d5b5e45-1935-4210-a610-a0a00b52938a",
   "metadata": {},
   "outputs": [
    {
     "data": {
      "text/plain": [
       "((1495,), (499,), (1495,), (499,))"
      ]
     },
     "execution_count": 7,
     "metadata": {},
     "output_type": "execute_result"
    }
   ],
   "source": [
    "# Check shape\n",
    "X_train.shape, X_test.shape, y_train.shape, y_test.shape"
   ]
  },
  {
   "cell_type": "code",
   "execution_count": 8,
   "id": "e56abe14-874b-4308-867d-da77adbc185e",
   "metadata": {},
   "outputs": [
    {
     "data": {
      "text/plain": [
       "coursera    749\n",
       "edx         746\n",
       "Name: subreddit, dtype: int64"
      ]
     },
     "execution_count": 8,
     "metadata": {},
     "output_type": "execute_result"
    }
   ],
   "source": [
    "# Check balance y_train\n",
    "y_train.value_counts()"
   ]
  },
  {
   "cell_type": "code",
   "execution_count": 9,
   "id": "857d0b76-a4c2-441c-82b5-d697189c6740",
   "metadata": {},
   "outputs": [
    {
     "data": {
      "text/plain": [
       "coursera    250\n",
       "edx         249\n",
       "Name: subreddit, dtype: int64"
      ]
     },
     "execution_count": 9,
     "metadata": {},
     "output_type": "execute_result"
    }
   ],
   "source": [
    "# Check balance y_test\n",
    "y_test.value_counts()"
   ]
  },
  {
   "cell_type": "markdown",
   "id": "ed4e453e-93ea-4404-950f-30378e072202",
   "metadata": {},
   "source": [
    "**The baseline for all our models is 50%, which is the majority class**"
   ]
  },
  {
   "cell_type": "markdown",
   "id": "17fc162e-27cd-4870-ac29-96d2dc34cb59",
   "metadata": {},
   "source": [
    "### Load Model"
   ]
  },
  {
   "cell_type": "code",
   "execution_count": 10,
   "id": "da669a14-11a6-4dfa-841d-a7373eb87f64",
   "metadata": {},
   "outputs": [],
   "source": [
    "lr_gs = joblib.load(\"../model/lr_model.pkl\")"
   ]
  },
  {
   "cell_type": "code",
   "execution_count": 11,
   "id": "17f55e16-ca87-406b-b79f-9f1211be9193",
   "metadata": {},
   "outputs": [
    {
     "data": {
      "text/plain": [
       "{'lr__C': 0.4,\n",
       " 'lr__n_jobs': -1,\n",
       " 'tf__max_df': 0.4,\n",
       " 'tf__max_features': 1000,\n",
       " 'tf__ngram_range': (1, 1)}"
      ]
     },
     "execution_count": 11,
     "metadata": {},
     "output_type": "execute_result"
    }
   ],
   "source": [
    "# check parameters\n",
    "lr_gs.best_params_"
   ]
  },
  {
   "cell_type": "markdown",
   "id": "ed1da99c-6b8b-4562-8941-451f3480cfdf",
   "metadata": {},
   "source": [
    "### Borrowing function from model comparison"
   ]
  },
  {
   "cell_type": "code",
   "execution_count": 12,
   "id": "41d9762e-6d2c-4c8e-8e5d-f5c47dc7a9ed",
   "metadata": {},
   "outputs": [],
   "source": [
    "def fit_pipe(pipe,X_train,X_test,y_train,y_test):\n",
    "    # Fit model\n",
    "    pipe.fit(X_train,y_train)\n",
    "\n",
    "    # Predict model\n",
    "    y_pred = pipe.predict(X_test)\n",
    "    \n",
    "    # Show score\n",
    "    print(f\"Train Score: {pipe.score(X_train,y_train).round(4)}\")\n",
    "    print(f\"Test Score: {pipe.score(X_test,y_test).round(4)}\")\n",
    "    \n",
    "    # Print report\n",
    "    print(\"Classification Report:\")\n",
    "    print(classification_report(y_test, y_pred))"
   ]
  },
  {
   "cell_type": "code",
   "execution_count": 13,
   "id": "bf332e64-3d7d-4730-8241-716ed4d260e5",
   "metadata": {},
   "outputs": [],
   "source": [
    "def show_cm(pipe,X_train,X_test,y_train,y_test):\n",
    "    # Fit model\n",
    "    pipe.fit(X_train,y_train)\n",
    "\n",
    "    # Predict model\n",
    "    y_pred = pipe.predict(X_test)\n",
    "    \n",
    "    # Generate confusion matrix\n",
    "    cm = confusion_matrix(y_test,y_pred)\n",
    "    \n",
    "    print(\"Confusion Matrix:\")\n",
    "    ConfusionMatrixDisplay(cm,display_labels=['Coursera','EdX']).plot()\n",
    "    plt.show();"
   ]
  },
  {
   "cell_type": "markdown",
   "id": "ae8dc40e-39d2-4d03-8de8-d2df3f7ce94e",
   "metadata": {},
   "source": [
    "### Borrowing Functions from EDA"
   ]
  },
  {
   "cell_type": "code",
   "execution_count": 14,
   "id": "b266a71a-2196-4035-ae9b-1051fb58c36f",
   "metadata": {},
   "outputs": [],
   "source": [
    "# Create a function to vectorize and return dataframe\n",
    "\n",
    "def vec_to_df(vec=CountVectorizer(),data=post_df['title']):\n",
    "    # Vectorize using own choice and return vectorized dataframe\n",
    "    \n",
    "    # fit transform title\n",
    "    d = vec.fit_transform(data)\n",
    "    \n",
    "    # Storing into a DataFrame\n",
    "    df_vec = pd.DataFrame(d.todense(),columns=vec.get_feature_names_out())\n",
    "    \n",
    "    return df_vec"
   ]
  },
  {
   "cell_type": "code",
   "execution_count": 15,
   "id": "624d7640-8c10-4963-aa94-cb82f59056aa",
   "metadata": {},
   "outputs": [],
   "source": [
    "# Create a function to plot top recurring words\n",
    "\n",
    "def plot_top_words(left_df,right_df,\n",
    "                   top_n=15,title='Top 15 Words'):\n",
    "    # Plot a comparison of top words mac vs windows\n",
    "    \n",
    "    # Generate figures\n",
    "    fig, (ax1, ax2) = plt.subplots(1,2,figsize=(12,6),sharex=True)\n",
    "    \n",
    "    # Plot for Udemy\n",
    "    left_df.sum().sort_values(ascending=False).head(top_n).\\\n",
    "    plot(kind='barh', ax=ax1, color = '#010000')\n",
    "    ax1.set_title('EdX')\n",
    "    \n",
    "    # Plot for Coursera\n",
    "    right_df.sum().sort_values(ascending=False).head(top_n).\\\n",
    "    plot(kind='barh', ax=ax2, color = '#0255d1')\n",
    "    ax2.set_title('Coursera')\n",
    "    \n",
    "    # Plot suptitle\n",
    "    plt.suptitle(title)\n",
    "    plt.tight_layout()"
   ]
  },
  {
   "cell_type": "code",
   "execution_count": 16,
   "id": "b7c6939c-24d2-47d9-b041-92b214b909ba",
   "metadata": {},
   "outputs": [],
   "source": [
    "def compare_words(left_df, right_df, vec_choice='cv', grams=(1,1), top_n=15, feature = 'title',\n",
    "                  title='Top 15 Words',):\n",
    "    \n",
    "    # Select vectorizer and combine vec_to_df and plot_top_words\n",
    "    \n",
    "    # Selecting vectorizer choice\n",
    "    if vec_choice == 'cv':\n",
    "        vec = CountVectorizer(stop_words=manual_stopwords,\n",
    "                              ngram_range=grams)\n",
    "    elif vec_choice == 'tf':\n",
    "        vec = TfidfVectorizer(stop_words=manual_stopwords,\n",
    "                              ngram_range=grams)\n",
    "            \n",
    "    # Split mac and window then vectorize   \n",
    "    edx_df  = vec_to_df(vec=vec,data=left_df[feature])\n",
    "    coursera_df  = vec_to_df(vec=vec,data=right_df[feature])\n",
    "    \n",
    "    # Plot to compare\n",
    "    plot_top_words(left_df = edx_df,\n",
    "                   right_df = coursera_df,\n",
    "                   top_n = top_n,\n",
    "                   title = title)"
   ]
  },
  {
   "cell_type": "markdown",
   "id": "200ddfb1-5454-4b9f-b138-400787b51628",
   "metadata": {},
   "source": [
    "---"
   ]
  },
  {
   "cell_type": "markdown",
   "id": "77abf770-d004-4800-8933-37fca9adbf3a",
   "metadata": {
    "tags": []
   },
   "source": [
    "## Logistic Regression"
   ]
  },
  {
   "cell_type": "markdown",
   "id": "fd4c9f5f-37da-4694-910a-3b532e3c213e",
   "metadata": {},
   "source": [
    "__*Check performance of loaded model*__"
   ]
  },
  {
   "cell_type": "code",
   "execution_count": 17,
   "id": "6f908d3a-edc1-4d9d-b37c-84805f239851",
   "metadata": {},
   "outputs": [],
   "source": [
    "# Create Pipeline with loaded GridSearchCV parameters\n",
    "lr_pipe_best = Pipeline([\n",
    "    # Step 1. Vectorizer\n",
    "    ('tf', TfidfVectorizer(max_df=lr_gs.best_params_['tf__max_df'],\n",
    "                           max_features=lr_gs.best_params_['tf__max_features'],\n",
    "                           ngram_range=lr_gs.best_params_['tf__ngram_range'],\n",
    "                           stop_words=manual_stopwords)),\n",
    "    # Step 2. Estimator\n",
    "    ('lr', LogisticRegression(C=lr_gs.best_params_['lr__C'],\n",
    "                              n_jobs=lr_gs.best_params_['lr__n_jobs'],\n",
    "                              random_state=42))\n",
    "])"
   ]
  },
  {
   "cell_type": "code",
   "execution_count": 18,
   "id": "dbc6f5e7-0c88-49b0-8e68-b55f07a33d33",
   "metadata": {},
   "outputs": [
    {
     "name": "stdout",
     "output_type": "stream",
     "text": [
      "Train Score: 0.8441\n",
      "Test Score: 0.6954\n",
      "Classification Report:\n",
      "              precision    recall  f1-score   support\n",
      "\n",
      "    coursera       0.72      0.65      0.68       250\n",
      "         edx       0.68      0.74      0.71       249\n",
      "\n",
      "    accuracy                           0.70       499\n",
      "   macro avg       0.70      0.70      0.69       499\n",
      "weighted avg       0.70      0.70      0.69       499\n",
      "\n"
     ]
    }
   ],
   "source": [
    "fit_pipe(lr_pipe_best,X_train,X_test,y_train,y_test)"
   ]
  },
  {
   "cell_type": "code",
   "execution_count": 19,
   "id": "52e47c38-fb1c-48bd-b58e-a2660104b908",
   "metadata": {},
   "outputs": [
    {
     "name": "stdout",
     "output_type": "stream",
     "text": [
      "Confusion Matrix:\n"
     ]
    },
    {
     "data": {
      "image/png": "[encoded data removed]",
      "text/plain": [
       "<Figure size 432x288 with 2 Axes>"
      ]
     },
     "metadata": {
      "needs_background": "light"
     },
     "output_type": "display_data"
    }
   ],
   "source": [
    "show_cm(lr_pipe_best,X_train,X_test,y_train,y_test)"
   ]
  },
  {
   "cell_type": "markdown",
   "id": "45a88a22-571c-4a70-9d80-40259f5edb54",
   "metadata": {},
   "source": [
    "---"
   ]
  },
  {
   "cell_type": "markdown",
   "id": "c3ce9222-8bc8-4b8f-8903-64a0b4d2b313",
   "metadata": {},
   "source": [
    "## Investigating misclassification"
   ]
  },
  {
   "cell_type": "markdown",
   "id": "b2d6c165-e43a-438a-8be6-0b199c04d582",
   "metadata": {},
   "source": [
    "Investigating misclassification will be done by generating a dataframe of wrong predictions and trained datasets. Which will then be used to evaluate where the model went wrong in those predictions. We will separate our investigation into two groups - *False Positve* and *False Negative*."
   ]
  },
  {
   "cell_type": "markdown",
   "id": "3643e77f-d37c-43b7-94e1-b5d59253d95a",
   "metadata": {},
   "source": [
    "**Note:** <br>\n",
    "- Positive = EdX\n",
    "- Negative = Coursera\n",
    "\n",
    "- False postive = predicted EdX but actually Coursera\n",
    "- False negative = predicted Coursera but actually Edx"
   ]
  },
  {
   "cell_type": "markdown",
   "id": "d9971eaf-5edc-41b6-9c20-a58df3839952",
   "metadata": {},
   "source": [
    "### Generating wrong predictions from test set"
   ]
  },
  {
   "cell_type": "code",
   "execution_count": 20,
   "id": "a706d6b8-8442-4c70-96cb-ef7a45625159",
   "metadata": {},
   "outputs": [],
   "source": [
    "# Generating wrong predictions dataframe\n",
    "\n",
    "# Generate predictions\n",
    "y_pred = lr_gs.predict(X_test)\n",
    "\n",
    "# Match with results\n",
    "results = pd.DataFrame({'X_test':X_test,'y_test':y_test,'y_pred':y_pred})\n",
    "\n",
    "# Generate predict probability\n",
    "predict_df = pd.DataFrame(lr_gs.predict_proba(X_test),\n",
    "                          columns=['Coursera','EdX'],index=results.index)\n",
    "\n",
    "# Generate prediction dataframe\n",
    "predictions = pd.concat([results,predict_df],axis=1)\n",
    "\n",
    "# Select only wrong predictions\n",
    "wrong = pd.DataFrame(predictions[predictions['y_test']!=predictions['y_pred']])"
   ]
  },
  {
   "cell_type": "markdown",
   "id": "042c69a5-4963-48a6-b29f-d01677cce866",
   "metadata": {},
   "source": [
    "Separating false positives from false negatives"
   ]
  },
  {
   "cell_type": "code",
   "execution_count": 21,
   "id": "f1068b70-92fe-4c8c-8e9d-594a5f2cb234",
   "metadata": {},
   "outputs": [],
   "source": [
    "# False positive\n",
    "false_positive = wrong[(wrong['y_test']=='coursera') & \\\n",
    "                       (wrong['y_pred']=='edx')]\n",
    "# False negative\n",
    "false_negative = wrong[(wrong['y_test']=='edx') & \\\n",
    "                       (wrong['y_pred']=='coursera')]"
   ]
  },
  {
   "cell_type": "markdown",
   "id": "e720df89-33da-4f0d-af3b-f3aa6b56ab29",
   "metadata": {},
   "source": [
    "### Generating vectorized train dataset"
   ]
  },
  {
   "cell_type": "code",
   "execution_count": 22,
   "id": "d4da0863-45f6-4eec-adb3-51899c978f7d",
   "metadata": {},
   "outputs": [],
   "source": [
    "# Borrowing function from 03_model_comparison notebook\n",
    "\n",
    "def vec_to_df(vec=CountVectorizer(),data=post_df):\n",
    "    # Vectorize using own choice and return vectorized dataframe\n",
    "    \n",
    "    # fit transform title\n",
    "    d = vec.fit_transform(data)\n",
    "    \n",
    "    # Storing into a DataFrame\n",
    "    df_vec = pd.DataFrame(d.todense(),columns=vec.get_feature_names_out())\n",
    "    \n",
    "    return df_vec"
   ]
  },
  {
   "cell_type": "code",
   "execution_count": 23,
   "id": "d5a2ce7f-4a8a-4275-8c7f-4c73d3a725c2",
   "metadata": {},
   "outputs": [],
   "source": [
    "# Store original training data into dataframe and reset index\n",
    "train = pd.DataFrame({'X_train':X_train,'y_train':y_train})\n",
    "\n",
    "# Vectorize training data\n",
    "X_vec_df = vec_to_df(vec=CountVectorizer(stop_words=manual_stopwords),\n",
    "                     data=X_train).set_index(train.index)\n",
    "\n",
    "# Concat to train_df\n",
    "train_df = pd.concat([train,X_vec_df],axis=1)"
   ]
  },
  {
   "cell_type": "markdown",
   "id": "c9a8e12a-2aa0-4d04-83db-942202e59363",
   "metadata": {
    "tags": []
   },
   "source": [
    "### Separating Mis-classification"
   ]
  },
  {
   "cell_type": "markdown",
   "id": "198e2292-1ca7-465c-a28d-7e917ea13491",
   "metadata": {},
   "source": [
    "We will create two columns to help us with evaluation. \n",
    "<br>\n",
    "1. how_likely\n",
    "    - Count how many of each word shows up in training data labeled as `edx` and `coursera`\n",
    "    - Taking showing up for `edx` labeled as positive and `coursera` as negative\n",
    "    - Sum up the differences in words showing up in training data for each label\n",
    "    - Positve means more of the words are labeled `edx`, negative means `coursera`\n",
    "    \n",
    "2. how_likely_single\n",
    "    - Same as *how_likely* but each word will be counted as +1 or -1"
   ]
  },
  {
   "cell_type": "code",
   "execution_count": 24,
   "id": "a6ddde49-8417-4898-9c95-626c7b6fe1a5",
   "metadata": {},
   "outputs": [],
   "source": [
    "def how_likely(string):\n",
    "    # Function to generate differences in word counts by total counts\n",
    "    # EdX + 1 / Coursera -1\n",
    "    diff = 0\n",
    "    for word in string.split():\n",
    "        # if words in edx diff + wordcount\n",
    "        try:\n",
    "            diff += train_df[train_df['y_train']=='edx'][word].sum()\n",
    "        except:\n",
    "            pass\n",
    "        # if words in coursera diff - wordcount\n",
    "        try:\n",
    "            diff -= train_df[train_df['y_train']=='coursera'][word].sum()\n",
    "        except:\n",
    "            pass\n",
    "        \n",
    "    return diff"
   ]
  },
  {
   "cell_type": "code",
   "execution_count": 25,
   "id": "f09ae6bc-2b5f-4b36-9eae-eccd62347479",
   "metadata": {},
   "outputs": [],
   "source": [
    "def how_likely_single(string):\n",
    "    # Function to generate differences in word counts by number of words\n",
    "\n",
    "    # EdX + 1 / Coursera -1\n",
    "    diff = 0\n",
    "    \n",
    "    for word in string.split():\n",
    "        # Count words\n",
    "        try:\n",
    "            edx_count = train_df[train_df['y_train']=='edx'][word].sum()\n",
    "        except:\n",
    "            edx_count = 0\n",
    "        try:\n",
    "            coursera_count = train_df[train_df['y_train']=='coursera']\\\n",
    "            [word].sum()\n",
    "        except:\n",
    "            coursera_count = 0\n",
    "            \n",
    "        # compare counts\n",
    "        if edx_count > coursera_count:\n",
    "            diff += 1\n",
    "        elif edx_count < coursera_count:\n",
    "            diff -= 1\n",
    "        else:\n",
    "            pass\n",
    "        \n",
    "    return diff"
   ]
  },
  {
   "cell_type": "markdown",
   "id": "70dfaf4a-44cd-482b-970b-058f01f5c2cc",
   "metadata": {
    "tags": []
   },
   "source": [
    "#### Generating `likely_total` and `likely_single` on Training Data"
   ]
  },
  {
   "cell_type": "code",
   "execution_count": 26,
   "id": "a409b954-f55c-4622-ab4e-2b609645e0de",
   "metadata": {},
   "outputs": [],
   "source": [
    "# Generate likely_total and likely_single column\n",
    "train_df['likely_total'] = train_df['X_train'].apply(how_likely)\n",
    "train_df['likely_single'] = train_df['X_train'].apply(how_likely_single)"
   ]
  },
  {
   "cell_type": "markdown",
   "id": "4e22380c-806c-4fe0-9e6f-1d94a582b405",
   "metadata": {},
   "source": [
    "#### False Positive"
   ]
  },
  {
   "cell_type": "markdown",
   "id": "332de7f4-cdfb-4929-9ddd-dde0f2d08863",
   "metadata": {},
   "source": [
    "Generate `likely_total` and `likely_single` column in the `flase_positive` DataFrame"
   ]
  },
  {
   "cell_type": "code",
   "execution_count": 27,
   "id": "494a0259-5ac5-4780-b4e6-10064e0b13d3",
   "metadata": {},
   "outputs": [],
   "source": [
    "false_positive['likely_total'] = false_positive['X_test'].apply(how_likely)"
   ]
  },
  {
   "cell_type": "code",
   "execution_count": 28,
   "id": "900837b3-e97f-46d5-85b4-a532e1abe332",
   "metadata": {},
   "outputs": [],
   "source": [
    "false_positive['likely_single'] = false_positive['X_test'].apply(how_likely_single)"
   ]
  },
  {
   "cell_type": "markdown",
   "id": "3a3e5b2a-af98-48af-b08a-baa09823c7d3",
   "metadata": {},
   "source": [
    "Investigate relationship between `likely_single` and probability of predicting `edx`"
   ]
  },
  {
   "cell_type": "code",
   "execution_count": 29,
   "id": "6c849fc8-4406-42a8-99b5-54c0912f5eed",
   "metadata": {},
   "outputs": [
    {
     "data": {
      "image/png": "[encoded data removed]",
      "text/plain": [
       "<Figure size 360x360 with 1 Axes>"
      ]
     },
     "metadata": {
      "needs_background": "light"
     },
     "output_type": "display_data"
    }
   ],
   "source": [
    "sns.lmplot(y='EdX',x='likely_single',data=false_positive,\n",
    "           x_estimator=np.mean,x_ci=False)\n",
    "\n",
    "plt.title('Probability of EdX vs Words in EdX Train')\n",
    "plt.ylabel('Probability of EdX')\n",
    "plt.xlabel('How many more words in EdX than Coursera');"
   ]
  },
  {
   "cell_type": "markdown",
   "id": "377a6d9b-50f1-4e6e-8d23-eb5f806ea12c",
   "metadata": {},
   "source": [
    "**Key Takeaway:** <br>\n",
    "- The more words that show up in training data that are labeled `edx`, the more probability the model will predict the title to be from `edx` subreddit\n",
    "- From this visualization we can breakdown the false positives to three cases:\n",
    "    1. word count = 0\n",
    "    2. word count more towards `edx`\n",
    "    3. word count more towards `coursera`"
   ]
  },
  {
   "cell_type": "markdown",
   "id": "a3489a50-f882-4723-8868-9be8cd021287",
   "metadata": {
    "tags": []
   },
   "source": [
    "#### Cause of Error 1. Word Count = 0"
   ]
  },
  {
   "cell_type": "code",
   "execution_count": 30,
   "id": "b96b9df1-470a-4f57-8661-12b02c0a8ae9",
   "metadata": {},
   "outputs": [
    {
     "data": {
      "text/html": [
       "<div>\n",
       "<style scoped>\n",
       "    .dataframe tbody tr th:only-of-type {\n",
       "        vertical-align: middle;\n",
       "    }\n",
       "\n",
       "    .dataframe tbody tr th {\n",
       "        vertical-align: top;\n",
       "    }\n",
       "\n",
       "    .dataframe thead th {\n",
       "        text-align: right;\n",
       "    }\n",
       "</style>\n",
       "<table border=\"1\" class=\"dataframe\">\n",
       "  <thead>\n",
       "    <tr style=\"text-align: right;\">\n",
       "      <th></th>\n",
       "      <th>X_test</th>\n",
       "      <th>y_test</th>\n",
       "      <th>y_pred</th>\n",
       "      <th>Coursera</th>\n",
       "      <th>EdX</th>\n",
       "      <th>likely_total</th>\n",
       "      <th>likely_single</th>\n",
       "    </tr>\n",
       "  </thead>\n",
       "  <tbody>\n",
       "    <tr>\n",
       "      <th>1808</th>\n",
       "      <td>coursera tesol certif</td>\n",
       "      <td>coursera</td>\n",
       "      <td>edx</td>\n",
       "      <td>0.472913</td>\n",
       "      <td>0.527087</td>\n",
       "      <td>0</td>\n",
       "      <td>0</td>\n",
       "    </tr>\n",
       "    <tr>\n",
       "      <th>2058</th>\n",
       "      <td>finding a course to learn about renewables</td>\n",
       "      <td>coursera</td>\n",
       "      <td>edx</td>\n",
       "      <td>0.478949</td>\n",
       "      <td>0.521051</td>\n",
       "      <td>0</td>\n",
       "      <td>0</td>\n",
       "    </tr>\n",
       "    <tr>\n",
       "      <th>1749</th>\n",
       "      <td>freelance career for socially anxious people</td>\n",
       "      <td>coursera</td>\n",
       "      <td>edx</td>\n",
       "      <td>0.490198</td>\n",
       "      <td>0.509802</td>\n",
       "      <td>0</td>\n",
       "      <td>0</td>\n",
       "    </tr>\n",
       "    <tr>\n",
       "      <th>1845</th>\n",
       "      <td>paid course at coursera</td>\n",
       "      <td>coursera</td>\n",
       "      <td>edx</td>\n",
       "      <td>0.484158</td>\n",
       "      <td>0.515842</td>\n",
       "      <td>0</td>\n",
       "      <td>0</td>\n",
       "    </tr>\n",
       "    <tr>\n",
       "      <th>1700</th>\n",
       "      <td>is there a slack workspace for coursera course</td>\n",
       "      <td>coursera</td>\n",
       "      <td>edx</td>\n",
       "      <td>0.438725</td>\n",
       "      <td>0.561275</td>\n",
       "      <td>0</td>\n",
       "      <td>0</td>\n",
       "    </tr>\n",
       "    <tr>\n",
       "      <th>1332</th>\n",
       "      <td>is this transferable</td>\n",
       "      <td>coursera</td>\n",
       "      <td>edx</td>\n",
       "      <td>0.472913</td>\n",
       "      <td>0.527087</td>\n",
       "      <td>0</td>\n",
       "      <td>0</td>\n",
       "    </tr>\n",
       "    <tr>\n",
       "      <th>1366</th>\n",
       "      <td>nan</td>\n",
       "      <td>coursera</td>\n",
       "      <td>edx</td>\n",
       "      <td>0.472913</td>\n",
       "      <td>0.527087</td>\n",
       "      <td>0</td>\n",
       "      <td>0</td>\n",
       "    </tr>\n",
       "  </tbody>\n",
       "</table>\n",
       "</div>"
      ],
      "text/plain": [
       "                                              X_test    y_test y_pred  \\\n",
       "1808                           coursera tesol certif  coursera    edx   \n",
       "2058      finding a course to learn about renewables  coursera    edx   \n",
       "1749    freelance career for socially anxious people  coursera    edx   \n",
       "1845                         paid course at coursera  coursera    edx   \n",
       "1700  is there a slack workspace for coursera course  coursera    edx   \n",
       "1332                            is this transferable  coursera    edx   \n",
       "1366                                             nan  coursera    edx   \n",
       "\n",
       "      Coursera       EdX  likely_total  likely_single  \n",
       "1808  0.472913  0.527087             0              0  \n",
       "2058  0.478949  0.521051             0              0  \n",
       "1749  0.490198  0.509802             0              0  \n",
       "1845  0.484158  0.515842             0              0  \n",
       "1700  0.438725  0.561275             0              0  \n",
       "1332  0.472913  0.527087             0              0  \n",
       "1366  0.472913  0.527087             0              0  "
      ]
     },
     "execution_count": 30,
     "metadata": {},
     "output_type": "execute_result"
    }
   ],
   "source": [
    "# False positive where both likely and likely_1 is more than 0\n",
    "false_positive[(false_positive['likely_single']==0) & \\\n",
    "               (false_positive['likely_total']==0)]"
   ]
  },
  {
   "cell_type": "markdown",
   "id": "65b363c7-6b40-4f75-af48-51b421435630",
   "metadata": {},
   "source": [
    "#### Case 1. Words didn't show up in training labeled `edx` and `coursera` - due to short title"
   ]
  },
  {
   "cell_type": "code",
   "execution_count": 31,
   "id": "73de3a10-4a43-48d5-9788-d7af45a54712",
   "metadata": {},
   "outputs": [
    {
     "data": {
      "text/plain": [
       "edx         15\n",
       "coursera    12\n",
       "Name: y_train, dtype: int64"
      ]
     },
     "execution_count": 31,
     "metadata": {},
     "output_type": "execute_result"
    }
   ],
   "source": [
    "# filtering both equal 0 \n",
    "train_df[(train_df['likely_total']==0)&(train_df['likely_single']==0)]\\\n",
    "['y_train'].value_counts()"
   ]
  },
  {
   "cell_type": "markdown",
   "id": "03d38899-dd59-47a4-91a3-147eb9cf2f94",
   "metadata": {},
   "source": [
    "**Key Takeaway:** <br>\n",
    "- For titles with words that show up equally for `edx` and `coursera` on the training dataset\n",
    "- This happens more often for those that are labeled `edx`\n",
    "- Meaning for this case, the model will automatically select `edx` as prediction"
   ]
  },
  {
   "cell_type": "markdown",
   "id": "d75a1ee3-2e28-49ca-aca0-5a593908bb61",
   "metadata": {},
   "source": [
    "#### Case 2. Words show up equally in training labeled `edx` and `coursera`"
   ]
  },
  {
   "cell_type": "code",
   "execution_count": 32,
   "id": "7cefdea7-c57b-4776-9ac5-91687eb1e6fe",
   "metadata": {},
   "outputs": [
    {
     "data": {
      "text/plain": [
       "edx         5\n",
       "coursera    2\n",
       "Name: y_train, dtype: int64"
      ]
     },
     "execution_count": 32,
     "metadata": {},
     "output_type": "execute_result"
    }
   ],
   "source": [
    "train_df[train_df['test']>0]['y_train'].value_counts()"
   ]
  },
  {
   "cell_type": "code",
   "execution_count": 33,
   "id": "f14010ff-9ae2-44b5-86ba-9c5bce9947d3",
   "metadata": {},
   "outputs": [
    {
     "data": {
      "text/plain": [
       "coursera    3\n",
       "edx         1\n",
       "Name: y_train, dtype: int64"
      ]
     },
     "execution_count": 33,
     "metadata": {},
     "output_type": "execute_result"
    }
   ],
   "source": [
    "train_df[train_df['retake']>0]['y_train'].value_counts()"
   ]
  },
  {
   "cell_type": "markdown",
   "id": "5fc20092-1550-4abc-8dc5-540ccc30014b",
   "metadata": {
    "tags": []
   },
   "source": [
    "#### Cause of Error 2. Word Count > 0 - topics discussed more in `coursera` subreddit"
   ]
  },
  {
   "cell_type": "code",
   "execution_count": 34,
   "id": "d4c42773-ee9e-46bd-b12e-4b4820fce7f2",
   "metadata": {},
   "outputs": [
    {
     "data": {
      "text/html": [
       "<div>\n",
       "<style scoped>\n",
       "    .dataframe tbody tr th:only-of-type {\n",
       "        vertical-align: middle;\n",
       "    }\n",
       "\n",
       "    .dataframe tbody tr th {\n",
       "        vertical-align: top;\n",
       "    }\n",
       "\n",
       "    .dataframe thead th {\n",
       "        text-align: right;\n",
       "    }\n",
       "</style>\n",
       "<table border=\"1\" class=\"dataframe\">\n",
       "  <thead>\n",
       "    <tr style=\"text-align: right;\">\n",
       "      <th></th>\n",
       "      <th>X_test</th>\n",
       "      <th>y_test</th>\n",
       "      <th>y_pred</th>\n",
       "      <th>Coursera</th>\n",
       "      <th>EdX</th>\n",
       "      <th>likely_total</th>\n",
       "      <th>likely_single</th>\n",
       "    </tr>\n",
       "  </thead>\n",
       "  <tbody>\n",
       "    <tr>\n",
       "      <th>1729</th>\n",
       "      <td>full stack web development course what to do with node_modules folder when syncing file to a web hosting provider</td>\n",
       "      <td>coursera</td>\n",
       "      <td>edx</td>\n",
       "      <td>0.424151</td>\n",
       "      <td>0.575849</td>\n",
       "      <td>13</td>\n",
       "      <td>1</td>\n",
       "    </tr>\n",
       "    <tr>\n",
       "      <th>1818</th>\n",
       "      <td>using keyboard shortcut to play pause coursera video in the fullscreen mode</td>\n",
       "      <td>coursera</td>\n",
       "      <td>edx</td>\n",
       "      <td>0.420931</td>\n",
       "      <td>0.579069</td>\n",
       "      <td>17</td>\n",
       "      <td>2</td>\n",
       "    </tr>\n",
       "    <tr>\n",
       "      <th>1340</th>\n",
       "      <td>what course do you recommend taking</td>\n",
       "      <td>coursera</td>\n",
       "      <td>edx</td>\n",
       "      <td>0.400460</td>\n",
       "      <td>0.599540</td>\n",
       "      <td>7</td>\n",
       "      <td>1</td>\n",
       "    </tr>\n",
       "    <tr>\n",
       "      <th>1819</th>\n",
       "      <td>when i scroll down in a course video page the video is getting bigger</td>\n",
       "      <td>coursera</td>\n",
       "      <td>edx</td>\n",
       "      <td>0.441260</td>\n",
       "      <td>0.558740</td>\n",
       "      <td>14</td>\n",
       "      <td>1</td>\n",
       "    </tr>\n",
       "    <tr>\n",
       "      <th>1884</th>\n",
       "      <td>delay in subtitle on the app</td>\n",
       "      <td>coursera</td>\n",
       "      <td>edx</td>\n",
       "      <td>0.389300</td>\n",
       "      <td>0.610700</td>\n",
       "      <td>8</td>\n",
       "      <td>3</td>\n",
       "    </tr>\n",
       "    <tr>\n",
       "      <th>2083</th>\n",
       "      <td>self paced learning what doe this mean</td>\n",
       "      <td>coursera</td>\n",
       "      <td>edx</td>\n",
       "      <td>0.372389</td>\n",
       "      <td>0.627611</td>\n",
       "      <td>8</td>\n",
       "      <td>3</td>\n",
       "    </tr>\n",
       "    <tr>\n",
       "      <th>1636</th>\n",
       "      <td>stumped on a star search question</td>\n",
       "      <td>coursera</td>\n",
       "      <td>edx</td>\n",
       "      <td>0.379431</td>\n",
       "      <td>0.620569</td>\n",
       "      <td>18</td>\n",
       "      <td>2</td>\n",
       "    </tr>\n",
       "    <tr>\n",
       "      <th>2060</th>\n",
       "      <td>question</td>\n",
       "      <td>coursera</td>\n",
       "      <td>edx</td>\n",
       "      <td>0.345048</td>\n",
       "      <td>0.654952</td>\n",
       "      <td>16</td>\n",
       "      <td>1</td>\n",
       "    </tr>\n",
       "    <tr>\n",
       "      <th>2224</th>\n",
       "      <td>doe coursera have a course similar to security</td>\n",
       "      <td>coursera</td>\n",
       "      <td>edx</td>\n",
       "      <td>0.462807</td>\n",
       "      <td>0.537193</td>\n",
       "      <td>6</td>\n",
       "      <td>1</td>\n",
       "    </tr>\n",
       "    <tr>\n",
       "      <th>1811</th>\n",
       "      <td>what happened to introduction to astronomy</td>\n",
       "      <td>coursera</td>\n",
       "      <td>edx</td>\n",
       "      <td>0.343815</td>\n",
       "      <td>0.656185</td>\n",
       "      <td>23</td>\n",
       "      <td>2</td>\n",
       "    </tr>\n",
       "  </tbody>\n",
       "</table>\n",
       "</div>"
      ],
      "text/plain": [
       "                                                                                                                 X_test  \\\n",
       "1729  full stack web development course what to do with node_modules folder when syncing file to a web hosting provider   \n",
       "1818                                        using keyboard shortcut to play pause coursera video in the fullscreen mode   \n",
       "1340                                                                                what course do you recommend taking   \n",
       "1819                                              when i scroll down in a course video page the video is getting bigger   \n",
       "1884                                                                                       delay in subtitle on the app   \n",
       "2083                                                                             self paced learning what doe this mean   \n",
       "1636                                                                                  stumped on a star search question   \n",
       "2060                                                                                                           question   \n",
       "2224                                                                     doe coursera have a course similar to security   \n",
       "1811                                                                         what happened to introduction to astronomy   \n",
       "\n",
       "        y_test y_pred  Coursera       EdX  likely_total  likely_single  \n",
       "1729  coursera    edx  0.424151  0.575849            13              1  \n",
       "1818  coursera    edx  0.420931  0.579069            17              2  \n",
       "1340  coursera    edx  0.400460  0.599540             7              1  \n",
       "1819  coursera    edx  0.441260  0.558740            14              1  \n",
       "1884  coursera    edx  0.389300  0.610700             8              3  \n",
       "2083  coursera    edx  0.372389  0.627611             8              3  \n",
       "1636  coursera    edx  0.379431  0.620569            18              2  \n",
       "2060  coursera    edx  0.345048  0.654952            16              1  \n",
       "2224  coursera    edx  0.462807  0.537193             6              1  \n",
       "1811  coursera    edx  0.343815  0.656185            23              2  "
      ]
     },
     "execution_count": 34,
     "metadata": {},
     "output_type": "execute_result"
    }
   ],
   "source": [
    "# False positive where likely_total and likely_single is more than 0\n",
    "false_positive[(false_positive['likely_single']>0) & \\\n",
    "               (false_positive['likely_total']>0)][:10]"
   ]
  },
  {
   "cell_type": "markdown",
   "id": "f60cabad-266d-4a05-9a11-dcb94c1f27e1",
   "metadata": {},
   "source": [
    "#### Case 1. Titles have topics that are dominated by `edx` subreddit"
   ]
  },
  {
   "cell_type": "markdown",
   "id": "89baea2b-6de2-4c18-92ad-e947539352ed",
   "metadata": {},
   "source": [
    "e.g. hse master of finance - finance courses are more dominated by `edx` as `coursera` are mostly tech related courses, additionally `edx` is partnered with universities and masters degree has been one of the main selling point for them."
   ]
  },
  {
   "cell_type": "code",
   "execution_count": 35,
   "id": "b2dbaa9a-86fd-4974-8986-0e1e93c707a1",
   "metadata": {},
   "outputs": [
    {
     "data": {
      "text/plain": [
       "edx         6\n",
       "coursera    1\n",
       "Name: y_train, dtype: int64"
      ]
     },
     "execution_count": 35,
     "metadata": {},
     "output_type": "execute_result"
    }
   ],
   "source": [
    "train_df[train_df['finance']>0]['y_train'].value_counts()"
   ]
  },
  {
   "cell_type": "code",
   "execution_count": 36,
   "id": "dc56a644-9383-4cd1-bda2-475c25459e7a",
   "metadata": {},
   "outputs": [
    {
     "data": {
      "text/plain": [
       "edx         16\n",
       "coursera     9\n",
       "Name: y_train, dtype: int64"
      ]
     },
     "execution_count": 36,
     "metadata": {},
     "output_type": "execute_result"
    }
   ],
   "source": [
    "train_df[train_df['master']>0]['y_train'].value_counts()"
   ]
  },
  {
   "cell_type": "markdown",
   "id": "6f14335b-2c44-49e9-bf42-7d5707eaac9b",
   "metadata": {},
   "source": [
    "#### Case 2. Generic words that unformationately show up more in the `edx` subreddit"
   ]
  },
  {
   "cell_type": "markdown",
   "id": "bc98cce7-89e6-4e7f-927a-a77a9d2b6279",
   "metadata": {},
   "source": [
    "e.g. where to access live chat"
   ]
  },
  {
   "cell_type": "code",
   "execution_count": 37,
   "id": "b232b9f3-df58-48b8-96b8-5e8555279350",
   "metadata": {},
   "outputs": [
    {
     "data": {
      "text/plain": [
       "edx         23\n",
       "coursera    17\n",
       "Name: y_train, dtype: int64"
      ]
     },
     "execution_count": 37,
     "metadata": {},
     "output_type": "execute_result"
    }
   ],
   "source": [
    "train_df[train_df['access']>0]['y_train'].value_counts()"
   ]
  },
  {
   "cell_type": "code",
   "execution_count": 38,
   "id": "4055a11f-2f9d-4cfc-9c65-fb027da3e421",
   "metadata": {},
   "outputs": [
    {
     "data": {
      "text/plain": [
       "edx         4\n",
       "coursera    4\n",
       "Name: y_train, dtype: int64"
      ]
     },
     "execution_count": 38,
     "metadata": {},
     "output_type": "execute_result"
    }
   ],
   "source": [
    "train_df[train_df['live']>0]['y_train'].value_counts()"
   ]
  },
  {
   "cell_type": "markdown",
   "id": "ee23806c-ddd7-4b3a-8bc5-0955eb1722c6",
   "metadata": {
    "tags": []
   },
   "source": [
    "#### Cause of Error 3. Word Count < 0 - topics discussed more in `coursera` in terms of number of words not necessarily word frequency"
   ]
  },
  {
   "cell_type": "code",
   "execution_count": 39,
   "id": "79a40bc9-105b-420e-8318-30f34e2a30ab",
   "metadata": {},
   "outputs": [
    {
     "data": {
      "text/html": [
       "<div>\n",
       "<style scoped>\n",
       "    .dataframe tbody tr th:only-of-type {\n",
       "        vertical-align: middle;\n",
       "    }\n",
       "\n",
       "    .dataframe tbody tr th {\n",
       "        vertical-align: top;\n",
       "    }\n",
       "\n",
       "    .dataframe thead th {\n",
       "        text-align: right;\n",
       "    }\n",
       "</style>\n",
       "<table border=\"1\" class=\"dataframe\">\n",
       "  <thead>\n",
       "    <tr style=\"text-align: right;\">\n",
       "      <th></th>\n",
       "      <th>X_test</th>\n",
       "      <th>y_test</th>\n",
       "      <th>y_pred</th>\n",
       "      <th>Coursera</th>\n",
       "      <th>EdX</th>\n",
       "      <th>likely_total</th>\n",
       "      <th>likely_single</th>\n",
       "    </tr>\n",
       "  </thead>\n",
       "  <tbody>\n",
       "    <tr>\n",
       "      <th>2024</th>\n",
       "      <td>looking for course to get with programming</td>\n",
       "      <td>coursera</td>\n",
       "      <td>edx</td>\n",
       "      <td>0.476431</td>\n",
       "      <td>0.523569</td>\n",
       "      <td>-3</td>\n",
       "      <td>-2</td>\n",
       "    </tr>\n",
       "    <tr>\n",
       "      <th>2172</th>\n",
       "      <td>help how do i create a community page on coursera</td>\n",
       "      <td>coursera</td>\n",
       "      <td>edx</td>\n",
       "      <td>0.493373</td>\n",
       "      <td>0.506627</td>\n",
       "      <td>-6</td>\n",
       "      <td>-2</td>\n",
       "    </tr>\n",
       "    <tr>\n",
       "      <th>1343</th>\n",
       "      <td>down for maintenance</td>\n",
       "      <td>coursera</td>\n",
       "      <td>edx</td>\n",
       "      <td>0.472913</td>\n",
       "      <td>0.527087</td>\n",
       "      <td>-1</td>\n",
       "      <td>-1</td>\n",
       "    </tr>\n",
       "    <tr>\n",
       "      <th>1785</th>\n",
       "      <td>best coursera tech course master track certificate</td>\n",
       "      <td>coursera</td>\n",
       "      <td>edx</td>\n",
       "      <td>0.478915</td>\n",
       "      <td>0.521085</td>\n",
       "      <td>-19</td>\n",
       "      <td>-1</td>\n",
       "    </tr>\n",
       "    <tr>\n",
       "      <th>1705</th>\n",
       "      <td>doubt on coursera fee</td>\n",
       "      <td>coursera</td>\n",
       "      <td>edx</td>\n",
       "      <td>0.495316</td>\n",
       "      <td>0.504684</td>\n",
       "      <td>-3</td>\n",
       "      <td>-2</td>\n",
       "    </tr>\n",
       "    <tr>\n",
       "      <th>2120</th>\n",
       "      <td>50 off from select course until june 3</td>\n",
       "      <td>coursera</td>\n",
       "      <td>edx</td>\n",
       "      <td>0.454756</td>\n",
       "      <td>0.545244</td>\n",
       "      <td>-1</td>\n",
       "      <td>-1</td>\n",
       "    </tr>\n",
       "    <tr>\n",
       "      <th>2119</th>\n",
       "      <td>sharing a pdf certificate on your profile</td>\n",
       "      <td>coursera</td>\n",
       "      <td>edx</td>\n",
       "      <td>0.498566</td>\n",
       "      <td>0.501434</td>\n",
       "      <td>-25</td>\n",
       "      <td>-1</td>\n",
       "    </tr>\n",
       "    <tr>\n",
       "      <th>2188</th>\n",
       "      <td>cleaning up r coursera</td>\n",
       "      <td>coursera</td>\n",
       "      <td>edx</td>\n",
       "      <td>0.472913</td>\n",
       "      <td>0.527087</td>\n",
       "      <td>-1</td>\n",
       "      <td>-1</td>\n",
       "    </tr>\n",
       "    <tr>\n",
       "      <th>1926</th>\n",
       "      <td>coursera s gtc</td>\n",
       "      <td>coursera</td>\n",
       "      <td>edx</td>\n",
       "      <td>0.472913</td>\n",
       "      <td>0.527087</td>\n",
       "      <td>-1</td>\n",
       "      <td>-1</td>\n",
       "    </tr>\n",
       "    <tr>\n",
       "      <th>1518</th>\n",
       "      <td>is this legit</td>\n",
       "      <td>coursera</td>\n",
       "      <td>edx</td>\n",
       "      <td>0.472913</td>\n",
       "      <td>0.527087</td>\n",
       "      <td>-1</td>\n",
       "      <td>-1</td>\n",
       "    </tr>\n",
       "  </tbody>\n",
       "</table>\n",
       "</div>"
      ],
      "text/plain": [
       "                                                  X_test    y_test y_pred  \\\n",
       "2024          looking for course to get with programming  coursera    edx   \n",
       "2172   help how do i create a community page on coursera  coursera    edx   \n",
       "1343                                down for maintenance  coursera    edx   \n",
       "1785  best coursera tech course master track certificate  coursera    edx   \n",
       "1705                               doubt on coursera fee  coursera    edx   \n",
       "2120              50 off from select course until june 3  coursera    edx   \n",
       "2119           sharing a pdf certificate on your profile  coursera    edx   \n",
       "2188                              cleaning up r coursera  coursera    edx   \n",
       "1926                                      coursera s gtc  coursera    edx   \n",
       "1518                                       is this legit  coursera    edx   \n",
       "\n",
       "      Coursera       EdX  likely_total  likely_single  \n",
       "2024  0.476431  0.523569            -3             -2  \n",
       "2172  0.493373  0.506627            -6             -2  \n",
       "1343  0.472913  0.527087            -1             -1  \n",
       "1785  0.478915  0.521085           -19             -1  \n",
       "1705  0.495316  0.504684            -3             -2  \n",
       "2120  0.454756  0.545244            -1             -1  \n",
       "2119  0.498566  0.501434           -25             -1  \n",
       "2188  0.472913  0.527087            -1             -1  \n",
       "1926  0.472913  0.527087            -1             -1  \n",
       "1518  0.472913  0.527087            -1             -1  "
      ]
     },
     "execution_count": 39,
     "metadata": {},
     "output_type": "execute_result"
    }
   ],
   "source": [
    "# False positive where likely_total and likely_single is more than 0\n",
    "false_positive[(false_positive['likely_single']<0) & \\\n",
    "               (false_positive['likely_total']<0)][:10]"
   ]
  },
  {
   "cell_type": "markdown",
   "id": "f65db54b-6acf-4663-b09d-730b704d4cd9",
   "metadata": {},
   "source": [
    "#### Case 1. Title have words that show up in `Coursera` subreddit but outweight by default prediction of `edx`"
   ]
  },
  {
   "cell_type": "markdown",
   "id": "6ddc2ab7-2d7b-4630-b32b-5203da605dd2",
   "metadata": {},
   "source": [
    "e.g. cleaning up r coursera"
   ]
  },
  {
   "cell_type": "code",
   "execution_count": 40,
   "id": "a17d11f7-ec47-468f-af89-48deedc7e4ed",
   "metadata": {},
   "outputs": [
    {
     "data": {
      "text/plain": [
       "coursera    1\n",
       "Name: y_train, dtype: int64"
      ]
     },
     "execution_count": 40,
     "metadata": {},
     "output_type": "execute_result"
    }
   ],
   "source": [
    "train_df[train_df['cleaning']>0]['y_train'].value_counts()"
   ]
  },
  {
   "cell_type": "markdown",
   "id": "1f4143a1-fc4c-49dd-be56-fb68f9fb36e0",
   "metadata": {},
   "source": [
    "e.g. public health on cousera"
   ]
  },
  {
   "cell_type": "code",
   "execution_count": 41,
   "id": "5d722ee0-bc17-4931-9e31-b39d8ca31ee3",
   "metadata": {},
   "outputs": [
    {
     "data": {
      "text/plain": [
       "coursera    3\n",
       "edx         1\n",
       "Name: y_train, dtype: int64"
      ]
     },
     "execution_count": 41,
     "metadata": {},
     "output_type": "execute_result"
    }
   ],
   "source": [
    "train_df[train_df['public']>0]['y_train'].value_counts()"
   ]
  },
  {
   "cell_type": "code",
   "execution_count": 42,
   "id": "9d191ef4-deb8-453f-a850-a915dd849dd3",
   "metadata": {},
   "outputs": [
    {
     "data": {
      "text/plain": [
       "coursera    1\n",
       "Name: y_train, dtype: int64"
      ]
     },
     "execution_count": 42,
     "metadata": {},
     "output_type": "execute_result"
    }
   ],
   "source": [
    "train_df[train_df['health']>0]['y_train'].value_counts()"
   ]
  },
  {
   "cell_type": "markdown",
   "id": "8b97e36f-cb77-44bd-b273-d13dd7aba82e",
   "metadata": {},
   "source": [
    "#### False Negative"
   ]
  },
  {
   "cell_type": "markdown",
   "id": "f1affda5-1a02-4f6c-a071-9852bac883f0",
   "metadata": {},
   "source": [
    "Generate `likely_total` and `likely_single` column in the `flase_positive` DataFrame"
   ]
  },
  {
   "cell_type": "code",
   "execution_count": 43,
   "id": "2b7a6bb3-2e07-4d16-b745-120abe3271f2",
   "metadata": {},
   "outputs": [],
   "source": [
    "false_negative['likely_total'] = false_negative['X_test'].apply(how_likely)"
   ]
  },
  {
   "cell_type": "code",
   "execution_count": 44,
   "id": "5f1f5a6c-f8d1-403e-94a7-89e45ec14825",
   "metadata": {},
   "outputs": [],
   "source": [
    "false_negative['likely_single'] = false_negative['X_test']\\\n",
    ".apply(how_likely_single)"
   ]
  },
  {
   "cell_type": "code",
   "execution_count": 45,
   "id": "68cff283-2210-4427-b05e-47f7f3206ac8",
   "metadata": {},
   "outputs": [
    {
     "data": {
      "image/png": "[encoded data removed]",
      "text/plain": [
       "<Figure size 360x360 with 1 Axes>"
      ]
     },
     "metadata": {
      "needs_background": "light"
     },
     "output_type": "display_data"
    }
   ],
   "source": [
    "sns.lmplot(y='Coursera',x='likely_single',data=false_negative,\n",
    "           x_estimator=np.mean,x_ci=False)\n",
    "\n",
    "plt.title('Probability of Coursera vs Words in EdX Train')\n",
    "plt.ylabel('Probability of Coursera')\n",
    "plt.xlabel('How many more words in EdX than Coursera');"
   ]
  },
  {
   "cell_type": "markdown",
   "id": "51bf8227-58d6-46cb-9237-a40a1d0a7198",
   "metadata": {},
   "source": [
    "**Key Takeaway:** <br>\n",
    "- The more words that show up in training data that are labeled `edx`, the less probability the model will predict the title to be from `coursera` subreddit\n",
    "- From this visualization we can breakdown the false positives to three cases:\n",
    "    1. word count = 0\n",
    "    2. word count more towards `edx`\n",
    "    3. word count more towards `coursera`"
   ]
  },
  {
   "cell_type": "markdown",
   "id": "7c19bddb-6123-43b4-a1e6-4d80dedd2f4d",
   "metadata": {},
   "source": [
    "### Cause of Error 1. Word Count = 0 for `likely_single`"
   ]
  },
  {
   "cell_type": "code",
   "execution_count": 46,
   "id": "0c8eef71-f43a-4b9a-9f91-93c8db4f7648",
   "metadata": {},
   "outputs": [
    {
     "data": {
      "text/html": [
       "<div>\n",
       "<style scoped>\n",
       "    .dataframe tbody tr th:only-of-type {\n",
       "        vertical-align: middle;\n",
       "    }\n",
       "\n",
       "    .dataframe tbody tr th {\n",
       "        vertical-align: top;\n",
       "    }\n",
       "\n",
       "    .dataframe thead th {\n",
       "        text-align: right;\n",
       "    }\n",
       "</style>\n",
       "<table border=\"1\" class=\"dataframe\">\n",
       "  <thead>\n",
       "    <tr style=\"text-align: right;\">\n",
       "      <th></th>\n",
       "      <th>X_test</th>\n",
       "      <th>y_test</th>\n",
       "      <th>y_pred</th>\n",
       "      <th>Coursera</th>\n",
       "      <th>EdX</th>\n",
       "      <th>likely_total</th>\n",
       "      <th>likely_single</th>\n",
       "    </tr>\n",
       "  </thead>\n",
       "  <tbody>\n",
       "    <tr>\n",
       "      <th>949</th>\n",
       "      <td>can t find any course about computer networking on edx</td>\n",
       "      <td>edx</td>\n",
       "      <td>coursera</td>\n",
       "      <td>0.533987</td>\n",
       "      <td>0.466013</td>\n",
       "      <td>2</td>\n",
       "      <td>0</td>\n",
       "    </tr>\n",
       "    <tr>\n",
       "      <th>553</th>\n",
       "      <td>shitty mooc platform</td>\n",
       "      <td>edx</td>\n",
       "      <td>coursera</td>\n",
       "      <td>0.515664</td>\n",
       "      <td>0.484336</td>\n",
       "      <td>0</td>\n",
       "      <td>0</td>\n",
       "    </tr>\n",
       "    <tr>\n",
       "      <th>566</th>\n",
       "      <td>is it worth it in my situation</td>\n",
       "      <td>edx</td>\n",
       "      <td>coursera</td>\n",
       "      <td>0.512905</td>\n",
       "      <td>0.487095</td>\n",
       "      <td>0</td>\n",
       "      <td>0</td>\n",
       "    </tr>\n",
       "    <tr>\n",
       "      <th>546</th>\n",
       "      <td>financial assistance result</td>\n",
       "      <td>edx</td>\n",
       "      <td>coursera</td>\n",
       "      <td>0.503457</td>\n",
       "      <td>0.496543</td>\n",
       "      <td>-41</td>\n",
       "      <td>0</td>\n",
       "    </tr>\n",
       "    <tr>\n",
       "      <th>762</th>\n",
       "      <td>getting a certificate for a program is it worth it how</td>\n",
       "      <td>edx</td>\n",
       "      <td>coursera</td>\n",
       "      <td>0.500648</td>\n",
       "      <td>0.499352</td>\n",
       "      <td>-23</td>\n",
       "      <td>0</td>\n",
       "    </tr>\n",
       "    <tr>\n",
       "      <th>669</th>\n",
       "      <td>account setting update issue edit disabled verification denied</td>\n",
       "      <td>edx</td>\n",
       "      <td>coursera</td>\n",
       "      <td>0.527714</td>\n",
       "      <td>0.472286</td>\n",
       "      <td>-13</td>\n",
       "      <td>0</td>\n",
       "    </tr>\n",
       "    <tr>\n",
       "      <th>103</th>\n",
       "      <td>new course</td>\n",
       "      <td>edx</td>\n",
       "      <td>coursera</td>\n",
       "      <td>0.514870</td>\n",
       "      <td>0.485130</td>\n",
       "      <td>-1</td>\n",
       "      <td>0</td>\n",
       "    </tr>\n",
       "    <tr>\n",
       "      <th>38</th>\n",
       "      <td>is paying for the certificate worth it</td>\n",
       "      <td>edx</td>\n",
       "      <td>coursera</td>\n",
       "      <td>0.501534</td>\n",
       "      <td>0.498466</td>\n",
       "      <td>-24</td>\n",
       "      <td>0</td>\n",
       "    </tr>\n",
       "    <tr>\n",
       "      <th>22</th>\n",
       "      <td>edx certificate worth</td>\n",
       "      <td>edx</td>\n",
       "      <td>coursera</td>\n",
       "      <td>0.540049</td>\n",
       "      <td>0.459951</td>\n",
       "      <td>-24</td>\n",
       "      <td>0</td>\n",
       "    </tr>\n",
       "    <tr>\n",
       "      <th>88</th>\n",
       "      <td>what are the best edx course for beginner in economics</td>\n",
       "      <td>edx</td>\n",
       "      <td>coursera</td>\n",
       "      <td>0.516879</td>\n",
       "      <td>0.483121</td>\n",
       "      <td>-2</td>\n",
       "      <td>0</td>\n",
       "    </tr>\n",
       "    <tr>\n",
       "      <th>301</th>\n",
       "      <td>aleks issue</td>\n",
       "      <td>edx</td>\n",
       "      <td>coursera</td>\n",
       "      <td>0.519368</td>\n",
       "      <td>0.480632</td>\n",
       "      <td>-8</td>\n",
       "      <td>0</td>\n",
       "    </tr>\n",
       "  </tbody>\n",
       "</table>\n",
       "</div>"
      ],
      "text/plain": [
       "                                                             X_test y_test  \\\n",
       "949          can t find any course about computer networking on edx    edx   \n",
       "553                                            shitty mooc platform    edx   \n",
       "566                                  is it worth it in my situation    edx   \n",
       "546                                     financial assistance result    edx   \n",
       "762          getting a certificate for a program is it worth it how    edx   \n",
       "669  account setting update issue edit disabled verification denied    edx   \n",
       "103                                                      new course    edx   \n",
       "38                           is paying for the certificate worth it    edx   \n",
       "22                                            edx certificate worth    edx   \n",
       "88           what are the best edx course for beginner in economics    edx   \n",
       "301                                                     aleks issue    edx   \n",
       "\n",
       "       y_pred  Coursera       EdX  likely_total  likely_single  \n",
       "949  coursera  0.533987  0.466013             2              0  \n",
       "553  coursera  0.515664  0.484336             0              0  \n",
       "566  coursera  0.512905  0.487095             0              0  \n",
       "546  coursera  0.503457  0.496543           -41              0  \n",
       "762  coursera  0.500648  0.499352           -23              0  \n",
       "669  coursera  0.527714  0.472286           -13              0  \n",
       "103  coursera  0.514870  0.485130            -1              0  \n",
       "38   coursera  0.501534  0.498466           -24              0  \n",
       "22   coursera  0.540049  0.459951           -24              0  \n",
       "88   coursera  0.516879  0.483121            -2              0  \n",
       "301  coursera  0.519368  0.480632            -8              0  "
      ]
     },
     "execution_count": 46,
     "metadata": {},
     "output_type": "execute_result"
    }
   ],
   "source": [
    "false_negative[(false_negative['likely_single']==0)]"
   ]
  },
  {
   "cell_type": "markdown",
   "id": "80818a5c-6089-438e-84ff-eef5440f1eee",
   "metadata": {},
   "source": [
    "#### Case 1. Title have same amount of words showing up in `edx` and `coursera` labeled training data, but the frequencies are different"
   ]
  },
  {
   "cell_type": "markdown",
   "id": "7f583790-9279-4bef-937b-2ec9853b1bc2",
   "metadata": {},
   "source": [
    "e.g. how to finish a course"
   ]
  },
  {
   "cell_type": "code",
   "execution_count": 47,
   "id": "dbcda2b4-e990-4631-a89b-01669ce1391d",
   "metadata": {},
   "outputs": [
    {
     "data": {
      "text/plain": [
       "edx         6\n",
       "coursera    5\n",
       "Name: y_train, dtype: int64"
      ]
     },
     "execution_count": 47,
     "metadata": {},
     "output_type": "execute_result"
    }
   ],
   "source": [
    "train_df[train_df['finish']>0]['y_train'].value_counts()"
   ]
  },
  {
   "cell_type": "code",
   "execution_count": 48,
   "id": "2dea9758-2b8e-4327-bd0f-e5a86a681b5d",
   "metadata": {},
   "outputs": [
    {
     "data": {
      "text/plain": [
       "coursera    248\n",
       "edx         240\n",
       "Name: y_train, dtype: int64"
      ]
     },
     "execution_count": 48,
     "metadata": {},
     "output_type": "execute_result"
    }
   ],
   "source": [
    "train_df[train_df['course']>0]['y_train'].value_counts()"
   ]
  },
  {
   "cell_type": "markdown",
   "id": "faf539cb-5ab2-484b-90e3-825efc1302c4",
   "metadata": {},
   "source": [
    "### Cause of Error 2. Tite have more words showing up in `coursera subreddit`"
   ]
  },
  {
   "cell_type": "code",
   "execution_count": 49,
   "id": "4dc02bb9-439a-45f1-8223-94b6ff02be1f",
   "metadata": {},
   "outputs": [
    {
     "data": {
      "text/html": [
       "<div>\n",
       "<style scoped>\n",
       "    .dataframe tbody tr th:only-of-type {\n",
       "        vertical-align: middle;\n",
       "    }\n",
       "\n",
       "    .dataframe tbody tr th {\n",
       "        vertical-align: top;\n",
       "    }\n",
       "\n",
       "    .dataframe thead th {\n",
       "        text-align: right;\n",
       "    }\n",
       "</style>\n",
       "<table border=\"1\" class=\"dataframe\">\n",
       "  <thead>\n",
       "    <tr style=\"text-align: right;\">\n",
       "      <th></th>\n",
       "      <th>X_test</th>\n",
       "      <th>y_test</th>\n",
       "      <th>y_pred</th>\n",
       "      <th>Coursera</th>\n",
       "      <th>EdX</th>\n",
       "      <th>likely_total</th>\n",
       "      <th>likely_single</th>\n",
       "    </tr>\n",
       "  </thead>\n",
       "  <tbody>\n",
       "    <tr>\n",
       "      <th>970</th>\n",
       "      <td>need help with cs50x</td>\n",
       "      <td>edx</td>\n",
       "      <td>coursera</td>\n",
       "      <td>0.606660</td>\n",
       "      <td>0.393340</td>\n",
       "      <td>-17</td>\n",
       "      <td>-2</td>\n",
       "    </tr>\n",
       "    <tr>\n",
       "      <th>419</th>\n",
       "      <td>financial aid</td>\n",
       "      <td>edx</td>\n",
       "      <td>coursera</td>\n",
       "      <td>0.803360</td>\n",
       "      <td>0.196640</td>\n",
       "      <td>-97</td>\n",
       "      <td>-2</td>\n",
       "    </tr>\n",
       "    <tr>\n",
       "      <th>126</th>\n",
       "      <td>just a doubt</td>\n",
       "      <td>edx</td>\n",
       "      <td>coursera</td>\n",
       "      <td>0.504226</td>\n",
       "      <td>0.495774</td>\n",
       "      <td>-2</td>\n",
       "      <td>-1</td>\n",
       "    </tr>\n",
       "    <tr>\n",
       "      <th>401</th>\n",
       "      <td>i m having trouble submitting the answer to the assignment i clicked submit once and then save after each answer but it still doesn t look like my answer got submitted and that my assignment is now complete and passed please help thank you</td>\n",
       "      <td>edx</td>\n",
       "      <td>coursera</td>\n",
       "      <td>0.594463</td>\n",
       "      <td>0.405537</td>\n",
       "      <td>-41</td>\n",
       "      <td>-6</td>\n",
       "    </tr>\n",
       "    <tr>\n",
       "      <th>682</th>\n",
       "      <td>how will this course help</td>\n",
       "      <td>edx</td>\n",
       "      <td>coursera</td>\n",
       "      <td>0.525082</td>\n",
       "      <td>0.474918</td>\n",
       "      <td>-8</td>\n",
       "      <td>-2</td>\n",
       "    </tr>\n",
       "    <tr>\n",
       "      <th>77</th>\n",
       "      <td>financial aid coupon</td>\n",
       "      <td>edx</td>\n",
       "      <td>coursera</td>\n",
       "      <td>0.617444</td>\n",
       "      <td>0.382556</td>\n",
       "      <td>-92</td>\n",
       "      <td>-1</td>\n",
       "    </tr>\n",
       "    <tr>\n",
       "      <th>820</th>\n",
       "      <td>should i continue</td>\n",
       "      <td>edx</td>\n",
       "      <td>coursera</td>\n",
       "      <td>0.501369</td>\n",
       "      <td>0.498631</td>\n",
       "      <td>-1</td>\n",
       "      <td>-1</td>\n",
       "    </tr>\n",
       "    <tr>\n",
       "      <th>404</th>\n",
       "      <td>photo id edx impossible to contact</td>\n",
       "      <td>edx</td>\n",
       "      <td>coursera</td>\n",
       "      <td>0.555922</td>\n",
       "      <td>0.444078</td>\n",
       "      <td>-9</td>\n",
       "      <td>-2</td>\n",
       "    </tr>\n",
       "    <tr>\n",
       "      <th>793</th>\n",
       "      <td>edx certificate removed because of deleted grade</td>\n",
       "      <td>edx</td>\n",
       "      <td>coursera</td>\n",
       "      <td>0.514485</td>\n",
       "      <td>0.485515</td>\n",
       "      <td>-26</td>\n",
       "      <td>-2</td>\n",
       "    </tr>\n",
       "    <tr>\n",
       "      <th>14</th>\n",
       "      <td>staying on top of learning on edx</td>\n",
       "      <td>edx</td>\n",
       "      <td>coursera</td>\n",
       "      <td>0.563531</td>\n",
       "      <td>0.436469</td>\n",
       "      <td>-18</td>\n",
       "      <td>-2</td>\n",
       "    </tr>\n",
       "  </tbody>\n",
       "</table>\n",
       "</div>"
      ],
      "text/plain": [
       "                                                                                                                                                                                                                                              X_test  \\\n",
       "970                                                                                                                                                                                                                             need help with cs50x   \n",
       "419                                                                                                                                                                                                                                    financial aid   \n",
       "126                                                                                                                                                                                                                                     just a doubt   \n",
       "401  i m having trouble submitting the answer to the assignment i clicked submit once and then save after each answer but it still doesn t look like my answer got submitted and that my assignment is now complete and passed please help thank you   \n",
       "682                                                                                                                                                                                                                        how will this course help   \n",
       "77                                                                                                                                                                                                                              financial aid coupon   \n",
       "820                                                                                                                                                                                                                                should i continue   \n",
       "404                                                                                                                                                                                                               photo id edx impossible to contact   \n",
       "793                                                                                                                                                                                                 edx certificate removed because of deleted grade   \n",
       "14                                                                                                                                                                                                                 staying on top of learning on edx   \n",
       "\n",
       "    y_test    y_pred  Coursera       EdX  likely_total  likely_single  \n",
       "970    edx  coursera  0.606660  0.393340           -17             -2  \n",
       "419    edx  coursera  0.803360  0.196640           -97             -2  \n",
       "126    edx  coursera  0.504226  0.495774            -2             -1  \n",
       "401    edx  coursera  0.594463  0.405537           -41             -6  \n",
       "682    edx  coursera  0.525082  0.474918            -8             -2  \n",
       "77     edx  coursera  0.617444  0.382556           -92             -1  \n",
       "820    edx  coursera  0.501369  0.498631            -1             -1  \n",
       "404    edx  coursera  0.555922  0.444078            -9             -2  \n",
       "793    edx  coursera  0.514485  0.485515           -26             -2  \n",
       "14     edx  coursera  0.563531  0.436469           -18             -2  "
      ]
     },
     "execution_count": 49,
     "metadata": {},
     "output_type": "execute_result"
    }
   ],
   "source": [
    "false_negative[(false_negative['likely_single']<0)\n",
    "               &(false_negative['likely_single']<0)][:10]"
   ]
  },
  {
   "cell_type": "markdown",
   "id": "ae00877e-615d-4326-bf81-5d76886f0efa",
   "metadata": {},
   "source": [
    "#### Case 1. Title have words showing up more in `coursera` training set"
   ]
  },
  {
   "cell_type": "markdown",
   "id": "8313b43e-7992-46f3-b213-f3258bf2fa85",
   "metadata": {},
   "source": [
    "e.g. edx certification"
   ]
  },
  {
   "cell_type": "code",
   "execution_count": 50,
   "id": "31f3b9cb-8422-4176-b989-ee982d888327",
   "metadata": {},
   "outputs": [
    {
     "data": {
      "text/plain": [
       "coursera    21\n",
       "edx          9\n",
       "Name: y_train, dtype: int64"
      ]
     },
     "execution_count": 50,
     "metadata": {},
     "output_type": "execute_result"
    }
   ],
   "source": [
    "train_df[train_df['certification']>0]['y_train'].value_counts()"
   ]
  },
  {
   "cell_type": "markdown",
   "id": "5d13f18a-5d8b-4cbd-a81c-40d64815c51e",
   "metadata": {},
   "source": [
    "e.g. problem with cybermonday sale"
   ]
  },
  {
   "cell_type": "code",
   "execution_count": 51,
   "id": "e0f805bf-4b07-4108-8ede-854e052c9af1",
   "metadata": {},
   "outputs": [
    {
     "data": {
      "text/plain": [
       "coursera    12\n",
       "edx          8\n",
       "Name: y_train, dtype: int64"
      ]
     },
     "execution_count": 51,
     "metadata": {},
     "output_type": "execute_result"
    }
   ],
   "source": [
    "train_df[train_df['problem']>0]['y_train'].value_counts()"
   ]
  },
  {
   "cell_type": "code",
   "execution_count": 52,
   "id": "7e68d643-b126-49f2-b45f-1ba3b9aa4a16",
   "metadata": {},
   "outputs": [
    {
     "data": {
      "text/plain": [
       "edx    1\n",
       "Name: y_train, dtype: int64"
      ]
     },
     "execution_count": 52,
     "metadata": {},
     "output_type": "execute_result"
    }
   ],
   "source": [
    "train_df[train_df['cybermonday']>0]['y_train'].value_counts()"
   ]
  },
  {
   "cell_type": "markdown",
   "id": "11ca1b7a-cc5a-41df-b659-6898ce4f6ab0",
   "metadata": {},
   "source": [
    "### Cause of Error 3. Tite have more words showing up in `edx` subreddit but doesn't outweight in frequency"
   ]
  },
  {
   "cell_type": "code",
   "execution_count": 53,
   "id": "e7624d6a-6d1a-4c3d-bee3-4b84cf454e00",
   "metadata": {},
   "outputs": [
    {
     "data": {
      "text/html": [
       "<div>\n",
       "<style scoped>\n",
       "    .dataframe tbody tr th:only-of-type {\n",
       "        vertical-align: middle;\n",
       "    }\n",
       "\n",
       "    .dataframe tbody tr th {\n",
       "        vertical-align: top;\n",
       "    }\n",
       "\n",
       "    .dataframe thead th {\n",
       "        text-align: right;\n",
       "    }\n",
       "</style>\n",
       "<table border=\"1\" class=\"dataframe\">\n",
       "  <thead>\n",
       "    <tr style=\"text-align: right;\">\n",
       "      <th></th>\n",
       "      <th>X_test</th>\n",
       "      <th>y_test</th>\n",
       "      <th>y_pred</th>\n",
       "      <th>Coursera</th>\n",
       "      <th>EdX</th>\n",
       "      <th>likely_total</th>\n",
       "      <th>likely_single</th>\n",
       "    </tr>\n",
       "  </thead>\n",
       "  <tbody>\n",
       "    <tr>\n",
       "      <th>773</th>\n",
       "      <td>what doe a computer science degree look like</td>\n",
       "      <td>edx</td>\n",
       "      <td>coursera</td>\n",
       "      <td>0.521929</td>\n",
       "      <td>0.478071</td>\n",
       "      <td>35</td>\n",
       "      <td>1</td>\n",
       "    </tr>\n",
       "    <tr>\n",
       "      <th>133</th>\n",
       "      <td>same answer to multiple financial assistance application</td>\n",
       "      <td>edx</td>\n",
       "      <td>coursera</td>\n",
       "      <td>0.511250</td>\n",
       "      <td>0.488750</td>\n",
       "      <td>-42</td>\n",
       "      <td>1</td>\n",
       "    </tr>\n",
       "    <tr>\n",
       "      <th>362</th>\n",
       "      <td>thousand of password reset email from edx in the last 24 hour how can i make this stop one every minute since 6pm last night and i do not use edx but have an old account</td>\n",
       "      <td>edx</td>\n",
       "      <td>coursera</td>\n",
       "      <td>0.531170</td>\n",
       "      <td>0.468830</td>\n",
       "      <td>-6</td>\n",
       "      <td>1</td>\n",
       "    </tr>\n",
       "    <tr>\n",
       "      <th>417</th>\n",
       "      <td>hi did someone take the justice course</td>\n",
       "      <td>edx</td>\n",
       "      <td>coursera</td>\n",
       "      <td>0.512991</td>\n",
       "      <td>0.487009</td>\n",
       "      <td>2</td>\n",
       "      <td>1</td>\n",
       "    </tr>\n",
       "    <tr>\n",
       "      <th>709</th>\n",
       "      <td>anyone who graduated from edx with a master s degree</td>\n",
       "      <td>edx</td>\n",
       "      <td>coursera</td>\n",
       "      <td>0.505382</td>\n",
       "      <td>0.494618</td>\n",
       "      <td>10</td>\n",
       "      <td>1</td>\n",
       "    </tr>\n",
       "  </tbody>\n",
       "</table>\n",
       "</div>"
      ],
      "text/plain": [
       "                                                                                                                                                                        X_test  \\\n",
       "773                                                                                                                               what doe a computer science degree look like   \n",
       "133                                                                                                                   same answer to multiple financial assistance application   \n",
       "362  thousand of password reset email from edx in the last 24 hour how can i make this stop one every minute since 6pm last night and i do not use edx but have an old account   \n",
       "417                                                                                                                                     hi did someone take the justice course   \n",
       "709                                                                                                                       anyone who graduated from edx with a master s degree   \n",
       "\n",
       "    y_test    y_pred  Coursera       EdX  likely_total  likely_single  \n",
       "773    edx  coursera  0.521929  0.478071            35              1  \n",
       "133    edx  coursera  0.511250  0.488750           -42              1  \n",
       "362    edx  coursera  0.531170  0.468830            -6              1  \n",
       "417    edx  coursera  0.512991  0.487009             2              1  \n",
       "709    edx  coursera  0.505382  0.494618            10              1  "
      ]
     },
     "execution_count": 53,
     "metadata": {},
     "output_type": "execute_result"
    }
   ],
   "source": [
    "false_negative[(false_negative['likely_single']>0)\n",
    "               &(false_negative['likely_single']>0)][:10]"
   ]
  },
  {
   "cell_type": "markdown",
   "id": "461c853e-2331-49fc-b28d-b6119544f2dd",
   "metadata": {},
   "source": [
    "#### Case 1. Word frequency is higher for `coursera` due to topics of dicussion or simply generic terms"
   ]
  },
  {
   "cell_type": "markdown",
   "id": "457850e5-af73-4fe4-82f7-b34bf416bd5a",
   "metadata": {},
   "source": [
    "e.g. video lag - generic term"
   ]
  },
  {
   "cell_type": "code",
   "execution_count": 54,
   "id": "a06e0a84-6503-43d8-9e1b-7e07f67b1fca",
   "metadata": {},
   "outputs": [
    {
     "data": {
      "text/plain": [
       "edx         16\n",
       "coursera     8\n",
       "Name: y_train, dtype: int64"
      ]
     },
     "execution_count": 54,
     "metadata": {},
     "output_type": "execute_result"
    }
   ],
   "source": [
    "train_df[train_df['video']>0]['y_train'].value_counts()"
   ]
  },
  {
   "cell_type": "markdown",
   "id": "ad79ccab-99c3-4a49-a0a0-45b8df97adca",
   "metadata": {},
   "source": [
    "e.g. thought on edx certificate for blockchin worth it"
   ]
  },
  {
   "cell_type": "code",
   "execution_count": 55,
   "id": "e5a5a344-2c9f-4a52-8eaf-76ec39d17486",
   "metadata": {},
   "outputs": [
    {
     "data": {
      "text/plain": [
       "edx         4\n",
       "coursera    1\n",
       "Name: y_train, dtype: int64"
      ]
     },
     "execution_count": 55,
     "metadata": {},
     "output_type": "execute_result"
    }
   ],
   "source": [
    "train_df[train_df['thought']>0]['y_train'].value_counts()"
   ]
  },
  {
   "cell_type": "code",
   "execution_count": 56,
   "id": "79963c01-ac6f-46f8-92f9-6d23381bf264",
   "metadata": {},
   "outputs": [
    {
     "data": {
      "text/plain": [
       "coursera    109\n",
       "edx          89\n",
       "Name: y_train, dtype: int64"
      ]
     },
     "execution_count": 56,
     "metadata": {},
     "output_type": "execute_result"
    }
   ],
   "source": [
    "train_df[train_df['certificate']>0]['y_train'].value_counts()"
   ]
  },
  {
   "cell_type": "code",
   "execution_count": 57,
   "id": "c656ad52-6b6a-40c0-956a-be6823ccc222",
   "metadata": {},
   "outputs": [
    {
     "data": {
      "text/plain": [
       "edx         14\n",
       "coursera    13\n",
       "Name: y_train, dtype: int64"
      ]
     },
     "execution_count": 57,
     "metadata": {},
     "output_type": "execute_result"
    }
   ],
   "source": [
    "train_df[train_df['worth']>0]['y_train'].value_counts()"
   ]
  },
  {
   "cell_type": "markdown",
   "id": "2a4bea5e-3d4e-4e63-b97a-f48c00129f44",
   "metadata": {},
   "source": [
    "## Summary of Mis-classification"
   ]
  },
  {
   "cell_type": "markdown",
   "id": "734ee10a-a830-4b1c-8d79-a5d7587f942b",
   "metadata": {},
   "source": [
    "All false positives and false negative can be traced back to 3 main root causes: <br>\n",
    "\n",
    "1. Short titles that never show up on training dataset\n",
    "2. Title regarding topics dominated by the other subreddit\n",
    "3. Marginal differences outweighs by default predict probability"
   ]
  },
  {
   "cell_type": "markdown",
   "id": "5126133a-2fd2-4d43-ae9f-69600bbae0e4",
   "metadata": {},
   "source": [
    "Ways to tackle these error could be:\n",
    "1. Acquire more training dataset that enough words show up in the training dataset\n",
    "2. Manually add more dominate words to stopwords with the trade off of reducing the overall accuracy\n",
    "3. Join the title and comment string to add more training data, and reduces short titles"
   ]
  },
  {
   "cell_type": "markdown",
   "id": "c2cbf747-e15c-4a29-b553-e319760b0474",
   "metadata": {},
   "source": [
    "---"
   ]
  },
  {
   "cell_type": "markdown",
   "id": "d56d5e38-c4c0-4add-8f7c-1cc6b84ff520",
   "metadata": {},
   "source": [
    "## Successful Predictions Analysis"
   ]
  },
  {
   "cell_type": "code",
   "execution_count": 58,
   "id": "2b33a21e-284c-4f49-abcc-2a366036382f",
   "metadata": {},
   "outputs": [],
   "source": [
    "# Select only wrong predictions\n",
    "right = pd.DataFrame(predictions[predictions['y_test']==predictions['y_pred']])"
   ]
  },
  {
   "cell_type": "code",
   "execution_count": 59,
   "id": "b2c38b7e-17de-44f9-ac24-e617ededc8f9",
   "metadata": {},
   "outputs": [],
   "source": [
    "# True positive\n",
    "true_positive = right[(right['y_test']=='edx') & \\\n",
    "                       (right['y_pred']=='edx')]\n",
    "# True negative\n",
    "true_negative = right[(right['y_test']=='coursera') & \\\n",
    "                       (right['y_pred']=='coursera')]"
   ]
  },
  {
   "cell_type": "code",
   "execution_count": 60,
   "id": "f80cf3e1-873c-43f5-acd2-e1fb201b6db6",
   "metadata": {},
   "outputs": [],
   "source": [
    "# Create columns likely_total and likely_single - true positive\n",
    "true_positive['likely_total'] = true_positive['X_test'].apply(how_likely)\n",
    "true_positive['likely_single'] = true_positive['X_test'].apply(how_likely_single)"
   ]
  },
  {
   "cell_type": "code",
   "execution_count": 61,
   "id": "fb5175c8-51b0-49d7-a5eb-a78b50064b3c",
   "metadata": {},
   "outputs": [],
   "source": [
    "# Create columns likely_total and likely_single - true negative\n",
    "true_negative['likely_total'] = true_negative['X_test'].apply(how_likely)\n",
    "true_negative['likely_single'] = true_negative['X_test'].apply(how_likely_single)"
   ]
  },
  {
   "cell_type": "markdown",
   "id": "4e443920-a439-4bd7-ad1e-3f5a9107b8d4",
   "metadata": {},
   "source": [
    "### True Positive"
   ]
  },
  {
   "cell_type": "code",
   "execution_count": 62,
   "id": "2ce3ae8c-73fb-4e00-8e75-eaa567258ef0",
   "metadata": {},
   "outputs": [
    {
     "data": {
      "image/png": "[encoded data removed]",
      "text/plain": [
       "<Figure size 360x360 with 1 Axes>"
      ]
     },
     "metadata": {
      "needs_background": "light"
     },
     "output_type": "display_data"
    }
   ],
   "source": [
    "sns.lmplot(y='EdX',x='likely_single',data=true_positive,\n",
    "           x_estimator=np.mean,x_ci=False)\n",
    "\n",
    "plt.title('Probability of EdX vs Words in EdX Train')\n",
    "plt.ylabel('Probability of EdX')\n",
    "plt.xlabel('How many more words in EdX than Coursera');"
   ]
  },
  {
   "cell_type": "markdown",
   "id": "733b75c1-8026-48fa-9bcd-69b35ec0052d",
   "metadata": {},
   "source": [
    "### True Negative"
   ]
  },
  {
   "cell_type": "code",
   "execution_count": 63,
   "id": "d67f59fc-898c-4976-9191-cfb20708167c",
   "metadata": {},
   "outputs": [
    {
     "data": {
      "image/png": "[encoded data removed]",
      "text/plain": [
       "<Figure size 360x360 with 1 Axes>"
      ]
     },
     "metadata": {
      "needs_background": "light"
     },
     "output_type": "display_data"
    }
   ],
   "source": [
    "sns.lmplot(y='EdX',x='likely_single',data=true_negative,\n",
    "           x_estimator=np.mean,x_ci=False)\n",
    "\n",
    "plt.title('Probability of EdX vs Words in EdX Train')\n",
    "plt.ylabel('Probability of EdX')\n",
    "plt.xlabel('How many more words in EdX than Coursera');"
   ]
  },
  {
   "cell_type": "markdown",
   "id": "a32164b7-81ee-4ce7-bfb9-ee5831321c29",
   "metadata": {},
   "source": [
    "## Visualizing Correct Predicitions"
   ]
  },
  {
   "cell_type": "code",
   "execution_count": 64,
   "id": "2505a1a1-8a06-43fc-ae5d-ff3776870ad9",
   "metadata": {},
   "outputs": [
    {
     "data": {
      "image/png": "[encoded data removed]",
      "text/plain": [
       "<Figure size 864x432 with 2 Axes>"
      ]
     },
     "metadata": {
      "needs_background": "light"
     },
     "output_type": "display_data"
    }
   ],
   "source": [
    "compare_words(left_df=true_positive, right_df = true_negative,\n",
    "              vec_choice='cv',grams=(1,1),top_n=30, feature = 'X_test',\n",
    "              title='Top 30 Words in Title')"
   ]
  },
  {
   "cell_type": "code",
   "execution_count": 65,
   "id": "bf8421d6-74cf-4a11-adcd-429d318932e1",
   "metadata": {},
   "outputs": [
    {
     "data": {
      "image/png": "[encoded data removed]",
      "text/plain": [
       "<Figure size 864x432 with 2 Axes>"
      ]
     },
     "metadata": {
      "needs_background": "light"
     },
     "output_type": "display_data"
    }
   ],
   "source": [
    "compare_words(left_df=true_positive, right_df = true_negative,\n",
    "              vec_choice='cv',grams=(2,2),top_n=30, feature = 'X_test',\n",
    "              title='Top 30 Words in Title')"
   ]
  },
  {
   "cell_type": "code",
   "execution_count": 66,
   "id": "46298d66-d7d0-4778-9ab2-ee87a79b294c",
   "metadata": {},
   "outputs": [
    {
     "data": {
      "image/png": "[encoded data removed]",
      "text/plain": [
       "<Figure size 864x432 with 2 Axes>"
      ]
     },
     "metadata": {
      "needs_background": "light"
     },
     "output_type": "display_data"
    }
   ],
   "source": [
    "compare_words(left_df=true_positive, right_df = true_negative,\n",
    "              vec_choice='cv',grams=(3,3),top_n=30, feature = 'X_test',\n",
    "              title='Top 30 Words in Title')"
   ]
  },
  {
   "cell_type": "markdown",
   "id": "3bda03cc-7f89-48c1-a21e-683fbd4e80a1",
   "metadata": {},
   "source": [
    "## Summary of Predictions"
   ]
  },
  {
   "cell_type": "markdown",
   "id": "6721a2c1-bf57-40e1-94cd-109cb17628ef",
   "metadata": {},
   "source": [
    "All true positives and true negatives can be explained using similar approach to mis-classifications, combining all insights from EDA, modeling, and misclassification analysis we can conclude that for each platform to improve:"
   ]
  },
  {
   "cell_type": "markdown",
   "id": "06fcc083-0971-4220-8ab0-9ca566e97374",
   "metadata": {},
   "source": [
    "**1. *EdX*:** <br>\n",
    "Current Strengths:\n",
    "- University based courses e.g. Introduction to computer science\n",
    "- MicroMaster program\n",
    "- Audit score\n",
    "- Some self-paced programs\n",
    "\n",
    "To Improve:\n",
    "- More verified certificates\n",
    "- More self-paced courses\n",
    "- Audit courses will generate new users\n",
    "    \n",
    "\n",
    "**2. *Coursera*:** <br>\n",
    "Current Strengths:\n",
    "- Industry-oriented courses in partnership with Google/IBM\n",
    "- Professional certificate\n",
    "- Financial Aid\n",
    "- Self-paced\n",
    "\n",
    "To Improve:\n",
    "- Keep on driving business/industry related courses\n",
    "- Improve customer support\n",
    "- Improve platform, specifically log-in and chat bubbles"
   ]
  }
 ],
 "metadata": {
  "kernelspec": {
   "display_name": "Python 3 (ipykernel)",
   "language": "python",
   "name": "python3"
  },
  "language_info": {
   "codemirror_mode": {
    "name": "ipython",
    "version": 3
   },
   "file_extension": ".py",
   "mimetype": "text/x-python",
   "name": "python",
   "nbconvert_exporter": "python",
   "pygments_lexer": "ipython3",
   "version": "3.9.12"
  }
 },
 "nbformat": 4,
 "nbformat_minor": 5
}
