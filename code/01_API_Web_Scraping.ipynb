{
 "cells": [
  {
   "cell_type": "markdown",
   "id": "3c3fcc55-9a49-4b05-a780-e818b31cc48a",
   "metadata": {},
   "source": [
    "# Part 1. Web Scraping from Reddit.com "
   ]
  },
  {
   "cell_type": "markdown",
   "id": "a9b14301-6d2b-415e-a7a7-c09bb9a0574e",
   "metadata": {},
   "source": [
    "## Importing Libraries"
   ]
  },
  {
   "cell_type": "code",
   "execution_count": 1,
   "id": "59391397-9650-4496-a907-5a6542bd3b7a",
   "metadata": {},
   "outputs": [],
   "source": [
    "# Import Data Manipulation Library\n",
    "import pandas as pd\n",
    "import numpy as np\n",
    "import missingno as msno\n",
    "\n",
    "# Import API library\n",
    "import requests\n",
    "import time\n",
    "from IPython.display import JSON # Used to display json in clean format"
   ]
  },
  {
   "cell_type": "markdown",
   "id": "c6825fb3-6e02-4c94-9592-b1c9a758f30c",
   "metadata": {},
   "source": [
    "---"
   ]
  },
  {
   "cell_type": "markdown",
   "id": "41e755f8-222c-4a4e-b406-38a3cf547864",
   "metadata": {},
   "source": [
    "## Extracting Title and Thread Info"
   ]
  },
  {
   "cell_type": "code",
   "execution_count": 2,
   "id": "01dd16dd-cdee-4fe0-8a9a-3bffd5b0fc55",
   "metadata": {},
   "outputs": [],
   "source": [
    "# Url link of subreddits\n",
    "url = [\"https://www.reddit.com/r/edx.json\",\n",
    "       \"https://www.reddit.com/r/coursera.json\"]"
   ]
  },
  {
   "cell_type": "code",
   "execution_count": 3,
   "id": "22d15748-3d9f-45c4-a754-404dd472dea0",
   "metadata": {},
   "outputs": [],
   "source": [
    "# Create headers\n",
    "headers = {'User-agent':'Krisgun Chirasanta'}"
   ]
  },
  {
   "cell_type": "code",
   "execution_count": 4,
   "id": "3d31e1fc-9c51-4128-89fe-f564b23d21f3",
   "metadata": {
    "tags": []
   },
   "outputs": [
    {
     "name": "stdout",
     "output_type": "stream",
     "text": [
      "done\n"
     ]
    }
   ],
   "source": [
    "# Create an empty list\n",
    "posts = []\n",
    "comments = []\n",
    "\n",
    "# For loop to get the first 50 pages (25 per page)\n",
    "page = 50\n",
    "\n",
    "# loop through each url\n",
    "for u in url:\n",
    "    \n",
    "    # Create a starting variable of after to be None\n",
    "    after = None\n",
    "    \n",
    "    # loop through each page\n",
    "    for i in range(page):\n",
    "        # Uncomment during debugging\n",
    "        # print(f\"Getting post number: {i+1} of {page}\")\n",
    "        if after == None:\n",
    "            params = {} # First page no need to set after = name\n",
    "        else:\n",
    "            params = {'after': after} # Set after = name of last post\n",
    "\n",
    "        # Set up url and requests with headers and after as param dictionary\n",
    "        res = requests.get(u, params=params, headers=headers)\n",
    "\n",
    "        # Check function of response - 200 = OK, else = check status\n",
    "        if res.status_code == 200:\n",
    "            \n",
    "            # Get the post details\n",
    "            # Get the response\n",
    "            mac_json = res.json()\n",
    "\n",
    "            # Add response of each children to `posts`\n",
    "            posts.extend(mac_json['data']['children'])\n",
    "\n",
    "            # Set after variable to the name of last post\n",
    "            after = mac_json['data']['after']\n",
    "            \n",
    "            # Get top 5 comments from those posts\n",
    "            # Get permalinks\n",
    "            links = [post['data']['permalink'] for post in \\\n",
    "                    mac_json['data']['children']]\n",
    "            \n",
    "            # loop through each permalink on current page\n",
    "            for link in links:\n",
    "                \n",
    "                # get url and response.json()\n",
    "                url_cmt = 'https://www.reddit.com'+link[:-1]+'.json'\n",
    "                res = requests.get(url_cmt, headers=headers)\n",
    "                res_cmt = res.json()\n",
    "                \n",
    "                # then get top 5 comments from each res and extend to cmt list\n",
    "                comments.extend(res_cmt[1]['data']['children'][:1])\n",
    "                \n",
    "        else:\n",
    "            # If error print out status_code and break loop\n",
    "            print(res.status_code) # uncomment during debugging\n",
    "            break\n",
    "\n",
    "        # Put sleep time of 1 second\n",
    "        time.sleep(1)\n",
    "        \n",
    "print('done')"
   ]
  },
  {
   "cell_type": "markdown",
   "id": "0d1c3ae7-64c6-463a-800a-960079a53ae9",
   "metadata": {},
   "source": [
    "---"
   ]
  },
  {
   "cell_type": "markdown",
   "id": "d8e869f2-ed56-4fc3-8d54-2171148ce950",
   "metadata": {},
   "source": [
    "## Convert to DataFrame"
   ]
  },
  {
   "cell_type": "code",
   "execution_count": 39,
   "id": "e6170133-7630-455b-bebc-24a82746d14e",
   "metadata": {},
   "outputs": [],
   "source": [
    "# List of features to extract from `posts`\n",
    "features = ['name','title','selftext','ups','upvote_ratio',\\\n",
    "            'permalink','subreddit']\n",
    "\n",
    "# Crate empty dictionary\n",
    "df_dict = {}\n",
    "\n",
    "# Looping through feature and store in df_dict\n",
    "for feat in features:\n",
    "    df_dict[feat] = [post['data'][feat] for post in posts]\n",
    "\n",
    "# Transform to a dataframe\n",
    "df = pd.DataFrame(df_dict)"
   ]
  },
  {
   "cell_type": "code",
   "execution_count": 40,
   "id": "e65f6c92-b41e-48f1-b307-9dcfd9c65506",
   "metadata": {},
   "outputs": [],
   "source": [
    "# List of features to extract from `comments`\n",
    "features = ['link_id','subreddit','body']\n",
    "\n",
    "# Crate empty dictionary\n",
    "cmt_dict = {}\n",
    "\n",
    "# Looping through feature and store in df_dict\n",
    "for feat in features:\n",
    "    cmt_dict[feat] = [comment['data'][feat] for comment in comments]\n",
    "\n",
    "# Transform to a dataframe\n",
    "cmt_df = pd.DataFrame(cmt_dict)\n",
    "cmt_df.columns = ['name','subreddit','title']"
   ]
  },
  {
   "cell_type": "markdown",
   "id": "24e19cf9-a0ea-4526-897c-74a5613aaf42",
   "metadata": {},
   "source": [
    "---"
   ]
  },
  {
   "cell_type": "markdown",
   "id": "a9f85bac-6acd-41f3-8046-bae27ab1f2cc",
   "metadata": {},
   "source": [
    "## Post DataFrame"
   ]
  },
  {
   "cell_type": "code",
   "execution_count": 41,
   "id": "a78e9a4d-656f-4b1d-a617-51aaf3c70b76",
   "metadata": {},
   "outputs": [
    {
     "data": {
      "text/html": [
       "<div>\n",
       "<style scoped>\n",
       "    .dataframe tbody tr th:only-of-type {\n",
       "        vertical-align: middle;\n",
       "    }\n",
       "\n",
       "    .dataframe tbody tr th {\n",
       "        vertical-align: top;\n",
       "    }\n",
       "\n",
       "    .dataframe thead th {\n",
       "        text-align: right;\n",
       "    }\n",
       "</style>\n",
       "<table border=\"1\" class=\"dataframe\">\n",
       "  <thead>\n",
       "    <tr style=\"text-align: right;\">\n",
       "      <th></th>\n",
       "      <th>name</th>\n",
       "      <th>title</th>\n",
       "      <th>selftext</th>\n",
       "      <th>ups</th>\n",
       "      <th>upvote_ratio</th>\n",
       "      <th>permalink</th>\n",
       "      <th>subreddit</th>\n",
       "    </tr>\n",
       "  </thead>\n",
       "  <tbody>\n",
       "    <tr>\n",
       "      <th>0</th>\n",
       "      <td>t3_y39l65</td>\n",
       "      <td>After 8 years of inactivity and unsubscribing ...</td>\n",
       "      <td>I haven't used that site since 2014 according ...</td>\n",
       "      <td>5</td>\n",
       "      <td>0.69</td>\n",
       "      <td>/r/edX/comments/y39l65/after_8_years_of_inacti...</td>\n",
       "      <td>edX</td>\n",
       "    </tr>\n",
       "    <tr>\n",
       "      <th>1</th>\n",
       "      <td>t3_y144xh</td>\n",
       "      <td>How to do a Masters in a completely unrelated ...</td>\n",
       "      <td>Hi guys,\\n\\nI'm close to finishing my Bachelor...</td>\n",
       "      <td>6</td>\n",
       "      <td>0.81</td>\n",
       "      <td>/r/edX/comments/y144xh/how_to_do_a_masters_in_...</td>\n",
       "      <td>edX</td>\n",
       "    </tr>\n",
       "  </tbody>\n",
       "</table>\n",
       "</div>"
      ],
      "text/plain": [
       "        name                                              title  \\\n",
       "0  t3_y39l65  After 8 years of inactivity and unsubscribing ...   \n",
       "1  t3_y144xh  How to do a Masters in a completely unrelated ...   \n",
       "\n",
       "                                            selftext  ups  upvote_ratio  \\\n",
       "0  I haven't used that site since 2014 according ...    5          0.69   \n",
       "1  Hi guys,\\n\\nI'm close to finishing my Bachelor...    6          0.81   \n",
       "\n",
       "                                           permalink subreddit  \n",
       "0  /r/edX/comments/y39l65/after_8_years_of_inacti...       edX  \n",
       "1  /r/edX/comments/y144xh/how_to_do_a_masters_in_...       edX  "
      ]
     },
     "execution_count": 41,
     "metadata": {},
     "output_type": "execute_result"
    }
   ],
   "source": [
    "# Check head of dataframe\n",
    "df.head(2)"
   ]
  },
  {
   "cell_type": "code",
   "execution_count": 42,
   "id": "17588952-40b5-4938-a04d-aedd689c912a",
   "metadata": {},
   "outputs": [],
   "source": [
    "# Dropping some duplicates\n",
    "df.drop_duplicates(subset='name',inplace=True)"
   ]
  },
  {
   "cell_type": "code",
   "execution_count": 43,
   "id": "6f2e4db8-e528-44cc-af19-0c141c8f8b94",
   "metadata": {},
   "outputs": [
    {
     "data": {
      "text/plain": [
       "(1994, 7)"
      ]
     },
     "execution_count": 43,
     "metadata": {},
     "output_type": "execute_result"
    }
   ],
   "source": [
    "# Check shape\n",
    "df.shape"
   ]
  },
  {
   "cell_type": "code",
   "execution_count": 44,
   "id": "5e89d3e1-9d45-43c0-aebc-d5e54934d8d8",
   "metadata": {},
   "outputs": [
    {
     "data": {
      "text/plain": [
       "name             object\n",
       "title            object\n",
       "selftext         object\n",
       "ups               int64\n",
       "upvote_ratio    float64\n",
       "permalink        object\n",
       "subreddit        object\n",
       "dtype: object"
      ]
     },
     "execution_count": 44,
     "metadata": {},
     "output_type": "execute_result"
    }
   ],
   "source": [
    "# Check types\n",
    "df.dtypes"
   ]
  },
  {
   "cell_type": "code",
   "execution_count": 45,
   "id": "8634e4ea-c413-4240-89e9-90de1e6aed32",
   "metadata": {},
   "outputs": [],
   "source": [
    "# Check selftext\n",
    "df['selftext'] = df['selftext'].fillna('empty',inplace=True)"
   ]
  },
  {
   "cell_type": "code",
   "execution_count": 46,
   "id": "c8c66ac0-5950-4566-b8be-4c18f7600ce0",
   "metadata": {},
   "outputs": [],
   "source": [
    "# Uncapitalize target varible\n",
    "df['subreddit'] = df['subreddit'].apply(lambda x : x.lower())"
   ]
  },
  {
   "cell_type": "code",
   "execution_count": 47,
   "id": "284730f1-d1f0-4ce4-a0f1-a1fe197c8b33",
   "metadata": {},
   "outputs": [
    {
     "data": {
      "text/html": [
       "<div>\n",
       "<style scoped>\n",
       "    .dataframe tbody tr th:only-of-type {\n",
       "        vertical-align: middle;\n",
       "    }\n",
       "\n",
       "    .dataframe tbody tr th {\n",
       "        vertical-align: top;\n",
       "    }\n",
       "\n",
       "    .dataframe thead th {\n",
       "        text-align: right;\n",
       "    }\n",
       "</style>\n",
       "<table border=\"1\" class=\"dataframe\">\n",
       "  <thead>\n",
       "    <tr style=\"text-align: right;\">\n",
       "      <th></th>\n",
       "      <th>name</th>\n",
       "      <th>title</th>\n",
       "      <th>selftext</th>\n",
       "      <th>ups</th>\n",
       "      <th>upvote_ratio</th>\n",
       "      <th>permalink</th>\n",
       "      <th>subreddit</th>\n",
       "    </tr>\n",
       "  </thead>\n",
       "  <tbody>\n",
       "    <tr>\n",
       "      <th>0</th>\n",
       "      <td>t3_y39l65</td>\n",
       "      <td>After 8 years of inactivity and unsubscribing ...</td>\n",
       "      <td>None</td>\n",
       "      <td>5</td>\n",
       "      <td>0.69</td>\n",
       "      <td>/r/edX/comments/y39l65/after_8_years_of_inacti...</td>\n",
       "      <td>edx</td>\n",
       "    </tr>\n",
       "    <tr>\n",
       "      <th>1</th>\n",
       "      <td>t3_y144xh</td>\n",
       "      <td>How to do a Masters in a completely unrelated ...</td>\n",
       "      <td>None</td>\n",
       "      <td>6</td>\n",
       "      <td>0.81</td>\n",
       "      <td>/r/edX/comments/y144xh/how_to_do_a_masters_in_...</td>\n",
       "      <td>edx</td>\n",
       "    </tr>\n",
       "    <tr>\n",
       "      <th>2</th>\n",
       "      <td>t3_y09o1m</td>\n",
       "      <td>The consequences of failing a course after get...</td>\n",
       "      <td>None</td>\n",
       "      <td>9</td>\n",
       "      <td>0.81</td>\n",
       "      <td>/r/edX/comments/y09o1m/the_consequences_of_fai...</td>\n",
       "      <td>edx</td>\n",
       "    </tr>\n",
       "    <tr>\n",
       "      <th>3</th>\n",
       "      <td>t3_xxluk0</td>\n",
       "      <td>Auditing a Course</td>\n",
       "      <td>None</td>\n",
       "      <td>2</td>\n",
       "      <td>0.67</td>\n",
       "      <td>/r/edX/comments/xxluk0/auditing_a_course/</td>\n",
       "      <td>edx</td>\n",
       "    </tr>\n",
       "    <tr>\n",
       "      <th>4</th>\n",
       "      <td>t3_xtszjt</td>\n",
       "      <td>APA Format Citation Guide</td>\n",
       "      <td>None</td>\n",
       "      <td>3</td>\n",
       "      <td>0.81</td>\n",
       "      <td>/r/edX/comments/xtszjt/apa_format_citation_guide/</td>\n",
       "      <td>edx</td>\n",
       "    </tr>\n",
       "  </tbody>\n",
       "</table>\n",
       "</div>"
      ],
      "text/plain": [
       "        name                                              title selftext  ups  \\\n",
       "0  t3_y39l65  After 8 years of inactivity and unsubscribing ...     None    5   \n",
       "1  t3_y144xh  How to do a Masters in a completely unrelated ...     None    6   \n",
       "2  t3_y09o1m  The consequences of failing a course after get...     None    9   \n",
       "3  t3_xxluk0                                  Auditing a Course     None    2   \n",
       "4  t3_xtszjt                          APA Format Citation Guide     None    3   \n",
       "\n",
       "   upvote_ratio                                          permalink subreddit  \n",
       "0          0.69  /r/edX/comments/y39l65/after_8_years_of_inacti...       edx  \n",
       "1          0.81  /r/edX/comments/y144xh/how_to_do_a_masters_in_...       edx  \n",
       "2          0.81  /r/edX/comments/y09o1m/the_consequences_of_fai...       edx  \n",
       "3          0.67          /r/edX/comments/xxluk0/auditing_a_course/       edx  \n",
       "4          0.81  /r/edX/comments/xtszjt/apa_format_citation_guide/       edx  "
      ]
     },
     "execution_count": 47,
     "metadata": {},
     "output_type": "execute_result"
    }
   ],
   "source": [
    "# Check head\n",
    "df.head()"
   ]
  },
  {
   "cell_type": "code",
   "execution_count": 48,
   "id": "088f32a1-16e2-40b0-8175-d6c83312db58",
   "metadata": {
    "tags": []
   },
   "outputs": [
    {
     "data": {
      "image/png": "[encoded data removed]",
      "text/plain": [
       "<Figure size 1800x720 with 2 Axes>"
      ]
     },
     "metadata": {
      "needs_background": "light"
     },
     "output_type": "display_data"
    }
   ],
   "source": [
    "# Check for missing values\n",
    "msno.matrix(df);\n",
    "\n",
    "# No missing values"
   ]
  },
  {
   "cell_type": "markdown",
   "id": "290ccc1a-a569-4568-871d-e7f67e43962d",
   "metadata": {},
   "source": [
    "---"
   ]
  },
  {
   "cell_type": "markdown",
   "id": "1e5ec83b-4eb1-4dbf-9f0c-cd9e973d4787",
   "metadata": {},
   "source": [
    "## Comments DataFrame"
   ]
  },
  {
   "cell_type": "code",
   "execution_count": 49,
   "id": "c2f30467-d958-49af-a3b3-307e949c3edf",
   "metadata": {},
   "outputs": [
    {
     "data": {
      "text/plain": [
       "(1957, 3)"
      ]
     },
     "execution_count": 49,
     "metadata": {},
     "output_type": "execute_result"
    }
   ],
   "source": [
    "# Check shape\n",
    "cmt_df.shape"
   ]
  },
  {
   "cell_type": "code",
   "execution_count": 50,
   "id": "65c9b35d-6336-4d2c-a4be-52b2341949ac",
   "metadata": {},
   "outputs": [],
   "source": [
    "cmt_df['subreddit'] = cmt_df['subreddit'].apply(lambda x : x.lower())"
   ]
  },
  {
   "cell_type": "code",
   "execution_count": 51,
   "id": "3b71c716-878b-4e62-8172-db5dd9520f38",
   "metadata": {},
   "outputs": [],
   "source": [
    "# Drop duplicates for comments\n",
    "cmt_df.drop_duplicates(subset='name',inplace=True)"
   ]
  },
  {
   "cell_type": "code",
   "execution_count": 52,
   "id": "7f499f3f-1925-4c55-9571-f9694dd212f6",
   "metadata": {},
   "outputs": [
    {
     "data": {
      "text/plain": [
       "coursera    813\n",
       "edx         770\n",
       "Name: subreddit, dtype: int64"
      ]
     },
     "execution_count": 52,
     "metadata": {},
     "output_type": "execute_result"
    }
   ],
   "source": [
    "# Check subreddit count\n",
    "cmt_df['subreddit'].value_counts()"
   ]
  },
  {
   "cell_type": "code",
   "execution_count": 53,
   "id": "1a59e197-2e1d-4f85-9871-479d3aa8c0a1",
   "metadata": {},
   "outputs": [
    {
     "data": {
      "image/png": "[encoded data removed]",
      "text/plain": [
       "<Figure size 1800x720 with 2 Axes>"
      ]
     },
     "metadata": {
      "needs_background": "light"
     },
     "output_type": "display_data"
    }
   ],
   "source": [
    "# Check missing value\n",
    "msno.matrix(cmt_df);"
   ]
  },
  {
   "cell_type": "code",
   "execution_count": 54,
   "id": "aa3e39d5-3d27-4ba6-b1d1-4c3ef374912b",
   "metadata": {
    "tags": []
   },
   "outputs": [
    {
     "data": {
      "text/html": [
       "<div>\n",
       "<style scoped>\n",
       "    .dataframe tbody tr th:only-of-type {\n",
       "        vertical-align: middle;\n",
       "    }\n",
       "\n",
       "    .dataframe tbody tr th {\n",
       "        vertical-align: top;\n",
       "    }\n",
       "\n",
       "    .dataframe thead th {\n",
       "        text-align: right;\n",
       "    }\n",
       "</style>\n",
       "<table border=\"1\" class=\"dataframe\">\n",
       "  <thead>\n",
       "    <tr style=\"text-align: right;\">\n",
       "      <th></th>\n",
       "      <th>name</th>\n",
       "      <th>subreddit</th>\n",
       "      <th>title</th>\n",
       "    </tr>\n",
       "  </thead>\n",
       "  <tbody>\n",
       "    <tr>\n",
       "      <th>0</th>\n",
       "      <td>t3_y09o1m</td>\n",
       "      <td>edx</td>\n",
       "      <td>Financial aid just gives u a discount, you sti...</td>\n",
       "    </tr>\n",
       "    <tr>\n",
       "      <th>1</th>\n",
       "      <td>t3_xxluk0</td>\n",
       "      <td>edx</td>\n",
       "      <td>Not necessarily. Assignments are only for cert...</td>\n",
       "    </tr>\n",
       "    <tr>\n",
       "      <th>2</th>\n",
       "      <td>t3_xtm1ea</td>\n",
       "      <td>edx</td>\n",
       "      <td>You can just access archived courses even if n...</td>\n",
       "    </tr>\n",
       "    <tr>\n",
       "      <th>3</th>\n",
       "      <td>t3_xsaqli</td>\n",
       "      <td>edx</td>\n",
       "      <td>Cs50 python is more about learning the python ...</td>\n",
       "    </tr>\n",
       "    <tr>\n",
       "      <th>4</th>\n",
       "      <td>t3_xseepw</td>\n",
       "      <td>edx</td>\n",
       "      <td>I’m taking it. I don’t like it but I will comp...</td>\n",
       "    </tr>\n",
       "  </tbody>\n",
       "</table>\n",
       "</div>"
      ],
      "text/plain": [
       "        name subreddit                                              title\n",
       "0  t3_y09o1m       edx  Financial aid just gives u a discount, you sti...\n",
       "1  t3_xxluk0       edx  Not necessarily. Assignments are only for cert...\n",
       "2  t3_xtm1ea       edx  You can just access archived courses even if n...\n",
       "3  t3_xsaqli       edx  Cs50 python is more about learning the python ...\n",
       "4  t3_xseepw       edx  I’m taking it. I don’t like it but I will comp..."
      ]
     },
     "execution_count": 54,
     "metadata": {},
     "output_type": "execute_result"
    }
   ],
   "source": [
    "cmt_df.head()"
   ]
  },
  {
   "cell_type": "markdown",
   "id": "62659053-0f9a-473d-86cc-1c691869bc1c",
   "metadata": {},
   "source": [
    "---"
   ]
  },
  {
   "cell_type": "markdown",
   "id": "4c91cbc5-7c6e-4a8e-b6e3-6ceb2fe5468a",
   "metadata": {},
   "source": [
    "## Save to CSV"
   ]
  },
  {
   "cell_type": "code",
   "execution_count": 55,
   "id": "6c4eb6e0-f672-4248-ae59-d3f37496a4da",
   "metadata": {},
   "outputs": [],
   "source": [
    "# Export to csv\n",
    "df.to_csv('../datasets/coursera_edx_posts_f.csv')\n",
    "cmt_df.to_csv('../datasets/coursera_edx_comments_f.csv')"
   ]
  }
 ],
 "metadata": {
  "kernelspec": {
   "display_name": "Python 3 (ipykernel)",
   "language": "python",
   "name": "python3"
  },
  "language_info": {
   "codemirror_mode": {
    "name": "ipython",
    "version": 3
   },
   "file_extension": ".py",
   "mimetype": "text/x-python",
   "name": "python",
   "nbconvert_exporter": "python",
   "pygments_lexer": "ipython3",
   "version": "3.9.12"
  }
 },
 "nbformat": 4,
 "nbformat_minor": 5
}
